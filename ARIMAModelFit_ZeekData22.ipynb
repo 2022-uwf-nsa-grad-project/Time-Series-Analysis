{
 "cells": [
  {
   "cell_type": "markdown",
   "id": "48206a15-3fcd-49a8-8aec-0f50cc94664d",
   "metadata": {},
   "source": [
    "Script to preprocess for ARIMA Time Series Analysis"
   ]
  },
  {
   "cell_type": "code",
   "execution_count": 1,
   "id": "38fdff6a-991d-4e6c-b995-512650ed702e",
   "metadata": {},
   "outputs": [],
   "source": [
    "# Spark imports\n",
    "import pyspark\n",
    "# import pyspark.sql.SQLContext\n",
    "from pyspark.sql import SparkSession\n",
    "from pyspark.sql import DataFrame\n",
    "from pyspark.sql import Window\n",
    "from pyspark.conf import SparkConf\n",
    "from pyspark.context import SparkContext\n",
    "import pyspark.sql.functions as F\n",
    "from pyspark.sql.functions import monotonically_increasing_id \n",
    "from pyspark.sql.functions import split, col, lit, isnan, when, count\n",
    "from pyspark.sql.types import ArrayType, IntegerType, StringType, StructType, StructField\n",
    "\n",
    "# Python imports\n",
    "import re"
   ]
  },
  {
   "cell_type": "code",
   "execution_count": 2,
   "id": "c91916e4-3164-40e5-b5d7-8244581217bb",
   "metadata": {},
   "outputs": [
    {
     "name": "stderr",
     "output_type": "stream",
     "text": [
      "Warning: Ignoring non-Spark config property: SPARK_LOCAL_IP\n",
      "24/11/10 14:39:51 WARN Utils: Your hostname, ubuntu-virtual-machine resolves to a loopback address: 127.0.1.1; using 192.168.1.145 instead (on interface ens33)\n",
      "24/11/10 14:39:51 WARN Utils: Set SPARK_LOCAL_IP if you need to bind to another address\n",
      "Setting default log level to \"WARN\".\n",
      "To adjust logging level use sc.setLogLevel(newLevel). For SparkR, use setLogLevel(newLevel).\n",
      "24/11/10 14:39:52 WARN NativeCodeLoader: Unable to load native-hadoop library for your platform... using builtin-java classes where applicable\n"
     ]
    }
   ],
   "source": [
    "spark = SparkSession.builder.config(\"SPARK_LOCAL_IP\", \"192.168.1.2\") \\\n",
    "                            .appName(\"Pre-Preprocess Mission Log 11111-CAR7575-202401\")             \\\n",
    "                            .master(\"spark://192.168.1.2:7077\")     \\\n",
    "                            .config(\"spark.driver.cores\", \"2\")        \\\n",
    "                            .config(\"spark.driver.memory\", \"10g\")     \\\n",
    "                            .config(\"spark.executor.memory\", \"12g\")   \\\n",
    "                            .config(\"spark.executor.cores\", \"3\")      \\\n",
    "                            .config(\"spark.dynamicAllocation.shuffleTracking.enabled\", \"true\") \\\n",
    "                            .config(\"spark.dynamicAllocation.enabled\", \"true\") \\\n",
    "                            .config(\"spark.dynamicAllocation.minExecutors\", \"5\") \\\n",
    "                            .config(\"spark.dynamicAllocation.maxExecutors\", \"8\") \\\n",
    "                            .config(\"spark.executor.instances\", \"5\") \\\n",
    "                            .getOrCreate()"
   ]
  },
  {
   "cell_type": "code",
   "execution_count": 3,
   "id": "eaaf8d31-d181-483e-bf4b-4c97ee97a437",
   "metadata": {},
   "outputs": [],
   "source": [
    "#sc.stop()"
   ]
  },
  {
   "cell_type": "code",
   "execution_count": 4,
   "id": "ec84af84-fb6a-4ebf-b489-966ec65b0755",
   "metadata": {},
   "outputs": [],
   "source": [
    "#Path to the Parquet file in HDFS\n",
    "#finalized_data_path = \"hdfs://192.168.1.2:9000/user/rplenkers-test/correlated_data/11111-CAR7575-202401/final_correlated_dataset_spring-2024/2024-07-08/Full_Dataset_Parquet/2021-12-12 - 2021-12-19/part-00000-729e82b3-3941-4c88-95a5-4c1f6c17151a-c000.snappy.parquet\""
   ]
  },
  {
   "cell_type": "code",
   "execution_count": 5,
   "id": "87a822f6-d66a-4545-8ee1-85f2df653c2f",
   "metadata": {},
   "outputs": [],
   "source": [
    "#Paths to Parquet files for ZeekData22\n",
    "df_path_0 = \"hdfs://192.168.1.2:9000/datasets-uwf-edu/UWF-ZeekData22/parquet/2021-12-12 - 2021-12-19/part-00000-7c2e9adb-5430-4792-a42b-10ff5bbd46e8-c000.snappy.parquet\"\n",
    "df_path_1 = \"hdfs://192.168.1.2:9000/datasets-uwf-edu/UWF-ZeekData22/parquet/2021-12-19 - 2021-12-26/part-00000-3f86626a-1225-47f9-a5a2-0170b737e404-c000.snappy.parquet\"\n",
    "df_path_2 = \"hdfs://192.168.1.2:9000/datasets-uwf-edu/UWF-ZeekData22/parquet/2021-12-26 - 2022-01-02/part-00000-b1a9fc13-8068-4a5d-91b2-871438709e81-c000.snappy.parquet\"\n",
    "df_path_3 = \"hdfs://192.168.1.2:9000/datasets-uwf-edu/UWF-ZeekData22/parquet/2022-01-02 - 2022-01-09/part-00000-26e9208e-7819-451b-b23f-2e47f6d1e834-c000.snappy.parquet\"\n",
    "df_path_4 = \"hdfs://192.168.1.2:9000/datasets-uwf-edu/UWF-ZeekData22/parquet/2022-01-09 - 2022-01-16/part-00000-36240b61-b84f-4164-a873-d7973e652780-c000.snappy.parquet\"\n",
    "df_path_5 = \"hdfs://192.168.1.2:9000/datasets-uwf-edu/UWF-ZeekData22/parquet/2022-01-16 - 2022-01-23/part-00000-cbf26680-106d-40e7-8278-60520afdbb0e-c000.snappy.parquet\"\n",
    "df_path_6 = \"hdfs://192.168.1.2:9000/datasets-uwf-edu/UWF-ZeekData22/parquet/2022-02-06 - 2022-02-13/part-00000-df678a79-4a73-452b-8e72-d624b2732f17-c000.snappy.parquet\"\n",
    "df_path_7 = \"hdfs://192.168.1.2:9000/datasets-uwf-edu/UWF-ZeekData22/parquet/2022-02-13 - 2022-02-20/part-00000-1da06990-329c-4e38-913a-0f0aa39b388d-c000.snappy.parquet\""
   ]
  },
  {
   "cell_type": "code",
   "execution_count": 6,
   "id": "aa922999-36e2-4243-9c86-e027f7b48e30",
   "metadata": {},
   "outputs": [
    {
     "name": "stderr",
     "output_type": "stream",
     "text": [
      "                                                                                \r"
     ]
    },
    {
     "name": "stdout",
     "output_type": "stream",
     "text": [
      "Number of rows in df_0: 428724\n",
      "Number of rows in df_1: 1757069\n",
      "Number of rows in df_2: 1757998\n",
      "Number of rows in df_3: 2403853\n",
      "Number of rows in df_4: 2579855\n",
      "Number of rows in df_5: 354100\n",
      "Number of rows in df_6: 9280806\n",
      "Number of rows in df_7: 63\n",
      "Number of rows in df_combined: 18562468\n"
     ]
    }
   ],
   "source": [
    "from functools import reduce\n",
    "\n",
    "#Load the dataset form HDF (Parquet format)\n",
    "df_0 = spark.read.parquet(df_path_0)\n",
    "df_1 = spark.read.parquet(df_path_1)\n",
    "df_2 = spark.read.parquet(df_path_2)\n",
    "df_3 = spark.read.parquet(df_path_3)\n",
    "df_4 = spark.read.parquet(df_path_4)\n",
    "df_5 = spark.read.parquet(df_path_5)\n",
    "df_6 = spark.read.parquet(df_path_6)\n",
    "df_7 = spark.read.parquet(df_path_7)\n",
    "\n",
    "#Count the number of rows in the DataFrames\n",
    "row_count_df_0 = df_0.count()\n",
    "print(\"Number of rows in df_0:\", row_count_df_0)\n",
    "row_count_df_1 = df_1.count()\n",
    "print(\"Number of rows in df_1:\", row_count_df_1)\n",
    "row_count_df_2 = df_2.count()\n",
    "print(\"Number of rows in df_2:\", row_count_df_2)\n",
    "row_count_df_3 = df_3.count()\n",
    "print(\"Number of rows in df_3:\", row_count_df_3)\n",
    "row_count_df_4 = df_4.count()\n",
    "print(\"Number of rows in df_4:\", row_count_df_4)\n",
    "row_count_df_5 = df_5.count()\n",
    "print(\"Number of rows in df_5:\", row_count_df_5)\n",
    "row_count_df_6 = df_6.count()\n",
    "print(\"Number of rows in df_6:\", row_count_df_6)\n",
    "row_count_df_7 = df_7.count()\n",
    "print(\"Number of rows in df_7:\", row_count_df_7)\n",
    "\n",
    "#List of DataFrames to combine\n",
    "dfs = [df_0,df_1,df_2,df_3,df_4,df_5,df_6,df_7]\n",
    "\n",
    "#Use reduce to combine all DataFrames\n",
    "df_combined = reduce(lambda a, b: a.union(b), dfs)\n",
    "\n",
    "# Show the combined row count\n",
    "row_count_df_combined = df_combined.count()\n",
    "print(\"Number of rows in df_combined:\", row_count_df_combined)"
   ]
  },
  {
   "cell_type": "code",
   "execution_count": 7,
   "id": "bbc55392-99e1-454f-8f33-c8e44acb6519",
   "metadata": {},
   "outputs": [
    {
     "name": "stdout",
     "output_type": "stream",
     "text": [
      "['resp_pkts', 'service', 'orig_ip_bytes', 'local_resp', 'missed_bytes', 'proto', 'duration', 'conn_state', 'dest_ip_zeek', 'orig_pkts', 'community_id', 'resp_ip_bytes', 'dest_port_zeek', 'orig_bytes', 'local_orig', 'datetime', 'history', 'resp_bytes', 'uid', 'src_port_zeek', 'ts', 'src_ip_zeek', 'label_tactic']\n"
     ]
    }
   ],
   "source": [
    "#Display column names of the dataframe\n",
    "print(df_combined.columns)"
   ]
  },
  {
   "cell_type": "code",
   "execution_count": 8,
   "id": "990b2a37-1dd9-4a2e-bfab-b5e61f477a0c",
   "metadata": {},
   "outputs": [
    {
     "name": "stdout",
     "output_type": "stream",
     "text": [
      "+---------+-------+-------------+----------+------------+-----+------------------+----------+---------------+---------+--------------------+-------------+--------------+----------+----------+--------------------+-------+----------+------------------+-------------+-------------------+--------------------+------------+\n",
      "|resp_pkts|service|orig_ip_bytes|local_resp|missed_bytes|proto|          duration|conn_state|   dest_ip_zeek|orig_pkts|        community_id|resp_ip_bytes|dest_port_zeek|orig_bytes|local_orig|            datetime|history|resp_bytes|               uid|src_port_zeek|                 ts|         src_ip_zeek|label_tactic|\n",
      "+---------+-------+-------------+----------+------------+-----+------------------+----------+---------------+---------+--------------------+-------------+--------------+----------+----------+--------------------+-------+----------+------------------+-------------+-------------------+--------------------+------------+\n",
      "|  1689365|   NULL|    141906660|     false|           0| icmp|1729902.2721018791|       OTH|     143.88.0.1|  1689365|1:L8d7Q/9CNOBVbhf...|    141906660|             0|  94604440|     false|2021-12-17 01:00:...|   NULL|  94604440|Caxllt2aEzXOEZnpii|            8|1.639746045896897E9|       143.88.255.50|        none|\n",
      "|        0|   NULL|    462247452|     false|           0| icmp|1730390.7546720505|       OTH|  143.88.255.10|  4576716|1:IrLgQEMN3Jxld9D...|            0|             1| 334099404|     false|2021-12-17 01:00:...|   NULL|         0|CEx0rX1Yic8axI4sw1|            3|1.639746047630312E9|        143.88.255.1|        none|\n",
      "|        0|   NULL|     22008480|     false|           0| icmp|1730410.2046380043|       OTH|        ff02::1|   229255|1:yBZ3xWqbIFuQFB4...|            0|           133|  11004240|     false|2021-12-17 01:00:...|   NULL|         0|Cpn5bT1QW9MPFXikn4|          134|1.639746045879347E9|fe80::250:56ff:fe...|        none|\n",
      "|        0|   NULL|     34970488|     false|           0| icmp|1730410.6320278645|       OTH|       ff02::16|   460138|1:ogw3gR/knTC3m00...|            0|             0|   9202760|     false|2021-12-17 01:00:...|   NULL|         0|Ceo6B73UmSZVe8vsD4|          143|1.639746045888899E9|fe80::250:56ff:fe...|        none|\n",
      "|        0|   dhcp|     66459795|     false|           0|  udp|1731503.8117160797|        S0|255.255.255.255|   202621|1:t9O1j0qj71O4wJM...|            0|            67|  60786407|     false|2021-12-17 01:01:...|      D|         0|CTCPKc2faq2rLYJA4f|           68|1.639746070260517E9|             0.0.0.0|        none|\n",
      "+---------+-------+-------------+----------+------------+-----+------------------+----------+---------------+---------+--------------------+-------------+--------------+----------+----------+--------------------+-------+----------+------------------+-------------+-------------------+--------------------+------------+\n",
      "only showing top 5 rows\n",
      "\n"
     ]
    }
   ],
   "source": [
    "#Show the first few rows of the dataset to verify connection\n",
    "df_combined.show(5)"
   ]
  },
  {
   "cell_type": "code",
   "execution_count": 9,
   "id": "04d44733-72b0-470d-add0-155ba427d7ca",
   "metadata": {},
   "outputs": [],
   "source": [
    "def split_csv_text(df):\n",
    "    # df.show(truncate = 250)\n",
    "    # splits the \"value\" column into an array type column.\n",
    "    split_df = df_combined.withColumn(\"split_line\", F.split(\"value\", \",\"))\n",
    "    # split_df.show(truncate = 250)\n",
    "    # Counts the number of elements in the new \"split_line\" column.\n",
    "    split_df = split_df.withColumn(\"split_count\", F.size(col(\"split_line\")))\n",
    "    # split_df.show(5, truncate = 250)\n",
    "\n",
    "    # Counts the number of occurrences of each unique count.  \n",
    "    unique_counts_df = split_df.groupBy(col(\"split_count\")).count().orderBy(col(\"count\"))\n",
    "\n",
    "    # Gets a list containing each of the unique counts in the dataframe.\n",
    "    row_counts_list = [row.split_count for row in unique_counts_df.select(\"split_count\").collect()]\n",
    "\n",
    "    # Creates a dictionary of dataframes filtered on the element count of the split \"value\" column.  \n",
    "    row_counts_dfs_dict = {cnt : split_df.select(\"split_line\", \"split_count\", \"source_file\", \"index\").filter(col(\"split_count\") == cnt) for cnt in row_counts_list}\n",
    "\n",
    "    # Iterates over row_counts_dfs_dict, and creates new columns for each element in the value column.  This creates a new dictionary.  \n",
    "    # I think you can reassign the new dataframe to row_counts_dfs_dict, but I originally intended to return multipe dataframes.  \n",
    "    new_cols_dfs_dict = {key: (row_counts_dfs_dict[key].select(row_counts_dfs_dict[key].columns + [row_counts_dfs_dict[key][\"split_line\"][c].alias(\"_c\"+str(c)) for c in range(row_counts_dfs_dict[key].head()[\"split_count\"])])) for key in row_counts_dfs_dict}\n",
    "\n",
    "    return new_cols_dfs_dict, unique_counts_df\n",
    "    "
   ]
  },
  {
   "cell_type": "markdown",
   "id": "1d45a9e2-4cb6-488d-8d71-880d1446af42",
   "metadata": {},
   "source": [
    "Attribute Selection"
   ]
  },
  {
   "cell_type": "code",
   "execution_count": 10,
   "id": "184617da-6a4b-4772-944d-c779521793d2",
   "metadata": {},
   "outputs": [
    {
     "name": "stdout",
     "output_type": "stream",
     "text": [
      "+-------------------+------------------+----------+----------+-------------+-------------+\n",
      "|                 ts|          duration|orig_bytes|resp_bytes|orig_ip_bytes|resp_ip_bytes|\n",
      "+-------------------+------------------+----------+----------+-------------+-------------+\n",
      "|1.639746045896897E9|1729902.2721018791|  94604440|  94604440|    141906660|    141906660|\n",
      "|1.639746047630312E9|1730390.7546720505| 334099404|         0|    462247452|            0|\n",
      "|1.639746045879347E9|1730410.2046380043|  11004240|         0|     22008480|            0|\n",
      "|1.639746045888899E9|1730410.6320278645|   9202760|         0|     34970488|            0|\n",
      "|1.639746070260517E9|1731503.8117160797|  60786407|         0|     66459795|            0|\n",
      "+-------------------+------------------+----------+----------+-------------+-------------+\n",
      "only showing top 5 rows\n",
      "\n"
     ]
    }
   ],
   "source": [
    "#Select relevant columns for time series analysis\n",
    "df_filtered = df_combined.select(\"ts\", \"duration\", \"orig_bytes\", \"resp_bytes\", \"orig_ip_bytes\", \"resp_ip_bytes\")\n",
    "\n",
    "#Handle missing values (example: fill missing values with 0)\n",
    "df_filtered = df_filtered.fillna({\n",
    "    \"duration\": 0,\n",
    "    \"orig_bytes\": 0,\n",
    "    \"resp_bytes\": 0,\n",
    "    \"orig_ip_bytes\": 0,\n",
    "    \"resp_ip_bytes\": 0\n",
    "})\n",
    "\n",
    "#Show the data after null handling\n",
    "df_filtered.show(5)"
   ]
  },
  {
   "cell_type": "markdown",
   "id": "64b4366b-f1cd-40f8-93a7-7c8ea5031077",
   "metadata": {},
   "source": [
    "Timestamp and Window Size Selection"
   ]
  },
  {
   "cell_type": "code",
   "execution_count": 11,
   "id": "6ea83014-2340-4ef9-adbc-34636d4e75b7",
   "metadata": {},
   "outputs": [
    {
     "name": "stdout",
     "output_type": "stream",
     "text": [
      "root\n",
      " |-- window: struct (nullable = true)\n",
      " |    |-- start: timestamp (nullable = true)\n",
      " |    |-- end: timestamp (nullable = true)\n",
      " |-- sum_orig_bytes: long (nullable = true)\n",
      " |-- sum_resp_bytes: long (nullable = true)\n",
      " |-- sum_orig_ip_bytes: long (nullable = true)\n",
      " |-- sum_resp_ip_bytes: long (nullable = true)\n",
      " |-- connection_count: long (nullable = false)\n",
      "\n"
     ]
    },
    {
     "name": "stderr",
     "output_type": "stream",
     "text": [
      "[Stage 39:=======================================================>(74 + 1) / 75]\r"
     ]
    },
    {
     "name": "stdout",
     "output_type": "stream",
     "text": [
      "+------------------------------------------+--------------+--------------+-----------------+-----------------+----------------+\n",
      "|window                                    |sum_orig_bytes|sum_resp_bytes|sum_orig_ip_bytes|sum_resp_ip_bytes|connection_count|\n",
      "+------------------------------------------+--------------+--------------+-----------------+-----------------+----------------+\n",
      "|{2021-12-18 00:40:00, 2021-12-18 00:55:00}|274790        |12864         |442378           |41568            |2630            |\n",
      "|{2021-12-18 18:05:00, 2021-12-18 18:20:00}|269435        |11796         |434429           |37976            |2604            |\n",
      "|{2021-12-18 14:05:00, 2021-12-18 14:20:00}|271811        |11308         |438322           |37736            |2626            |\n",
      "|{2021-12-17 16:25:00, 2021-12-17 16:40:00}|258990        |10836         |418550           |36120            |2509            |\n",
      "|{2021-12-18 06:00:00, 2021-12-18 06:15:00}|274471        |12556         |445191           |39208            |2660            |\n",
      "|{2021-12-17 17:55:00, 2021-12-17 18:10:00}|273032        |12352         |442884           |38528            |2654            |\n",
      "|{2021-12-18 03:15:00, 2021-12-18 03:30:00}|267207        |12192         |430507           |37952            |2584            |\n",
      "|{2021-12-17 14:15:00, 2021-12-17 14:30:00}|264696        |13068         |425744           |39528            |2540            |\n",
      "|{2021-12-18 23:25:00, 2021-12-18 23:40:00}|270136        |11892         |436216           |38328            |2616            |\n",
      "|{2021-12-18 06:45:00, 2021-12-18 07:00:00}|269766        |11776         |438450           |37952            |2646            |\n",
      "|{2021-12-17 08:10:00, 2021-12-17 08:25:00}|274320        |12588         |442396           |39272            |2627            |\n",
      "|{2021-12-17 14:05:00, 2021-12-17 14:20:00}|268746        |10920         |433314           |36400            |2600            |\n",
      "|{2021-12-18 14:00:00, 2021-12-18 14:15:00}|275199        |12944         |445946           |40480            |2650            |\n",
      "|{2021-12-17 12:10:00, 2021-12-17 12:25:00}|269029        |11460         |432945           |36856            |2589            |\n",
      "|{2021-12-17 20:35:00, 2021-12-17 20:50:00}|269398        |11700         |434638           |37656            |2608            |\n",
      "|{2021-12-17 11:35:00, 2021-12-17 11:50:00}|269383        |11644         |433967           |37512            |2605            |\n",
      "|{2021-12-17 23:15:00, 2021-12-17 23:30:00}|270362        |12312         |434922           |38352            |2596            |\n",
      "|{2021-12-17 15:45:00, 2021-12-17 16:00:00}|273799        |11156         |444895           |37272            |2669            |\n",
      "|{2021-12-17 20:40:00, 2021-12-17 20:55:00}|268996        |10912         |437032           |36416            |2641            |\n",
      "|{2021-12-18 10:35:00, 2021-12-18 10:50:00}|264024        |11736         |424332           |37776            |2533            |\n",
      "+------------------------------------------+--------------+--------------+-----------------+-----------------+----------------+\n",
      "only showing top 20 rows\n",
      "\n"
     ]
    },
    {
     "name": "stderr",
     "output_type": "stream",
     "text": [
      "                                                                                \r"
     ]
    }
   ],
   "source": [
    "#Convert 'ts' to a proper timestamp\n",
    "df_filtered = df_filtered.withColumn(\"ts\", F.from_unixtime(\"ts\").cast(\"timestamp\"))\n",
    "\n",
    "#Define the window size and overlap(start with 15 minutes for testing)\n",
    "window_size = \"15 minutes\"\n",
    "stride = \"5 minutes\" #creates new window every 5 minutes\n",
    "\n",
    "#Create the time window with overlapping intervals\n",
    "#Using rangeBetween to include overlapping windows\n",
    "df_agg = df_filtered.groupBy(F.window(\"ts\", window_size, stride))\\\n",
    "    .agg(\n",
    "        F.sum(\"orig_bytes\").alias(\"sum_orig_bytes\"),\n",
    "        F.sum(\"resp_bytes\").alias(\"sum_resp_bytes\"),\n",
    "        F.sum(\"orig_ip_bytes\").alias(\"sum_orig_ip_bytes\"),\n",
    "        F.sum(\"resp_ip_bytes\").alias(\"sum_resp_ip_bytes\"),\n",
    "        F.count(\"*\").alias(\"connection_count\")\n",
    "    )\n",
    "\n",
    "#Show the aggregated results\n",
    "df_agg.printSchema()\n",
    "df_agg.show(truncate=False)\n",
    "              "
   ]
  },
  {
   "cell_type": "code",
   "execution_count": 12,
   "id": "f3370157-1197-49b5-a998-10a9abdafdbb",
   "metadata": {},
   "outputs": [
    {
     "name": "stderr",
     "output_type": "stream",
     "text": [
      "[Stage 42:=======================================================>(86 + 1) / 87]\r"
     ]
    },
    {
     "name": "stdout",
     "output_type": "stream",
     "text": [
      "+-------------------+-------------------+--------------+--------------+-----------------+-----------------+----------------+\n",
      "|window_start       |window_end         |sum_orig_bytes|sum_resp_bytes|sum_orig_ip_bytes|sum_resp_ip_bytes|connection_count|\n",
      "+-------------------+-------------------+--------------+--------------+-----------------+-----------------+----------------+\n",
      "|2021-12-17 06:50:00|2021-12-17 07:05:00|1230707528    |734543048     |1811067644       |1101820112       |821             |\n",
      "|2021-12-17 06:55:00|2021-12-17 07:10:00|1230799509    |734546780     |1811216117       |1101832552       |1707            |\n",
      "|2021-12-17 07:00:00|2021-12-17 07:15:00|1230890392    |734550512     |1811362584       |1101844992       |2576            |\n",
      "|2021-12-17 07:05:00|2021-12-17 07:20:00|269077        |11160         |434629           |37200            |2615            |\n",
      "|2021-12-17 07:10:00|2021-12-17 07:25:00|268994        |12312         |434346           |38352            |2612            |\n",
      "+-------------------+-------------------+--------------+--------------+-----------------+-----------------+----------------+\n",
      "only showing top 5 rows\n",
      "\n"
     ]
    },
    {
     "name": "stderr",
     "output_type": "stream",
     "text": [
      "                                                                                \r"
     ]
    }
   ],
   "source": [
    "#Flatten the window structure\n",
    "df_agg_flat = df_agg.select(\n",
    "    F.col(\"window.start\").alias(\"window_start\"),\n",
    "    F.col(\"window.end\").alias(\"window_end\"),\n",
    "    \"sum_orig_bytes\",\n",
    "    \"sum_resp_bytes\",\n",
    "    \"sum_orig_ip_bytes\",\n",
    "    \"sum_resp_ip_bytes\",\n",
    "    \"connection_count\"\n",
    ")\n",
    "\n",
    "#Sort the DataFrame by window start time\n",
    "df_agg_sorted = df_agg_flat.orderBy(\"window_start\")\n",
    "\n",
    "#Show the sorted DataFrame\n",
    "df_agg_sorted.show(5, truncate=False)"
   ]
  },
  {
   "cell_type": "markdown",
   "id": "196e014a-1af2-49f7-9aa8-485a79e8ee52",
   "metadata": {},
   "source": [
    "Create Dataframe for Attacks"
   ]
  },
  {
   "cell_type": "code",
   "execution_count": 13,
   "id": "8b27af96-4187-4378-b0d0-3a326a6a1687",
   "metadata": {},
   "outputs": [
    {
     "name": "stdout",
     "output_type": "stream",
     "text": [
      "<class 'pyspark.sql.dataframe.DataFrame'>\n",
      "+-------------------+------------+\n",
      "|ts                 |label_tactic|\n",
      "+-------------------+------------+\n",
      "|1.639746045896897E9|none        |\n",
      "|1.639746047630312E9|none        |\n",
      "|1.639746045879347E9|none        |\n",
      "|1.639746045888899E9|none        |\n",
      "|1.639746070260517E9|none        |\n",
      "+-------------------+------------+\n",
      "only showing top 5 rows\n",
      "\n",
      "number of rows in df_attacks: 18562468\n"
     ]
    },
    {
     "name": "stderr",
     "output_type": "stream",
     "text": [
      "[Stage 50:=======================================================>(86 + 1) / 87]\r"
     ]
    },
    {
     "name": "stdout",
     "output_type": "stream",
     "text": [
      "Number of rows where label_tactic is not 'none': 9280869\n"
     ]
    },
    {
     "name": "stderr",
     "output_type": "stream",
     "text": [
      "                                                                                \r"
     ]
    }
   ],
   "source": [
    "#Create new dataframe with only the attributes relating to attacks\n",
    "df_attacks = df_combined[[\"ts\", \"label_tactic\"]]\n",
    "\n",
    "#Display the type of df_attacks\n",
    "print(type(df_attacks))\n",
    "\n",
    "#Display the first few rows of the new dataframe\n",
    "df_attacks.show(5, truncate=False)\n",
    "\n",
    "#Count the rows for the df_attacks dataframe before filtering\n",
    "df_attacks_count = df_attacks.count()\n",
    "\n",
    "#Display the number of row for the attack dataframe\n",
    "print(\"number of rows in df_attacks:\", df_attacks_count)\n",
    "\n",
    "#Count the rows where label_tactic is not equal to 'none'\n",
    "attack_count = df_combined.filter(df_combined['label_tactic'] != 'none').count()\n",
    "\n",
    "#Display the attack count\n",
    "print(\"Number of rows where label_tactic is not 'none':\", attack_count)"
   ]
  },
  {
   "cell_type": "markdown",
   "id": "0cdc4dc6-30f9-43f5-b182-86a79342b582",
   "metadata": {},
   "source": [
    "Visualize Data"
   ]
  },
  {
   "cell_type": "code",
   "execution_count": 14,
   "id": "abb55cc1-5662-45b0-96e1-d9b91c5cc9c6",
   "metadata": {},
   "outputs": [
    {
     "name": "stderr",
     "output_type": "stream",
     "text": [
      "                                                                                \r"
     ]
    },
    {
     "data": {
      "image/png": "[encoded data removed]",
      "text/plain": [
       "<Figure size 1200x600 with 1 Axes>"
      ]
     },
     "metadata": {},
     "output_type": "display_data"
    }
   ],
   "source": [
    "import pandas as pd\n",
    "import matplotlib.pyplot as plt\n",
    "\n",
    "#Convert the Spark DataFrame to Pandas for visualization\n",
    "df_pandas_sorted = df_agg_sorted.toPandas()\n",
    "\n",
    "#Plotting\n",
    "plt.figure(figsize=(12, 6))\n",
    "plt.plot(df_pandas_sorted['window_start'], df_pandas_sorted['sum_orig_bytes'], label = 'Originator Bytes', color = 'blue')\n",
    "plt.plot(df_pandas_sorted['window_start'], df_pandas_sorted['sum_resp_bytes'], label = 'Response Bytes', color = 'red')\n",
    "\n",
    "#Titles and Labels\n",
    "plt.xlabel('Timestamp')\n",
    "plt.ylabel('Bytes')\n",
    "plt.title('Aggregated Bytes Over Time')\n",
    "plt.legend()\n",
    "plt.show()"
   ]
  },
  {
   "cell_type": "markdown",
   "id": "24074f32-96df-4c71-9b35-e58f190e64e5",
   "metadata": {},
   "source": [
    "Stationarity Test"
   ]
  },
  {
   "cell_type": "code",
   "execution_count": 15,
   "id": "bad4d5f7-d056-4c2b-a164-3b92cbc3a2cd",
   "metadata": {},
   "outputs": [
    {
     "name": "stdout",
     "output_type": "stream",
     "text": [
      "ADF Statistic: -15.094171\n",
      "p-value: 0.000000\n",
      "Critical Values: \n",
      "\t1%: -3.431\n",
      "\t5%: -2.862\n",
      "\t10%: -2.567\n",
      "The time series is stationary (reject H0)\n"
     ]
    }
   ],
   "source": [
    "#Check for Stationarity Using Augmented Dickey-Fuller (ADF) Test\n",
    "#Consider p-value threshold of 0.05\n",
    "from statsmodels.tsa.stattools import adfuller\n",
    "\n",
    "#Perform ADF test on the 'sum_orig_bytes' time series\n",
    "result = adfuller(df_pandas_sorted['sum_orig_bytes'].dropna())\n",
    "\n",
    "#Extract and print test statistics\n",
    "print('ADF Statistic: %f' % result[0])\n",
    "print('p-value: %f' % result[1])\n",
    "print('Critical Values: ')\n",
    "for key, value in result[4].items():\n",
    "    print('\\t%s: %.3f' % (key, value))\n",
    "\n",
    "#Interpret the result\n",
    "if result[1] < 0.05:\n",
    "    print(\"The time series is stationary (reject H0)\")\n",
    "else:\n",
    "    print(\"The time series is non-stationary (fail to reject H0)\")\n",
    "          "
   ]
  },
  {
   "cell_type": "markdown",
   "id": "4e189065-8ad7-4c90-8bd0-ca423c9068a0",
   "metadata": {},
   "source": [
    "Plot of ACF and PACF from Stationary Series"
   ]
  },
  {
   "cell_type": "code",
   "execution_count": 16,
   "id": "2bcd6c2d-8dff-4db5-b377-3482402d58bf",
   "metadata": {},
   "outputs": [
    {
     "data": {
      "image/png": "[encoded data removed]",
      "text/plain": [
       "<Figure size 1000x600 with 1 Axes>"
      ]
     },
     "metadata": {},
     "output_type": "display_data"
    }
   ],
   "source": [
    "#Check for seasonality\n",
    "import matplotlib.pyplot as plt\n",
    "\n",
    "#Plot the original time series\n",
    "plt.figure(figsize=(10,6))\n",
    "plt.plot(df_pandas_sorted['sum_orig_bytes'], label='Sum of Originator Bytes')\n",
    "plt.title('Time Series Plot (Checking for Seasonality)')\n",
    "plt.xlabel('Time')\n",
    "plt.ylabel('Bytes')\n",
    "plt.legend()\n",
    "plt.show()"
   ]
  },
  {
   "cell_type": "code",
   "execution_count": 17,
   "id": "8c5b7883-7916-438c-b77b-a17831f726ac",
   "metadata": {},
   "outputs": [
    {
     "name": "stdout",
     "output_type": "stream",
     "text": [
      "The time series does not show significant evidence of seasonality.\n"
     ]
    },
    {
     "data": {
      "text/plain": [
       "<Figure size 1000x600 with 0 Axes>"
      ]
     },
     "metadata": {},
     "output_type": "display_data"
    },
    {
     "data": {
      "image/png": "[encoded data removed]",
      "text/plain": [
       "<Figure size 640x480 with 1 Axes>"
      ]
     },
     "metadata": {},
     "output_type": "display_data"
    }
   ],
   "source": [
    "#Seasonality with ACF\n",
    "from statsmodels.tsa.stattools import acf\n",
    "import matplotlib.pyplot as plt\n",
    "from statsmodels.graphics.tsaplots import plot_acf\n",
    "\n",
    "#Calculate ACF Values\n",
    "acf_values = acf(df_pandas_sorted['sum_orig_bytes'], nlags=50)\n",
    "\n",
    "#Check for significant spikes at regular intervals\n",
    "#Threshold for significance (Consider 1.96/sqrt(N), where N is the number of observations)\n",
    "threshold = 1.96 / (len(df_pandas_sorted['sum_orig_bytes']) **0.5)\n",
    "\n",
    "#Check for significant spikes at regular lags (e.g., lag 12, 24, 36 for monthly seasonality)\n",
    "seasonal_lags = [12,24, 36] #Adjust based on the expected seasonality period\n",
    "seasonal = False\n",
    "for lag in seasonal_lags:\n",
    "    if abs(acf_values[lag])>threshold:\n",
    "        seasonal = True\n",
    "        break\n",
    "\n",
    "#Print a statement indicating if the series is seasonal or not\n",
    "if seasonal:\n",
    "    print(\"The time series shows evidence of seasonality.\")\n",
    "else:\n",
    "    print(\"The time series does not show significant evidence of seasonality.\")\n",
    "\n",
    "#Plot the ACF for visual purposes\n",
    "plt.figure(figsize=(10,6))\n",
    "plot_acf(df_pandas_sorted['sum_orig_bytes'], lags=40)\n",
    "plt.show()"
   ]
  },
  {
   "cell_type": "markdown",
   "id": "e7bc07ac-b149-424b-985d-a1093e234365",
   "metadata": {},
   "source": [
    "Determine p and q values using auto_arima() instead of graphical interpretation#"
   ]
  },
  {
   "cell_type": "code",
   "execution_count": 18,
   "id": "24beeb24-1b6b-4292-9afe-5c7945897f3e",
   "metadata": {},
   "outputs": [],
   "source": [
    "#Install pmdarima if not already installed\n",
    "#!pip install pmdarima"
   ]
  },
  {
   "cell_type": "code",
   "execution_count": 19,
   "id": "218a353f-91eb-4919-b154-f80092317878",
   "metadata": {},
   "outputs": [
    {
     "name": "stdout",
     "output_type": "stream",
     "text": [
      "Performing stepwise search to minimize aic\n",
      " ARIMA(0,0,0)(0,0,0)[0]             : AIC=54690.408, Time=0.03 sec\n",
      " ARIMA(1,0,0)(0,0,0)[0]             : AIC=53784.335, Time=0.02 sec\n",
      " ARIMA(0,0,1)(0,0,0)[0]             : AIC=53974.888, Time=0.02 sec\n",
      " ARIMA(2,0,0)(0,0,0)[0]             : AIC=53482.934, Time=0.03 sec\n",
      " ARIMA(3,0,0)(0,0,0)[0]             : AIC=53479.502, Time=0.04 sec\n",
      " ARIMA(4,0,0)(0,0,0)[0]             : AIC=53407.625, Time=0.04 sec\n",
      " ARIMA(5,0,0)(0,0,0)[0]             : AIC=53330.912, Time=0.21 sec\n",
      " ARIMA(6,0,0)(0,0,0)[0]             : AIC=53330.498, Time=0.07 sec\n",
      " ARIMA(7,0,0)(0,0,0)[0]             : AIC=53302.847, Time=0.09 sec\n",
      " ARIMA(8,0,0)(0,0,0)[0]             : AIC=53266.940, Time=0.17 sec\n",
      " ARIMA(9,0,0)(0,0,0)[0]             : AIC=53267.419, Time=0.12 sec\n",
      " ARIMA(8,0,1)(0,0,0)[0]             : AIC=53268.323, Time=0.40 sec\n",
      " ARIMA(7,0,1)(0,0,0)[0]             : AIC=53284.684, Time=0.38 sec\n",
      " ARIMA(9,0,1)(0,0,0)[0]             : AIC=53266.289, Time=0.66 sec\n",
      " ARIMA(10,0,1)(0,0,0)[0]             : AIC=53244.180, Time=0.60 sec\n",
      " ARIMA(10,0,0)(0,0,0)[0]             : AIC=53253.714, Time=0.38 sec\n",
      " ARIMA(10,0,2)(0,0,0)[0]             : AIC=inf, Time=1.18 sec\n",
      " ARIMA(9,0,2)(0,0,0)[0]             : AIC=inf, Time=1.02 sec\n",
      " ARIMA(10,0,1)(0,0,0)[0] intercept   : AIC=53245.377, Time=1.37 sec\n",
      "\n",
      "Best model:  ARIMA(10,0,1)(0,0,0)[0]          \n",
      "Total fit time: 6.840 seconds\n",
      "                               SARIMAX Results                                \n",
      "==============================================================================\n",
      "Dep. Variable:                      y   No. Observations:                 1000\n",
      "Model:              SARIMAX(10, 0, 1)   Log Likelihood              -26610.090\n",
      "Date:                Sun, 10 Nov 2024   AIC                          53244.180\n",
      "Time:                        14:41:19   BIC                          53303.073\n",
      "Sample:                             0   HQIC                         53266.563\n",
      "                               - 1000                                         \n",
      "Covariance Type:                  opg                                         \n",
      "==============================================================================\n",
      "                 coef    std err          z      P>|z|      [0.025      0.975]\n",
      "------------------------------------------------------------------------------\n",
      "ar.L1          0.8876      0.118      7.511      0.000       0.656       1.119\n",
      "ar.L2          0.0470      0.155      0.303      0.762      -0.257       0.351\n",
      "ar.L3         -0.7753      0.062    -12.504      0.000      -0.897      -0.654\n",
      "ar.L4          0.6545      0.065     10.117      0.000       0.528       0.781\n",
      "ar.L5          0.0279      0.104      0.269      0.788      -0.176       0.232\n",
      "ar.L6         -0.5135      0.045    -11.424      0.000      -0.602      -0.425\n",
      "ar.L7          0.4085      0.040     10.263      0.000       0.330       0.486\n",
      "ar.L8          0.0142      0.062      0.231      0.817      -0.107       0.135\n",
      "ar.L9         -0.2554      0.031     -8.230      0.000      -0.316      -0.195\n",
      "ar.L10         0.1648      0.014     12.171      0.000       0.138       0.191\n",
      "ma.L1          0.4228      0.118      3.576      0.000       0.191       0.655\n",
      "sigma2       7.75e+21        nan        nan        nan         nan         nan\n",
      "===================================================================================\n",
      "Ljung-Box (L1) (Q):                   0.11   Jarque-Bera (JB):          10116169.32\n",
      "Prob(Q):                              0.74   Prob(JB):                         0.00\n",
      "Heteroskedasticity (H):   3225245967740.58   Skew:                            19.14\n",
      "Prob(H) (two-sided):                  0.00   Kurtosis:                       494.25\n",
      "===================================================================================\n",
      "\n",
      "Warnings:\n",
      "[1] Covariance matrix calculated using the outer product of gradients (complex-step).\n",
      "[2] Covariance matrix is singular or near-singular, with condition number 4.77e+60. Standard errors may be unstable.\n",
      "Best p: 10, d: 0, q: 1\n"
     ]
    }
   ],
   "source": [
    "from pmdarima import auto_arima\n",
    "\n",
    "#Running auto_arima on the entire DataFrame was too intensive, so use a testing set\n",
    "#Define the portion of the DataFrame to use\n",
    "df_sample = df_pandas_sorted.tail(1000) #Use the last 1000 rows\n",
    "\n",
    "#Fit auto_arima to find optimal p,d,q values\n",
    "auto_model = auto_arima(df_sample['sum_orig_bytes'],\n",
    "                        start_p=0, max_p=10, #Range for p\n",
    "                        start_q=0, max_q=10, #Range for q\n",
    "                        d=0,                #Since the series is stationary, d=0\n",
    "                        seasonal=False,     #Seasonality based on ACF test\n",
    "                        #m=seasonal_period, #Seasonality manually set to False for testing\n",
    "                        trace=True,         #Output the process\n",
    "                        error_action='ignore',\n",
    "                        suppress_warnings=True,\n",
    "                        stepwise=True)\n",
    "\n",
    "#Print the summary of the best model found\n",
    "print(auto_model.summary())\n",
    "\n",
    "#Get the best values of p,q, and d\n",
    "p, d, q = auto_model.order\n",
    "print(f\"Best p: {p}, d: {d}, q: {q}\")"
   ]
  },
  {
   "cell_type": "markdown",
   "id": "cf4fb4af-8a4d-4ee3-a421-9166d972a905",
   "metadata": {},
   "source": [
    "Fit ARIMA Model"
   ]
  },
  {
   "cell_type": "code",
   "execution_count": 20,
   "id": "8a2194f0-9607-406f-b5d9-f04adc376011",
   "metadata": {},
   "outputs": [
    {
     "name": "stderr",
     "output_type": "stream",
     "text": [
      " This problem is unconstrained.\n"
     ]
    },
    {
     "name": "stdout",
     "output_type": "stream",
     "text": [
      "RUNNING THE L-BFGS-B CODE\n",
      "\n",
      "           * * *\n",
      "\n",
      "Machine precision = 2.220D-16\n",
      " N =           31     M =           10\n",
      "\n",
      "At X0         0 variables are exactly at the bounds\n",
      "\n",
      "At iterate    0    f=  2.54505D+01    |proj g|=  2.17670D-02\n",
      "\n",
      "At iterate    5    f=  2.54432D+01    |proj g|=  3.95046D-02\n",
      "\n",
      "At iterate   10    f=  2.54391D+01    |proj g|=  1.24341D-02\n",
      "\n",
      "At iterate   15    f=  2.54386D+01    |proj g|=  9.86485D-03\n",
      "\n",
      "At iterate   20    f=  2.54384D+01    |proj g|=  2.34785D-03\n",
      "\n",
      "At iterate   25    f=  2.54384D+01    |proj g|=  7.92697D-04\n",
      "\n",
      "At iterate   30    f=  2.54384D+01    |proj g|=  5.55961D-04\n",
      "\n",
      "At iterate   35    f=  2.54384D+01    |proj g|=  7.59321D-04\n",
      "\n",
      "At iterate   40    f=  2.54384D+01    |proj g|=  7.71583D-04\n",
      "\n",
      "At iterate   45    f=  2.54384D+01    |proj g|=  1.44375D-03\n",
      "\n",
      "At iterate   50    f=  2.54383D+01    |proj g|=  2.83312D-03\n",
      "\n",
      "           * * *\n",
      "\n",
      "Tit   = total number of iterations\n",
      "Tnf   = total number of function evaluations\n",
      "Tnint = total number of segments explored during Cauchy searches\n",
      "Skip  = number of BFGS updates skipped\n",
      "Nact  = number of active bounds at final generalized Cauchy point\n",
      "Projg = norm of the final projected gradient\n",
      "F     = final function value\n",
      "\n",
      "           * * *\n",
      "\n",
      "   N    Tit     Tnf  Tnint  Skip  Nact     Projg        F\n",
      "   31     50     54      1     0     0   2.833D-03   2.544D+01\n",
      "  F =   25.438348883470177     \n",
      "\n",
      "STOP: TOTAL NO. of ITERATIONS REACHED LIMIT                 \n"
     ]
    },
    {
     "name": "stderr",
     "output_type": "stream",
     "text": [
      "/home/ubuntu/.local/lib/python3.10/site-packages/statsmodels/base/model.py:607: ConvergenceWarning: Maximum Likelihood optimization failed to converge. Check mle_retvals\n",
      "  warnings.warn(\"Maximum Likelihood optimization failed to \"\n"
     ]
    },
    {
     "name": "stdout",
     "output_type": "stream",
     "text": [
      "                               SARIMAX Results                                \n",
      "==============================================================================\n",
      "Dep. Variable:         sum_orig_bytes   No. Observations:                 8926\n",
      "Model:             SARIMAX(15, 0, 15)   Log Likelihood             -227062.702\n",
      "Date:                Sun, 10 Nov 2024   AIC                         454187.404\n",
      "Time:                        14:41:59   BIC                         454407.403\n",
      "Sample:                             0   HQIC                        454262.295\n",
      "                               - 8926                                         \n",
      "Covariance Type:                  opg                                         \n",
      "==============================================================================\n",
      "                 coef    std err          z      P>|z|      [0.025      0.975]\n",
      "------------------------------------------------------------------------------\n",
      "ar.L1          1.7079      1.583      1.079      0.281      -1.395       4.811\n",
      "ar.L2         -0.6618      2.411     -0.275      0.784      -5.387       4.063\n",
      "ar.L3         -1.4383      2.800     -0.514      0.607      -6.927       4.050\n",
      "ar.L4          2.3834      3.499      0.681      0.496      -4.475       9.242\n",
      "ar.L5         -0.8930      4.179     -0.214      0.831      -9.084       7.298\n",
      "ar.L6         -1.6148      5.589     -0.289      0.773     -12.569       9.339\n",
      "ar.L7          2.5143      4.824      0.521      0.602      -6.940      11.969\n",
      "ar.L8         -0.9197      4.227     -0.218      0.828      -9.204       7.364\n",
      "ar.L9         -1.3574      5.169     -0.263      0.793     -11.489       8.774\n",
      "ar.L10         1.9888      3.936      0.505      0.613      -5.726       9.704\n",
      "ar.L11        -0.7296      2.885     -0.253      0.800      -6.384       4.925\n",
      "ar.L12        -0.7785      2.386     -0.326      0.744      -5.455       3.898\n",
      "ar.L13         0.8762      1.198      0.731      0.465      -1.472       3.225\n",
      "ar.L14        -0.3215      0.446     -0.721      0.471      -1.196       0.553\n",
      "ar.L15         0.0722      0.105      0.687      0.492      -0.134       0.278\n",
      "ma.L1         -0.3160      1.583     -0.200      0.842      -3.419       2.787\n",
      "ma.L2         -0.3093      1.427     -0.217      0.828      -3.107       2.488\n",
      "ma.L3          0.3523      1.866      0.189      0.850      -3.305       4.009\n",
      "ma.L4         -0.1247      1.617     -0.077      0.939      -3.294       3.044\n",
      "ma.L5         -0.1468      2.433     -0.060      0.952      -4.915       4.622\n",
      "ma.L6          0.0922      1.656      0.056      0.956      -3.154       3.338\n",
      "ma.L7          0.0443      1.435      0.031      0.975      -2.768       2.857\n",
      "ma.L8          0.0235      2.645      0.009      0.993      -5.160       5.207\n",
      "ma.L9         -0.2288      2.414     -0.095      0.924      -4.960       4.503\n",
      "ma.L10         0.1931      2.001      0.096      0.923      -3.730       4.116\n",
      "ma.L11         0.2065      3.265      0.063      0.950      -6.193       6.606\n",
      "ma.L12        -0.4290      2.122     -0.202      0.840      -4.589       3.731\n",
      "ma.L13         0.4391      1.923      0.228      0.819      -3.329       4.207\n",
      "ma.L14         0.4564      2.209      0.207      0.836      -3.873       4.785\n",
      "ma.L15        -0.5152      0.982     -0.525      0.600      -2.440       1.410\n",
      "sigma2      7.642e+20        nan        nan        nan         nan         nan\n",
      "===================================================================================\n",
      "Ljung-Box (L1) (Q):                   0.03   Jarque-Bera (JB):       10516692215.13\n",
      "Prob(Q):                              0.86   Prob(JB):                         0.00\n",
      "Heteroskedasticity (H):         3655964.72   Skew:                            63.58\n",
      "Prob(H) (two-sided):                  0.00   Kurtosis:                      5319.09\n",
      "===================================================================================\n",
      "\n",
      "Warnings:\n",
      "[1] Covariance matrix calculated using the outer product of gradients (complex-step).\n",
      "[2] Covariance matrix is singular or near-singular, with condition number 7.65e+50. Standard errors may be unstable.\n"
     ]
    }
   ],
   "source": [
    "#SARIMAX is used if seasonal data may exist\n",
    "from statsmodels.tsa.statespace.sarimax import SARIMAX\n",
    "\n",
    "#Define ARIMA model with selected p, d, q parameters\n",
    "model = SARIMAX(df_pandas_sorted['sum_orig_bytes'], order=(15,0,15)) #d=0 because data is stationary #(p,d,q)\n",
    "\n",
    "#Fit the model\n",
    "model_fit = model.fit()\n",
    "\n",
    "#Summary of the model\n",
    "print(model_fit.summary())"
   ]
  },
  {
   "cell_type": "markdown",
   "id": "587ac882-a3e3-4c62-9466-cc6286e82c4d",
   "metadata": {},
   "source": [
    "Diagnostic Tests"
   ]
  },
  {
   "cell_type": "code",
   "execution_count": 21,
   "id": "d572c9f6-8507-4afc-b3d8-0ba612fc7aee",
   "metadata": {},
   "outputs": [
    {
     "name": "stdout",
     "output_type": "stream",
     "text": [
      "    Ljung-Box p-value\n",
      "10           0.989546\n",
      "20           0.999614\n",
      "30           0.999999\n",
      "50           1.000000\n",
      "\n",
      "Recommended lb_pvalue is > 0.05\n",
      "\n",
      "Jarque-Bera Test:\n",
      "JB Test Stat: 10516680522.55008, p-value: 0.0\n",
      "\n",
      "Recommended p-value is > 0.05\n",
      "\n",
      "Durbin-Watson Test:\n",
      "Durbin-Watson Stat: 1.9960124427212362\n",
      "\n",
      "Recommended stat close to 2.0 but not greater than 2.0\n",
      "\n",
      "RMSE:\n",
      "Root Mean Squared Error: 26975738114.4924\n"
     ]
    },
    {
     "data": {
      "image/png": "[encoded data removed]",
      "text/plain": [
       "<Figure size 1000x600 with 1 Axes>"
      ]
     },
     "metadata": {},
     "output_type": "display_data"
    }
   ],
   "source": [
    "from statsmodels.stats.diagnostic import acorr_ljungbox\n",
    "from scipy.stats import jarque_bera\n",
    "from statsmodels.stats.stattools import durbin_watson\n",
    "import numpy as np\n",
    "\n",
    "#Extract residuals\n",
    "residuals = model_fit.resid\n",
    "\n",
    "#Ljung-Box test for autocorrelation in residuals (Use multiple Lags)\n",
    "lags = [10,20,30,50]\n",
    "results = {}\n",
    "\n",
    "#Perform Ljung-Box test across multiple lags\n",
    "for lag in lags:\n",
    "    lb_test = acorr_ljungbox(model_fit.resid, lags=[lag], return_df=True)\n",
    "    results[lag] = lb_test['lb_pvalue'].values[0]\n",
    "\n",
    "#Display the p-values for each Lag\n",
    "print(pd.DataFrame.from_dict(results, orient='index',columns=['Ljung-Box p-value']))\n",
    "print(\"\\nRecommended lb_pvalue is > 0.05\")\n",
    "\n",
    "'''\n",
    "ljung_box_test = acorr_ljungbox(residuals, lags=[10], return_df=True)\n",
    "print(\"\\nLjung-Box Test:\")\n",
    "print(ljung_box_test)\n",
    "print(\"\\nRecommended lb_pvalue is > 0.05\")\n",
    "'''\n",
    "\n",
    "#Jarque-Bera test for normality of residuals\n",
    "jb_test_stat, jb_p_value = jarque_bera(residuals)\n",
    "print(\"\\nJarque-Bera Test:\")\n",
    "print(f\"JB Test Stat: {jb_test_stat}, p-value: {jb_p_value}\")\n",
    "print(\"\\nRecommended p-value is > 0.05\")\n",
    "\n",
    "#Durbin-Watson test for autocorrelation in residuals\n",
    "dw_stat = durbin_watson(residuals)\n",
    "print(\"\\nDurbin-Watson Test:\")\n",
    "print(f\"Durbin-Watson Stat: {dw_stat}\")\n",
    "print(\"\\nRecommended stat close to 2.0 but not greater than 2.0\")\n",
    "\n",
    "#Residual Standard Error (RMSE) test for relative performance\n",
    "rmse = np.sqrt(np.mean(residuals**2))\n",
    "print(\"\\nRMSE:\")\n",
    "print(f\"Root Mean Squared Error: {rmse}\")\n",
    "\n",
    "#Residual Plot (Optional for visual inspection)\n",
    "plt.figure(figsize=(10,6))\n",
    "plt.plot(residuals, label=\"Residuals\")\n",
    "plt.axhline(y=0, color='r', linestyle='--')\n",
    "plt.title(\"residuals of the ARIMA Model\")\n",
    "plt.legend()\n",
    "plt.show()"
   ]
  },
  {
   "cell_type": "raw",
   "id": "cad5b70f-e062-4f80-af1d-da2f76c972b4",
   "metadata": {},
   "source": [
    "Log Transformation"
   ]
  },
  {
   "cell_type": "code",
   "execution_count": 22,
   "id": "d849fa12-ea51-44a2-9cc0-08f9e4e01e5f",
   "metadata": {},
   "outputs": [],
   "source": [
    "#Apply log transformation to data and refit to ARIMA model to stabalize variance and make residuals closer to normality"
   ]
  },
  {
   "cell_type": "code",
   "execution_count": 23,
   "id": "e5678e78-a12e-4c32-a0a9-0efc681deb4a",
   "metadata": {},
   "outputs": [
    {
     "name": "stdout",
     "output_type": "stream",
     "text": [
      "Performing stepwise search to minimize aic\n",
      " ARIMA(0,0,0)(0,0,0)[0]             : AIC=54690.408, Time=0.01 sec\n",
      " ARIMA(1,0,0)(0,0,0)[0]             : AIC=53784.335, Time=0.02 sec\n",
      " ARIMA(0,0,1)(0,0,0)[0]             : AIC=53974.888, Time=0.03 sec\n",
      " ARIMA(2,0,0)(0,0,0)[0]             : AIC=53482.934, Time=0.03 sec\n",
      " ARIMA(3,0,0)(0,0,0)[0]             : AIC=53479.502, Time=0.08 sec\n",
      " ARIMA(4,0,0)(0,0,0)[0]             : AIC=53407.625, Time=0.06 sec\n",
      " ARIMA(5,0,0)(0,0,0)[0]             : AIC=53330.912, Time=0.16 sec\n",
      " ARIMA(6,0,0)(0,0,0)[0]             : AIC=53330.498, Time=0.13 sec\n",
      " ARIMA(7,0,0)(0,0,0)[0]             : AIC=53302.847, Time=0.12 sec\n",
      " ARIMA(8,0,0)(0,0,0)[0]             : AIC=53266.940, Time=0.25 sec\n",
      " ARIMA(9,0,0)(0,0,0)[0]             : AIC=53267.419, Time=0.14 sec\n",
      " ARIMA(8,0,1)(0,0,0)[0]             : AIC=53268.323, Time=0.37 sec\n",
      " ARIMA(7,0,1)(0,0,0)[0]             : AIC=53284.684, Time=0.36 sec\n",
      " ARIMA(9,0,1)(0,0,0)[0]             : AIC=53266.289, Time=0.59 sec\n",
      " ARIMA(10,0,1)(0,0,0)[0]             : AIC=53244.180, Time=0.56 sec\n",
      " ARIMA(10,0,0)(0,0,0)[0]             : AIC=53253.714, Time=0.36 sec\n",
      " ARIMA(11,0,1)(0,0,0)[0]             : AIC=53235.163, Time=0.80 sec\n",
      " ARIMA(11,0,0)(0,0,0)[0]             : AIC=53233.562, Time=0.30 sec\n",
      " ARIMA(12,0,0)(0,0,0)[0]             : AIC=53234.546, Time=0.33 sec\n",
      " ARIMA(12,0,1)(0,0,0)[0]             : AIC=53234.665, Time=0.98 sec\n",
      " ARIMA(11,0,0)(0,0,0)[0] intercept   : AIC=53234.418, Time=0.66 sec\n",
      "\n",
      "Best model:  ARIMA(11,0,0)(0,0,0)[0]          \n",
      "Total fit time: 6.338 seconds\n",
      "                               SARIMAX Results                                \n",
      "==============================================================================\n",
      "Dep. Variable:                      y   No. Observations:                 1000\n",
      "Model:              SARIMAX(11, 0, 0)   Log Likelihood              -26604.781\n",
      "Date:                Sun, 10 Nov 2024   AIC                          53233.562\n",
      "Time:                        14:42:06   BIC                          53292.455\n",
      "Sample:                             0   HQIC                         53255.945\n",
      "                               - 1000                                         \n",
      "Covariance Type:                  opg                                         \n",
      "==============================================================================\n",
      "                 coef    std err          z      P>|z|      [0.025      0.975]\n",
      "------------------------------------------------------------------------------\n",
      "ar.L1          1.3186      0.003    416.409      0.000       1.312       1.325\n",
      "ar.L2         -0.5143      0.011    -46.349      0.000      -0.536      -0.493\n",
      "ar.L3         -0.5744      0.014    -41.507      0.000      -0.602      -0.547\n",
      "ar.L4          0.9255      0.018     50.681      0.000       0.890       0.961\n",
      "ar.L5         -0.3702      0.041     -9.133      0.000      -0.450      -0.291\n",
      "ar.L6         -0.3906      0.032    -12.345      0.000      -0.453      -0.329\n",
      "ar.L7          0.6216      0.021     29.473      0.000       0.580       0.663\n",
      "ar.L8         -0.2583      0.045     -5.695      0.000      -0.347      -0.169\n",
      "ar.L9         -0.1967      0.036     -5.482      0.000      -0.267      -0.126\n",
      "ar.L10         0.3159      0.013     24.099      0.000       0.290       0.342\n",
      "ar.L11        -0.1472      0.008    -19.301      0.000      -0.162      -0.132\n",
      "sigma2      7.578e+21        nan        nan        nan         nan         nan\n",
      "===================================================================================\n",
      "Ljung-Box (L1) (Q):                   0.02   Jarque-Bera (JB):          10270826.90\n",
      "Prob(Q):                              0.88   Prob(JB):                         0.00\n",
      "Heteroskedasticity (H):   2527361042353.51   Skew:                            19.31\n",
      "Prob(H) (two-sided):                  0.00   Kurtosis:                       497.98\n",
      "===================================================================================\n",
      "\n",
      "Warnings:\n",
      "[1] Covariance matrix calculated using the outer product of gradients (complex-step).\n",
      "[2] Covariance matrix is singular or near-singular, with condition number 1.13e+57. Standard errors may be unstable.\n",
      "Best p: 11, d: 0, q: 0\n",
      "RUNNING THE L-BFGS-B CODE\n",
      "\n",
      "           * * *\n",
      "\n",
      "Machine precision = 2.220D-16\n",
      " N =           31     M =           10\n",
      "\n",
      "At X0         0 variables are exactly at the bounds\n",
      "\n",
      "At iterate    0    f=  8.91510D-01    |proj g|=  1.28343D-01\n"
     ]
    },
    {
     "name": "stderr",
     "output_type": "stream",
     "text": [
      " This problem is unconstrained.\n"
     ]
    },
    {
     "name": "stdout",
     "output_type": "stream",
     "text": [
      "\n",
      "At iterate    5    f=  8.71160D-01    |proj g|=  3.60472D-02\n",
      "\n",
      "At iterate   10    f=  8.56948D-01    |proj g|=  4.84215D-02\n",
      "\n",
      "At iterate   15    f=  8.53411D-01    |proj g|=  1.79804D-02\n",
      "\n",
      "At iterate   20    f=  8.48866D-01    |proj g|=  4.08514D-02\n",
      "\n",
      "At iterate   25    f=  8.45206D-01    |proj g|=  1.78757D-02\n",
      "\n",
      "At iterate   30    f=  8.40089D-01    |proj g|=  5.04823D-02\n",
      "\n",
      "At iterate   35    f=  8.35190D-01    |proj g|=  3.93293D-02\n",
      "\n",
      "At iterate   40    f=  8.31055D-01    |proj g|=  2.45669D-02\n",
      "\n",
      "At iterate   45    f=  8.28347D-01    |proj g|=  1.57017D-02\n"
     ]
    },
    {
     "name": "stderr",
     "output_type": "stream",
     "text": [
      "/home/ubuntu/.local/lib/python3.10/site-packages/statsmodels/base/model.py:607: ConvergenceWarning: Maximum Likelihood optimization failed to converge. Check mle_retvals\n",
      "  warnings.warn(\"Maximum Likelihood optimization failed to \"\n"
     ]
    },
    {
     "name": "stdout",
     "output_type": "stream",
     "text": [
      "\n",
      "At iterate   50    f=  8.27432D-01    |proj g|=  1.87888D-02\n",
      "\n",
      "           * * *\n",
      "\n",
      "Tit   = total number of iterations\n",
      "Tnf   = total number of function evaluations\n",
      "Tnint = total number of segments explored during Cauchy searches\n",
      "Skip  = number of BFGS updates skipped\n",
      "Nact  = number of active bounds at final generalized Cauchy point\n",
      "Projg = norm of the final projected gradient\n",
      "F     = final function value\n",
      "\n",
      "           * * *\n",
      "\n",
      "   N    Tit     Tnf  Tnint  Skip  Nact     Projg        F\n",
      "   31     50     58      1     0     0   1.879D-02   8.274D-01\n",
      "  F =  0.82743187336148771     \n",
      "\n",
      "STOP: TOTAL NO. of ITERATIONS REACHED LIMIT                 \n",
      "                               SARIMAX Results                                \n",
      "==============================================================================\n",
      "Dep. Variable:     log_sum_orig_bytes   No. Observations:                 8926\n",
      "Model:             SARIMAX(15, 0, 15)   Log Likelihood               -7385.657\n",
      "Date:                Sun, 10 Nov 2024   AIC                          14833.314\n",
      "Time:                        14:42:35   BIC                          15053.312\n",
      "Sample:                             0   HQIC                         14908.204\n",
      "                               - 8926                                         \n",
      "Covariance Type:                  opg                                         \n",
      "==============================================================================\n",
      "                 coef    std err          z      P>|z|      [0.025      0.975]\n",
      "------------------------------------------------------------------------------\n",
      "ar.L1          0.5995      0.004    140.203      0.000       0.591       0.608\n",
      "ar.L2          0.1817      0.007     26.931      0.000       0.168       0.195\n",
      "ar.L3         -0.6034      0.007    -88.915      0.000      -0.617      -0.590\n",
      "ar.L4          0.5106      0.007     75.196      0.000       0.497       0.524\n",
      "ar.L5          0.0158      0.005      2.915      0.004       0.005       0.026\n",
      "ar.L6         -0.0405      0.005     -8.109      0.000      -0.050      -0.031\n",
      "ar.L7         -0.0148      0.005     -2.861      0.004      -0.025      -0.005\n",
      "ar.L8          0.1709      0.006     29.313      0.000       0.159       0.182\n",
      "ar.L9         -0.0553      0.005    -11.364      0.000      -0.065      -0.046\n",
      "ar.L10        -0.2384      0.005    -45.771      0.000      -0.249      -0.228\n",
      "ar.L11         0.4566      0.005     90.082      0.000       0.447       0.467\n",
      "ar.L12        -0.3972      0.005    -73.043      0.000      -0.408      -0.387\n",
      "ar.L13        -0.0332      0.006     -5.842      0.000      -0.044      -0.022\n",
      "ar.L14         0.5080      0.007     75.812      0.000       0.495       0.521\n",
      "ar.L15        -0.0602      0.004    -14.786      0.000      -0.068      -0.052\n",
      "ma.L1          0.1107      0.004     26.739      0.000       0.103       0.119\n",
      "ma.L2         -0.1055      0.005    -21.655      0.000      -0.115      -0.096\n",
      "ma.L3          0.3565      0.005     73.997      0.000       0.347       0.366\n",
      "ma.L4         -0.0877      0.004    -20.297      0.000      -0.096      -0.079\n",
      "ma.L5         -0.0175      0.003     -5.931      0.000      -0.023      -0.012\n",
      "ma.L6          0.0101      0.003      3.074      0.002       0.004       0.016\n",
      "ma.L7          0.1354      0.004     36.989      0.000       0.128       0.143\n",
      "ma.L8         -0.1038      0.004    -29.544      0.000      -0.111      -0.097\n",
      "ma.L9         -0.0157      0.003     -4.981      0.000      -0.022      -0.010\n",
      "ma.L10         0.3365      0.005     70.470      0.000       0.327       0.346\n",
      "ma.L11        -0.3364      0.004    -77.523      0.000      -0.345      -0.328\n",
      "ma.L12         0.0684      0.004     16.218      0.000       0.060       0.077\n",
      "ma.L13         0.1438      0.004     32.469      0.000       0.135       0.152\n",
      "ma.L14        -0.5114      0.005   -101.863      0.000      -0.521      -0.502\n",
      "ma.L15        -0.5544      0.003   -167.530      0.000      -0.561      -0.548\n",
      "sigma2         0.3062      0.001    591.729      0.000       0.305       0.307\n",
      "===================================================================================\n",
      "Ljung-Box (L1) (Q):                   0.10   Jarque-Bera (JB):          97517855.55\n",
      "Prob(Q):                              0.75   Prob(JB):                         0.00\n",
      "Heteroskedasticity (H):              30.41   Skew:                            -0.35\n",
      "Prob(H) (two-sided):                  0.00   Kurtosis:                       515.06\n",
      "===================================================================================\n",
      "\n",
      "Warnings:\n",
      "[1] Covariance matrix calculated using the outer product of gradients (complex-step).\n",
      "    Ljung-Box p-value\n",
      "10       1.319950e-14\n",
      "20       2.206658e-26\n",
      "30       5.078073e-71\n",
      "50       1.816503e-99\n",
      "\n",
      "Recommended lb_pvalue is > 0.05\n",
      "\n",
      "Jarque-Bera Test:\n",
      "JB Test Stat: 109485003.4607927, p-value: 0.0\n",
      "\n",
      "Durbin-Watson Test:\n",
      "Durbin-Watson Stat: 1.8618765350697595\n",
      "\n",
      "RMSE:\n",
      "Root Mean Squared Error: 0.5984790063249559\n"
     ]
    },
    {
     "data": {
      "image/png": "[encoded data removed]",
      "text/plain": [
       "<Figure size 1000x600 with 1 Axes>"
      ]
     },
     "metadata": {},
     "output_type": "display_data"
    }
   ],
   "source": [
    "#Log-transform the data (ensure no zero values to avoid log(0) issues)\n",
    "df_pandas_sorted['log_sum_orig_bytes'] = np.log1p(df_pandas_sorted['sum_orig_bytes'])  # log1p handles log(1 + x) to avoid log(0) issues\n",
    "\n",
    "#Running auto_arima on the entire DataFrame was too intensive, so use a portion\n",
    "#Define the portion of the DataFrame to use\n",
    "df_sample = df_pandas_sorted.tail(1000) #Use the last 1000 rows\n",
    "\n",
    "#Fit auto_arima to find optimal p,d,q values\n",
    "auto_model = auto_arima(df_sample['sum_orig_bytes'],\n",
    "                        start_p=0, max_p=50, #Range for p\n",
    "                        start_q=0, max_q=10, #Range for q\n",
    "                        d=0,                #Since the series is stationary, d=0\n",
    "                        seasonal=False,     #Seasonality based on ACF test\n",
    "                        #m=seasonal_period, #Seasonality manually set to False for testing\n",
    "                        trace=True,         #Output the process\n",
    "                        error_action='ignore',\n",
    "                        suppress_warnings=True,\n",
    "                        stepwise=True)\n",
    "\n",
    "#Print the summary of the best model found\n",
    "print(auto_model.summary())\n",
    "\n",
    "#Get the best values of p,q, and d\n",
    "p, d, q = auto_model.order\n",
    "print(f\"Best p: {p}, d: {d}, q: {q}\")\n",
    "\n",
    "#Fit ARIMA model on log-transformed data\n",
    "model = SARIMAX(df_pandas_sorted['log_sum_orig_bytes'], order=(15, 0, 15))\n",
    "\n",
    "#Fit the model\n",
    "model_fit = model.fit()\n",
    "\n",
    "#Summary of the model\n",
    "print(model_fit.summary())\n",
    "\n",
    "#Residual diagnostics\n",
    "residuals = model_fit.resid\n",
    "\n",
    "#Ljung-Box test for autocorrelation in residuals (Use multiple Lags)\n",
    "lags = [10,20,30,50]\n",
    "results = {}\n",
    "\n",
    "#Perform Ljung-Box test across multiple lags\n",
    "for lag in lags:\n",
    "    lb_test = acorr_ljungbox(model_fit.resid, lags=[lag], return_df=True)\n",
    "    results[lag] = lb_test['lb_pvalue'].values[0]\n",
    "\n",
    "#Display the p-values for each Lag\n",
    "print(pd.DataFrame.from_dict(results, orient='index',columns=['Ljung-Box p-value']))\n",
    "print(\"\\nRecommended lb_pvalue is > 0.05\")\n",
    "\n",
    "'''\n",
    "ljung_box_test = acorr_ljungbox(residuals, lags=[10], return_df=True)\n",
    "print(\"\\nLjung-Box Test:\")\n",
    "print(ljung_box_test)\n",
    "print(\"\\nRecommended lb_pvalue is > 0.05\")\n",
    "'''\n",
    "\n",
    "#Jarque-Bera test\n",
    "jb_test_stat, jb_p_value = jarque_bera(residuals)\n",
    "print(\"\\nJarque-Bera Test:\")\n",
    "print(f\"JB Test Stat: {jb_test_stat}, p-value: {jb_p_value}\")\n",
    "\n",
    "#Durbin-Watson test\n",
    "dw_stat = durbin_watson(residuals)\n",
    "print(\"\\nDurbin-Watson Test:\")\n",
    "print(f\"Durbin-Watson Stat: {dw_stat}\")\n",
    "\n",
    "# RMSE calculation\n",
    "rmse = np.sqrt(np.mean(residuals**2))\n",
    "print(\"\\nRMSE:\")\n",
    "print(f\"Root Mean Squared Error: {rmse}\")\n",
    "\n",
    "#Plot the residuals\n",
    "plt.figure(figsize=(10, 6))\n",
    "plt.plot(residuals, label=\"Residuals\")\n",
    "plt.axhline(y=0, color='r', linestyle='--')\n",
    "plt.title(\"Residuals of the Log-Transformed ARIMA Model\")\n",
    "plt.legend()\n",
    "plt.show()"
   ]
  },
  {
   "cell_type": "markdown",
   "id": "b7feadef-c8d3-4e8f-a4e2-ec839dfedcfa",
   "metadata": {},
   "source": [
    "Further Investigate Residuals"
   ]
  },
  {
   "cell_type": "code",
   "execution_count": 24,
   "id": "8f19fb85-51a9-4923-b8ba-a93176bafc99",
   "metadata": {},
   "outputs": [
    {
     "name": "stdout",
     "output_type": "stream",
     "text": [
      "Outliers detected at the following indices:\n",
      "0       20.930855\n",
      "3       -8.374137\n",
      "6       -3.038684\n",
      "18      -2.376825\n",
      "5622     2.307545\n",
      "8840   -13.718561\n",
      "8841    -4.582768\n",
      "8842    -4.441595\n",
      "8843    -6.413002\n",
      "8844    12.343540\n",
      "8846     2.726975\n",
      "8847     3.390445\n",
      "8848   -12.245154\n",
      "8849    -3.215232\n",
      "8850    19.960810\n",
      "8853   -16.815511\n",
      "8854     5.446085\n",
      "8855    -3.428441\n",
      "8856    -3.569185\n",
      "8857   -13.095969\n",
      "8860    -9.121041\n",
      "8861    10.096223\n",
      "8864    -3.919414\n",
      "8866    -5.636053\n",
      "8867    -5.650449\n",
      "8868    13.157077\n",
      "8869     9.126121\n",
      "8870     3.234983\n",
      "8871     5.124191\n",
      "8875     1.864675\n",
      "8879    -3.010474\n",
      "8880    -6.303022\n",
      "8881     5.767730\n",
      "8884    -3.864477\n",
      "8885     2.352140\n",
      "8886    -2.159425\n",
      "8887    -5.002953\n",
      "8888    -4.303591\n",
      "8889    -1.945711\n",
      "8890    -3.057590\n",
      "8891     6.655065\n",
      "8894    -1.839008\n",
      "8900    -9.557385\n",
      "8902    -1.816665\n",
      "8903    -2.540363\n",
      "8904     2.053643\n",
      "8906     2.069138\n",
      "8910    -2.744529\n",
      "8912    -2.045916\n",
      "8915    -3.041669\n",
      "8917    -2.433624\n",
      "8918    -1.939232\n",
      "8921    -6.094938\n",
      "8922    -3.578275\n",
      "8923    -4.029665\n",
      "8924    -3.022317\n",
      "dtype: float64\n"
     ]
    },
    {
     "data": {
      "image/png": "[encoded data removed]",
      "text/plain": [
       "<Figure size 1000x600 with 1 Axes>"
      ]
     },
     "metadata": {},
     "output_type": "display_data"
    }
   ],
   "source": [
    "#Calculate the residuals from your fitted ARIMA model\n",
    "residuals = model_fit.resid\n",
    "\n",
    "#Calculate the mean and standard deviation of residuals\n",
    "residual_mean = np.mean(residuals)\n",
    "residual_std = np.std(residuals)\n",
    "\n",
    "#Set a threshold for outliers (e.g., 3 standard deviations)\n",
    "outlier_threshold = 3 * residual_std\n",
    "\n",
    "#Identify the outliers\n",
    "outliers = residuals[(residuals > residual_mean + outlier_threshold) | (residuals < residual_mean - outlier_threshold)]\n",
    "\n",
    "#Print the identified outliers\n",
    "print(\"Outliers detected at the following indices:\")\n",
    "print(outliers)\n",
    "\n",
    "#Plot the residuals with outliers highlighted\n",
    "plt.figure(figsize=(10, 6))\n",
    "plt.plot(residuals, label=\"Residuals\")\n",
    "plt.scatter(outliers.index, outliers, color='red', label=\"Outliers\", marker='x')\n",
    "plt.axhline(y=0, color='r', linestyle='--')\n",
    "plt.title(\"Residuals with Outliers Highlighted\")\n",
    "plt.legend()\n",
    "plt.show()"
   ]
  },
  {
   "cell_type": "markdown",
   "id": "a597ab8e-4449-490f-9db2-60521a0bffb3",
   "metadata": {},
   "source": [
    "Check for Structural Breaks"
   ]
  },
  {
   "cell_type": "code",
   "execution_count": 25,
   "id": "54b0e3ca-acac-45eb-9274-d073ac49277e",
   "metadata": {},
   "outputs": [
    {
     "name": "stdout",
     "output_type": "stream",
     "text": [
      "No structural break detected (p-value = 0.24202)\n"
     ]
    },
    {
     "data": {
      "image/png": "[encoded data removed]",
      "text/plain": [
       "<Figure size 1000x600 with 1 Axes>"
      ]
     },
     "metadata": {},
     "output_type": "display_data"
    }
   ],
   "source": [
    "from statsmodels.stats.diagnostic import breaks_cusumolsresid\n",
    "\n",
    "#Perform CUSUM test for structural breaks on residuals\n",
    "cusum_test = breaks_cusumolsresid(model_fit.resid)\n",
    "\n",
    "#Interpret the result\n",
    "if cusum_test[1] < 0.05:\n",
    "    print(f\"Structural break detected (p-value = {cusum_test[1]:.5f})\")\n",
    "else:\n",
    "    print(f\"No structural break detected (p-value = {cusum_test[1]:.5f})\")\n",
    "\n",
    "#Plot the CUSUM statistic if you want a visual representation\n",
    "plt.figure(figsize=(10, 6))\n",
    "plt.plot(cusum_test[0], label=\"CUSUM Statistic\")\n",
    "plt.axhline(y=0, color='r', linestyle='--')\n",
    "plt.title(\"CUSUM Test for Structural Breaks\")\n",
    "plt.legend()\n",
    "plt.show()"
   ]
  },
  {
   "cell_type": "markdown",
   "id": "29b22a1e-b59c-40c5-b7d4-d67f7a6cc1a3",
   "metadata": {},
   "source": [
    "Compare Residuals to Network Logs"
   ]
  },
  {
   "cell_type": "code",
   "execution_count": 26,
   "id": "568ba1bf-919f-42c5-b225-aaa8d9851aa0",
   "metadata": {},
   "outputs": [
    {
     "name": "stderr",
     "output_type": "stream",
     "text": [
      "ERROR:root:Exception while sending command.                                     \n",
      "Traceback (most recent call last):\n",
      "  File \"/home/ubuntu/.local/lib/python3.10/site-packages/py4j/clientserver.py\", line 516, in send_command\n",
      "    raise Py4JNetworkError(\"Answer from Java side is empty\")\n",
      "py4j.protocol.Py4JNetworkError: Answer from Java side is empty\n",
      "\n",
      "During handling of the above exception, another exception occurred:\n",
      "\n",
      "Traceback (most recent call last):\n",
      "  File \"/home/ubuntu/.local/lib/python3.10/site-packages/py4j/java_gateway.py\", line 1038, in send_command\n",
      "    response = connection.send_command(command)\n",
      "  File \"/home/ubuntu/.local/lib/python3.10/site-packages/py4j/clientserver.py\", line 539, in send_command\n",
      "    raise Py4JNetworkError(\n",
      "py4j.protocol.Py4JNetworkError: Error while sending or receiving\n"
     ]
    },
    {
     "ename": "AssertionError",
     "evalue": "Undefined error message parameter for error class: CANNOT_PARSE_DATATYPE. Parameters: {'error': 'An error occurred while calling o156.schema'}",
     "output_type": "error",
     "traceback": [
      "\u001b[0;31m---------------------------------------------------------------------------\u001b[0m",
      "\u001b[0;31mPy4JError\u001b[0m                                 Traceback (most recent call last)",
      "File \u001b[0;32m~/.local/lib/python3.10/site-packages/pyspark/sql/dataframe.py:572\u001b[0m, in \u001b[0;36mDataFrame.schema\u001b[0;34m(self)\u001b[0m\n\u001b[1;32m    570\u001b[0m \u001b[38;5;28;01mtry\u001b[39;00m:\n\u001b[1;32m    571\u001b[0m     \u001b[38;5;28mself\u001b[39m\u001b[38;5;241m.\u001b[39m_schema \u001b[38;5;241m=\u001b[39m cast(\n\u001b[0;32m--> 572\u001b[0m         StructType, _parse_datatype_json_string(\u001b[38;5;28;43mself\u001b[39;49m\u001b[38;5;241;43m.\u001b[39;49m\u001b[43m_jdf\u001b[49m\u001b[38;5;241;43m.\u001b[39;49m\u001b[43mschema\u001b[49m\u001b[43m(\u001b[49m\u001b[43m)\u001b[49m\u001b[38;5;241m.\u001b[39mjson())\n\u001b[1;32m    573\u001b[0m     )\n\u001b[1;32m    574\u001b[0m \u001b[38;5;28;01mexcept\u001b[39;00m \u001b[38;5;167;01mException\u001b[39;00m \u001b[38;5;28;01mas\u001b[39;00m e:\n",
      "File \u001b[0;32m~/.local/lib/python3.10/site-packages/py4j/java_gateway.py:1322\u001b[0m, in \u001b[0;36mJavaMember.__call__\u001b[0;34m(self, *args)\u001b[0m\n\u001b[1;32m   1321\u001b[0m answer \u001b[38;5;241m=\u001b[39m \u001b[38;5;28mself\u001b[39m\u001b[38;5;241m.\u001b[39mgateway_client\u001b[38;5;241m.\u001b[39msend_command(command)\n\u001b[0;32m-> 1322\u001b[0m return_value \u001b[38;5;241m=\u001b[39m \u001b[43mget_return_value\u001b[49m\u001b[43m(\u001b[49m\n\u001b[1;32m   1323\u001b[0m \u001b[43m    \u001b[49m\u001b[43manswer\u001b[49m\u001b[43m,\u001b[49m\u001b[43m \u001b[49m\u001b[38;5;28;43mself\u001b[39;49m\u001b[38;5;241;43m.\u001b[39;49m\u001b[43mgateway_client\u001b[49m\u001b[43m,\u001b[49m\u001b[43m \u001b[49m\u001b[38;5;28;43mself\u001b[39;49m\u001b[38;5;241;43m.\u001b[39;49m\u001b[43mtarget_id\u001b[49m\u001b[43m,\u001b[49m\u001b[43m \u001b[49m\u001b[38;5;28;43mself\u001b[39;49m\u001b[38;5;241;43m.\u001b[39;49m\u001b[43mname\u001b[49m\u001b[43m)\u001b[49m\n\u001b[1;32m   1325\u001b[0m \u001b[38;5;28;01mfor\u001b[39;00m temp_arg \u001b[38;5;129;01min\u001b[39;00m temp_args:\n",
      "File \u001b[0;32m~/.local/lib/python3.10/site-packages/pyspark/errors/exceptions/captured.py:179\u001b[0m, in \u001b[0;36mcapture_sql_exception.<locals>.deco\u001b[0;34m(*a, **kw)\u001b[0m\n\u001b[1;32m    178\u001b[0m \u001b[38;5;28;01mtry\u001b[39;00m:\n\u001b[0;32m--> 179\u001b[0m     \u001b[38;5;28;01mreturn\u001b[39;00m \u001b[43mf\u001b[49m\u001b[43m(\u001b[49m\u001b[38;5;241;43m*\u001b[39;49m\u001b[43ma\u001b[49m\u001b[43m,\u001b[49m\u001b[43m \u001b[49m\u001b[38;5;241;43m*\u001b[39;49m\u001b[38;5;241;43m*\u001b[39;49m\u001b[43mkw\u001b[49m\u001b[43m)\u001b[49m\n\u001b[1;32m    180\u001b[0m \u001b[38;5;28;01mexcept\u001b[39;00m Py4JJavaError \u001b[38;5;28;01mas\u001b[39;00m e:\n",
      "File \u001b[0;32m~/.local/lib/python3.10/site-packages/py4j/protocol.py:334\u001b[0m, in \u001b[0;36mget_return_value\u001b[0;34m(answer, gateway_client, target_id, name)\u001b[0m\n\u001b[1;32m    333\u001b[0m     \u001b[38;5;28;01melse\u001b[39;00m:\n\u001b[0;32m--> 334\u001b[0m         \u001b[38;5;28;01mraise\u001b[39;00m Py4JError(\n\u001b[1;32m    335\u001b[0m             \u001b[38;5;124m\"\u001b[39m\u001b[38;5;124mAn error occurred while calling \u001b[39m\u001b[38;5;132;01m{0}\u001b[39;00m\u001b[38;5;132;01m{1}\u001b[39;00m\u001b[38;5;132;01m{2}\u001b[39;00m\u001b[38;5;124m\"\u001b[39m\u001b[38;5;241m.\u001b[39m\n\u001b[1;32m    336\u001b[0m             \u001b[38;5;28mformat\u001b[39m(target_id, \u001b[38;5;124m\"\u001b[39m\u001b[38;5;124m.\u001b[39m\u001b[38;5;124m\"\u001b[39m, name))\n\u001b[1;32m    337\u001b[0m \u001b[38;5;28;01melse\u001b[39;00m:\n",
      "\u001b[0;31mPy4JError\u001b[0m: An error occurred while calling o156.schema",
      "\nDuring handling of the above exception, another exception occurred:\n",
      "\u001b[0;31mAssertionError\u001b[0m                            Traceback (most recent call last)",
      "Cell \u001b[0;32mIn[26], line 5\u001b[0m\n\u001b[1;32m      2\u001b[0m df_attacks_filtered \u001b[38;5;241m=\u001b[39m df_attacks\u001b[38;5;241m.\u001b[39mfilter(col(\u001b[38;5;124m\"\u001b[39m\u001b[38;5;124mlabel_tactic\u001b[39m\u001b[38;5;124m\"\u001b[39m)\u001b[38;5;241m!=\u001b[39m\u001b[38;5;124m'\u001b[39m\u001b[38;5;124mnone\u001b[39m\u001b[38;5;124m'\u001b[39m)\n\u001b[1;32m      4\u001b[0m \u001b[38;5;66;03m#Convert df_attacks to a pandas DataFrame\u001b[39;00m\n\u001b[0;32m----> 5\u001b[0m df_attacks_pandas \u001b[38;5;241m=\u001b[39m \u001b[43mdf_attacks_filtered\u001b[49m\u001b[38;5;241;43m.\u001b[39;49m\u001b[43mtoPandas\u001b[49m\u001b[43m(\u001b[49m\u001b[43m)\u001b[49m\n\u001b[1;32m      7\u001b[0m \u001b[38;5;66;03m#Create DatFrame of residuals with time stamps\u001b[39;00m\n\u001b[1;32m      8\u001b[0m residuals_df \u001b[38;5;241m=\u001b[39m pd\u001b[38;5;241m.\u001b[39mDataFrame({\n\u001b[1;32m      9\u001b[0m     \u001b[38;5;124m'\u001b[39m\u001b[38;5;124mwindow_start\u001b[39m\u001b[38;5;124m'\u001b[39m: df_pandas_sorted[\u001b[38;5;124m'\u001b[39m\u001b[38;5;124mwindow_start\u001b[39m\u001b[38;5;124m'\u001b[39m],\n\u001b[1;32m     10\u001b[0m     \u001b[38;5;124m'\u001b[39m\u001b[38;5;124mresiduals\u001b[39m\u001b[38;5;124m'\u001b[39m:residuals\n\u001b[1;32m     11\u001b[0m })\n",
      "File \u001b[0;32m~/.local/lib/python3.10/site-packages/pyspark/sql/pandas/conversion.py:205\u001b[0m, in \u001b[0;36mPandasConversionMixin.toPandas\u001b[0;34m(self)\u001b[0m\n\u001b[1;32m    202\u001b[0m rows \u001b[38;5;241m=\u001b[39m \u001b[38;5;28mself\u001b[39m\u001b[38;5;241m.\u001b[39mcollect()\n\u001b[1;32m    203\u001b[0m \u001b[38;5;28;01mif\u001b[39;00m \u001b[38;5;28mlen\u001b[39m(rows) \u001b[38;5;241m>\u001b[39m \u001b[38;5;241m0\u001b[39m:\n\u001b[1;32m    204\u001b[0m     pdf \u001b[38;5;241m=\u001b[39m pd\u001b[38;5;241m.\u001b[39mDataFrame\u001b[38;5;241m.\u001b[39mfrom_records(\n\u001b[0;32m--> 205\u001b[0m         rows, index\u001b[38;5;241m=\u001b[39m\u001b[38;5;28mrange\u001b[39m(\u001b[38;5;28mlen\u001b[39m(rows)), columns\u001b[38;5;241m=\u001b[39m\u001b[38;5;28;43mself\u001b[39;49m\u001b[38;5;241;43m.\u001b[39;49m\u001b[43mcolumns\u001b[49m  \u001b[38;5;66;03m# type: ignore[arg-type]\u001b[39;00m\n\u001b[1;32m    206\u001b[0m     )\n\u001b[1;32m    207\u001b[0m \u001b[38;5;28;01melse\u001b[39;00m:\n\u001b[1;32m    208\u001b[0m     pdf \u001b[38;5;241m=\u001b[39m pd\u001b[38;5;241m.\u001b[39mDataFrame(columns\u001b[38;5;241m=\u001b[39m\u001b[38;5;28mself\u001b[39m\u001b[38;5;241m.\u001b[39mcolumns)\n",
      "File \u001b[0;32m~/.local/lib/python3.10/site-packages/pyspark/sql/dataframe.py:2189\u001b[0m, in \u001b[0;36mDataFrame.columns\u001b[0;34m(self)\u001b[0m\n\u001b[1;32m   2114\u001b[0m \u001b[38;5;129m@property\u001b[39m\n\u001b[1;32m   2115\u001b[0m \u001b[38;5;28;01mdef\u001b[39;00m \u001b[38;5;21mcolumns\u001b[39m(\u001b[38;5;28mself\u001b[39m) \u001b[38;5;241m-\u001b[39m\u001b[38;5;241m>\u001b[39m List[\u001b[38;5;28mstr\u001b[39m]:\n\u001b[1;32m   2116\u001b[0m \u001b[38;5;250m    \u001b[39m\u001b[38;5;124;03m\"\"\"\u001b[39;00m\n\u001b[1;32m   2117\u001b[0m \u001b[38;5;124;03m    Retrieves the names of all columns in the :class:`DataFrame` as a list.\u001b[39;00m\n\u001b[1;32m   2118\u001b[0m \n\u001b[0;32m   (...)\u001b[0m\n\u001b[1;32m   2187\u001b[0m \u001b[38;5;124;03m    False\u001b[39;00m\n\u001b[1;32m   2188\u001b[0m \u001b[38;5;124;03m    \"\"\"\u001b[39;00m\n\u001b[0;32m-> 2189\u001b[0m     \u001b[38;5;28;01mreturn\u001b[39;00m [f\u001b[38;5;241m.\u001b[39mname \u001b[38;5;28;01mfor\u001b[39;00m f \u001b[38;5;129;01min\u001b[39;00m \u001b[38;5;28;43mself\u001b[39;49m\u001b[38;5;241;43m.\u001b[39;49m\u001b[43mschema\u001b[49m\u001b[38;5;241m.\u001b[39mfields]\n",
      "File \u001b[0;32m~/.local/lib/python3.10/site-packages/pyspark/sql/dataframe.py:575\u001b[0m, in \u001b[0;36mDataFrame.schema\u001b[0;34m(self)\u001b[0m\n\u001b[1;32m    571\u001b[0m         \u001b[38;5;28mself\u001b[39m\u001b[38;5;241m.\u001b[39m_schema \u001b[38;5;241m=\u001b[39m cast(\n\u001b[1;32m    572\u001b[0m             StructType, _parse_datatype_json_string(\u001b[38;5;28mself\u001b[39m\u001b[38;5;241m.\u001b[39m_jdf\u001b[38;5;241m.\u001b[39mschema()\u001b[38;5;241m.\u001b[39mjson())\n\u001b[1;32m    573\u001b[0m         )\n\u001b[1;32m    574\u001b[0m     \u001b[38;5;28;01mexcept\u001b[39;00m \u001b[38;5;167;01mException\u001b[39;00m \u001b[38;5;28;01mas\u001b[39;00m e:\n\u001b[0;32m--> 575\u001b[0m         \u001b[38;5;28;01mraise\u001b[39;00m \u001b[43mPySparkValueError\u001b[49m\u001b[43m(\u001b[49m\n\u001b[1;32m    576\u001b[0m \u001b[43m            \u001b[49m\u001b[43merror_class\u001b[49m\u001b[38;5;241;43m=\u001b[39;49m\u001b[38;5;124;43m\"\u001b[39;49m\u001b[38;5;124;43mCANNOT_PARSE_DATATYPE\u001b[39;49m\u001b[38;5;124;43m\"\u001b[39;49m\u001b[43m,\u001b[49m\n\u001b[1;32m    577\u001b[0m \u001b[43m            \u001b[49m\u001b[43mmessage_parameters\u001b[49m\u001b[38;5;241;43m=\u001b[39;49m\u001b[43m{\u001b[49m\u001b[38;5;124;43m\"\u001b[39;49m\u001b[38;5;124;43merror\u001b[39;49m\u001b[38;5;124;43m\"\u001b[39;49m\u001b[43m:\u001b[49m\u001b[43m \u001b[49m\u001b[38;5;28;43mstr\u001b[39;49m\u001b[43m(\u001b[49m\u001b[43me\u001b[49m\u001b[43m)\u001b[49m\u001b[43m}\u001b[49m\u001b[43m,\u001b[49m\n\u001b[1;32m    578\u001b[0m \u001b[43m        \u001b[49m\u001b[43m)\u001b[49m\n\u001b[1;32m    579\u001b[0m \u001b[38;5;28;01mreturn\u001b[39;00m \u001b[38;5;28mself\u001b[39m\u001b[38;5;241m.\u001b[39m_schema\n",
      "File \u001b[0;32m~/.local/lib/python3.10/site-packages/pyspark/errors/exceptions/base.py:42\u001b[0m, in \u001b[0;36mPySparkException.__init__\u001b[0;34m(self, message, error_class, message_parameters)\u001b[0m\n\u001b[1;32m     39\u001b[0m \u001b[38;5;28mself\u001b[39m\u001b[38;5;241m.\u001b[39merror_reader \u001b[38;5;241m=\u001b[39m ErrorClassesReader()\n\u001b[1;32m     41\u001b[0m \u001b[38;5;28;01mif\u001b[39;00m message \u001b[38;5;129;01mis\u001b[39;00m \u001b[38;5;28;01mNone\u001b[39;00m:\n\u001b[0;32m---> 42\u001b[0m     \u001b[38;5;28mself\u001b[39m\u001b[38;5;241m.\u001b[39mmessage \u001b[38;5;241m=\u001b[39m \u001b[38;5;28;43mself\u001b[39;49m\u001b[38;5;241;43m.\u001b[39;49m\u001b[43merror_reader\u001b[49m\u001b[38;5;241;43m.\u001b[39;49m\u001b[43mget_error_message\u001b[49m\u001b[43m(\u001b[49m\n\u001b[1;32m     43\u001b[0m \u001b[43m        \u001b[49m\u001b[43mcast\u001b[49m\u001b[43m(\u001b[49m\u001b[38;5;28;43mstr\u001b[39;49m\u001b[43m,\u001b[49m\u001b[43m \u001b[49m\u001b[43merror_class\u001b[49m\u001b[43m)\u001b[49m\u001b[43m,\u001b[49m\u001b[43m \u001b[49m\u001b[43mcast\u001b[49m\u001b[43m(\u001b[49m\u001b[43mDict\u001b[49m\u001b[43m[\u001b[49m\u001b[38;5;28;43mstr\u001b[39;49m\u001b[43m,\u001b[49m\u001b[43m \u001b[49m\u001b[38;5;28;43mstr\u001b[39;49m\u001b[43m]\u001b[49m\u001b[43m,\u001b[49m\u001b[43m \u001b[49m\u001b[43mmessage_parameters\u001b[49m\u001b[43m)\u001b[49m\n\u001b[1;32m     44\u001b[0m \u001b[43m    \u001b[49m\u001b[43m)\u001b[49m\n\u001b[1;32m     45\u001b[0m \u001b[38;5;28;01melse\u001b[39;00m:\n\u001b[1;32m     46\u001b[0m     \u001b[38;5;28mself\u001b[39m\u001b[38;5;241m.\u001b[39mmessage \u001b[38;5;241m=\u001b[39m message\n",
      "File \u001b[0;32m~/.local/lib/python3.10/site-packages/pyspark/errors/utils.py:39\u001b[0m, in \u001b[0;36mErrorClassesReader.get_error_message\u001b[0;34m(self, error_class, message_parameters)\u001b[0m\n\u001b[1;32m     37\u001b[0m \u001b[38;5;66;03m# Verify message parameters.\u001b[39;00m\n\u001b[1;32m     38\u001b[0m message_parameters_from_template \u001b[38;5;241m=\u001b[39m re\u001b[38;5;241m.\u001b[39mfindall(\u001b[38;5;124m\"\u001b[39m\u001b[38;5;124m<([a-zA-Z0-9_-]+)>\u001b[39m\u001b[38;5;124m\"\u001b[39m, message_template)\n\u001b[0;32m---> 39\u001b[0m \u001b[38;5;28;01massert\u001b[39;00m \u001b[38;5;28mset\u001b[39m(message_parameters_from_template) \u001b[38;5;241m==\u001b[39m \u001b[38;5;28mset\u001b[39m(message_parameters), (\n\u001b[1;32m     40\u001b[0m     \u001b[38;5;124mf\u001b[39m\u001b[38;5;124m\"\u001b[39m\u001b[38;5;124mUndefined error message parameter for error class: \u001b[39m\u001b[38;5;132;01m{\u001b[39;00merror_class\u001b[38;5;132;01m}\u001b[39;00m\u001b[38;5;124m. \u001b[39m\u001b[38;5;124m\"\u001b[39m\n\u001b[1;32m     41\u001b[0m     \u001b[38;5;124mf\u001b[39m\u001b[38;5;124m\"\u001b[39m\u001b[38;5;124mParameters: \u001b[39m\u001b[38;5;132;01m{\u001b[39;00mmessage_parameters\u001b[38;5;132;01m}\u001b[39;00m\u001b[38;5;124m\"\u001b[39m\n\u001b[1;32m     42\u001b[0m )\n\u001b[1;32m     43\u001b[0m table \u001b[38;5;241m=\u001b[39m \u001b[38;5;28mstr\u001b[39m\u001b[38;5;241m.\u001b[39mmaketrans(\u001b[38;5;124m\"\u001b[39m\u001b[38;5;124m<>\u001b[39m\u001b[38;5;124m\"\u001b[39m, \u001b[38;5;124m\"\u001b[39m\u001b[38;5;132;01m{}\u001b[39;00m\u001b[38;5;124m\"\u001b[39m)\n\u001b[1;32m     45\u001b[0m \u001b[38;5;28;01mreturn\u001b[39;00m message_template\u001b[38;5;241m.\u001b[39mtranslate(table)\u001b[38;5;241m.\u001b[39mformat(\u001b[38;5;241m*\u001b[39m\u001b[38;5;241m*\u001b[39mmessage_parameters)\n",
      "\u001b[0;31mAssertionError\u001b[0m: Undefined error message parameter for error class: CANNOT_PARSE_DATATYPE. Parameters: {'error': 'An error occurred while calling o156.schema'}"
     ]
    }
   ],
   "source": [
    "#Filter df_attacks for rows where label_tactic is not 'none'\n",
    "df_attacks_filtered = df_attacks.filter(col(\"label_tactic\")!='none')\n",
    "\n",
    "#Convert df_attacks to a pandas DataFrame\n",
    "df_attacks_pandas = df_attacks_filtered.toPandas()\n",
    "\n",
    "#Create DatFrame of residuals with time stamps\n",
    "residuals_df = pd.DataFrame({\n",
    "    'window_start': df_pandas_sorted['window_start'],\n",
    "    'residuals':residuals\n",
    "})\n",
    "\n",
    "#Merge residuals with df_attacks on timestamp\n",
    "df_merged = residuals_df.merge(df_attacks, left_on='window_start', right_on='ts', how='inner')\n",
    "\n",
    "#Filter for rows where 'Label_tactic' is not 'none' to see potential anomalies\n",
    "df_anomalies = df_merged[df_merged['label_tactic'] != 'none']\n",
    "\n",
    "#Display the DataFrame\n",
    "df_anomalies.show(5, truncate=False)\n",
    "\n",
    "#Plot residuals over time\n",
    "plt.figure(figsize=(14,7))\n",
    "plt.plot(residuals_df['window_start'],residuals_df['residuals'], label='Residuals', color='blue')\n",
    "\n",
    "#Highlight anomalies by plotting points where 'label_tactic' is not 'none'\n",
    "plt.scatter(df_anomalies['window_start'], df_anomalies['residuals'], color='red', marker='o', label='Anomalies')\n",
    "\n",
    "#Add labels and legend\n",
    "plt.xlabel('Timestamp')\n",
    "plt.ylabel('Residuals')\n",
    "plt.title('Residuals with Detected Anomalies')\n",
    "plt.legend()\n",
    "plt.xticks(rotation=45)\n",
    "plt.tight_layout()\n",
    "\n",
    "#Show the plot\n",
    "plt.show()"
   ]
  },
  {
   "cell_type": "raw",
   "id": "ec0ea619-1fab-43e2-8486-eed4bbecc079",
   "metadata": {},
   "source": [
    "Forecast Future Values"
   ]
  },
  {
   "cell_type": "code",
   "execution_count": null,
   "id": "a8303315-7ac6-449f-af99-c5eb16c47cbd",
   "metadata": {},
   "outputs": [],
   "source": [
    "forecast = model_fit.forecast(steps=10)\n",
    "print(forecast)"
   ]
  },
  {
   "attachments": {},
   "cell_type": "markdown",
   "id": "e0c60615-2476-4d0d-ad85-0e802ba601cd",
   "metadata": {},
   "source": [
    "#LATER PROCESSING: SPLIT INTO SEPERATE DATAFRAMES ALL DATA AND MALICIOUS DATA ONLY\n",
    "#ALL DATA: COUNT \n",
    "#ALL DATA: BYTES\n",
    "#MALICIOUS DATA: COUNT\n",
    "#MALICIOUS DATA: BYTES"
   ]
  },
  {
   "cell_type": "code",
   "execution_count": null,
   "id": "f5e952b8-7b42-4c48-8173-f1e6e838b9f6",
   "metadata": {},
   "outputs": [
    {
     "name": "stderr",
     "output_type": "stream",
     "text": [
      "ERROR:root:Exception while sending command.\n",
      "Traceback (most recent call last):\n",
      "  File \"/home/ubuntu/.local/lib/python3.10/site-packages/py4j/clientserver.py\", line 516, in send_command\n",
      "    raise Py4JNetworkError(\"Answer from Java side is empty\")\n",
      "py4j.protocol.Py4JNetworkError: Answer from Java side is empty\n",
      "\n",
      "During handling of the above exception, another exception occurred:\n",
      "\n",
      "Traceback (most recent call last):\n",
      "  File \"/home/ubuntu/.local/lib/python3.10/site-packages/py4j/java_gateway.py\", line 1038, in send_command\n",
      "    response = connection.send_command(command)\n",
      "  File \"/home/ubuntu/.local/lib/python3.10/site-packages/py4j/clientserver.py\", line 539, in send_command\n",
      "    raise Py4JNetworkError(\n",
      "py4j.protocol.Py4JNetworkError: Error while sending or receiving\n"
     ]
    }
   ],
   "source": [
    "Model Diagnostics"
   ]
  },
  {
   "cell_type": "code",
   "execution_count": null,
   "id": "db6afe62-817b-4cbd-9f70-7039696d0c38",
   "metadata": {},
   "outputs": [],
   "source": []
  },
  {
   "cell_type": "code",
   "execution_count": null,
   "id": "5fb0e193-7e8e-44e2-993c-2875298b35f0",
   "metadata": {},
   "outputs": [],
   "source": []
  }
 ],
 "metadata": {
  "kernelspec": {
   "display_name": "Python 3 (ipykernel)",
   "language": "python",
   "name": "python3"
  },
  "language_info": {
   "codemirror_mode": {
    "name": "ipython",
    "version": 3
   },
   "file_extension": ".py",
   "mimetype": "text/x-python",
   "name": "python",
   "nbconvert_exporter": "python",
   "pygments_lexer": "ipython3",
   "version": "3.10.12"
  }
 },
 "nbformat": 4,
 "nbformat_minor": 5
}
