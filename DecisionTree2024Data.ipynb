{
 "cells": [
  {
   "cell_type": "markdown",
   "metadata": {},
   "source": [
    "<span style = \"color:blue; font-size:24px\">DecisionTree</span>\n",
    "\n",
    "This notebook only focuses on Decision Tree model training.\n",
    "\n",
    "ZeekData24 Attack Profiles \n",
    "\n",
    "Dataset 1: Multiple Attack Types \n",
    "\n",
    "Dataset 2: Multiple Attack Types \n",
    "\n",
    "Dataset 3: Multiple Attack Types \n",
    "\n",
    "Dataset 4: Multiple Attack Types \n",
    "\n",
    "Dataset 5: Multiple Attack Types \n",
    "\n",
    "Datest 6: Benign Data \n",
    "\n",
    "Dataset 7: Benign Data\n",
    "\n",
    "\n",
    "Combine All Datasets and Exclude any attacks not being currently used for training"
   ]
  },
  {
   "cell_type": "code",
   "execution_count": 1,
   "metadata": {},
   "outputs": [
    {
     "name": "stderr",
     "output_type": "stream",
     "text": [
      "Warning: Ignoring non-Spark config property: SPARK_LOCAL_IP\n",
      "25/01/28 14:03:57 WARN Utils: Your hostname, ubuntu-virtual-machine resolves to a loopback address: 127.0.1.1; using 192.168.1.112 instead (on interface ens33)\n",
      "25/01/28 14:03:57 WARN Utils: Set SPARK_LOCAL_IP if you need to bind to another address\n",
      "Setting default log level to \"WARN\".\n",
      "To adjust logging level use sc.setLogLevel(newLevel). For SparkR, use setLogLevel(newLevel).\n",
      "25/01/28 14:03:57 WARN NativeCodeLoader: Unable to load native-hadoop library for your platform... using builtin-java classes where applicable\n",
      "25/01/28 14:03:59 WARN Utils: Service 'SparkUI' could not bind on port 4040. Attempting port 4041.\n",
      "                                                                                \r"
     ]
    },
    {
     "name": "stdout",
     "output_type": "stream",
     "text": [
      "Dataset 1: All rows of 'label_tactic' before preprocessing:\n"
     ]
    },
    {
     "name": "stderr",
     "output_type": "stream",
     "text": [
      "                                                                                \r"
     ]
    },
    {
     "name": "stdout",
     "output_type": "stream",
     "text": [
      "Privilege Escalation\n",
      "Reconnaissance\n",
      "Credential Access\n",
      "Persistence\n",
      "Initial Access\n",
      "Exfiltration\n",
      "Defense Evasion\n",
      "Dataset 1: Unique count for each 'label_tactic' value before conversion\n"
     ]
    },
    {
     "name": "stderr",
     "output_type": "stream",
     "text": [
      "                                                                                \r"
     ]
    },
    {
     "name": "stdout",
     "output_type": "stream",
     "text": [
      "+--------------------+------+\n",
      "|label_tactic        |count |\n",
      "+--------------------+------+\n",
      "|Credential Access   |236706|\n",
      "|Reconnaissance      |12762 |\n",
      "|Initial Access      |2172  |\n",
      "|Privilege Escalation|1251  |\n",
      "|Persistence         |1251  |\n",
      "|Defense Evasion     |1251  |\n",
      "|Exfiltration        |50    |\n",
      "+--------------------+------+\n",
      "\n",
      "First few rows after binary encoding:\n",
      "+--------------------+-------------------+\n",
      "|label_tactic        |label_tactic_binary|\n",
      "+--------------------+-------------------+\n",
      "|Defense Evasion     |1                  |\n",
      "|Initial Access      |1                  |\n",
      "|Persistence         |1                  |\n",
      "|Privilege Escalation|1                  |\n",
      "|Defense Evasion     |1                  |\n",
      "+--------------------+-------------------+\n",
      "only showing top 5 rows\n",
      "\n",
      "First few rows of 'label_tactic_binary_encoded' (encoded attack types):\n",
      "+--------------------+----------------------+---------------------------------------+\n",
      "|label_tactic        |label_tactic_split    |label_tactic_binary_encoded            |\n",
      "+--------------------+----------------------+---------------------------------------+\n",
      "|Defense Evasion     |[Defense Evasion]     |[0, 0, 0, 1, 0, 0, 0, 0, 0, 0, 0, 0, 0]|\n",
      "|Initial Access      |[Initial Access]      |[0, 0, 0, 0, 0, 0, 0, 0, 0, 0, 0, 0, 0]|\n",
      "|Persistence         |[Persistence]         |[0, 0, 1, 0, 0, 0, 0, 0, 0, 0, 0, 0, 0]|\n",
      "|Privilege Escalation|[Privilege Escalation]|[1, 0, 0, 0, 0, 0, 0, 0, 0, 0, 0, 0, 0]|\n",
      "|Defense Evasion     |[Defense Evasion]     |[0, 0, 0, 1, 0, 0, 0, 0, 0, 0, 0, 0, 0]|\n",
      "+--------------------+----------------------+---------------------------------------+\n",
      "only showing top 5 rows\n",
      "\n"
     ]
    },
    {
     "name": "stderr",
     "output_type": "stream",
     "text": [
      "                                                                                \r"
     ]
    },
    {
     "name": "stdout",
     "output_type": "stream",
     "text": [
      "DataFrame for: hdfs://192.168.1.2:9000/datasets-uwf-edu/UWF-TestZeekData24/parquet/2024-02-25 - 2024-03-03/part-00000-8b838a85-76eb-4896-a0b6-2fc425e828c2-c000.snappy.parquet has total rows: 17995\n",
      "Dataset 1: Unique 'label_tactic_split_agg' values\n"
     ]
    },
    {
     "name": "stderr",
     "output_type": "stream",
     "text": [
      "                                                                                \r"
     ]
    },
    {
     "name": "stdout",
     "output_type": "stream",
     "text": [
      "[['Persistence'], ['Defense Evasion'], ['Initial Access'], ['Credential Access'], ['Privilege Escalation']]\n",
      "[['Reconnaissance'], ['Persistence'], ['Defense Evasion'], ['Initial Access'], ['Credential Access'], ['Privilege Escalation']]\n",
      "[['Reconnaissance'], ['Credential Access']]\n",
      "[['Reconnaissance'], ['Initial Access']]\n",
      "[['Persistence'], ['Defense Evasion'], ['Initial Access'], ['Privilege Escalation'], ['Credential Access']]\n",
      "[['Reconnaissance'], ['Persistence'], ['Defense Evasion'], ['Initial Access'], ['Privilege Escalation']]\n",
      "[['Reconnaissance'], ['Persistence'], ['Defense Evasion'], ['Initial Access'], ['Exfiltration'], ['Privilege Escalation']]\n",
      "[['Persistence'], ['Defense Evasion'], ['Initial Access'], ['Exfiltration'], ['Credential Access'], ['Privilege Escalation']]\n",
      "[['Initial Access'], ['Credential Access']]\n",
      "[['Reconnaissance']]\n",
      "[['Credential Access']]\n",
      "[['Persistence'], ['Defense Evasion'], ['Initial Access'], ['Privilege Escalation']]\n",
      "[['Persistence'], ['Defense Evasion'], ['Initial Access'], ['Exfiltration'], ['Privilege Escalation']]\n",
      "[['Initial Access']]\n",
      "Dataset 1 loaded successfully\n",
      "Dataset 2: All rows of 'label_tactic' before preprocessing:\n",
      "Privilege Escalation\n",
      "Reconnaissance\n",
      "Credential Access\n",
      "Persistence\n",
      "Initial Access\n",
      "Exfiltration\n",
      "Defense Evasion\n",
      "Dataset 2: Unique count for each 'label_tactic' value before conversion\n",
      "+--------------------+-----+\n",
      "|label_tactic        |count|\n",
      "+--------------------+-----+\n",
      "|Credential Access   |45491|\n",
      "|Reconnaissance      |3339 |\n",
      "|Initial Access      |576  |\n",
      "|Privilege Escalation|336  |\n",
      "|Persistence         |336  |\n",
      "|Defense Evasion     |336  |\n",
      "|Exfiltration        |30   |\n",
      "+--------------------+-----+\n",
      "\n",
      "First few rows after binary encoding:\n",
      "+--------------------+-------------------+\n",
      "|label_tactic        |label_tactic_binary|\n",
      "+--------------------+-------------------+\n",
      "|Defense Evasion     |1                  |\n",
      "|Initial Access      |1                  |\n",
      "|Persistence         |1                  |\n",
      "|Privilege Escalation|1                  |\n",
      "|Defense Evasion     |1                  |\n",
      "+--------------------+-------------------+\n",
      "only showing top 5 rows\n",
      "\n",
      "First few rows of 'label_tactic_binary_encoded' (encoded attack types):\n",
      "+--------------------+----------------------+---------------------------------------+\n",
      "|label_tactic        |label_tactic_split    |label_tactic_binary_encoded            |\n",
      "+--------------------+----------------------+---------------------------------------+\n",
      "|Defense Evasion     |[Defense Evasion]     |[0, 0, 0, 1, 0, 0, 0, 0, 0, 0, 0, 0, 0]|\n",
      "|Initial Access      |[Initial Access]      |[0, 0, 0, 0, 0, 0, 0, 0, 0, 0, 0, 0, 0]|\n",
      "|Persistence         |[Persistence]         |[0, 0, 1, 0, 0, 0, 0, 0, 0, 0, 0, 0, 0]|\n",
      "|Privilege Escalation|[Privilege Escalation]|[1, 0, 0, 0, 0, 0, 0, 0, 0, 0, 0, 0, 0]|\n",
      "|Defense Evasion     |[Defense Evasion]     |[0, 0, 0, 1, 0, 0, 0, 0, 0, 0, 0, 0, 0]|\n",
      "+--------------------+----------------------+---------------------------------------+\n",
      "only showing top 5 rows\n",
      "\n"
     ]
    },
    {
     "name": "stderr",
     "output_type": "stream",
     "text": [
      "                                                                                \r"
     ]
    },
    {
     "name": "stdout",
     "output_type": "stream",
     "text": [
      "DataFrame for: hdfs://192.168.1.2:9000/datasets-uwf-edu/UWF-TestZeekData24/parquet/2024-03-03 - 2024-03-10/part-00000-0955ed97-8460-41bd-872a-7375a7f0207e-c000.snappy.parquet has total rows: 3554\n",
      "Dataset 2: Unique 'label_tactic_split_agg' values\n"
     ]
    },
    {
     "name": "stderr",
     "output_type": "stream",
     "text": [
      "                                                                                \r"
     ]
    },
    {
     "name": "stdout",
     "output_type": "stream",
     "text": [
      "[['Persistence'], ['Defense Evasion'], ['Initial Access'], ['Credential Access'], ['Privilege Escalation']]\n",
      "[['Reconnaissance'], ['Credential Access']]\n",
      "[['Reconnaissance'], ['Persistence'], ['Defense Evasion'], ['Initial Access'], ['Privilege Escalation']]\n",
      "[['Reconnaissance'], ['Persistence'], ['Defense Evasion'], ['Initial Access'], ['Exfiltration'], ['Privilege Escalation']]\n",
      "[['Initial Access'], ['Credential Access']]\n",
      "[['Reconnaissance']]\n",
      "[['Credential Access']]\n",
      "[['Persistence'], ['Defense Evasion'], ['Initial Access'], ['Privilege Escalation']]\n",
      "[['Persistence'], ['Defense Evasion'], ['Initial Access'], ['Exfiltration'], ['Privilege Escalation']]\n",
      "[['Initial Access']]\n",
      "[['Reconnaissance'], ['Initial Access'], ['Credential Access']]\n",
      "Dataset 2 loaded successfully\n",
      "Dataset 3: All rows of 'label_tactic' before preprocessing:\n",
      "Privilege Escalation\n",
      "Reconnaissance\n",
      "Credential Access\n",
      "Persistence\n",
      "Initial Access\n",
      "Exfiltration\n",
      "Defense Evasion\n",
      "Dataset 3: Unique count for each 'label_tactic' value before conversion\n",
      "+--------------------+------+\n",
      "|label_tactic        |count |\n",
      "+--------------------+------+\n",
      "|Credential Access   |150887|\n",
      "|Reconnaissance      |10834 |\n",
      "|Initial Access      |2090  |\n",
      "|Privilege Escalation|1193  |\n",
      "|Persistence         |1193  |\n",
      "|Defense Evasion     |1193  |\n",
      "|Exfiltration        |188   |\n",
      "+--------------------+------+\n",
      "\n",
      "First few rows after binary encoding:\n",
      "+--------------------+-------------------+\n",
      "|label_tactic        |label_tactic_binary|\n",
      "+--------------------+-------------------+\n",
      "|Defense Evasion     |1                  |\n",
      "|Initial Access      |1                  |\n",
      "|Persistence         |1                  |\n",
      "|Privilege Escalation|1                  |\n",
      "|Defense Evasion     |1                  |\n",
      "+--------------------+-------------------+\n",
      "only showing top 5 rows\n",
      "\n",
      "First few rows of 'label_tactic_binary_encoded' (encoded attack types):\n",
      "+--------------------+----------------------+---------------------------------------+\n",
      "|label_tactic        |label_tactic_split    |label_tactic_binary_encoded            |\n",
      "+--------------------+----------------------+---------------------------------------+\n",
      "|Defense Evasion     |[Defense Evasion]     |[0, 0, 0, 1, 0, 0, 0, 0, 0, 0, 0, 0, 0]|\n",
      "|Initial Access      |[Initial Access]      |[0, 0, 0, 0, 0, 0, 0, 0, 0, 0, 0, 0, 0]|\n",
      "|Persistence         |[Persistence]         |[0, 0, 1, 0, 0, 0, 0, 0, 0, 0, 0, 0, 0]|\n",
      "|Privilege Escalation|[Privilege Escalation]|[1, 0, 0, 0, 0, 0, 0, 0, 0, 0, 0, 0, 0]|\n",
      "|Defense Evasion     |[Defense Evasion]     |[0, 0, 0, 1, 0, 0, 0, 0, 0, 0, 0, 0, 0]|\n",
      "+--------------------+----------------------+---------------------------------------+\n",
      "only showing top 5 rows\n",
      "\n"
     ]
    },
    {
     "name": "stderr",
     "output_type": "stream",
     "text": [
      "                                                                                \r"
     ]
    },
    {
     "name": "stdout",
     "output_type": "stream",
     "text": [
      "DataFrame for: hdfs://192.168.1.2:9000/datasets-uwf-edu/UWF-TestZeekData24/parquet/2024-03-10 - 2024-03-17/part-00000-071774ae-97f3-4f31-9700-8bfcdf41305a-c000.snappy.parquet has total rows: 12366\n",
      "Dataset 3: Unique 'label_tactic_split_agg' values\n"
     ]
    },
    {
     "name": "stderr",
     "output_type": "stream",
     "text": [
      "                                                                                \r"
     ]
    },
    {
     "name": "stdout",
     "output_type": "stream",
     "text": [
      "[['Persistence'], ['Defense Evasion'], ['Initial Access'], ['Credential Access'], ['Privilege Escalation']]\n",
      "[['Reconnaissance'], ['Persistence'], ['Defense Evasion'], ['Initial Access'], ['Exfiltration'], ['Credential Access'], ['Privilege Escalation']]\n",
      "[['Reconnaissance'], ['Credential Access']]\n",
      "[['Reconnaissance'], ['Persistence'], ['Defense Evasion'], ['Initial Access'], ['Exfiltration'], ['Privilege Escalation'], ['Credential Access']]\n",
      "[['Reconnaissance'], ['Initial Access']]\n",
      "[['Persistence'], ['Defense Evasion'], ['Initial Access'], ['Privilege Escalation'], ['Credential Access']]\n",
      "[['Reconnaissance'], ['Persistence'], ['Defense Evasion'], ['Initial Access'], ['Privilege Escalation']]\n",
      "[['Reconnaissance'], ['Persistence'], ['Defense Evasion'], ['Initial Access'], ['Exfiltration'], ['Privilege Escalation']]\n",
      "[['Persistence'], ['Defense Evasion'], ['Initial Access'], ['Exfiltration'], ['Credential Access'], ['Privilege Escalation']]\n",
      "[['Initial Access'], ['Credential Access']]\n",
      "[['Reconnaissance']]\n",
      "[['Credential Access']]\n",
      "[['Persistence'], ['Defense Evasion'], ['Initial Access'], ['Privilege Escalation']]\n",
      "[['Persistence'], ['Defense Evasion'], ['Initial Access'], ['Exfiltration'], ['Privilege Escalation']]\n",
      "[['Initial Access']]\n",
      "[['Reconnaissance'], ['Initial Access'], ['Credential Access']]\n",
      "Dataset 3 loaded successfully\n",
      "Dataset 4: All rows of 'label_tactic' before preprocessing:\n",
      "Privilege Escalation\n",
      "Reconnaissance\n",
      "Credential Access\n",
      "Persistence\n",
      "Initial Access\n",
      "Exfiltration\n",
      "Defense Evasion\n",
      "Dataset 4: Unique count for each 'label_tactic' value before conversion\n",
      "+--------------------+------+\n",
      "|label_tactic        |count |\n",
      "+--------------------+------+\n",
      "|Credential Access   |341945|\n",
      "|Reconnaissance      |24233 |\n",
      "|Initial Access      |4602  |\n",
      "|Privilege Escalation|2591  |\n",
      "|Persistence         |2591  |\n",
      "|Defense Evasion     |2591  |\n",
      "|Exfiltration        |268   |\n",
      "+--------------------+------+\n",
      "\n",
      "First few rows after binary encoding:\n",
      "+--------------------+-------------------+\n",
      "|label_tactic        |label_tactic_binary|\n",
      "+--------------------+-------------------+\n",
      "|Defense Evasion     |1                  |\n",
      "|Initial Access      |1                  |\n",
      "|Persistence         |1                  |\n",
      "|Privilege Escalation|1                  |\n",
      "|Defense Evasion     |1                  |\n",
      "+--------------------+-------------------+\n",
      "only showing top 5 rows\n",
      "\n",
      "First few rows of 'label_tactic_binary_encoded' (encoded attack types):\n",
      "+--------------------+----------------------+---------------------------------------+\n",
      "|label_tactic        |label_tactic_split    |label_tactic_binary_encoded            |\n",
      "+--------------------+----------------------+---------------------------------------+\n",
      "|Defense Evasion     |[Defense Evasion]     |[0, 0, 0, 1, 0, 0, 0, 0, 0, 0, 0, 0, 0]|\n",
      "|Initial Access      |[Initial Access]      |[0, 0, 0, 0, 0, 0, 0, 0, 0, 0, 0, 0, 0]|\n",
      "|Persistence         |[Persistence]         |[0, 0, 1, 0, 0, 0, 0, 0, 0, 0, 0, 0, 0]|\n",
      "|Privilege Escalation|[Privilege Escalation]|[1, 0, 0, 0, 0, 0, 0, 0, 0, 0, 0, 0, 0]|\n",
      "|Defense Evasion     |[Defense Evasion]     |[0, 0, 0, 1, 0, 0, 0, 0, 0, 0, 0, 0, 0]|\n",
      "+--------------------+----------------------+---------------------------------------+\n",
      "only showing top 5 rows\n",
      "\n"
     ]
    },
    {
     "name": "stderr",
     "output_type": "stream",
     "text": [
      "                                                                                \r"
     ]
    },
    {
     "name": "stdout",
     "output_type": "stream",
     "text": [
      "DataFrame for: hdfs://192.168.1.2:9000/datasets-uwf-edu/UWF-TestZeekData24/parquet/2024-03-17 - 2024-03-24/part-00000-5f556208-a1fc-40a1-9cc2-a4e24c76aeb3-c000.snappy.parquet has total rows: 27523\n",
      "Dataset 4: Unique 'label_tactic_split_agg' values\n"
     ]
    },
    {
     "name": "stderr",
     "output_type": "stream",
     "text": [
      "                                                                                \r"
     ]
    },
    {
     "name": "stdout",
     "output_type": "stream",
     "text": [
      "[['Persistence'], ['Defense Evasion'], ['Initial Access'], ['Credential Access'], ['Privilege Escalation']]\n",
      "[['Reconnaissance'], ['Persistence'], ['Defense Evasion'], ['Initial Access'], ['Exfiltration'], ['Credential Access'], ['Privilege Escalation']]\n",
      "[['Reconnaissance'], ['Persistence'], ['Defense Evasion'], ['Initial Access'], ['Credential Access'], ['Privilege Escalation']]\n",
      "[['Reconnaissance'], ['Credential Access']]\n",
      "[['Reconnaissance'], ['Initial Access']]\n",
      "[['Persistence'], ['Defense Evasion'], ['Initial Access'], ['Privilege Escalation'], ['Credential Access']]\n",
      "[['Reconnaissance'], ['Persistence'], ['Defense Evasion'], ['Initial Access'], ['Privilege Escalation']]\n",
      "[['Reconnaissance'], ['Persistence'], ['Defense Evasion'], ['Initial Access'], ['Exfiltration'], ['Privilege Escalation']]\n",
      "[['Persistence'], ['Defense Evasion'], ['Initial Access'], ['Exfiltration'], ['Credential Access'], ['Privilege Escalation']]\n",
      "[['Initial Access'], ['Credential Access']]\n",
      "[['Reconnaissance']]\n",
      "[['Credential Access']]\n",
      "[['Persistence'], ['Defense Evasion'], ['Initial Access'], ['Privilege Escalation']]\n",
      "[['Persistence'], ['Defense Evasion'], ['Initial Access'], ['Exfiltration'], ['Privilege Escalation']]\n",
      "[['Initial Access']]\n",
      "Dataset 4 loaded successfully\n",
      "Dataset 5: All rows of 'label_tactic' before preprocessing:\n",
      "Privilege Escalation\n",
      "Reconnaissance\n",
      "Credential Access\n",
      "Persistence\n",
      "Initial Access\n",
      "Exfiltration\n",
      "Defense Evasion\n",
      "Dataset 5: Unique count for each 'label_tactic' value before conversion\n",
      "+--------------------+-----+\n",
      "|label_tactic        |count|\n",
      "+--------------------+-----+\n",
      "|Credential Access   |96159|\n",
      "|Reconnaissance      |6927 |\n",
      "|Initial Access      |1222 |\n",
      "|Privilege Escalation|677  |\n",
      "|Persistence         |677  |\n",
      "|Defense Evasion     |677  |\n",
      "|Exfiltration        |23   |\n",
      "+--------------------+-----+\n",
      "\n",
      "First few rows after binary encoding:\n",
      "+--------------------+-------------------+\n",
      "|label_tactic        |label_tactic_binary|\n",
      "+--------------------+-------------------+\n",
      "|Defense Evasion     |1                  |\n",
      "|Initial Access      |1                  |\n",
      "|Persistence         |1                  |\n",
      "|Privilege Escalation|1                  |\n",
      "|Defense Evasion     |1                  |\n",
      "+--------------------+-------------------+\n",
      "only showing top 5 rows\n",
      "\n",
      "First few rows of 'label_tactic_binary_encoded' (encoded attack types):\n",
      "+--------------------+----------------------+---------------------------------------+\n",
      "|label_tactic        |label_tactic_split    |label_tactic_binary_encoded            |\n",
      "+--------------------+----------------------+---------------------------------------+\n",
      "|Defense Evasion     |[Defense Evasion]     |[0, 0, 0, 1, 0, 0, 0, 0, 0, 0, 0, 0, 0]|\n",
      "|Initial Access      |[Initial Access]      |[0, 0, 0, 0, 0, 0, 0, 0, 0, 0, 0, 0, 0]|\n",
      "|Persistence         |[Persistence]         |[0, 0, 1, 0, 0, 0, 0, 0, 0, 0, 0, 0, 0]|\n",
      "|Privilege Escalation|[Privilege Escalation]|[1, 0, 0, 0, 0, 0, 0, 0, 0, 0, 0, 0, 0]|\n",
      "|Defense Evasion     |[Defense Evasion]     |[0, 0, 0, 1, 0, 0, 0, 0, 0, 0, 0, 0, 0]|\n",
      "+--------------------+----------------------+---------------------------------------+\n",
      "only showing top 5 rows\n",
      "\n"
     ]
    },
    {
     "name": "stderr",
     "output_type": "stream",
     "text": [
      "                                                                                \r"
     ]
    },
    {
     "name": "stdout",
     "output_type": "stream",
     "text": [
      "DataFrame for: hdfs://192.168.1.2:9000/datasets-uwf-edu/UWF-TestZeekData24/parquet/2024-03-24 - 2024-03-31/part-00000-ea3a47a3-0973-4d6b-a3a2-8dd441ee7901-c000.snappy.parquet has total rows: 7474\n",
      "Dataset 5: Unique 'label_tactic_split_agg' values\n"
     ]
    },
    {
     "name": "stderr",
     "output_type": "stream",
     "text": [
      "                                                                                \r"
     ]
    },
    {
     "name": "stdout",
     "output_type": "stream",
     "text": [
      "[['Persistence'], ['Defense Evasion'], ['Initial Access'], ['Credential Access'], ['Privilege Escalation']]\n",
      "[['Reconnaissance'], ['Persistence'], ['Defense Evasion'], ['Initial Access'], ['Credential Access'], ['Privilege Escalation']]\n",
      "[['Reconnaissance'], ['Credential Access']]\n",
      "[['Reconnaissance'], ['Initial Access']]\n",
      "[['Persistence'], ['Defense Evasion'], ['Initial Access'], ['Privilege Escalation'], ['Credential Access']]\n",
      "[['Reconnaissance'], ['Persistence'], ['Defense Evasion'], ['Initial Access'], ['Privilege Escalation']]\n",
      "[['Reconnaissance'], ['Persistence'], ['Defense Evasion'], ['Initial Access'], ['Exfiltration'], ['Privilege Escalation']]\n",
      "[['Persistence'], ['Defense Evasion'], ['Initial Access'], ['Exfiltration'], ['Credential Access'], ['Privilege Escalation']]\n",
      "[['Initial Access'], ['Credential Access']]\n",
      "[['Reconnaissance']]\n",
      "[['Credential Access']]\n",
      "[['Persistence'], ['Defense Evasion'], ['Initial Access'], ['Exfiltration'], ['Privilege Escalation'], ['Credential Access']]\n",
      "[['Persistence'], ['Defense Evasion'], ['Initial Access'], ['Privilege Escalation']]\n",
      "[['Persistence'], ['Defense Evasion'], ['Initial Access'], ['Exfiltration'], ['Privilege Escalation']]\n",
      "[['Initial Access']]\n",
      "Dataset 5 loaded successfully\n",
      "Dataset 6: All rows of 'label_tactic' before preprocessing:\n",
      "none\n",
      "Dataset 6: Unique count for each 'label_tactic' value before conversion\n",
      "+------------+------+\n",
      "|label_tactic|count |\n",
      "+------------+------+\n",
      "|none        |454846|\n",
      "+------------+------+\n",
      "\n",
      "First few rows after binary encoding:\n",
      "+------------+-------------------+\n",
      "|label_tactic|label_tactic_binary|\n",
      "+------------+-------------------+\n",
      "|none        |0                  |\n",
      "|none        |0                  |\n",
      "|none        |0                  |\n",
      "|none        |0                  |\n",
      "|none        |0                  |\n",
      "+------------+-------------------+\n",
      "only showing top 5 rows\n",
      "\n",
      "First few rows of 'label_tactic_binary_encoded' (encoded attack types):\n",
      "+------------+------------------+---------------------------------------+\n",
      "|label_tactic|label_tactic_split|label_tactic_binary_encoded            |\n",
      "+------------+------------------+---------------------------------------+\n",
      "|none        |[none]            |[0, 0, 0, 0, 0, 0, 0, 0, 0, 0, 0, 0, 0]|\n",
      "|none        |[none]            |[0, 0, 0, 0, 0, 0, 0, 0, 0, 0, 0, 0, 0]|\n",
      "|none        |[none]            |[0, 0, 0, 0, 0, 0, 0, 0, 0, 0, 0, 0, 0]|\n",
      "|none        |[none]            |[0, 0, 0, 0, 0, 0, 0, 0, 0, 0, 0, 0, 0]|\n",
      "|none        |[none]            |[0, 0, 0, 0, 0, 0, 0, 0, 0, 0, 0, 0, 0]|\n",
      "+------------+------------------+---------------------------------------+\n",
      "only showing top 5 rows\n",
      "\n"
     ]
    },
    {
     "name": "stderr",
     "output_type": "stream",
     "text": [
      "                                                                                \r"
     ]
    },
    {
     "name": "stdout",
     "output_type": "stream",
     "text": [
      "DataFrame for: hdfs://192.168.1.2:9000/datasets-uwf-edu/UWF-TestZeekData24/parquet/2024-10-27 - 2024-11-03/part-00000-69700ccb-c1c1-4763-beb7-cd0f1a61c268-c000.snappy.parquet has total rows: 98456\n",
      "Dataset 6: Unique 'label_tactic_split_agg' values\n"
     ]
    },
    {
     "name": "stderr",
     "output_type": "stream",
     "text": [
      "                                                                                \r"
     ]
    },
    {
     "name": "stdout",
     "output_type": "stream",
     "text": [
      "[['none']]\n",
      "Dataset 6 loaded successfully\n",
      "Dataset 7: All rows of 'label_tactic' before preprocessing:\n",
      "none\n",
      "Dataset 7: Unique count for each 'label_tactic' value before conversion\n",
      "+------------+------+\n",
      "|label_tactic|count |\n",
      "+------------+------+\n",
      "|none        |503263|\n",
      "+------------+------+\n",
      "\n",
      "First few rows after binary encoding:\n",
      "+------------+-------------------+\n",
      "|label_tactic|label_tactic_binary|\n",
      "+------------+-------------------+\n",
      "|none        |0                  |\n",
      "|none        |0                  |\n",
      "|none        |0                  |\n",
      "|none        |0                  |\n",
      "|none        |0                  |\n",
      "+------------+-------------------+\n",
      "only showing top 5 rows\n",
      "\n",
      "First few rows of 'label_tactic_binary_encoded' (encoded attack types):\n",
      "+------------+------------------+---------------------------------------+\n",
      "|label_tactic|label_tactic_split|label_tactic_binary_encoded            |\n",
      "+------------+------------------+---------------------------------------+\n",
      "|none        |[none]            |[0, 0, 0, 0, 0, 0, 0, 0, 0, 0, 0, 0, 0]|\n",
      "|none        |[none]            |[0, 0, 0, 0, 0, 0, 0, 0, 0, 0, 0, 0, 0]|\n",
      "|none        |[none]            |[0, 0, 0, 0, 0, 0, 0, 0, 0, 0, 0, 0, 0]|\n",
      "|none        |[none]            |[0, 0, 0, 0, 0, 0, 0, 0, 0, 0, 0, 0, 0]|\n",
      "|none        |[none]            |[0, 0, 0, 0, 0, 0, 0, 0, 0, 0, 0, 0, 0]|\n",
      "+------------+------------------+---------------------------------------+\n",
      "only showing top 5 rows\n",
      "\n"
     ]
    },
    {
     "name": "stderr",
     "output_type": "stream",
     "text": [
      "                                                                                \r"
     ]
    },
    {
     "name": "stdout",
     "output_type": "stream",
     "text": [
      "DataFrame for: hdfs://192.168.1.2:9000/datasets-uwf-edu/UWF-TestZeekData24/parquet/2024-11-03 - 2024-11-10/part-00000-f078acc1-ab56-40a6-a6e1-99d780645c57-c000.snappy.parquet has total rows: 107369\n",
      "Dataset 7: Unique 'label_tactic_split_agg' values\n"
     ]
    },
    {
     "name": "stderr",
     "output_type": "stream",
     "text": [
      "[Stage 165:==================================================>      (8 + 1) / 9]\r"
     ]
    },
    {
     "name": "stdout",
     "output_type": "stream",
     "text": [
      "[['none']]\n",
      "Dataset 7 loaded successfully\n"
     ]
    },
    {
     "name": "stderr",
     "output_type": "stream",
     "text": [
      "                                                                                \r"
     ]
    }
   ],
   "source": [
    "# Spark imports\n",
    "import pyspark\n",
    "import numpy as np\n",
    "from pyspark.sql import SparkSession\n",
    "from pyspark.sql import functions as F\n",
    "from pyspark.sql.window import Window\n",
    "\n",
    "# Python imports\n",
    "import pandas as pd\n",
    "import matplotlib.pyplot as plt\n",
    "from sklearn.preprocessing import MultiLabelBinarizer\n",
    "\n",
    "# Initialize Spark session\n",
    "spark = SparkSession.builder.config(\"SPARK_LOCAL_IP\", \"192.168.1.2\") \\\n",
    "                            .appName(\"Pre-Preprocess Mission Log\") \\\n",
    "                            .master(\"spark://192.168.1.2:7077\") \\\n",
    "                            .config(\"spark.driver.cores\", \"2\") \\\n",
    "                            .config(\"spark.driver.memory\", \"10g\") \\\n",
    "                            .config(\"spark.executor.memory\", \"12g\") \\\n",
    "                            .config(\"spark.executor.cores\", \"3\") \\\n",
    "                            .config(\"spark.dynamicAllocation.shuffleTracking.enabled\", \"true\") \\\n",
    "                            .config(\"spark.dynamicAllocation.enabled\", \"true\") \\\n",
    "                            .config(\"spark.dynamicAllocation.minExecutors\", \"5\") \\\n",
    "                            .config(\"spark.dynamicAllocation.maxExecutors\", \"8\") \\\n",
    "                            .config(\"spark.executor.instances\", \"5\") \\\n",
    "                            .getOrCreate()\n",
    "\n",
    "#Paths containing network data\n",
    "data_paths = [\n",
    "    \"hdfs://192.168.1.2:9000/datasets-uwf-edu/UWF-TestZeekData24/parquet/2024-02-25 - 2024-03-03/part-00000-8b838a85-76eb-4896-a0b6-2fc425e828c2-c000.snappy.parquet\",\n",
    "    \"hdfs://192.168.1.2:9000/datasets-uwf-edu/UWF-TestZeekData24/parquet/2024-03-03 - 2024-03-10/part-00000-0955ed97-8460-41bd-872a-7375a7f0207e-c000.snappy.parquet\",\n",
    "    \"hdfs://192.168.1.2:9000/datasets-uwf-edu/UWF-TestZeekData24/parquet/2024-03-10 - 2024-03-17/part-00000-071774ae-97f3-4f31-9700-8bfcdf41305a-c000.snappy.parquet\",\n",
    "    \"hdfs://192.168.1.2:9000/datasets-uwf-edu/UWF-TestZeekData24/parquet/2024-03-17 - 2024-03-24/part-00000-5f556208-a1fc-40a1-9cc2-a4e24c76aeb3-c000.snappy.parquet\",\n",
    "    \"hdfs://192.168.1.2:9000/datasets-uwf-edu/UWF-TestZeekData24/parquet/2024-03-24 - 2024-03-31/part-00000-ea3a47a3-0973-4d6b-a3a2-8dd441ee7901-c000.snappy.parquet\",\n",
    "    \"hdfs://192.168.1.2:9000/datasets-uwf-edu/UWF-TestZeekData24/parquet/2024-10-27 - 2024-11-03/part-00000-69700ccb-c1c1-4763-beb7-cd0f1a61c268-c000.snappy.parquet\",\n",
    "    \"hdfs://192.168.1.2:9000/datasets-uwf-edu/UWF-TestZeekData24/parquet/2024-11-03 - 2024-11-10/part-00000-f078acc1-ab56-40a6-a6e1-99d780645c57-c000.snappy.parquet\"\n",
    "            ]\n",
    "# Predefined list of MITRE ATT&CK labels\n",
    "mitre_labels = [\n",
    "    \"Privilege Escalation\", \"Execution\", \"Persistence\", \"Defense Evasion\",\n",
    "    \"Credential Access\", \"Discovery\", \"Lateral Movement\", \"Collection\",\n",
    "    \"Exfiltration\", \"Command and Control\", \"Impact\", \"Reconnaissance\", \"Resource Development\"\n",
    "]\n",
    "\n",
    "# Container to hold the processed DataFrames\n",
    "df_list = []\n",
    "\n",
    "# Counter variable\n",
    "j = 0\n",
    "\n",
    "# Loop through each path, load and process the data\n",
    "for path in data_paths:\n",
    "    # Load each dataset\n",
    "    df = spark.read.parquet(path)\n",
    "   \n",
    "    # Select relevant columns\n",
    "    df = df.select(\"ts\", \"duration\", \"orig_bytes\", \"resp_bytes\", \"orig_ip_bytes\", \"resp_ip_bytes\", \"label_tactic\")\n",
    "   \n",
    "    #Show all rows of attack labels before any preprocessing\n",
    "    print(f\"Dataset {j+1}: All rows of 'label_tactic' before preprocessing:\")\n",
    "    all_label_tactics = df.select(\"label_tactic\").distinct().collect()\n",
    "    for row in all_label_tactics:\n",
    "        print(row['label_tactic'])\n",
    "              \n",
    "    # Handle missing values\n",
    "    df = df.fillna({\n",
    "        \"duration\": 0,\n",
    "        \"orig_bytes\": 0,\n",
    "        \"resp_bytes\": 0,\n",
    "        \"orig_ip_bytes\": 0,\n",
    "        \"resp_ip_bytes\": 0,\n",
    "        \"label_tactic\": \"none\"  # Default to 'none'\n",
    "    })\n",
    "\n",
    "    # Print unique count for each tactic type\n",
    "    print(f\"Dataset {j+1}: Unique count for each 'label_tactic' value before conversion\")\n",
    "    unique_tactic_counts = df.groupBy(\"label_tactic\").count().orderBy(F.desc(\"count\"))\n",
    "    unique_tactic_counts.show(truncate=False)\n",
    "   \n",
    "    # Convert 'label_tactic' to binary: 'none' -> 0, anything else -> 1\n",
    "    df = df.withColumn(\"label_tactic_binary\", F.when(F.col(\"label_tactic\") == \"none\", 0).otherwise(1))\n",
    "\n",
    "    # Show the first few rows after binary conversion to verify\n",
    "    print(f\"First few rows after binary encoding:\")\n",
    "    df.select(\"label_tactic\", \"label_tactic_binary\").show(5, truncate=False)\n",
    "\n",
    "    # Convert 'label_tactic' to list of attack types for encoding\n",
    "    df = df.withColumn(\"label_tactic_split\", F.split(\"label_tactic\", \",\"))\n",
    "   \n",
    "    # Perform MultiLabel encoding (before aggregation)\n",
    "    df = df.withColumn(\"label_tactic_binary_encoded\", F.expr(\n",
    "        \"array(\" + \",\".join([f\"IF(array_contains(label_tactic_split, '{label}'), 1, 0)\" for label in mitre_labels]) + \")\"\n",
    "    ))\n",
    "\n",
    "    # Show the first few rows of 'label_tactic_binary_encoded' to check encoding\n",
    "    print(f\"First few rows of 'label_tactic_binary_encoded' (encoded attack types):\")\n",
    "    df.select(\"label_tactic\", \"label_tactic_split\", \"label_tactic_binary_encoded\").show(5, truncate=False)\n",
    "\n",
    "    #Time window \n",
    "    # Convert 'ts' to a timestamp\n",
    "    df = df.withColumn(\"ts\", F.from_unixtime(\"ts\").cast(\"timestamp\"))\n",
    "   \n",
    "    # Aggregate data within time windows\n",
    "    window_size = \"1 seconds\"\n",
    "    stride = \"0 minutes\"  # Remove overlap\n",
    "    \n",
    "    df_agg = df.groupBy(F.window(\"ts\", window_size)) \\\n",
    "        .agg(\n",
    "            F.sum(\"orig_bytes\").alias(\"sum_orig_bytes\"),\n",
    "            F.sum(\"resp_bytes\").alias(\"sum_resp_bytes\"),\n",
    "            F.sum(\"orig_ip_bytes\").alias(\"sum_orig_ip_bytes\"),\n",
    "            F.sum(\"resp_ip_bytes\").alias(\"sum_resp_ip_bytes\"),\n",
    "            F.count(\"*\").alias(\"connection_count\"),\n",
    "            F.max(\"label_tactic_binary\").alias(\"label_tactic_binary_agg\"),\n",
    "            F.collect_set(\"label_tactic_split\").alias(\"label_tactic_split_agg\"),\n",
    "            F.max(\"label_tactic_binary_encoded\").alias(\"label_tactic_binary_encoded_agg\")\n",
    "        )\n",
    "\n",
    "    # Flatten the window structure\n",
    "    df_agg_flat = df_agg.select(\n",
    "        F.col(\"window.start\").alias(\"window_start\"),\n",
    "        F.col(\"window.end\").alias(\"window_end\"),\n",
    "        \"sum_orig_bytes\",\n",
    "        \"sum_resp_bytes\",\n",
    "        \"sum_orig_ip_bytes\",\n",
    "        \"sum_resp_ip_bytes\",\n",
    "        \"connection_count\",\n",
    "        \"label_tactic_binary_agg\",\n",
    "        \"label_tactic_split_agg\",\n",
    "        \"label_tactic_binary_encoded_agg\"\n",
    "    )\n",
    "\n",
    "    # Sort by window start time\n",
    "    df_agg_sorted = df_agg_flat.orderBy(\"window_start\")\n",
    "   \n",
    "    # Convert Spark DataFrame to Pandas for further analysis\n",
    "    df_pandas_sorted = df_agg_sorted.toPandas()\n",
    "\n",
    "    # Log-transform only (no normalization)\n",
    "    df_pandas_sorted[\"sum_orig_bytes_log\"] = np.log1p(df_pandas_sorted[\"sum_orig_bytes\"])\n",
    "\n",
    "    # Print the number of rows\n",
    "    print(f\"DataFrame for: {path} has total rows: {len(df_pandas_sorted)}\")\n",
    "\n",
    "    # Print unique 'label_tactic_split_agg' values\n",
    "    print(f\"Dataset {j+1}: Unique 'label_tactic_split_agg' values\")\n",
    "    unique_label_tactic_agg = df_agg_sorted.select(\"label_tactic_split_agg\").distinct().collect()\n",
    "    for row in unique_label_tactic_agg:\n",
    "        print(row['label_tactic_split_agg'])\n",
    "\n",
    "    # Add to DataFrame List\n",
    "    df_list.append(df_pandas_sorted)\n",
    "\n",
    "    #Indicate data finished loading\n",
    "    print(f\"Dataset {j+1} loaded successfully\")\n",
    "\n",
    "    j += 1"
   ]
  },
  {
   "cell_type": "code",
   "execution_count": 2,
   "metadata": {},
   "outputs": [
    {
     "name": "stdout",
     "output_type": "stream",
     "text": [
      "Classification Report:\n",
      "              precision    recall  f1-score   support\n",
      "\n",
      "   No Attack       0.99      1.00      1.00     98456\n",
      "      Attack       1.00      0.98      0.99     27523\n",
      "\n",
      "    accuracy                           1.00    125979\n",
      "   macro avg       1.00      0.99      0.99    125979\n",
      "weighted avg       1.00      1.00      1.00    125979\n",
      "\n",
      "Accuracy Score: 0.9950388556822962\n",
      "Confusion Matrix:\n",
      "[[98447     9]\n",
      " [  616 26907]]\n"
     ]
    }
   ],
   "source": [
    "# Import necessary libraries\n",
    "from sklearn.tree import DecisionTreeClassifier\n",
    "from sklearn.metrics import classification_report, accuracy_score, confusion_matrix\n",
    "import pandas as pd\n",
    "\n",
    "# Combine the selected datasets for training and testing\n",
    "df_train = pd.concat([df_list[4], df_list[6]], ignore_index=True)\n",
    "df_test = pd.concat([df_list[3], df_list[5]], ignore_index=True)\n",
    "\n",
    "# Define the features (X) and the target (y)\n",
    "feature_columns = [\n",
    "    \"sum_orig_bytes_log\", \"sum_resp_bytes\", \"sum_orig_ip_bytes\", \n",
    "    \"sum_resp_ip_bytes\", \"connection_count\"\n",
    "]\n",
    "target_column = \"label_tactic_binary_agg\"\n",
    "\n",
    "# Prepare the training data\n",
    "X_train = df_train[feature_columns]\n",
    "y_train = df_train[target_column]\n",
    "\n",
    "# Prepare the test data\n",
    "X_test = df_test[feature_columns]\n",
    "y_test = df_test[target_column]\n",
    "\n",
    "# Initialize the Decision Tree model\n",
    "dt_model = DecisionTreeClassifier(random_state=42, max_depth=5)  # You can adjust max_depth\n",
    "\n",
    "# Train the model\n",
    "dt_model.fit(X_train, y_train)\n",
    "\n",
    "# Make predictions on the test data\n",
    "y_pred = dt_model.predict(X_test)\n",
    "\n",
    "# Evaluate the model\n",
    "print(\"Classification Report:\")\n",
    "print(classification_report(y_test, y_pred, target_names=[\"No Attack\", \"Attack\"]))\n",
    "\n",
    "print(\"Accuracy Score:\", accuracy_score(y_test, y_pred))\n",
    "\n",
    "print(\"Confusion Matrix:\")\n",
    "print(confusion_matrix(y_test, y_pred))\n"
   ]
  },
  {
   "cell_type": "code",
   "execution_count": 3,
   "metadata": {},
   "outputs": [
    {
     "data": {
      "image/png": "[encoded data removed]",
      "text/plain": [
       "<Figure size 1500x1000 with 1 Axes>"
      ]
     },
     "metadata": {},
     "output_type": "display_data"
    }
   ],
   "source": [
    "from sklearn.tree import plot_tree\n",
    "import matplotlib.pyplot as plt\n",
    "\n",
    "# Plot the decision tree\n",
    "plt.figure(figsize=(15, 10))\n",
    "plot_tree(dt_model, feature_names=feature_columns, class_names=[\"No Attack\", \"Attack\"], filled=True)\n",
    "plt.show()\n"
   ]
  },
  {
   "cell_type": "markdown",
   "metadata": {},
   "source": [
    "In testing, Gini of 0.0 indicates there are no node impurities. Samples count of 40 with value of 1.0 shows all 40 samples in this leaf node belong to the attack class based on the binary attack classifiction of 1 being attack and 0 being no attack."
   ]
  },
  {
   "cell_type": "code",
   "execution_count": null,
   "metadata": {},
   "outputs": [],
   "source": []
  }
 ],
 "metadata": {
  "kernelspec": {
   "display_name": "Python 3 (ipykernel)",
   "language": "python",
   "name": "python3"
  },
  "language_info": {
   "codemirror_mode": {
    "name": "ipython",
    "version": 3
   },
   "file_extension": ".py",
   "mimetype": "text/x-python",
   "name": "python",
   "nbconvert_exporter": "python",
   "pygments_lexer": "ipython3",
   "version": "3.10.12"
  }
 },
 "nbformat": 4,
 "nbformat_minor": 4
}
