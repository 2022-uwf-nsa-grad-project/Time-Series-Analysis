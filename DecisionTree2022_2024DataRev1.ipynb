{
 "cells": [
  {
   "cell_type": "raw",
   "metadata": {
    "vscode": {
     "languageId": "raw"
    }
   },
   "source": [
    "<span style = \"color:blue; font-size:24px\">DecisionTree</span>\n",
    "\n",
    "This notebook only focuses on Decision Tree model training.\n",
    "\n",
    "ZeekData24 Attack Profiles \n",
    "\n",
    "Dataset 1: Multiple Attack Types (Credential Access|236706|, Reconnaissance|12762|, Initial Access|2172|, Privilege Escalation|1251|, Persistence|1251|, Defense Evasion|1251|, Exfiltration|50|)\n",
    "\n",
    "Dataset 2: Multiple Attack Types (Credential Access|45491|, Reconnaissance|3339|, Initial Access|576|, Privilege Escalation|336|, Persistence|336|, Defense Evasion|336|, Exfiltration|30|)\n",
    "\n",
    "Dataset 3: Multiple Attack Types (Credential Access|150887|, Reconnaissance|10834|, Initial Access|2090|, Privilege Escalation|1193|, Persistence|1193|, Defense Evasion|1193|, Exfiltration|188|)\n",
    "\n",
    "Dataset 4: Multiple Attack Types (Credential Access|341945|, Reconnaissance|24233|, Initial Access|4602|, Privilege Escalation|2591|, Persistence|2591|, Defense Evasion|2591|, Exfiltration|268|)\n",
    "\n",
    "Dataset 5: Multiple Attack Types (Credential Access|96159|, Reconnaissance|6927|, Initial Access|1222|, Privilege Escalation|677|, Persistence|677|, Defense Evasion|677|, Exfiltration|23|)\n",
    "\n",
    "Datest 6: Benign Data\n",
    "\n",
    "Dataset 7: Benign Data\n",
    "\n",
    "\n",
    "Zeekdata22 Attack Profiles\n",
    "\n",
    "Dataset 1: Benign\n",
    "\n",
    "Dataset 2: Attacks (Reconnaissance|9278720|, Discovery|2086|)\n",
    "\n",
    "Dataset 3: Attacks (Credential Access|31|, Privilege Escalation|13|, Exfiltration|7|, Lateral Movement|4|, Resource Development|3|, Reconnaissance|2|, Persistence|1|, Initial Access|1|, Defense Evasion|1|)\n",
    "\n",
    "\n",
    "Script combines all datasets and checks to see what unique attacks are contained in the dataframe and splits the data into attack specific dataframes. Each dataframe contains one attack type and all benign data from the original merged dataframe. Decision tree models are then trained for each attack type using both attack and benign data.\n",
    "\n",
    "Training and testing combinations are performed for both 2022 and 2024 combined datasets. Note that each decision tree model is trained using only one attack type and benign data, and the same can be said\n",
    "for testing. Therefore, this revision does not currently support testing any of the decision tree models on data that contains multiple attack types."
   ]
  },
  {
   "cell_type": "code",
   "execution_count": 1,
   "metadata": {},
   "outputs": [
    {
     "name": "stderr",
     "output_type": "stream",
     "text": [
      "25/02/04 19:40:46 WARN Utils: Your hostname, ubuntu-virtual-machine resolves to a loopback address: 127.0.1.1; using 192.168.1.112 instead (on interface ens33)\n",
      "25/02/04 19:40:46 WARN Utils: Set SPARK_LOCAL_IP if you need to bind to another address\n",
      "Setting default log level to \"WARN\".\n",
      "To adjust logging level use sc.setLogLevel(newLevel). For SparkR, use setLogLevel(newLevel).\n",
      "25/02/04 19:40:47 WARN NativeCodeLoader: Unable to load native-hadoop library for your platform... using builtin-java classes where applicable\n",
      "                                                                                \r"
     ]
    },
    {
     "name": "stdout",
     "output_type": "stream",
     "text": [
      "\n",
      "Training and testing for tactic: Privilege Escalation\n",
      "\n",
      "Train 2022 data, Test 2022 data\n"
     ]
    },
    {
     "name": "stderr",
     "output_type": "stream",
     "text": [
      "                                                                                \r"
     ]
    },
    {
     "name": "stdout",
     "output_type": "stream",
     "text": [
      "\n",
      "Model for label_tactic: Privilege Escalation\n",
      "Accuracy: 0.9999987545367297\n",
      "Precision: 0.9999987545382809\n",
      "Recall: 0.9999987545367297\n",
      "F1 Score: 0.9999982207671445\n",
      "\n",
      "Train 2024 data, Test 2024 data\n"
     ]
    },
    {
     "name": "stderr",
     "output_type": "stream",
     "text": [
      "[Stage 66:====================================================>   (33 + 2) / 35]\r"
     ]
    },
    {
     "name": "stdout",
     "output_type": "stream",
     "text": [
      "\n",
      "Model for label_tactic: Privilege Escalation\n",
      "Accuracy: 0.996844670451184\n",
      "Precision: 0.9936992970069295\n",
      "Recall: 0.996844670451184\n",
      "F1 Score: 0.9952694986359703\n",
      "\n",
      "Train 2022 data, Test 2024 data\n"
     ]
    },
    {
     "name": "stderr",
     "output_type": "stream",
     "text": [
      "                                                                                \r"
     ]
    },
    {
     "name": "stdout",
     "output_type": "stream",
     "text": [
      "\n",
      "Model for label_tactic: Privilege Escalation\n",
      "Accuracy: 0.996844670451184\n",
      "Precision: 0.9936992970069295\n",
      "Recall: 0.996844670451184\n",
      "F1 Score: 0.9952694986359703\n",
      "\n",
      "Train 2024 data, Test 2022 data\n"
     ]
    },
    {
     "name": "stderr",
     "output_type": "stream",
     "text": [
      "                                                                                \r"
     ]
    },
    {
     "name": "stdout",
     "output_type": "stream",
     "text": [
      "\n",
      "Model for label_tactic: Privilege Escalation\n",
      "Accuracy: 0.9999986507481239\n",
      "Precision: 0.9999973014980682\n",
      "Recall: 0.9999986507481239\n",
      "F1 Score: 0.9999979761226409\n",
      "\n",
      "Training and testing for tactic: Reconnaissance\n",
      "\n",
      "Train 2022 data, Test 2022 data\n"
     ]
    },
    {
     "name": "stderr",
     "output_type": "stream",
     "text": [
      "                                                                                \r"
     ]
    },
    {
     "name": "stdout",
     "output_type": "stream",
     "text": [
      "\n",
      "Model for label_tactic: Reconnaissance\n",
      "Accuracy: 0.996806839752157\n",
      "Precision: 0.9967981817089702\n",
      "Recall: 0.996806839752157\n",
      "F1 Score: 0.9967470439447002\n",
      "\n",
      "Train 2024 data, Test 2024 data\n"
     ]
    },
    {
     "name": "stderr",
     "output_type": "stream",
     "text": [
      "                                                                                \r"
     ]
    },
    {
     "name": "stdout",
     "output_type": "stream",
     "text": [
      "\n",
      "Model for label_tactic: Reconnaissance\n",
      "Accuracy: 0.9960631420675652\n",
      "Precision: 0.9960082103880623\n",
      "Recall: 0.9960631420675652\n",
      "F1 Score: 0.9960222779731265\n",
      "\n",
      "Train 2022 data, Test 2024 data\n"
     ]
    },
    {
     "name": "stderr",
     "output_type": "stream",
     "text": [
      "                                                                                \r"
     ]
    },
    {
     "name": "stdout",
     "output_type": "stream",
     "text": [
      "\n",
      "Model for label_tactic: Reconnaissance\n",
      "Accuracy: 0.35073929559145994\n",
      "Precision: 0.9710427841708207\n",
      "Recall: 0.35073929559145994\n",
      "F1 Score: 0.48427676165403083\n",
      "\n",
      "Train 2024 data, Test 2022 data\n"
     ]
    },
    {
     "name": "stderr",
     "output_type": "stream",
     "text": [
      "                                                                                \r"
     ]
    },
    {
     "name": "stdout",
     "output_type": "stream",
     "text": [
      "\n",
      "Model for label_tactic: Reconnaissance\n",
      "Accuracy: 0.634604636506874\n",
      "Precision: 0.960208512424857\n",
      "Recall: 0.6346046365068742\n",
      "F1 Score: 0.7443173324894445\n",
      "\n",
      "Training and testing for tactic: Credential Access\n",
      "\n",
      "Train 2022 data, Test 2022 data\n"
     ]
    },
    {
     "name": "stderr",
     "output_type": "stream",
     "text": [
      "                                                                                \r"
     ]
    },
    {
     "name": "stdout",
     "output_type": "stream",
     "text": [
      "\n",
      "Model for label_tactic: Credential Access\n",
      "Accuracy: 0.9999976128620652\n",
      "Precision: 0.9999972842024448\n",
      "Recall: 0.9999976128620652\n",
      "F1 Score: 0.9999970854723029\n",
      "\n",
      "Train 2024 data, Test 2024 data\n"
     ]
    },
    {
     "name": "stderr",
     "output_type": "stream",
     "text": [
      "                                                                                \r"
     ]
    },
    {
     "name": "stdout",
     "output_type": "stream",
     "text": [
      "\n",
      "Model for label_tactic: Credential Access\n",
      "Accuracy: 0.9999979131418328\n",
      "Precision: 0.9999979131418328\n",
      "Recall: 0.9999979131418328\n",
      "F1 Score: 0.9999979131418328\n",
      "\n",
      "Train 2022 data, Test 2024 data\n"
     ]
    },
    {
     "name": "stderr",
     "output_type": "stream",
     "text": [
      "                                                                                \r"
     ]
    },
    {
     "name": "stdout",
     "output_type": "stream",
     "text": [
      "\n",
      "Model for label_tactic: Credential Access\n",
      "Accuracy: 0.545488551756952\n",
      "Precision: 0.29755776009789686\n",
      "Recall: 0.545488551756952\n",
      "F1 Score: 0.3850662753336159\n",
      "\n",
      "Train 2024 data, Test 2022 data\n"
     ]
    },
    {
     "name": "stderr",
     "output_type": "stream",
     "text": [
      "                                                                                \r"
     ]
    },
    {
     "name": "stdout",
     "output_type": "stream",
     "text": [
      "\n",
      "Model for label_tactic: Credential Access\n",
      "Accuracy: 0.9942037177286196\n",
      "Precision: 0.99999417307005\n",
      "Recall: 0.9942037177286196\n",
      "F1 Score: 0.9970902260102475\n",
      "\n",
      "Training and testing for tactic: Persistence\n",
      "\n",
      "Train 2022 data, Test 2022 data\n"
     ]
    },
    {
     "name": "stderr",
     "output_type": "stream",
     "text": [
      "                                                                                \r"
     ]
    },
    {
     "name": "stdout",
     "output_type": "stream",
     "text": [
      "\n",
      "Model for label_tactic: Persistence\n",
      "Accuracy: 0.9999998962113942\n",
      "Precision: 0.9999997924227991\n",
      "Recall: 0.9999998962113942\n",
      "F1 Score: 0.9999998443170939\n",
      "\n",
      "Train 2024 data, Test 2024 data\n"
     ]
    },
    {
     "name": "stderr",
     "output_type": "stream",
     "text": [
      "                                                                                \r"
     ]
    },
    {
     "name": "stdout",
     "output_type": "stream",
     "text": [
      "\n",
      "Model for label_tactic: Persistence\n",
      "Accuracy: 0.996844670451184\n",
      "Precision: 0.9936992970069295\n",
      "Recall: 0.996844670451184\n",
      "F1 Score: 0.9952694986359703\n",
      "\n",
      "Train 2022 data, Test 2024 data\n"
     ]
    },
    {
     "name": "stderr",
     "output_type": "stream",
     "text": [
      "                                                                                \r"
     ]
    },
    {
     "name": "stdout",
     "output_type": "stream",
     "text": [
      "\n",
      "Model for label_tactic: Persistence\n",
      "Accuracy: 0.996844670451184\n",
      "Precision: 0.9936992970069295\n",
      "Recall: 0.996844670451184\n",
      "F1 Score: 0.9952694986359703\n",
      "\n",
      "Train 2024 data, Test 2022 data\n"
     ]
    },
    {
     "name": "stderr",
     "output_type": "stream",
     "text": [
      "                                                                                \r"
     ]
    },
    {
     "name": "stdout",
     "output_type": "stream",
     "text": [
      "\n",
      "Model for label_tactic: Persistence\n",
      "Accuracy: 0.9999998962113942\n",
      "Precision: 0.9999997924227991\n",
      "Recall: 0.9999998962113942\n",
      "F1 Score: 0.9999998443170939\n",
      "\n",
      "Training and testing for tactic: Initial Access\n",
      "\n",
      "Train 2022 data, Test 2022 data\n"
     ]
    },
    {
     "name": "stderr",
     "output_type": "stream",
     "text": [
      "                                                                                \r"
     ]
    },
    {
     "name": "stdout",
     "output_type": "stream",
     "text": [
      "\n",
      "Model for label_tactic: Initial Access\n",
      "Accuracy: 0.9999998962113942\n",
      "Precision: 0.9999997924227991\n",
      "Recall: 0.9999998962113942\n",
      "F1 Score: 0.9999998443170939\n",
      "\n",
      "Train 2024 data, Test 2024 data\n"
     ]
    },
    {
     "name": "stderr",
     "output_type": "stream",
     "text": [
      "                                                                                \r"
     ]
    },
    {
     "name": "stdout",
     "output_type": "stream",
     "text": [
      "\n",
      "Model for label_tactic: Initial Access\n",
      "Accuracy: 0.9966276372017945\n",
      "Precision: 0.9963959642100139\n",
      "Recall: 0.9966276372017945\n",
      "F1 Score: 0.9960234822227075\n",
      "\n",
      "Train 2022 data, Test 2024 data\n"
     ]
    },
    {
     "name": "stderr",
     "output_type": "stream",
     "text": [
      "                                                                                \r"
     ]
    },
    {
     "name": "stdout",
     "output_type": "stream",
     "text": [
      "\n",
      "Model for label_tactic: Initial Access\n",
      "Accuracy: 0.9944374795553114\n",
      "Precision: 0.9889059007443204\n",
      "Recall: 0.9944374795553114\n",
      "F1 Score: 0.9916639763155786\n",
      "\n",
      "Train 2024 data, Test 2022 data\n"
     ]
    },
    {
     "name": "stderr",
     "output_type": "stream",
     "text": [
      "                                                                                \r"
     ]
    },
    {
     "name": "stdout",
     "output_type": "stream",
     "text": [
      "\n",
      "Model for label_tactic: Initial Access\n",
      "Accuracy: 0.9997606634748902\n",
      "Precision: 0.9999997923979635\n",
      "Recall: 0.9997606634748902\n",
      "F1 Score: 0.9998802136390539\n",
      "\n",
      "Training and testing for tactic: Exfiltration\n",
      "\n",
      "Train 2022 data, Test 2022 data\n"
     ]
    },
    {
     "name": "stderr",
     "output_type": "stream",
     "text": [
      "                                                                                \r"
     ]
    },
    {
     "name": "stdout",
     "output_type": "stream",
     "text": [
      "\n",
      "Model for label_tactic: Exfiltration\n",
      "Accuracy: 0.999999273479759\n",
      "Precision: 0.999998546960046\n",
      "Recall: 0.999999273479759\n",
      "F1 Score: 0.9999989102197703\n",
      "\n",
      "Train 2024 data, Test 2024 data\n"
     ]
    },
    {
     "name": "stderr",
     "output_type": "stream",
     "text": [
      "                                                                                \r"
     ]
    },
    {
     "name": "stdout",
     "output_type": "stream",
     "text": [
      "\n",
      "Model for label_tactic: Exfiltration\n",
      "Accuracy: 0.9997083615711329\n",
      "Precision: 0.9994168081952389\n",
      "Recall: 0.9997083615711329\n",
      "F1 Score: 0.9995625636230436\n",
      "\n",
      "Train 2022 data, Test 2024 data\n"
     ]
    },
    {
     "name": "stderr",
     "output_type": "stream",
     "text": [
      "                                                                                \r"
     ]
    },
    {
     "name": "stdout",
     "output_type": "stream",
     "text": [
      "\n",
      "Model for label_tactic: Exfiltration\n",
      "Accuracy: 0.9997083615711329\n",
      "Precision: 0.9994168081952389\n",
      "Recall: 0.9997083615711329\n",
      "F1 Score: 0.9995625636230436\n",
      "\n",
      "Train 2024 data, Test 2022 data\n"
     ]
    },
    {
     "name": "stderr",
     "output_type": "stream",
     "text": [
      "                                                                                \r"
     ]
    },
    {
     "name": "stdout",
     "output_type": "stream",
     "text": [
      "\n",
      "Model for label_tactic: Exfiltration\n",
      "Accuracy: 0.999999273479759\n",
      "Precision: 0.999998546960046\n",
      "Recall: 0.999999273479759\n",
      "F1 Score: 0.9999989102197703\n",
      "\n",
      "Training and testing for tactic: Defense Evasion\n",
      "\n",
      "Train 2022 data, Test 2022 data\n"
     ]
    },
    {
     "name": "stderr",
     "output_type": "stream",
     "text": [
      "                                                                                \r"
     ]
    },
    {
     "name": "stdout",
     "output_type": "stream",
     "text": [
      "\n",
      "Model for label_tactic: Defense Evasion\n",
      "Accuracy: 0.9999998962113942\n",
      "Precision: 0.9999997924227991\n",
      "Recall: 0.9999998962113942\n",
      "F1 Score: 0.9999998443170939\n",
      "\n",
      "Train 2024 data, Test 2024 data\n"
     ]
    },
    {
     "name": "stderr",
     "output_type": "stream",
     "text": [
      "                                                                                \r"
     ]
    },
    {
     "name": "stdout",
     "output_type": "stream",
     "text": [
      "\n",
      "Model for label_tactic: Defense Evasion\n",
      "Accuracy: 0.996844670451184\n",
      "Precision: 0.9936992970069295\n",
      "Recall: 0.996844670451184\n",
      "F1 Score: 0.9952694986359703\n",
      "\n",
      "Train 2022 data, Test 2024 data\n"
     ]
    },
    {
     "name": "stderr",
     "output_type": "stream",
     "text": [
      "                                                                                \r"
     ]
    },
    {
     "name": "stdout",
     "output_type": "stream",
     "text": [
      "\n",
      "Model for label_tactic: Defense Evasion\n",
      "Accuracy: 0.996844670451184\n",
      "Precision: 0.9936992970069295\n",
      "Recall: 0.996844670451184\n",
      "F1 Score: 0.9952694986359703\n",
      "\n",
      "Train 2024 data, Test 2022 data\n"
     ]
    },
    {
     "name": "stderr",
     "output_type": "stream",
     "text": [
      "[Stage 706:=================================================>       (7 + 1) / 8]\r"
     ]
    },
    {
     "name": "stdout",
     "output_type": "stream",
     "text": [
      "\n",
      "Model for label_tactic: Defense Evasion\n",
      "Accuracy: 0.9999998962113942\n",
      "Precision: 0.9999997924227991\n",
      "Recall: 0.9999998962113942\n",
      "F1 Score: 0.9999998443170939\n"
     ]
    },
    {
     "name": "stderr",
     "output_type": "stream",
     "text": [
      "                                                                                \r"
     ]
    }
   ],
   "source": [
    "# Spark imports\n",
    "import pyspark\n",
    "import numpy as np\n",
    "from pyspark.sql import SparkSession\n",
    "from pyspark.sql import functions as F\n",
    "from pyspark.sql.window import Window\n",
    "\n",
    "# Python imports\n",
    "import pandas as pd\n",
    "import matplotlib.pyplot as plt\n",
    "from sklearn.preprocessing import MultiLabelBinarizer\n",
    "\n",
    "# Initialize Spark session\n",
    "spark = SparkSession.builder \\\n",
    "    .appName(\"Pre-Preprocess Mission Log\") \\\n",
    "    .master(\"spark://192.168.1.2:7077\") \\\n",
    "    .config(\"spark.driver.cores\", \"2\") \\\n",
    "    .config(\"spark.driver.memory\", \"10g\") \\\n",
    "    .config(\"spark.executor.memory\", \"12g\") \\\n",
    "    .config(\"spark.executor.cores\", \"3\") \\\n",
    "    .config(\"spark.dynamicAllocation.shuffleTracking.enabled\", \"true\") \\\n",
    "    .config(\"spark.dynamicAllocation.enabled\", \"true\") \\\n",
    "    .config(\"spark.dynamicAllocation.minExecutors\", \"5\") \\\n",
    "    .config(\"spark.dynamicAllocation.maxExecutors\", \"8\") \\\n",
    "    .config(\"spark.executor.instances\", \"5\") \\\n",
    "    .getOrCreate()\n",
    "\n",
    "# Paths containing 2024 network data\n",
    "data_paths_2024 = [\n",
    "    \"hdfs://192.168.1.2:9000/datasets-uwf-edu/UWF-TestZeekData24/parquet/2024-02-25 - 2024-03-03/part-00000-8b838a85-76eb-4896-a0b6-2fc425e828c2-c000.snappy.parquet\",\n",
    "    \"hdfs://192.168.1.2:9000/datasets-uwf-edu/UWF-TestZeekData24/parquet/2024-03-03 - 2024-03-10/part-00000-0955ed97-8460-41bd-872a-7375a7f0207e-c000.snappy.parquet\",\n",
    "    \"hdfs://192.168.1.2:9000/datasets-uwf-edu/UWF-TestZeekData24/parquet/2024-03-10 - 2024-03-17/part-00000-071774ae-97f3-4f31-9700-8bfcdf41305a-c000.snappy.parquet\",\n",
    "    \"hdfs://192.168.1.2:9000/datasets-uwf-edu/UWF-TestZeekData24/parquet/2024-03-17 - 2024-03-24/part-00000-5f556208-a1fc-40a1-9cc2-a4e24c76aeb3-c000.snappy.parquet\",\n",
    "    \"hdfs://192.168.1.2:9000/datasets-uwf-edu/UWF-TestZeekData24/parquet/2024-03-24 - 2024-03-31/part-00000-ea3a47a3-0973-4d6b-a3a2-8dd441ee7901-c000.snappy.parquet\",\n",
    "    \"hdfs://192.168.1.2:9000/datasets-uwf-edu/UWF-TestZeekData24/parquet/2024-10-27 - 2024-11-03/part-00000-69700ccb-c1c1-4763-beb7-cd0f1a61c268-c000.snappy.parquet\",\n",
    "    \"hdfs://192.168.1.2:9000/datasets-uwf-edu/UWF-TestZeekData24/parquet/2024-11-03 - 2024-11-10/part-00000-f078acc1-ab56-40a6-a6e1-99d780645c57-c000.snappy.parquet\"\n",
    "]\n",
    "\n",
    "# Paths containing 2022 network data\n",
    "data_paths_2022 = [\n",
    "    \"hdfs://192.168.1.2:9000/datasets-uwf-edu/UWF-ZeekData22/parquet/2022-01-16 - 2022-01-23/part-00000-cbf26680-106d-40e7-8278-60520afdbb0e-c000.snappy.parquet\",\n",
    "    \"hdfs://192.168.1.2:9000/datasets-uwf-edu/UWF-ZeekData22/parquet/2022-02-06 - 2022-02-13/part-00000-df678a79-4a73-452b-8e72-d624b2732f17-c000.snappy.parquet\",\n",
    "    \"hdfs://192.168.1.2:9000/datasets-uwf-edu/UWF-ZeekData22/parquet/2022-02-13 - 2022-02-20/part-00000-1da06990-329c-4e38-913a-0f0aa39b388d-c000.snappy.parquet\"\n",
    "]\n",
    "\n",
    "# Function to load and preprocess data\n",
    "def load_and_preprocess_data(data_paths):\n",
    "    df_list = []\n",
    "    for path in data_paths:\n",
    "        df = spark.read.parquet(path)\n",
    "        df = df.select(\"ts\", \"duration\", \"orig_bytes\", \"resp_bytes\", \"orig_ip_bytes\", \"resp_ip_bytes\", \"label_tactic\")\n",
    "        df = df.fillna({\n",
    "            \"duration\": 0,\n",
    "            \"orig_bytes\": 0,\n",
    "            \"resp_bytes\": 0,\n",
    "            \"orig_ip_bytes\": 0,\n",
    "            \"resp_ip_bytes\": 0\n",
    "        })\n",
    "        df_list.append(df)\n",
    "    combined_df = df_list[0]\n",
    "    for df in df_list[1:]:\n",
    "        combined_df = combined_df.union(df)\n",
    "    return combined_df\n",
    "\n",
    "# Load and preprocess 2024 data\n",
    "combined_df_2024 = load_and_preprocess_data(data_paths_2024)\n",
    "\n",
    "# Load and preprocess 2022 data\n",
    "combined_df_2022 = load_and_preprocess_data(data_paths_2022)\n",
    "\n",
    "# Function to train and evaluate models\n",
    "def train_and_evaluate(train_df, test_df, tactic):\n",
    "    from pyspark.ml.feature import VectorAssembler\n",
    "    from pyspark.ml.classification import DecisionTreeClassifier\n",
    "    from pyspark.ml.evaluation import MulticlassClassificationEvaluator\n",
    "\n",
    "    feature_columns = [\"duration\", \"orig_bytes\", \"resp_bytes\", \"orig_ip_bytes\", \"resp_ip_bytes\"]\n",
    "    assembler = VectorAssembler(inputCols=feature_columns, outputCol=\"features\", handleInvalid=\"skip\")\n",
    "    train_df = assembler.transform(train_df)\n",
    "    test_df = assembler.transform(test_df)\n",
    "\n",
    "    train_df = train_df.withColumn(\"label\", F.when(F.col(\"label_tactic\") == tactic, 1).otherwise(0))\n",
    "    test_df = test_df.withColumn(\"label\", F.when(F.col(\"label_tactic\") == tactic, 1).otherwise(0))\n",
    "\n",
    "    dt = DecisionTreeClassifier(featuresCol=\"features\", labelCol=\"label\")\n",
    "    model = dt.fit(train_df)\n",
    "\n",
    "    predictions = model.transform(test_df)\n",
    "    evaluator = MulticlassClassificationEvaluator(labelCol=\"label\", predictionCol=\"prediction\", metricName=\"accuracy\")\n",
    "    accuracy = evaluator.evaluate(predictions)\n",
    "\n",
    "    precision_evaluator = MulticlassClassificationEvaluator(labelCol=\"label\", predictionCol=\"prediction\", metricName=\"weightedPrecision\")\n",
    "    recall_evaluator = MulticlassClassificationEvaluator(labelCol=\"label\", predictionCol=\"prediction\", metricName=\"weightedRecall\")\n",
    "    f1_evaluator = MulticlassClassificationEvaluator(labelCol=\"label\", predictionCol=\"prediction\", metricName=\"f1\")\n",
    "\n",
    "    precision = precision_evaluator.evaluate(predictions)\n",
    "    recall = recall_evaluator.evaluate(predictions)\n",
    "    f1_score = f1_evaluator.evaluate(predictions)\n",
    "\n",
    "    print(f\"\\nModel for label_tactic: {tactic}\")\n",
    "    print(f\"Accuracy: {accuracy}\")\n",
    "    print(f\"Precision: {precision}\")\n",
    "    print(f\"Recall: {recall}\")\n",
    "    print(f\"F1 Score: {f1_score}\")\n",
    "\n",
    "# Get distinct values of label_tactic for 2024 data\n",
    "distinct_label_tactics_2024 = combined_df_2024.select(\"label_tactic\").distinct().collect()\n",
    "distinct_label_tactics_2024 = [row['label_tactic'] for row in distinct_label_tactics_2024]\n",
    "\n",
    "# Get distinct values of label_tactic for 2022 data\n",
    "distinct_label_tactics_2022 = combined_df_2022.select(\"label_tactic\").distinct().collect()\n",
    "distinct_label_tactics_2022 = [row['label_tactic'] for row in distinct_label_tactics_2022]\n",
    "\n",
    "# Train and evaluate models for each combination\n",
    "for tactic in distinct_label_tactics_2024:\n",
    "    if tactic != \"none\":\n",
    "        print(f\"\\nTraining and testing for tactic: {tactic}\")\n",
    "\n",
    "        # Train 2022 data, Test 2022 data\n",
    "        print(\"\\nTrain 2022 data, Test 2022 data\")\n",
    "        train_and_evaluate(combined_df_2022, combined_df_2022, tactic)\n",
    "\n",
    "        # Train 2024 data, Test 2024 data\n",
    "        print(\"\\nTrain 2024 data, Test 2024 data\")\n",
    "        train_and_evaluate(combined_df_2024, combined_df_2024, tactic)\n",
    "\n",
    "        # Train 2022 data, Test 2024 data\n",
    "        print(\"\\nTrain 2022 data, Test 2024 data\")\n",
    "        \n",
    "        train_and_evaluate(combined_df_2022, combined_df_2024, tactic)\n",
    "\n",
    "        # Train 2024 data, Test 2022 data\n",
    "        print(\"\\nTrain 2024 data, Test 2022 data\")\n",
    "        train_and_evaluate(combined_df_2024, combined_df_2022, tactic)"
   ]
  },
  {
   "cell_type": "code",
   "execution_count": null,
   "metadata": {},
   "outputs": [],
   "source": []
  }
 ],
 "metadata": {
  "kernelspec": {
   "display_name": "Python 3 (ipykernel)",
   "language": "python",
   "name": "python3"
  },
  "language_info": {
   "codemirror_mode": {
    "name": "ipython",
    "version": 3
   },
   "file_extension": ".py",
   "mimetype": "text/x-python",
   "name": "python",
   "nbconvert_exporter": "python",
   "pygments_lexer": "ipython3",
   "version": "3.10.12"
  }
 },
 "nbformat": 4,
 "nbformat_minor": 4
}
