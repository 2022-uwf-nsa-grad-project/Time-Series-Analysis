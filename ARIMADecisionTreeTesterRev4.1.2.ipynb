{
 "cells": [
  {
   "cell_type": "markdown",
   "id": "dd3c2a95-cbcc-4d33-9ac4-2019d28003e7",
   "metadata": {},
   "source": [
    "<span style = \"color:blue; font-size:24px\">ARIMADecisionTreeTester</span>\n",
    "<span style = \"color:blue; font-size:24px\">MultiYear</span>\n",
    "<span style = \"color:blue; font-size:24px\"> Reconnaissance<span>\n",
    "\n",
    "ZeekData24 Attack Profiles\n",
    "\n",
    "Dataset 1: Multiple Attack Types (Credential Access|236706|, Reconnaissance|12762|, Initial Access|2172|, Privilege Escalation|1251|, Persistence|1251|, Defense Evasion|1251|, Exfiltration|50|)\n",
    "\n",
    "Dataset 2: Multiple Attack Types (Credential Access|45491|, Reconnaissance|3339|, Initial Access|576|, Privilege Escalation|336|, Persistence|336|, Defense Evasion|336|, Exfiltration|30|)\n",
    "\n",
    "Dataset 3: Multiple Attack Types (Credential Access|150887|, Reconnaissance|10834|, Initial Access|2090|, Privilege Escalation|1193|, Persistence|1193|, Defense Evasion|1193|, Exfiltration|188|)\n",
    "\n",
    "Dataset 4: Multiple Attack Types (Credential Access|341945|, Reconnaissance|24233|, Initial Access|4602|, Privilege Escalation|2591|, Persistence|2591|, Defense Evasion|2591|, Exfiltration|268|)\n",
    "\n",
    "Dataset 5: Multiple Attack Types (Credential Access|96159|, Reconnaissance|6927|, Initial Access|1222|, Privilege Escalation|677|, Persistence|677|, Defense Evasion|677|, Exfiltration|23|)\n",
    "\n",
    "Datest 6: Benign Data\n",
    "\n",
    "Dataset 7: Benign Data\n",
    "\n",
    "Zeekdata22 Attack Profiles\n",
    "\n",
    "Dataset 1: Benign\n",
    "\n",
    "Dataset 2: Attacks (Reconnaissance|9278720|, Discovery|2086|)\n",
    "\n",
    "Dataset 3: Attacks (Credential Access|31|, Privilege Escalation|13|, Exfiltration|7|, Lateral Movement|4|, Resource Development|3|, Reconnaissance|2|, Persistence|1|, Initial Access|1|, Defense Evasion|1|)\n",
    "\n",
    "This revision tests the Decision Tree Model on different combinations of 2022 and 2024 data but focuses on Credential Access.\n",
    "\n",
    "NOTE: This revision is adapted to implement an upgrade python 3.12 version which does not allow for the use of pdmarima, so the arima_functions script must use statsmodels to work properly. Previous versions may be considered obsolete when using this new version of python."
   ]
  },
  {
   "cell_type": "markdown",
   "id": "4d236bce-822b-44e2-a964-b2117c1036df",
   "metadata": {},
   "source": [
    "<span style = \"color:blue; font-size:24px\">Preprocessing for ARIMA Model</span>"
   ]
  },
  {
   "cell_type": "code",
   "execution_count": 1,
   "id": "22c5e9f8",
   "metadata": {},
   "outputs": [
    {
     "name": "stderr",
     "output_type": "stream",
     "text": [
      "Warning: Ignoring non-Spark config property: SPARK_LOCAL_IP\n",
      "25/04/03 08:44:09 WARN Utils: Your hostname, car-ubuntu resolves to a loopback address: 127.0.1.1; using 192.168.1.123 instead (on interface ens33)\n",
      "25/04/03 08:44:09 WARN Utils: Set SPARK_LOCAL_IP if you need to bind to another address\n",
      "Setting default log level to \"WARN\".\n",
      "To adjust logging level use sc.setLogLevel(newLevel). For SparkR, use setLogLevel(newLevel).\n",
      "25/04/03 08:44:09 WARN NativeCodeLoader: Unable to load native-hadoop library for your platform... using builtin-java classes where applicable\n",
      "25/04/03 08:44:11 WARN Utils: Service 'SparkUI' could not bind on port 4040. Attempting port 4041.\n"
     ]
    },
    {
     "name": "stdout",
     "output_type": "stream",
     "text": [
      "Loading data from path 1/10: hdfs://192.168.1.250:9000/datasets-uwf-edu/UWF-ZeekData24/parquet/2024-02-25 - 2024-03-03/part-00000-8b838a85-76eb-4896-a0b6-2fc425e828c2-c000.snappy.parquet\n"
     ]
    },
    {
     "name": "stderr",
     "output_type": "stream",
     "text": [
      "                                                                                "
     ]
    },
    {
     "name": "stdout",
     "output_type": "stream",
     "text": [
      "Count of rows in dataset:  255443\n",
      "Loading data from path 2/10: hdfs://192.168.1.250:9000/datasets-uwf-edu/UWF-ZeekData24/parquet/2024-03-03 - 2024-03-10/part-00000-0955ed97-8460-41bd-872a-7375a7f0207e-c000.snappy.parquet\n",
      "Count of rows in dataset:  50444\n",
      "Loading data from path 3/10: hdfs://192.168.1.250:9000/datasets-uwf-edu/UWF-ZeekData24/parquet/2024-03-10 - 2024-03-17/part-00000-071774ae-97f3-4f31-9700-8bfcdf41305a-c000.snappy.parquet\n",
      "Count of rows in dataset:  167578\n",
      "Loading data from path 4/10: hdfs://192.168.1.250:9000/datasets-uwf-edu/UWF-ZeekData24/parquet/2024-03-17 - 2024-03-24/part-00000-5f556208-a1fc-40a1-9cc2-a4e24c76aeb3-c000.snappy.parquet\n",
      "Count of rows in dataset:  378821\n",
      "Loading data from path 5/10: hdfs://192.168.1.250:9000/datasets-uwf-edu/UWF-ZeekData24/parquet/2024-03-24 - 2024-03-31/part-00000-ea3a47a3-0973-4d6b-a3a2-8dd441ee7901-c000.snappy.parquet\n",
      "Count of rows in dataset:  106362\n",
      "Loading data from path 6/10: hdfs://192.168.1.250:9000/datasets-uwf-edu/UWF-ZeekData24/parquet/2024-10-27 - 2024-11-03/part-00000-69700ccb-c1c1-4763-beb7-cd0f1a61c268-c000.snappy.parquet\n",
      "Count of rows in dataset:  454846\n",
      "Loading data from path 7/10: hdfs://192.168.1.250:9000/datasets-uwf-edu/UWF-ZeekData24/parquet/2024-11-03 - 2024-11-10/part-00000-f078acc1-ab56-40a6-a6e1-99d780645c57-c000.snappy.parquet\n",
      "Count of rows in dataset:  503263\n",
      "Loading data from path 8/10: hdfs://192.168.1.250:9000/datasets-uwf-edu/UWF-ZeekData22/parquet/2022-01-16 - 2022-01-23/part-00000-cbf26680-106d-40e7-8278-60520afdbb0e-c000.snappy.parquet\n",
      "Count of rows in dataset:  354100\n",
      "Loading data from path 9/10: hdfs://192.168.1.250:9000/datasets-uwf-edu/UWF-ZeekData22/parquet/2022-02-06 - 2022-02-13/part-00000-df678a79-4a73-452b-8e72-d624b2732f17-c000.snappy.parquet\n",
      "Count of rows in dataset:  9280806\n",
      "Loading data from path 10/10: hdfs://192.168.1.250:9000/datasets-uwf-edu/UWF-ZeekData22/parquet/2022-02-13 - 2022-02-20/part-00000-1da06990-329c-4e38-913a-0f0aa39b388d-c000.snappy.parquet\n",
      "Count of rows in dataset:  63\n",
      "Data loading complete.\n",
      "Initial DataFrame row count: 255443\n",
      "Row count after shuffling: 11551726\n",
      "Data combined and shuffled successfully.\n"
     ]
    },
    {
     "name": "stderr",
     "output_type": "stream",
     "text": [
      "25/04/03 08:44:32 WARN WindowExec: No Partition Defined for Window operation! Moving all data to a single partition, this can cause serious performance degradation.\n",
      "25/04/03 08:44:32 WARN WindowExec: No Partition Defined for Window operation! Moving all data to a single partition, this can cause serious performance degradation.\n",
      "25/04/03 08:44:32 WARN WindowExec: No Partition Defined for Window operation! Moving all data to a single partition, this can cause serious performance degradation.\n",
      "25/04/03 08:44:43 WARN WindowExec: No Partition Defined for Window operation! Moving all data to a single partition, this can cause serious performance degradation.\n",
      "25/04/03 08:44:43 WARN WindowExec: No Partition Defined for Window operation! Moving all data to a single partition, this can cause serious performance degradation.\n",
      "25/04/03 08:44:43 WARN WindowExec: No Partition Defined for Window operation! Moving all data to a single partition, this can cause serious performance degradation.\n",
      "                                                                                "
     ]
    },
    {
     "name": "stdout",
     "output_type": "stream",
     "text": [
      "+----------+---------------------+----------+----------+-------------+-------------+-----------------+\n",
      "|ts        |duration             |orig_bytes|resp_bytes|orig_ip_bytes|resp_ip_bytes|label_tactic     |\n",
      "+----------+---------------------+----------+----------+-------------+-------------+-----------------+\n",
      "|1743687932|1.86920166015625E-4  |0         |0         |132          |0            |Reconnaissance   |\n",
      "|1743687992|1.02996826171875E-4  |86        |0         |142          |0            |none             |\n",
      "|1743688052|0.0011451244354248047|58        |58        |86           |86           |none             |\n",
      "|1743688112|0.019715070724487305 |686       |11329     |5064         |47844        |Credential Access|\n",
      "|1743688172|2.3794174194335938E-4|0         |0         |176          |0            |Reconnaissance   |\n",
      "|1743688232|6.59942626953125E-4  |0         |0         |176          |160          |Reconnaissance   |\n",
      "|1743688292|1.5401840209960938E-4|0         |0         |240          |0            |Reconnaissance   |\n",
      "|1743688352|5.478858947753906E-4 |0         |0         |176          |160          |Reconnaissance   |\n",
      "|1743688412|9.560585021972656E-4 |43        |43        |71           |71           |none             |\n",
      "|1743688472|2.9587745666503906E-4|0         |0         |132          |0            |Reconnaissance   |\n",
      "|1743688532|8.769035339355469E-4 |0         |0         |176          |160          |Reconnaissance   |\n",
      "|1743688592|4.360675811767578E-4 |0         |0         |180          |0            |Reconnaissance   |\n",
      "|1743688652|4.191398620605469E-4 |58        |58        |86           |86           |none             |\n",
      "|1743688712|2.1696090698242188E-4|0         |0         |176          |0            |Reconnaissance   |\n",
      "|1743688772|5.259513854980469E-4 |0         |0         |240          |0            |Reconnaissance   |\n",
      "|1743688832|2.391338348388672E-4 |0         |0         |176          |0            |Reconnaissance   |\n",
      "|1743688892|2.4199485778808594E-4|0         |0         |240          |0            |Reconnaissance   |\n",
      "|1743688952|1.919269561767578E-4 |0         |0         |240          |0            |Reconnaissance   |\n",
      "|1743689012|4.858970642089844E-4 |0         |0         |176          |160          |Reconnaissance   |\n",
      "|1743689072|8.349418640136719E-4 |0         |0         |240          |160          |Reconnaissance   |\n",
      "+----------+---------------------+----------+----------+-------------+-------------+-----------------+\n",
      "only showing top 20 rows\n",
      "\n"
     ]
    },
    {
     "name": "stderr",
     "output_type": "stream",
     "text": [
      "                                                                                "
     ]
    },
    {
     "name": "stdout",
     "output_type": "stream",
     "text": [
      "Total number of rows in the shuffled DataFrame: 11551726\n",
      "Shuffled DataFrame split into 116 chunks of 100000 rows each.\n",
      "Train and Test DataFrames added to train_test_list successfully.\n"
     ]
    },
    {
     "name": "stderr",
     "output_type": "stream",
     "text": [
      "25/04/03 08:44:55 WARN WindowExec: No Partition Defined for Window operation! Moving all data to a single partition, this can cause serious performance degradation.\n",
      "25/04/03 08:44:55 WARN WindowExec: No Partition Defined for Window operation! Moving all data to a single partition, this can cause serious performance degradation.\n",
      "25/04/03 08:45:04 WARN WindowExec: No Partition Defined for Window operation! Moving all data to a single partition, this can cause serious performance degradation.\n",
      "25/04/03 08:45:04 WARN WindowExec: No Partition Defined for Window operation! Moving all data to a single partition, this can cause serious performance degradation.\n",
      "25/04/03 08:45:06 WARN WindowExec: No Partition Defined for Window operation! Moving all data to a single partition, this can cause serious performance degradation.\n",
      "25/04/03 08:45:06 WARN WindowExec: No Partition Defined for Window operation! Moving all data to a single partition, this can cause serious performance degradation.\n",
      "25/04/03 08:45:18 WARN WindowExec: No Partition Defined for Window operation! Moving all data to a single partition, this can cause serious performance degradation.\n",
      "25/04/03 08:45:18 WARN WindowExec: No Partition Defined for Window operation! Moving all data to a single partition, this can cause serious performance degradation.\n"
     ]
    },
    {
     "name": "stdout",
     "output_type": "stream",
     "text": [
      "Training DataFrame size: 69941 rows\n"
     ]
    },
    {
     "name": "stderr",
     "output_type": "stream",
     "text": [
      "25/04/03 08:45:27 WARN WindowExec: No Partition Defined for Window operation! Moving all data to a single partition, this can cause serious performance degradation.\n",
      "25/04/03 08:45:27 WARN WindowExec: No Partition Defined for Window operation! Moving all data to a single partition, this can cause serious performance degradation.\n",
      "25/04/03 08:45:30 WARN WindowExec: No Partition Defined for Window operation! Moving all data to a single partition, this can cause serious performance degradation.\n",
      "25/04/03 08:45:30 WARN WindowExec: No Partition Defined for Window operation! Moving all data to a single partition, this can cause serious performance degradation.\n",
      "                                                                                "
     ]
    },
    {
     "name": "stdout",
     "output_type": "stream",
     "text": [
      "Testing DataFrame size: 30059 rows\n",
      "Processing DataFrame 1/2\n"
     ]
    },
    {
     "name": "stderr",
     "output_type": "stream",
     "text": [
      "25/04/03 08:45:41 WARN WindowExec: No Partition Defined for Window operation! Moving all data to a single partition, this can cause serious performance degradation.\n",
      "25/04/03 08:45:41 WARN WindowExec: No Partition Defined for Window operation! Moving all data to a single partition, this can cause serious performance degradation.\n",
      "25/04/03 08:45:51 WARN WindowExec: No Partition Defined for Window operation! Moving all data to a single partition, this can cause serious performance degradation.\n",
      "25/04/03 08:45:51 WARN WindowExec: No Partition Defined for Window operation! Moving all data to a single partition, this can cause serious performance degradation.\n",
      "25/04/03 08:45:55 WARN WindowExec: No Partition Defined for Window operation! Moving all data to a single partition, this can cause serious performance degradation.\n",
      "25/04/03 08:45:55 WARN WindowExec: No Partition Defined for Window operation! Moving all data to a single partition, this can cause serious performance degradation.\n",
      "                                                                                "
     ]
    },
    {
     "name": "stdout",
     "output_type": "stream",
     "text": [
      "DataFrame 1 processed successfully.\n",
      "Processing DataFrame 2/2\n"
     ]
    },
    {
     "name": "stderr",
     "output_type": "stream",
     "text": [
      "25/04/03 08:46:12 WARN WindowExec: No Partition Defined for Window operation! Moving all data to a single partition, this can cause serious performance degradation.\n",
      "25/04/03 08:46:12 WARN WindowExec: No Partition Defined for Window operation! Moving all data to a single partition, this can cause serious performance degradation.\n",
      "25/04/03 08:46:22 WARN WindowExec: No Partition Defined for Window operation! Moving all data to a single partition, this can cause serious performance degradation.\n",
      "25/04/03 08:46:22 WARN WindowExec: No Partition Defined for Window operation! Moving all data to a single partition, this can cause serious performance degradation.\n",
      "25/04/03 08:46:25 WARN WindowExec: No Partition Defined for Window operation! Moving all data to a single partition, this can cause serious performance degradation.\n",
      "25/04/03 08:46:25 WARN WindowExec: No Partition Defined for Window operation! Moving all data to a single partition, this can cause serious performance degradation.\n",
      "                                                                                "
     ]
    },
    {
     "name": "stdout",
     "output_type": "stream",
     "text": [
      "DataFrame 2 processed successfully.\n",
      "Data processing complete.\n"
     ]
    }
   ],
   "source": [
    "# Spark imports\n",
    "import pyspark\n",
    "import numpy as np\n",
    "from pyspark.sql import SparkSession\n",
    "from pyspark.sql import functions as F\n",
    "from pyspark.sql.window import Window\n",
    "\n",
    "# Python imports\n",
    "import pandas as pd\n",
    "import matplotlib.pyplot as plt\n",
    "from sklearn.preprocessing import MultiLabelBinarizer\n",
    "\n",
    "UID = \"raf46\"                   # Your Argonet ID.\n",
    "hadoop_master = \"192.168.1.250\"  # IP address to Spark Master, which, for our cluster, is the same as the Hadoop Name node address.  \n",
    "# Create spark session with variables below.  Please try to remember to add your argonet ID to the appName, so that we know who a running job belongs to.\n",
    "spark = SparkSession.builder.appName(\"Pyspark Example Script - \" + UID)                        \\\n",
    "                            .master(\"spark://\" + hadoop_master + \":7077\")                      \\\n",
    "                            .config(\"SPARK_LOCAL_IP\", hadoop_master)                           \\\n",
    "                            .config(\"spark.driver.cores\", \"2\")                                 \\\n",
    "                            .config(\"spark.driver.memory\", \"128g\")                              \\\n",
    "                            .config(\"spark.executor.memory\", \"128g\")                            \\\n",
    "                            .config(\"spark.executor.cores\", \"4\")                               \\\n",
    "                            .config(\"spark.dynamicAllocation.shuffleTracking.enabled\", \"true\") \\\n",
    "                            .config(\"spark.dynamicAllocation.enabled\", \"true\")                 \\\n",
    "                            .config(\"spark.dynamicAllocation.minExecutors\", \"2\")               \\\n",
    "                            .config(\"spark.dynamicAllocation.maxExecutors\", \"8\")               \\\n",
    "                            .config(\"spark.executor.instances\", \"4\")                           \\\n",
    "                            .getOrCreate()\n",
    "\n",
    "def load_data(data_paths):\n",
    "    df_list = []\n",
    "    for i, path in enumerate(data_paths):\n",
    "        print(f\"Loading data from path {i+1}/{len(data_paths)}: {path}\")\n",
    "        df = spark.read.parquet(path)\n",
    "        df_list.append(df)\n",
    "        print(f\"Count of rows in dataset:  {df.count()}\")\n",
    "    print(\"Data loading complete.\")\n",
    "    return df_list\n",
    "\n",
    "def process_data_ARIMA(df_list):\n",
    "    processed_df_list = []\n",
    "    mitre_labels = [\n",
    "        \"Privilege Escalation\", \"Execution\", \"Persistence\", \"Defense Evasion\",\n",
    "        \"Credential Access\", \"Discovery\", \"Lateral Movement\", \"Collection\",\n",
    "        \"Exfiltration\", \"Command and Control\", \"Impact\", \"Reconnaissance\", \"Resource Development\"\n",
    "    ]\n",
    "\n",
    "    for i, df in enumerate(df_list):\n",
    "        print(f\"Processing DataFrame {i+1}/{len(df_list)}\")\n",
    "        df = df.withColumn(\"label_tactic_binary\", F.when(F.col(\"label_tactic\") == \"none\", 0).otherwise(1))\n",
    "        df = df.withColumn(\"label_tactic_split\", F.split(\"label_tactic\", \",\"))\n",
    "        df = df.withColumn(\"label_tactic_binary_encoded\", F.expr(\n",
    "            \"array(\" + \",\".join([f\"IF(array_contains(label_tactic_split, '{label}'), 1, 0)\" for label in mitre_labels]) + \")\"\n",
    "        ))\n",
    "        df = df.withColumn(\"ts\", F.from_unixtime(\"ts\").cast(\"timestamp\"))\n",
    "        window_size = \"1 seconds\"\n",
    "        df_agg = df.groupBy(F.window(\"ts\", window_size)) \\\n",
    "            .agg(\n",
    "                F.sum(\"duration\").alias(\"sum_duration\"),\n",
    "                F.sum(\"orig_bytes\").alias(\"sum_orig_bytes\"),\n",
    "                F.sum(\"resp_bytes\").alias(\"sum_resp_bytes\"),\n",
    "                F.sum(\"orig_ip_bytes\").alias(\"sum_orig_ip_bytes\"),\n",
    "                F.sum(\"resp_ip_bytes\").alias(\"sum_resp_ip_bytes\"),\n",
    "                F.count(\"*\").alias(\"connection_count\"),\n",
    "                F.max(\"label_tactic_binary\").alias(\"label_tactic_binary_agg\"),\n",
    "                F.collect_set(\"label_tactic_split\").alias(\"label_tactic_split_agg\"),\n",
    "                F.max(\"label_tactic_binary_encoded\").alias(\"label_tactic_binary_encoded_agg\")\n",
    "            )\n",
    "        df_agg_flat = df_agg.select(\n",
    "            F.col(\"window.start\").alias(\"window_start\"),\n",
    "            F.col(\"window.end\").alias(\"window_end\"),\n",
    "            \"sum_duration\",\n",
    "            \"sum_orig_bytes\",\n",
    "            \"sum_resp_bytes\",\n",
    "            \"sum_orig_ip_bytes\",\n",
    "            \"sum_resp_ip_bytes\",\n",
    "            \"connection_count\",\n",
    "            \"label_tactic_binary_agg\",\n",
    "            \"label_tactic_split_agg\",\n",
    "            \"label_tactic_binary_encoded_agg\"\n",
    "        )\n",
    "        df_agg_sorted = df_agg_flat.orderBy(\"window_start\")\n",
    "        df_pandas_sorted = df_agg_sorted.toPandas()\n",
    "        df_pandas_sorted[\"sum_orig_bytes_log\"] = np.log1p(df_pandas_sorted[\"sum_orig_bytes\"])\n",
    "        processed_df_list.append(df_pandas_sorted)\n",
    "        print(f\"DataFrame {i+1} processed successfully.\")\n",
    "    print(\"Data processing complete.\")\n",
    "    return processed_df_list\n",
    "\n",
    "# Define paths\n",
    "data_paths = [\n",
    "   \"hdfs://192.168.1.250:9000/datasets-uwf-edu/UWF-ZeekData24/parquet/2024-02-25 - 2024-03-03/part-00000-8b838a85-76eb-4896-a0b6-2fc425e828c2-c000.snappy.parquet\",\n",
    "    \"hdfs://192.168.1.250:9000/datasets-uwf-edu/UWF-ZeekData24/parquet/2024-03-03 - 2024-03-10/part-00000-0955ed97-8460-41bd-872a-7375a7f0207e-c000.snappy.parquet\",\n",
    "    \"hdfs://192.168.1.250:9000/datasets-uwf-edu/UWF-ZeekData24/parquet/2024-03-10 - 2024-03-17/part-00000-071774ae-97f3-4f31-9700-8bfcdf41305a-c000.snappy.parquet\",\n",
    "    \"hdfs://192.168.1.250:9000/datasets-uwf-edu/UWF-ZeekData24/parquet/2024-03-17 - 2024-03-24/part-00000-5f556208-a1fc-40a1-9cc2-a4e24c76aeb3-c000.snappy.parquet\",\n",
    "    \"hdfs://192.168.1.250:9000/datasets-uwf-edu/UWF-ZeekData24/parquet/2024-03-24 - 2024-03-31/part-00000-ea3a47a3-0973-4d6b-a3a2-8dd441ee7901-c000.snappy.parquet\",\n",
    "    \"hdfs://192.168.1.250:9000/datasets-uwf-edu/UWF-ZeekData24/parquet/2024-10-27 - 2024-11-03/part-00000-69700ccb-c1c1-4763-beb7-cd0f1a61c268-c000.snappy.parquet\",\n",
    "    \"hdfs://192.168.1.250:9000/datasets-uwf-edu/UWF-ZeekData24/parquet/2024-11-03 - 2024-11-10/part-00000-f078acc1-ab56-40a6-a6e1-99d780645c57-c000.snappy.parquet\",\n",
    "    \"hdfs://192.168.1.250:9000/datasets-uwf-edu/UWF-ZeekData22/parquet/2022-01-16 - 2022-01-23/part-00000-cbf26680-106d-40e7-8278-60520afdbb0e-c000.snappy.parquet\",\n",
    "    \"hdfs://192.168.1.250:9000/datasets-uwf-edu/UWF-ZeekData22/parquet/2022-02-06 - 2022-02-13/part-00000-df678a79-4a73-452b-8e72-d624b2732f17-c000.snappy.parquet\",\n",
    "    \"hdfs://192.168.1.250:9000/datasets-uwf-edu/UWF-ZeekData22/parquet/2022-02-13 - 2022-02-20/part-00000-1da06990-329c-4e38-913a-0f0aa39b388d-c000.snappy.parquet\"\n",
    "    ]\n",
    "\n",
    "# Define target Attack type\n",
    "valid_tactics = [\"Reconnaissance\", \"none\"]\n",
    "\n",
    "# Load and combine data, then shuffle\n",
    "def combine_and_shuffle_data(data_paths, random_seed=42):\n",
    "    # Load and combine all data\n",
    "    df_list = load_data(data_paths)\n",
    "\n",
    "    # Select relevant columns and fill na before combining\n",
    "    for i in range(len(df_list)):\n",
    "        df_list[i] = df_list[i].select(\"ts\", \"duration\", \"orig_bytes\", \"resp_bytes\", \"orig_ip_bytes\", \"resp_ip_bytes\", \"label_tactic\")\n",
    "        df_list[i] = df_list[i].fillna({\n",
    "            \"duration\": 0,\n",
    "            \"orig_bytes\": 0,\n",
    "            \"resp_bytes\": 0,\n",
    "            \"orig_ip_bytes\": 0,\n",
    "            \"resp_ip_bytes\": 0,\n",
    "            \"label_tactic\": \"none\"\n",
    "        })\n",
    "    # Combine all processed DataFrames\n",
    "    combined_df = df_list[0]\n",
    "    print(f\"Initial DataFrame row count: {combined_df.count()}\")\n",
    "    for df in df_list[1:]:\n",
    "        combined_df = combined_df.union(df)\n",
    "        i=0\n",
    "\n",
    "    # Shuffle the combined DataFrame\n",
    "    shuffled_df = combined_df.orderBy(F.rand(seed=random_seed))\n",
    "    print(f\"Row count after shuffling: {shuffled_df.count()}\")\n",
    "    \n",
    "    print(\"Data combined and shuffled successfully.\")\n",
    "    return shuffled_df\n",
    "\n",
    "# Combine and shuffle the data\n",
    "shuffled_df = combine_and_shuffle_data(data_paths)\n",
    "\n",
    "# Create a pseudo timestamp column with one-minute increments\n",
    "shuffled_df = shuffled_df.withColumn(\n",
    "    \"ts\",\n",
    "    F.unix_timestamp(F.current_timestamp()) + (F.row_number().over(Window.orderBy(F.rand())) * 60)\n",
    ")\n",
    "\n",
    "# Show the first few rows of the updated DataFrame\n",
    "shuffled_df.show(truncate=False)\n",
    "\n",
    "# Show the total count of rows\n",
    "print(f\"Total number of rows in the shuffled DataFrame: {shuffled_df.count()}\")\n",
    "\n",
    "# Add an index column to the DataFrame\n",
    "shuffled_df_with_index = shuffled_df.withColumn(\"row_index\", F.monotonically_increasing_id())\n",
    "\n",
    "# Split the DataFrame into chunks of 100,000 rows\n",
    "chunk_size = 100000\n",
    "dataframe_chunks = []\n",
    "\n",
    "for i in range(0, shuffled_df_with_index.count(), chunk_size):\n",
    "    chunk = shuffled_df_with_index.filter(\n",
    "        (F.col(\"row_index\") >= i) & (F.col(\"row_index\") < i + chunk_size)\n",
    "    ).drop(\"row_index\")  # Drop the index column after filtering\n",
    "    dataframe_chunks.append(chunk)\n",
    "\n",
    "# Print confirmation\n",
    "print(f\"Shuffled DataFrame split into {len(dataframe_chunks)} chunks of {chunk_size} rows each.\")\n",
    "\n",
    "shuffled_df = dataframe_chunks[2]  # Use the third chunk for further processing\n",
    "\n",
    "# Split the shuffled DataFrame into a Train and Test set using a 70/30 split\n",
    "train_test_split = shuffled_df.randomSplit([0.7, 0.3], seed=42)\n",
    "train_df = train_test_split[0]\n",
    "test_df = train_test_split[1]\n",
    "\n",
    "# Add the train and test DataFrames to a list\n",
    "train_test_list = [train_df, test_df]\n",
    "\n",
    "# Print confirmation\n",
    "print(\"Train and Test DataFrames added to train_test_list successfully.\")\n",
    "\n",
    "# Optional: Show the sizes of the train and test DataFrames\n",
    "print(f\"Training DataFrame size: {train_df.count()} rows\")\n",
    "print(f\"Testing DataFrame size: {test_df.count()} rows\")\n",
    "\n",
    "# Preprocess data for ARIMA model\n",
    "processed_df_list = process_data_ARIMA(train_test_list)\n",
    "\n",
    "# Define training and testing datasets for ARIMA model\n",
    "df_train_sample = processed_df_list[0]\n",
    "df_test_sample = processed_df_list[1]\n",
    "# Create original DataFrames for test set\n",
    "df_test_original = df_test_sample.copy()"
   ]
  },
  {
   "cell_type": "markdown",
   "id": "4e107e00",
   "metadata": {},
   "source": [
    "<span style = \"color:blue; font-size:24px\">Preprocessing for Decision Tree</span>"
   ]
  },
  {
   "cell_type": "code",
   "execution_count": 2,
   "id": "fc80e77e",
   "metadata": {},
   "outputs": [
    {
     "name": "stdout",
     "output_type": "stream",
     "text": [
      "Schema of decision_train_sample:\n",
      "root\n",
      " |-- ts: double (nullable = true)\n",
      " |-- duration: double (nullable = false)\n",
      " |-- orig_bytes: long (nullable = false)\n",
      " |-- resp_bytes: long (nullable = false)\n",
      " |-- orig_ip_bytes: long (nullable = false)\n",
      " |-- resp_ip_bytes: long (nullable = false)\n",
      " |-- label_tactic: string (nullable = false)\n",
      "\n",
      "Schema of decision_test_sample:\n",
      "root\n",
      " |-- ts: double (nullable = true)\n",
      " |-- duration: double (nullable = false)\n",
      " |-- orig_bytes: long (nullable = false)\n",
      " |-- resp_bytes: long (nullable = false)\n",
      " |-- orig_ip_bytes: long (nullable = false)\n",
      " |-- resp_ip_bytes: long (nullable = false)\n",
      " |-- label_tactic: string (nullable = false)\n",
      "\n",
      "\n",
      "First few rows of decision_train_sample:\n"
     ]
    },
    {
     "name": "stderr",
     "output_type": "stream",
     "text": [
      "25/04/03 08:46:39 WARN WindowExec: No Partition Defined for Window operation! Moving all data to a single partition, this can cause serious performance degradation.\n",
      "25/04/03 08:46:39 WARN WindowExec: No Partition Defined for Window operation! Moving all data to a single partition, this can cause serious performance degradation.\n",
      "25/04/03 08:46:39 WARN WindowExec: No Partition Defined for Window operation! Moving all data to a single partition, this can cause serious performance degradation.\n",
      "25/04/03 08:46:49 WARN WindowExec: No Partition Defined for Window operation! Moving all data to a single partition, this can cause serious performance degradation.\n",
      "25/04/03 08:46:49 WARN WindowExec: No Partition Defined for Window operation! Moving all data to a single partition, this can cause serious performance degradation.\n",
      "25/04/03 08:46:51 WARN WindowExec: No Partition Defined for Window operation! Moving all data to a single partition, this can cause serious performance degradation.\n",
      "25/04/03 08:46:51 WARN WindowExec: No Partition Defined for Window operation! Moving all data to a single partition, this can cause serious performance degradation.\n",
      "25/04/03 08:47:00 WARN WindowExec: No Partition Defined for Window operation! Moving all data to a single partition, this can cause serious performance degradation.\n",
      "25/04/03 08:47:00 WARN WindowExec: No Partition Defined for Window operation! Moving all data to a single partition, this can cause serious performance degradation.\n",
      "25/04/03 08:47:00 WARN WindowExec: No Partition Defined for Window operation! Moving all data to a single partition, this can cause serious performance degradation.\n"
     ]
    },
    {
     "name": "stdout",
     "output_type": "stream",
     "text": [
      "+-------------+---------------------+----------+----------+-------------+-------------+-----------------+\n",
      "|ts           |duration             |orig_bytes|resp_bytes|orig_ip_bytes|resp_ip_bytes|label_tactic     |\n",
      "+-------------+---------------------+----------+----------+-------------+-------------+-----------------+\n",
      "|1.755688059E9|0.001934051513671875 |130       |130       |186          |186          |Reconnaissance   |\n",
      "|1.755688119E9|3.3092498779296875E-4|94        |0         |150          |0            |none             |\n",
      "|1.755688239E9|1.3899803161621094E-4|0         |0         |132          |0            |Reconnaissance   |\n",
      "|1.755688299E9|0.0                  |0         |0         |0            |67           |Reconnaissance   |\n",
      "|1.755688359E9|1.7380714416503906E-4|0         |0         |132          |0            |Reconnaissance   |\n",
      "|1.755688479E9|2.911090850830078E-4 |0         |0         |240          |160          |Reconnaissance   |\n",
      "|1.755688659E9|3.008842468261719E-4 |0         |0         |132          |0            |Reconnaissance   |\n",
      "|1.755688719E9|1.5020370483398438E-5|102       |0         |158          |0            |none             |\n",
      "|1.755688779E9|2.968311309814453E-4 |0         |0         |240          |0            |Reconnaissance   |\n",
      "|1.755689019E9|1.3589859008789062E-4|0         |0         |180          |0            |Reconnaissance   |\n",
      "|1.755689079E9|4.1103363037109375E-4|43        |43        |71           |71           |none             |\n",
      "|1.755689139E9|0.0237429141998291   |686       |11329     |4856         |47844        |Credential Access|\n",
      "|1.755689259E9|6.239414215087891E-4 |0         |0         |240          |0            |Reconnaissance   |\n",
      "|1.755689379E9|5.269050598144531E-4 |0         |0         |176          |0            |Reconnaissance   |\n",
      "|1.755689559E9|1.678466796875E-4    |0         |0         |180          |0            |Reconnaissance   |\n",
      "|1.755689619E9|9.930133819580078E-4 |0         |0         |176          |160          |Reconnaissance   |\n",
      "|1.755689679E9|2.799034118652344E-4 |0         |0         |240          |160          |Reconnaissance   |\n",
      "|1.755689919E9|0.024919986724853516 |686       |11329     |4856         |47844        |Credential Access|\n",
      "|1.755690039E9|0.03080582618713379  |686       |11329     |4856         |47844        |Credential Access|\n",
      "|1.755690219E9|0.001260995864868164 |0         |0         |176          |160          |Reconnaissance   |\n",
      "+-------------+---------------------+----------+----------+-------------+-------------+-----------------+\n",
      "only showing top 20 rows\n",
      "\n",
      "\n",
      "First few rows of decision_test_sample:\n"
     ]
    },
    {
     "name": "stderr",
     "output_type": "stream",
     "text": [
      "25/04/03 08:47:11 WARN WindowExec: No Partition Defined for Window operation! Moving all data to a single partition, this can cause serious performance degradation.\n",
      "25/04/03 08:47:11 WARN WindowExec: No Partition Defined for Window operation! Moving all data to a single partition, this can cause serious performance degradation.\n",
      "25/04/03 08:47:13 WARN WindowExec: No Partition Defined for Window operation! Moving all data to a single partition, this can cause serious performance degradation.\n",
      "25/04/03 08:47:13 WARN WindowExec: No Partition Defined for Window operation! Moving all data to a single partition, this can cause serious performance degradation.\n",
      "[Stage 105:>                                                        (0 + 1) / 1]"
     ]
    },
    {
     "name": "stdout",
     "output_type": "stream",
     "text": [
      "+------------+---------------------+----------+----------+-------------+-------------+-----------------+\n",
      "|ts          |duration             |orig_bytes|resp_bytes|orig_ip_bytes|resp_ip_bytes|label_tactic     |\n",
      "+------------+---------------------+----------+----------+-------------+-------------+-----------------+\n",
      "|1.7556882E9 |6.480216979980469E-4 |0         |0         |176          |160          |Reconnaissance   |\n",
      "|1.75568844E9|1.000877857208252    |0         |0         |360          |0            |Reconnaissance   |\n",
      "|1.75568856E9|4.420280456542969E-4 |0         |0         |240          |0            |Reconnaissance   |\n",
      "|1.75568862E9|5.578994750976562E-4 |0         |0         |176          |160          |Reconnaissance   |\n",
      "|1.75568886E9|0.0018270015716552734|0         |0         |176          |160          |Reconnaissance   |\n",
      "|1.75568892E9|7.328987121582031E-4 |0         |0         |88           |120          |Reconnaissance   |\n",
      "|1.75568898E9|3.5500526428222656E-4|0         |0         |176          |0            |Reconnaissance   |\n",
      "|1.75568922E9|4.260540008544922E-4 |0         |0         |176          |0            |Reconnaissance   |\n",
      "|1.75568934E9|3.001689910888672E-4 |0         |0         |180          |0            |Reconnaissance   |\n",
      "|1.75568946E9|0.0010328292846679688|0         |0         |176          |160          |Reconnaissance   |\n",
      "|1.75568952E9|4.298686981201172E-4 |0         |0         |176          |0            |Reconnaissance   |\n",
      "|1.75568976E9|8.518695831298828E-4 |0         |0         |176          |160          |Reconnaissance   |\n",
      "|1.75568982E9|0.0012178421020507812|58        |58        |86           |86           |none             |\n",
      "|1.75568988E9|2.4509429931640625E-4|0         |0         |176          |0            |Reconnaissance   |\n",
      "|1.75569E9   |3.528594970703125E-4 |0         |0         |176          |0            |Reconnaissance   |\n",
      "|1.75569012E9|0.02195906639099121  |686       |11329     |4856         |47844        |Credential Access|\n",
      "|1.75569018E9|4.5800209045410156E-4|0         |0         |240          |160          |Reconnaissance   |\n",
      "|1.75569042E9|2.70843505859375E-4  |0         |0         |132          |0            |Reconnaissance   |\n",
      "|1.7556906E9 |3.039836883544922E-4 |0         |0         |176          |0            |Reconnaissance   |\n",
      "|1.75569066E9|6.937980651855469E-4 |0         |0         |176          |160          |Reconnaissance   |\n",
      "+------------+---------------------+----------+----------+-------------+-------------+-----------------+\n",
      "only showing top 20 rows\n",
      "\n"
     ]
    },
    {
     "name": "stderr",
     "output_type": "stream",
     "text": [
      "                                                                                "
     ]
    }
   ],
   "source": [
    "# Spark imports\n",
    "import pyspark\n",
    "import numpy as np\n",
    "from pyspark.sql import SparkSession\n",
    "from pyspark.sql import functions as F\n",
    "from pyspark.sql.types import DoubleType, LongType, StringType\n",
    "from pyspark.sql.window import Window\n",
    "\n",
    "# Python imports\n",
    "import pandas as pd\n",
    "import matplotlib.pyplot as plt\n",
    "from sklearn.preprocessing import MultiLabelBinarizer\n",
    "from sklearn.metrics import confusion_matrix\n",
    "import seaborn as sns\n",
    "import openpyxl\n",
    "from openpyxl import Workbook\n",
    "import os\n",
    "\n",
    "# Function to load and preprocess data\n",
    "def preprocess_data_decision_tree(df):\n",
    "   #Select and cast relevant columns\n",
    "    df = df.select(\n",
    "        F.col(\"ts\").cast(DoubleType()),\n",
    "        F.col(\"duration\").cast(DoubleType()),\n",
    "        F.col(\"orig_bytes\").cast(LongType()),\n",
    "        F.col(\"resp_bytes\").cast(LongType()),\n",
    "        F.col(\"orig_ip_bytes\").cast(LongType()),\n",
    "        F.col(\"resp_ip_bytes\").cast(LongType()),\n",
    "        F.col(\"label_tactic\").cast(StringType())\n",
    "    )\n",
    "    # Fill missing values\n",
    "    df = df.fillna({\n",
    "        \"duration\": 0,\n",
    "        \"orig_bytes\": 0,\n",
    "        \"resp_bytes\": 0,\n",
    "        \"orig_ip_bytes\": 0,\n",
    "        \"resp_ip_bytes\": 0\n",
    "    })\n",
    "    return df\n",
    "    \n",
    "# Preprocess the train and test sampels\n",
    "decision_train_sample = preprocess_data_decision_tree(train_test_list[0])\n",
    "decision_test_sample = preprocess_data_decision_tree(train_test_list[1])\n",
    "\n",
    "# Print the schema of the DataFrame\n",
    "print(\"Schema of decision_train_sample:\")\n",
    "decision_train_sample.printSchema()\n",
    "\n",
    "print(\"Schema of decision_test_sample:\")\n",
    "decision_test_sample.printSchema()\n",
    "\n",
    "# Show the first few rows of the DataFrame\n",
    "print(\"\\nFirst few rows of decision_train_sample:\")\n",
    "decision_train_sample.show(truncate=False)\n",
    "print(\"\\nFirst few rows of decision_test_sample:\")\n",
    "decision_test_sample.show(truncate=False)\n"
   ]
  },
  {
   "cell_type": "code",
   "execution_count": 3,
   "id": "c4253235-8604-46bf-873a-b7324a32355d",
   "metadata": {},
   "outputs": [
    {
     "name": "stdout",
     "output_type": "stream",
     "text": [
      "Calling ARIMA Model Training function\n",
      "ADF Statistic: -120.186791\n",
      "p-value: 0.000000\n",
      "The time series is stationary (reject H0).\n",
      "Seasonality detected: True, Seasonal period: 5\n",
      "Finding the best ARIMA model...\n"
     ]
    },
    {
     "name": "stderr",
     "output_type": "stream",
     "text": [
      "/home/ubuntu/pyspark-venv/lib/python3.12/site-packages/statsmodels/base/model.py:607: ConvergenceWarning: Maximum Likelihood optimization failed to converge. Check mle_retvals\n",
      "  warnings.warn(\"Maximum Likelihood optimization failed to \"\n",
      "/home/ubuntu/pyspark-venv/lib/python3.12/site-packages/statsmodels/tsa/statespace/sarimax.py:966: UserWarning: Non-stationary starting autoregressive parameters found. Using zeros as starting parameters.\n",
      "  warn('Non-stationary starting autoregressive parameters'\n",
      "/home/ubuntu/pyspark-venv/lib/python3.12/site-packages/statsmodels/tsa/statespace/sarimax.py:978: UserWarning: Non-invertible starting MA parameters found. Using zeros as starting parameters.\n",
      "  warn('Non-invertible starting MA parameters found.'\n",
      "/home/ubuntu/pyspark-venv/lib/python3.12/site-packages/statsmodels/tsa/statespace/sarimax.py:966: UserWarning: Non-stationary starting autoregressive parameters found. Using zeros as starting parameters.\n",
      "  warn('Non-stationary starting autoregressive parameters'\n",
      "/home/ubuntu/pyspark-venv/lib/python3.12/site-packages/statsmodels/tsa/statespace/sarimax.py:978: UserWarning: Non-invertible starting MA parameters found. Using zeros as starting parameters.\n",
      "  warn('Non-invertible starting MA parameters found.'\n",
      "/home/ubuntu/pyspark-venv/lib/python3.12/site-packages/statsmodels/base/model.py:607: ConvergenceWarning: Maximum Likelihood optimization failed to converge. Check mle_retvals\n",
      "  warnings.warn(\"Maximum Likelihood optimization failed to \"\n",
      "/home/ubuntu/pyspark-venv/lib/python3.12/site-packages/statsmodels/base/model.py:607: ConvergenceWarning: Maximum Likelihood optimization failed to converge. Check mle_retvals\n",
      "  warnings.warn(\"Maximum Likelihood optimization failed to \"\n",
      "/home/ubuntu/pyspark-venv/lib/python3.12/site-packages/statsmodels/tsa/statespace/sarimax.py:966: UserWarning: Non-stationary starting autoregressive parameters found. Using zeros as starting parameters.\n",
      "  warn('Non-stationary starting autoregressive parameters'\n",
      "/home/ubuntu/pyspark-venv/lib/python3.12/site-packages/statsmodels/tsa/statespace/sarimax.py:978: UserWarning: Non-invertible starting MA parameters found. Using zeros as starting parameters.\n",
      "  warn('Non-invertible starting MA parameters found.'\n",
      "/home/ubuntu/pyspark-venv/lib/python3.12/site-packages/statsmodels/base/model.py:607: ConvergenceWarning: Maximum Likelihood optimization failed to converge. Check mle_retvals\n",
      "  warnings.warn(\"Maximum Likelihood optimization failed to \"\n",
      "/home/ubuntu/pyspark-venv/lib/python3.12/site-packages/statsmodels/base/model.py:607: ConvergenceWarning: Maximum Likelihood optimization failed to converge. Check mle_retvals\n",
      "  warnings.warn(\"Maximum Likelihood optimization failed to \"\n",
      "/home/ubuntu/pyspark-venv/lib/python3.12/site-packages/statsmodels/tsa/statespace/sarimax.py:966: UserWarning: Non-stationary starting autoregressive parameters found. Using zeros as starting parameters.\n",
      "  warn('Non-stationary starting autoregressive parameters'\n",
      "/home/ubuntu/pyspark-venv/lib/python3.12/site-packages/statsmodels/tsa/statespace/sarimax.py:978: UserWarning: Non-invertible starting MA parameters found. Using zeros as starting parameters.\n",
      "  warn('Non-invertible starting MA parameters found.'\n"
     ]
    },
    {
     "name": "stdout",
     "output_type": "stream",
     "text": [
      "Best ARIMA order: (1, 0, 1) with AIC: 157208.0531119837\n",
      "Forecasted values: 69941    0.464110\n",
      "69942    0.462622\n",
      "69943    0.463829\n",
      "69944    0.462850\n",
      "69945    0.463645\n",
      "           ...   \n",
      "99995    0.463288\n",
      "99996    0.463288\n",
      "99997    0.463288\n",
      "99998    0.463288\n",
      "99999    0.463288\n",
      "Name: predicted_mean, Length: 30059, dtype: float64\n",
      "Actual values: [0.         6.53233429 0.         ... 0.         0.         0.        ]\n",
      "Mean Absolute Error (MAE): 1.3693610697722594\n"
     ]
    },
    {
     "data": {
      "image/png": "[encoded data removed]",
      "text/plain": [
       "<Figure size 1200x600 with 1 Axes>"
      ]
     },
     "metadata": {},
     "output_type": "display_data"
    },
    {
     "name": "stdout",
     "output_type": "stream",
     "text": [
      "Calling Forecasted Data Processing Function\n",
      "Columns in forecast_df:\n",
      "Index(['Time', 'Actual', 'Forecast'], dtype='object')\n",
      "Columns in df_test_original:\n",
      "Index(['window_start', 'window_end', 'sum_duration', 'sum_orig_bytes',\n",
      "       'sum_resp_bytes', 'sum_orig_ip_bytes', 'sum_resp_ip_bytes',\n",
      "       'connection_count', 'label_tactic_binary_agg', 'label_tactic_split_agg',\n",
      "       'label_tactic_binary_encoded_agg', 'sum_orig_bytes_log'],\n",
      "      dtype='object')\n",
      "69941   2025-08-20 06:09:12\n",
      "69942   2025-08-20 06:13:12\n",
      "69943   2025-08-20 06:15:12\n",
      "69944   2025-08-20 06:16:12\n",
      "69945   2025-08-20 06:20:12\n",
      "Name: Time, dtype: datetime64[ns]\n",
      "\n",
      "Type of decision_test_sample: <class 'pyspark.sql.dataframe.DataFrame'>\n",
      "Type of filtered_result_df before conversion: <class 'pandas.core.frame.DataFrame'>\n",
      "\n",
      "Type of filtered_result_df after conversion: <class 'pyspark.sql.dataframe.DataFrame'>\n"
     ]
    }
   ],
   "source": [
    "# Import the functions from the Python script\n",
    "from arima_functions import train_arima_model, process_forecast\n",
    "# Import the functions from decision_tree_functions.py\n",
    "from decision_tree_functions import (\n",
    "    train_and_evaluate, \n",
    "    split_data, \n",
    "    train_test_2022_2022, \n",
    "    train_test_2024_2024, \n",
    "    train_2022_test_2024, \n",
    "    train_2024_test_2022, \n",
    "    train_test_2022_2022_oversampled, \n",
    "    train_test_2024_2024_oversampled, \n",
    "    train_2022_test_2024_oversampled, \n",
    "    train_2024_test_2022_oversampled\n",
    ")\n",
    "\n",
    "import pandas as pd\n",
    "\n",
    "# Assuming df_train_sample and df_test_sample are already defined\n",
    "# Call ARIMA Model Training Function\n",
    "print(\"Calling ARIMA Model Training function\")\n",
    "forecast_df = train_arima_model(df_train_sample, df_test_sample)\n",
    "\n",
    "# Call Forecasted Data Processing Function\n",
    "print(\"Calling Forecasted Data Processing Function\")\n",
    "filtered_result_df = process_forecast(df_test_original, forecast_df)\n",
    "\n",
    "# Print the datatypes of the inputs\n",
    "print(\"\\nType of decision_test_sample:\", type(decision_test_sample))\n",
    "print(\"Type of filtered_result_df before conversion:\", type(filtered_result_df))\n",
    "\n",
    "# Convert the DataFrames to Spark DataFrames\n",
    "filtered_result_df = spark.createDataFrame(filtered_result_df)\n",
    "print(\"\\nType of filtered_result_df after conversion:\", type(filtered_result_df))"
   ]
  },
  {
   "cell_type": "markdown",
   "id": "d18b3969",
   "metadata": {},
   "source": [
    "Decision Tree Training and Testing"
   ]
  },
  {
   "cell_type": "code",
   "execution_count": 4,
   "id": "82d457a5",
   "metadata": {},
   "outputs": [
    {
     "name": "stdout",
     "output_type": "stream",
     "text": [
      "Columns and types in train_df:\n",
      "root\n",
      " |-- ts: double (nullable = true)\n",
      " |-- duration: double (nullable = false)\n",
      " |-- orig_bytes: long (nullable = false)\n",
      " |-- resp_bytes: long (nullable = false)\n",
      " |-- orig_ip_bytes: long (nullable = false)\n",
      " |-- resp_ip_bytes: long (nullable = false)\n",
      " |-- label_tactic: string (nullable = false)\n",
      "\n",
      "\n",
      "Entire test_df:\n"
     ]
    },
    {
     "name": "stderr",
     "output_type": "stream",
     "text": [
      "25/04/03 08:58:35 WARN WindowExec: No Partition Defined for Window operation! Moving all data to a single partition, this can cause serious performance degradation.\n",
      "25/04/03 08:58:35 WARN WindowExec: No Partition Defined for Window operation! Moving all data to a single partition, this can cause serious performance degradation.\n",
      "25/04/03 08:58:35 WARN WindowExec: No Partition Defined for Window operation! Moving all data to a single partition, this can cause serious performance degradation.\n",
      "25/04/03 08:58:48 WARN WindowExec: No Partition Defined for Window operation! Moving all data to a single partition, this can cause serious performance degradation.\n",
      "25/04/03 08:58:48 WARN WindowExec: No Partition Defined for Window operation! Moving all data to a single partition, this can cause serious performance degradation.\n",
      "25/04/03 08:58:49 WARN WindowExec: No Partition Defined for Window operation! Moving all data to a single partition, this can cause serious performance degradation.\n",
      "25/04/03 08:58:49 WARN WindowExec: No Partition Defined for Window operation! Moving all data to a single partition, this can cause serious performance degradation.\n",
      "25/04/03 08:59:00 WARN WindowExec: No Partition Defined for Window operation! Moving all data to a single partition, this can cause serious performance degradation.\n",
      "25/04/03 08:59:00 WARN WindowExec: No Partition Defined for Window operation! Moving all data to a single partition, this can cause serious performance degradation.\n"
     ]
    },
    {
     "name": "stdout",
     "output_type": "stream",
     "text": [
      "+-------------+---------------------+----------+----------+-------------+-------------+-----------------+\n",
      "|ts           |duration             |orig_bytes|resp_bytes|orig_ip_bytes|resp_ip_bytes|label_tactic     |\n",
      "+-------------+---------------------+----------+----------+-------------+-------------+-----------------+\n",
      "|1.755688895E9|1.2391679286956787   |1056      |16681     |6544         |70292        |Credential Access|\n",
      "|1.755689135E9|9.022802829742432    |0         |0         |336          |528          |Reconnaissance   |\n",
      "|1.755689255E9|4.291534423828125E-4 |0         |0         |240          |0            |Reconnaissance   |\n",
      "|1.755689315E9|1.64031982421875E-4  |0         |0         |132          |0            |Reconnaissance   |\n",
      "|1.755689555E9|6.59942626953125E-4  |0         |0         |176          |160          |Reconnaissance   |\n",
      "|1.755689615E9|1.380443572998047E-4 |0         |0         |240          |0            |Reconnaissance   |\n",
      "|1.755689675E9|3.0994415283203125E-6|0         |78        |0            |134          |Reconnaissance   |\n",
      "|1.755689915E9|2.598762512207031E-4 |0         |0         |132          |0            |Reconnaissance   |\n",
      "|1.755690035E9|4.100799560546875E-5 |0         |0         |176          |160          |Reconnaissance   |\n",
      "|1.755690155E9|1.02996826171875E-4  |0         |0         |180          |0            |Reconnaissance   |\n",
      "|1.755690215E9|12.742920160293579   |0         |0         |240          |352          |Reconnaissance   |\n",
      "|1.755690455E9|5.011558532714844E-4 |0         |0         |240          |0            |Reconnaissance   |\n",
      "|1.755690515E9|1.9093208312988281   |1046      |16681     |6504         |70292        |Credential Access|\n",
      "|1.755690575E9|3.948211669921875E-4 |0         |0         |180          |0            |Reconnaissance   |\n",
      "|1.755690695E9|4.5800209045410156E-4|0         |0         |240          |160          |Reconnaissance   |\n",
      "|1.755690815E9|3.5190582275390625E-4|0         |0         |240          |160          |Reconnaissance   |\n",
      "|1.755690875E9|2.970695495605469E-4 |0         |0         |240          |0            |Reconnaissance   |\n",
      "|1.755691115E9|0.001438140869140625 |0         |0         |176          |160          |Reconnaissance   |\n",
      "|1.755691295E9|5.979537963867188E-4 |0         |0         |176          |0            |Reconnaissance   |\n",
      "|1.755691355E9|5.228519439697266E-4 |0         |0         |176          |0            |Reconnaissance   |\n",
      "+-------------+---------------------+----------+----------+-------------+-------------+-----------------+\n",
      "only showing top 20 rows\n",
      "\n",
      "Distinct label counts in train_df:\n"
     ]
    },
    {
     "name": "stderr",
     "output_type": "stream",
     "text": [
      "25/04/03 08:59:10 WARN WindowExec: No Partition Defined for Window operation! Moving all data to a single partition, this can cause serious performance degradation.\n",
      "25/04/03 08:59:10 WARN WindowExec: No Partition Defined for Window operation! Moving all data to a single partition, this can cause serious performance degradation.\n",
      "25/04/03 08:59:12 WARN WindowExec: No Partition Defined for Window operation! Moving all data to a single partition, this can cause serious performance degradation.\n",
      "25/04/03 08:59:12 WARN WindowExec: No Partition Defined for Window operation! Moving all data to a single partition, this can cause serious performance degradation.\n",
      "25/04/03 08:59:22 WARN WindowExec: No Partition Defined for Window operation! Moving all data to a single partition, this can cause serious performance degradation.\n",
      "25/04/03 08:59:22 WARN WindowExec: No Partition Defined for Window operation! Moving all data to a single partition, this can cause serious performance degradation.\n"
     ]
    },
    {
     "name": "stdout",
     "output_type": "stream",
     "text": [
      "+--------------------+-----+\n",
      "|        label_tactic|count|\n",
      "+--------------------+-----+\n",
      "|      Reconnaissance|56551|\n",
      "|   Credential Access| 5257|\n",
      "|                none| 7956|\n",
      "|      Initial Access|   63|\n",
      "|         Persistence|   31|\n",
      "|     Defense Evasion|   35|\n",
      "|           Discovery|    8|\n",
      "|Privilege Escalation|   33|\n",
      "|        Exfiltration|    7|\n",
      "+--------------------+-----+\n",
      "\n",
      "Distinct label counts in test_df:\n"
     ]
    },
    {
     "name": "stderr",
     "output_type": "stream",
     "text": [
      "25/04/03 08:59:31 WARN WindowExec: No Partition Defined for Window operation! Moving all data to a single partition, this can cause serious performance degradation.\n",
      "25/04/03 08:59:31 WARN WindowExec: No Partition Defined for Window operation! Moving all data to a single partition, this can cause serious performance degradation.\n",
      "25/04/03 08:59:32 WARN WindowExec: No Partition Defined for Window operation! Moving all data to a single partition, this can cause serious performance degradation.\n",
      "25/04/03 08:59:32 WARN WindowExec: No Partition Defined for Window operation! Moving all data to a single partition, this can cause serious performance degradation.\n",
      "                                                                                "
     ]
    },
    {
     "name": "stdout",
     "output_type": "stream",
     "text": [
      "+--------------------+-----+\n",
      "|        label_tactic|count|\n",
      "+--------------------+-----+\n",
      "|                none| 3386|\n",
      "|      Reconnaissance|24372|\n",
      "|   Credential Access| 2210|\n",
      "|     Defense Evasion|   19|\n",
      "|         Persistence|   21|\n",
      "|      Initial Access|   28|\n",
      "|Privilege Escalation|   18|\n",
      "|           Discovery|    3|\n",
      "|        Exfiltration|    2|\n",
      "+--------------------+-----+\n",
      "\n"
     ]
    },
    {
     "name": "stderr",
     "output_type": "stream",
     "text": [
      "25/04/03 08:59:46 WARN WindowExec: No Partition Defined for Window operation! Moving all data to a single partition, this can cause serious performance degradation.\n",
      "25/04/03 08:59:46 WARN WindowExec: No Partition Defined for Window operation! Moving all data to a single partition, this can cause serious performance degradation.\n",
      "25/04/03 08:59:46 WARN WindowExec: No Partition Defined for Window operation! Moving all data to a single partition, this can cause serious performance degradation.\n",
      "25/04/03 08:59:56 WARN WindowExec: No Partition Defined for Window operation! Moving all data to a single partition, this can cause serious performance degradation.\n",
      "25/04/03 08:59:56 WARN WindowExec: No Partition Defined for Window operation! Moving all data to a single partition, this can cause serious performance degradation.\n",
      "25/04/03 08:59:58 WARN WindowExec: No Partition Defined for Window operation! Moving all data to a single partition, this can cause serious performance degradation.\n",
      "25/04/03 08:59:58 WARN WindowExec: No Partition Defined for Window operation! Moving all data to a single partition, this can cause serious performance degradation.\n",
      "25/04/03 08:59:58 WARN WindowExec: No Partition Defined for Window operation! Moving all data to a single partition, this can cause serious performance degradation.\n",
      "25/04/03 08:59:58 WARN WindowExec: No Partition Defined for Window operation! Moving all data to a single partition, this can cause serious performance degradation.\n",
      "25/04/03 09:00:07 WARN WindowExec: No Partition Defined for Window operation! Moving all data to a single partition, this can cause serious performance degradation.\n",
      "25/04/03 09:00:07 WARN WindowExec: No Partition Defined for Window operation! Moving all data to a single partition, this can cause serious performance degradation.\n",
      "25/04/03 09:00:09 WARN WindowExec: No Partition Defined for Window operation! Moving all data to a single partition, this can cause serious performance degradation.\n",
      "25/04/03 09:00:09 WARN WindowExec: No Partition Defined for Window operation! Moving all data to a single partition, this can cause serious performance degradation.\n",
      "25/04/03 09:00:19 WARN WindowExec: No Partition Defined for Window operation! Moving all data to a single partition, this can cause serious performance degradation.\n",
      "25/04/03 09:00:19 WARN WindowExec: No Partition Defined for Window operation! Moving all data to a single partition, this can cause serious performance degradation.\n",
      "25/04/03 09:00:19 WARN WindowExec: No Partition Defined for Window operation! Moving all data to a single partition, this can cause serious performance degradation.\n",
      "25/04/03 09:00:27 WARN WindowExec: No Partition Defined for Window operation! Moving all data to a single partition, this can cause serious performance degradation.\n",
      "25/04/03 09:00:27 WARN WindowExec: No Partition Defined for Window operation! Moving all data to a single partition, this can cause serious performance degradation.\n",
      "25/04/03 09:00:29 WARN WindowExec: No Partition Defined for Window operation! Moving all data to a single partition, this can cause serious performance degradation.\n",
      "25/04/03 09:00:29 WARN WindowExec: No Partition Defined for Window operation! Moving all data to a single partition, this can cause serious performance degradation.\n",
      "25/04/03 09:01:09 WARN WindowExec: No Partition Defined for Window operation! Moving all data to a single partition, this can cause serious performance degradation.\n",
      "25/04/03 09:01:09 WARN WindowExec: No Partition Defined for Window operation! Moving all data to a single partition, this can cause serious performance degradation.\n",
      "25/04/03 09:01:09 WARN WindowExec: No Partition Defined for Window operation! Moving all data to a single partition, this can cause serious performance degradation.\n",
      "25/04/03 09:01:18 WARN WindowExec: No Partition Defined for Window operation! Moving all data to a single partition, this can cause serious performance degradation.\n",
      "25/04/03 09:01:18 WARN WindowExec: No Partition Defined for Window operation! Moving all data to a single partition, this can cause serious performance degradation.\n",
      "25/04/03 09:01:20 WARN WindowExec: No Partition Defined for Window operation! Moving all data to a single partition, this can cause serious performance degradation.\n",
      "25/04/03 09:01:20 WARN WindowExec: No Partition Defined for Window operation! Moving all data to a single partition, this can cause serious performance degradation.\n",
      "25/04/03 09:01:34 WARN WindowExec: No Partition Defined for Window operation! Moving all data to a single partition, this can cause serious performance degradation.\n",
      "25/04/03 09:01:34 WARN WindowExec: No Partition Defined for Window operation! Moving all data to a single partition, this can cause serious performance degradation.\n",
      "25/04/03 09:01:34 WARN WindowExec: No Partition Defined for Window operation! Moving all data to a single partition, this can cause serious performance degradation.\n",
      "25/04/03 09:01:45 WARN WindowExec: No Partition Defined for Window operation! Moving all data to a single partition, this can cause serious performance degradation.\n",
      "25/04/03 09:01:45 WARN WindowExec: No Partition Defined for Window operation! Moving all data to a single partition, this can cause serious performance degradation.\n",
      "25/04/03 09:01:47 WARN WindowExec: No Partition Defined for Window operation! Moving all data to a single partition, this can cause serious performance degradation.\n",
      "25/04/03 09:01:47 WARN WindowExec: No Partition Defined for Window operation! Moving all data to a single partition, this can cause serious performance degradation.\n",
      "25/04/03 09:01:59 WARN WindowExec: No Partition Defined for Window operation! Moving all data to a single partition, this can cause serious performance degradation.\n",
      "25/04/03 09:01:59 WARN WindowExec: No Partition Defined for Window operation! Moving all data to a single partition, this can cause serious performance degradation.\n",
      "25/04/03 09:01:59 WARN WindowExec: No Partition Defined for Window operation! Moving all data to a single partition, this can cause serious performance degradation.\n",
      "25/04/03 09:02:08 WARN WindowExec: No Partition Defined for Window operation! Moving all data to a single partition, this can cause serious performance degradation.\n",
      "25/04/03 09:02:08 WARN WindowExec: No Partition Defined for Window operation! Moving all data to a single partition, this can cause serious performance degradation.\n",
      "25/04/03 09:02:10 WARN WindowExec: No Partition Defined for Window operation! Moving all data to a single partition, this can cause serious performance degradation.\n",
      "25/04/03 09:02:10 WARN WindowExec: No Partition Defined for Window operation! Moving all data to a single partition, this can cause serious performance degradation.\n",
      "25/04/03 09:02:19 WARN WindowExec: No Partition Defined for Window operation! Moving all data to a single partition, this can cause serious performance degradation.\n",
      "25/04/03 09:02:19 WARN WindowExec: No Partition Defined for Window operation! Moving all data to a single partition, this can cause serious performance degradation.\n",
      "25/04/03 09:02:19 WARN WindowExec: No Partition Defined for Window operation! Moving all data to a single partition, this can cause serious performance degradation.\n",
      "25/04/03 09:02:29 WARN WindowExec: No Partition Defined for Window operation! Moving all data to a single partition, this can cause serious performance degradation.\n",
      "25/04/03 09:02:29 WARN WindowExec: No Partition Defined for Window operation! Moving all data to a single partition, this can cause serious performance degradation.\n",
      "25/04/03 09:02:30 WARN WindowExec: No Partition Defined for Window operation! Moving all data to a single partition, this can cause serious performance degradation.\n",
      "25/04/03 09:02:30 WARN WindowExec: No Partition Defined for Window operation! Moving all data to a single partition, this can cause serious performance degradation.\n",
      "25/04/03 09:02:41 WARN WindowExec: No Partition Defined for Window operation! Moving all data to a single partition, this can cause serious performance degradation.\n",
      "25/04/03 09:02:41 WARN WindowExec: No Partition Defined for Window operation! Moving all data to a single partition, this can cause serious performance degradation.\n",
      "25/04/03 09:02:41 WARN WindowExec: No Partition Defined for Window operation! Moving all data to a single partition, this can cause serious performance degradation.\n"
     ]
    },
    {
     "name": "stdout",
     "output_type": "stream",
     "text": [
      "\n",
      "Model for label_tactic: Reconnaissance\n",
      "Accuracy: 0.991516683855085\n",
      "Precision: 0.9922751871305635\n",
      "Recall: 0.9916497554808876\n",
      "F1 Score: 0.991319525562578\n",
      "\n",
      "Predictions for each row in the test dataframe:\n"
     ]
    },
    {
     "name": "stderr",
     "output_type": "stream",
     "text": [
      "25/04/03 09:02:50 WARN WindowExec: No Partition Defined for Window operation! Moving all data to a single partition, this can cause serious performance degradation.\n",
      "25/04/03 09:02:50 WARN WindowExec: No Partition Defined for Window operation! Moving all data to a single partition, this can cause serious performance degradation.\n",
      "25/04/03 09:02:51 WARN WindowExec: No Partition Defined for Window operation! Moving all data to a single partition, this can cause serious performance degradation.\n",
      "25/04/03 09:02:51 WARN WindowExec: No Partition Defined for Window operation! Moving all data to a single partition, this can cause serious performance degradation.\n",
      "25/04/03 09:03:02 WARN WindowExec: No Partition Defined for Window operation! Moving all data to a single partition, this can cause serious performance degradation.\n",
      "25/04/03 09:03:02 WARN WindowExec: No Partition Defined for Window operation! Moving all data to a single partition, this can cause serious performance degradation.\n",
      "25/04/03 09:03:02 WARN WindowExec: No Partition Defined for Window operation! Moving all data to a single partition, this can cause serious performance degradation.\n"
     ]
    },
    {
     "name": "stdout",
     "output_type": "stream",
     "text": [
      "+-------------------------------------------------+-----+----------+\n",
      "|features                                         |label|prediction|\n",
      "+-------------------------------------------------+-----+----------+\n",
      "|(5,[0,3],[4.849433898925781E-4,176.0])           |1    |1.0       |\n",
      "|(5,[0,3],[2.498626708984375E-4,132.0])           |1    |1.0       |\n",
      "|(5,[0,3],[3.190040588378906E-4,180.0])           |1    |1.0       |\n",
      "|[0.0010521411895751953,0.0,0.0,176.0,160.0]      |1    |1.0       |\n",
      "|(5,[0,3],[6.210803985595703E-4,240.0])           |1    |1.0       |\n",
      "|[8.599758148193359E-4,0.0,0.0,240.0,160.0]       |1    |1.0       |\n",
      "|(5,[0,3],[3.886222839355469E-5,180.0])           |1    |1.0       |\n",
      "|(5,[0,3],[1.5282630920410156E-4,180.0])          |1    |1.0       |\n",
      "|(5,[0,3],[2.551078796386719E-4,240.0])           |1    |1.0       |\n",
      "|(5,[0,3],[2.3889541625976562E-4,132.0])          |1    |1.0       |\n",
      "|[1.517259120941162,1048.0,16681.0,6928.0,70292.0]|0    |0.0       |\n",
      "|(5,[0,3],[2.918243408203125E-4,132.0])           |1    |1.0       |\n",
      "|[5.679130554199219E-4,0.0,0.0,240.0,160.0]       |1    |1.0       |\n",
      "|[5.481243133544922E-4,0.0,0.0,176.0,160.0]       |1    |1.0       |\n",
      "|[0.001786947250366211,0.0,0.0,176.0,160.0]       |1    |1.0       |\n",
      "|(5,[0,3],[2.410411834716797E-4,240.0])           |1    |1.0       |\n",
      "|[0.0010368824005126953,0.0,0.0,176.0,160.0]      |1    |1.0       |\n",
      "|[0.005136966705322266,163.0,163.0,247.0,247.0]   |0    |0.0       |\n",
      "|[5.071163177490234E-4,0.0,0.0,176.0,160.0]       |1    |1.0       |\n",
      "|[6.089210510253906E-4,49.0,49.0,77.0,77.0]       |0    |0.0       |\n",
      "+-------------------------------------------------+-----+----------+\n",
      "only showing top 20 rows\n",
      "\n"
     ]
    },
    {
     "name": "stderr",
     "output_type": "stream",
     "text": [
      "25/04/03 09:03:12 WARN WindowExec: No Partition Defined for Window operation! Moving all data to a single partition, this can cause serious performance degradation.\n",
      "25/04/03 09:03:12 WARN WindowExec: No Partition Defined for Window operation! Moving all data to a single partition, this can cause serious performance degradation.\n",
      "25/04/03 09:03:15 WARN WindowExec: No Partition Defined for Window operation! Moving all data to a single partition, this can cause serious performance degradation.\n",
      "25/04/03 09:03:15 WARN WindowExec: No Partition Defined for Window operation! Moving all data to a single partition, this can cause serious performance degradation.\n",
      "25/04/03 09:03:28 WARN WindowExec: No Partition Defined for Window operation! Moving all data to a single partition, this can cause serious performance degradation.\n",
      "25/04/03 09:03:28 WARN WindowExec: No Partition Defined for Window operation! Moving all data to a single partition, this can cause serious performance degradation.\n",
      "25/04/03 09:03:28 WARN WindowExec: No Partition Defined for Window operation! Moving all data to a single partition, this can cause serious performance degradation.\n",
      "25/04/03 09:03:38 WARN WindowExec: No Partition Defined for Window operation! Moving all data to a single partition, this can cause serious performance degradation.\n",
      "25/04/03 09:03:38 WARN WindowExec: No Partition Defined for Window operation! Moving all data to a single partition, this can cause serious performance degradation.\n",
      "25/04/03 09:03:40 WARN WindowExec: No Partition Defined for Window operation! Moving all data to a single partition, this can cause serious performance degradation.\n",
      "25/04/03 09:03:40 WARN WindowExec: No Partition Defined for Window operation! Moving all data to a single partition, this can cause serious performance degradation.\n",
      "                                                                                "
     ]
    },
    {
     "name": "stdout",
     "output_type": "stream",
     "text": [
      "Length of y_true: 30059\n",
      "Length of y_pred: 30059\n",
      "Number of missing values in y_true: 0\n",
      "Number of missing values in y_pred: 0\n"
     ]
    },
    {
     "data": {
      "image/png": "[encoded data removed]",
      "text/plain": [
       "<Figure size 1000x700 with 2 Axes>"
      ]
     },
     "metadata": {},
     "output_type": "display_data"
    },
    {
     "name": "stdout",
     "output_type": "stream",
     "text": [
      "Confusion Matrix plotted.\n"
     ]
    }
   ],
   "source": [
    "#train_df, test_df, tactic, train_year, test_year, split_ratio\n",
    "\n",
    "train_df = decision_train_sample\n",
    "test_df = decision_test_sample\n",
    "\n",
    "# Define the parameters\n",
    "#tactic = \"Credential Access\"\n",
    "tactic = \"Reconnaissance\"\n",
    "\n",
    "train_year = \"2024_2022\"\n",
    "\n",
    "test_year = \"2024_2022\"\n",
    "\n",
    "split_ratio = \"1\"\n",
    "\n",
    "# Print the columns and their types for train_df\n",
    "print(\"Columns and types in train_df:\")\n",
    "train_df.printSchema()\n",
    "\n",
    "# Print the test_df\n",
    "print(\"\\nEntire test_df:\")\n",
    "test_df.show(truncate=False)\n",
    "\n",
    "#Show the distinct label counts\n",
    "print(\"Distinct label counts in train_df:\")\n",
    "train_df.groupBy(\"label_tactic\").count().show()\n",
    "print(\"Distinct label counts in test_df:\")\n",
    "test_df.groupBy(\"label_tactic\").count().show()\n",
    "\n",
    "# Call the train_and_evaluate function\n",
    "train_and_evaluate(train_df, test_df, tactic, train_year, test_year, split_ratio)"
   ]
  },
  {
   "cell_type": "markdown",
   "id": "30f52133",
   "metadata": {},
   "source": [
    "<span style = \"color:blue; font-size:24px\">Training with 2024 and 2022 Combined Data & Testing with ARIMA Result Dataframe</span>"
   ]
  },
  {
   "cell_type": "code",
   "execution_count": 5,
   "id": "4591e63a-72ef-4536-b7ac-59631b65f5bc",
   "metadata": {},
   "outputs": [
    {
     "name": "stdout",
     "output_type": "stream",
     "text": [
      "Columns and types in train_df:\n",
      "root\n",
      " |-- ts: double (nullable = true)\n",
      " |-- duration: double (nullable = false)\n",
      " |-- orig_bytes: long (nullable = false)\n",
      " |-- resp_bytes: long (nullable = false)\n",
      " |-- orig_ip_bytes: long (nullable = false)\n",
      " |-- resp_ip_bytes: long (nullable = false)\n",
      " |-- label_tactic: string (nullable = false)\n",
      "\n",
      "\n",
      "Entire test_df:\n"
     ]
    },
    {
     "name": "stderr",
     "output_type": "stream",
     "text": [
      "25/04/03 09:03:51 WARN WindowExec: No Partition Defined for Window operation! Moving all data to a single partition, this can cause serious performance degradation.\n",
      "25/04/03 09:03:51 WARN WindowExec: No Partition Defined for Window operation! Moving all data to a single partition, this can cause serious performance degradation.\n"
     ]
    },
    {
     "name": "stdout",
     "output_type": "stream",
     "text": [
      "+-------------------+-------------------+---------------------+-------------------+------+----------+----------+-------------+-------------+--------------+\n",
      "|window_start       |window_start       |duration             |Forecast           |Actual|orig_bytes|resp_bytes|orig_ip_bytes|resp_ip_bytes|label_tactic  |\n",
      "+-------------------+-------------------+---------------------+-------------------+------+----------+----------+-------------+-------------+--------------+\n",
      "|2025-08-20 06:09:12|2025-08-20 06:09:12|3.3402442932128906E-4|0.4641096667358477 |0.0   |0         |0         |176          |0            |Reconnaissance|\n",
      "|2025-08-20 06:15:12|2025-08-20 06:15:12|5.970001220703125E-4 |0.4638292494512467 |0.0   |0         |0         |176          |160          |Reconnaissance|\n",
      "|2025-08-20 06:16:12|2025-08-20 06:16:12|6.449222564697266E-4 |0.4628495408098524 |0.0   |0         |0         |176          |160          |Reconnaissance|\n",
      "|2025-08-20 06:21:12|2025-08-20 06:21:12|4.169940948486328E-4 |0.4629993235489846 |0.0   |0         |0         |240          |0            |Reconnaissance|\n",
      "|2025-08-20 06:22:12|2025-08-20 06:22:12|3.669261932373047E-4 |0.46352297322431946|0.0   |0         |0         |132          |0            |Reconnaissance|\n",
      "|2025-08-20 06:26:12|2025-08-20 06:26:12|2.448558807373047E-4 |0.46309798406560626|0.0   |0         |0         |132          |0            |Reconnaissance|\n",
      "|2025-08-20 06:28:12|2025-08-20 06:28:12|5.869865417480469E-4 |0.4634428802084605 |0.0   |0         |0         |176          |160          |Reconnaissance|\n",
      "|2025-08-20 06:30:12|2025-08-20 06:30:12|5.190372467041016E-4 |0.46316296895946424|0.0   |0         |0         |120          |0            |none          |\n",
      "|2025-08-20 06:35:12|2025-08-20 06:35:12|9.341239929199219E-4 |0.46320577185523404|0.0   |0         |0         |176          |160          |Reconnaissance|\n",
      "|2025-08-20 06:37:12|2025-08-20 06:37:12|5.221366882324219E-4 |0.4632339640202319 |0.0   |0         |0         |176          |160          |Reconnaissance|\n",
      "|2025-08-20 06:39:12|2025-08-20 06:39:12|2.3698806762695312E-4|0.46333250715233726|0.0   |0         |0         |132          |0            |Reconnaissance|\n",
      "|2025-08-20 06:41:12|2025-08-20 06:41:12|9.100437164306641E-4 |0.46325253266076005|0.0   |0         |0         |176          |160          |Reconnaissance|\n",
      "|2025-08-20 06:42:12|2025-08-20 06:42:12|5.269050598144531E-4 |0.4633174366845065 |0.0   |0         |0         |120          |0            |none          |\n",
      "|2025-08-20 06:49:12|2025-08-20 06:49:12|1.25885009765625E-4  |0.4633075108331811 |0.0   |0         |0         |240          |0            |Reconnaissance|\n",
      "|2025-08-20 06:52:12|2025-08-20 06:52:12|2.86102294921875E-6  |0.4633009733578426 |0.0   |0         |78        |0            |134          |Reconnaissance|\n",
      "|2025-08-20 06:53:12|2025-08-20 06:53:12|1.0013580322265625E-5|0.4632781234302348 |0.0   |0         |0         |240          |0            |Reconnaissance|\n",
      "|2025-08-20 06:54:12|2025-08-20 06:54:12|1.9693374633789062E-4|0.46329666756436727|0.0   |0         |0         |132          |0            |Reconnaissance|\n",
      "|2025-08-20 06:58:12|2025-08-20 06:58:12|7.829666137695312E-4 |0.46329383162542437|0.0   |0         |0         |176          |160          |Reconnaissance|\n",
      "|2025-08-20 07:02:12|2025-08-20 07:02:12|4.3392181396484375E-4|0.46328391933289287|0.0   |0         |0         |176          |0            |Reconnaissance|\n",
      "|2025-08-20 07:03:12|2025-08-20 07:03:12|2.880096435546875E-4 |0.4632919637800589 |0.0   |0         |0         |240          |0            |Reconnaissance|\n",
      "+-------------------+-------------------+---------------------+-------------------+------+----------+----------+-------------+-------------+--------------+\n",
      "only showing top 20 rows\n",
      "\n",
      "Distinct label counts in train_df:\n"
     ]
    },
    {
     "name": "stderr",
     "output_type": "stream",
     "text": [
      "25/04/03 09:04:00 WARN WindowExec: No Partition Defined for Window operation! Moving all data to a single partition, this can cause serious performance degradation.\n",
      "25/04/03 09:04:00 WARN WindowExec: No Partition Defined for Window operation! Moving all data to a single partition, this can cause serious performance degradation.\n",
      "25/04/03 09:04:02 WARN WindowExec: No Partition Defined for Window operation! Moving all data to a single partition, this can cause serious performance degradation.\n",
      "25/04/03 09:04:02 WARN WindowExec: No Partition Defined for Window operation! Moving all data to a single partition, this can cause serious performance degradation.\n",
      "                                                                                "
     ]
    },
    {
     "name": "stdout",
     "output_type": "stream",
     "text": [
      "+--------------+-----+\n",
      "|  label_tactic|count|\n",
      "+--------------+-----+\n",
      "|Reconnaissance|24283|\n",
      "|          none| 3394|\n",
      "+--------------+-----+\n",
      "\n",
      "Distinct label counts in test_df:\n"
     ]
    },
    {
     "name": "stderr",
     "output_type": "stream",
     "text": [
      "                                                                                "
     ]
    },
    {
     "name": "stdout",
     "output_type": "stream",
     "text": [
      "+--------------+-----+\n",
      "|  label_tactic|count|\n",
      "+--------------+-----+\n",
      "|          none|  382|\n",
      "|Reconnaissance|23366|\n",
      "+--------------+-----+\n",
      "\n"
     ]
    },
    {
     "name": "stderr",
     "output_type": "stream",
     "text": [
      "25/04/03 09:04:15 WARN WindowExec: No Partition Defined for Window operation! Moving all data to a single partition, this can cause serious performance degradation.\n",
      "25/04/03 09:04:15 WARN WindowExec: No Partition Defined for Window operation! Moving all data to a single partition, this can cause serious performance degradation.\n",
      "25/04/03 09:04:15 WARN WindowExec: No Partition Defined for Window operation! Moving all data to a single partition, this can cause serious performance degradation.\n",
      "25/04/03 09:04:25 WARN WindowExec: No Partition Defined for Window operation! Moving all data to a single partition, this can cause serious performance degradation.\n",
      "25/04/03 09:04:25 WARN WindowExec: No Partition Defined for Window operation! Moving all data to a single partition, this can cause serious performance degradation.\n",
      "25/04/03 09:04:27 WARN WindowExec: No Partition Defined for Window operation! Moving all data to a single partition, this can cause serious performance degradation.\n",
      "25/04/03 09:04:27 WARN WindowExec: No Partition Defined for Window operation! Moving all data to a single partition, this can cause serious performance degradation.\n",
      "25/04/03 09:04:27 WARN WindowExec: No Partition Defined for Window operation! Moving all data to a single partition, this can cause serious performance degradation.\n",
      "25/04/03 09:04:27 WARN WindowExec: No Partition Defined for Window operation! Moving all data to a single partition, this can cause serious performance degradation.\n",
      "25/04/03 09:04:37 WARN WindowExec: No Partition Defined for Window operation! Moving all data to a single partition, this can cause serious performance degradation.\n",
      "25/04/03 09:04:37 WARN WindowExec: No Partition Defined for Window operation! Moving all data to a single partition, this can cause serious performance degradation.\n",
      "25/04/03 09:04:38 WARN WindowExec: No Partition Defined for Window operation! Moving all data to a single partition, this can cause serious performance degradation.\n",
      "25/04/03 09:04:38 WARN WindowExec: No Partition Defined for Window operation! Moving all data to a single partition, this can cause serious performance degradation.\n",
      "25/04/03 09:04:47 WARN WindowExec: No Partition Defined for Window operation! Moving all data to a single partition, this can cause serious performance degradation.\n",
      "25/04/03 09:04:47 WARN WindowExec: No Partition Defined for Window operation! Moving all data to a single partition, this can cause serious performance degradation.\n",
      "25/04/03 09:04:47 WARN WindowExec: No Partition Defined for Window operation! Moving all data to a single partition, this can cause serious performance degradation.\n",
      "25/04/03 09:04:57 WARN WindowExec: No Partition Defined for Window operation! Moving all data to a single partition, this can cause serious performance degradation.\n",
      "25/04/03 09:04:57 WARN WindowExec: No Partition Defined for Window operation! Moving all data to a single partition, this can cause serious performance degradation.\n",
      "25/04/03 09:04:59 WARN WindowExec: No Partition Defined for Window operation! Moving all data to a single partition, this can cause serious performance degradation.\n",
      "25/04/03 09:04:59 WARN WindowExec: No Partition Defined for Window operation! Moving all data to a single partition, this can cause serious performance degradation.\n",
      "                                                                                "
     ]
    },
    {
     "name": "stdout",
     "output_type": "stream",
     "text": [
      "\n",
      "Model for label_tactic: Reconnaissance\n",
      "Accuracy: 0.9948206164729662\n",
      "Precision: 0.9949289356945763\n",
      "Recall: 0.9948206164729662\n",
      "F1 Score: 0.9948696506639401\n",
      "\n",
      "Predictions for each row in the test dataframe:\n",
      "+------------------------------------------+-----+----------+\n",
      "|features                                  |label|prediction|\n",
      "+------------------------------------------+-----+----------+\n",
      "|(5,[0,3],[3.3402442932128906E-4,176.0])   |1    |1.0       |\n",
      "|[5.970001220703125E-4,0.0,0.0,176.0,160.0]|1    |1.0       |\n",
      "|[6.449222564697266E-4,0.0,0.0,176.0,160.0]|1    |1.0       |\n",
      "|(5,[0,3],[4.169940948486328E-4,240.0])    |1    |1.0       |\n",
      "|(5,[0,3],[3.669261932373047E-4,132.0])    |1    |1.0       |\n",
      "|(5,[0,3],[2.448558807373047E-4,132.0])    |1    |1.0       |\n",
      "|[5.869865417480469E-4,0.0,0.0,176.0,160.0]|1    |1.0       |\n",
      "|(5,[0,3],[5.190372467041016E-4,120.0])    |0    |0.0       |\n",
      "|[9.341239929199219E-4,0.0,0.0,176.0,160.0]|1    |1.0       |\n",
      "|[5.221366882324219E-4,0.0,0.0,176.0,160.0]|1    |1.0       |\n",
      "|(5,[0,3],[2.3698806762695312E-4,132.0])   |1    |1.0       |\n",
      "|[9.100437164306641E-4,0.0,0.0,176.0,160.0]|1    |1.0       |\n",
      "|(5,[0,3],[5.269050598144531E-4,120.0])    |0    |0.0       |\n",
      "|(5,[0,3],[1.25885009765625E-4,240.0])     |1    |1.0       |\n",
      "|[2.86102294921875E-6,0.0,78.0,0.0,134.0]  |1    |1.0       |\n",
      "|(5,[0,3],[1.0013580322265625E-5,240.0])   |1    |1.0       |\n",
      "|(5,[0,3],[1.9693374633789062E-4,132.0])   |1    |1.0       |\n",
      "|[7.829666137695312E-4,0.0,0.0,176.0,160.0]|1    |1.0       |\n",
      "|(5,[0,3],[4.3392181396484375E-4,176.0])   |1    |1.0       |\n",
      "|(5,[0,3],[2.880096435546875E-4,240.0])    |1    |1.0       |\n",
      "+------------------------------------------+-----+----------+\n",
      "only showing top 20 rows\n",
      "\n",
      "Length of y_true: 23748\n",
      "Length of y_pred: 23748\n",
      "Number of missing values in y_true: 0\n",
      "Number of missing values in y_pred: 0\n"
     ]
    },
    {
     "data": {
      "image/png": "[encoded data removed]",
      "text/plain": [
       "<Figure size 1000x700 with 2 Axes>"
      ]
     },
     "metadata": {},
     "output_type": "display_data"
    },
    {
     "name": "stdout",
     "output_type": "stream",
     "text": [
      "Confusion Matrix plotted.\n"
     ]
    }
   ],
   "source": [
    "#Define Test Variables for Decision Tree\n",
    "#train_df, test_df, tactic, train_year, test_year, split_ratio\n",
    "\n",
    "train_df = decision_test_sample\n",
    "\n",
    "# Reduce train_df size to include only the first 70% of data\n",
    "#train_df = train_df.limit(int(0.7 * train_df.count()))\n",
    "\n",
    "test_df = filtered_result_df\n",
    "\n",
    "#tactic = \"Credential Access\"\n",
    "tactic = \"Reconnaissance\"\n",
    "\n",
    "train_year = \"2024\"\n",
    "\n",
    "test_year = \"2022\"\n",
    "\n",
    "split_ratio = \"1\"\n",
    "\n",
    "# Filter train_df to only include rows where label_tactic is either 'none' or the specified tactic\n",
    "train_df = train_df.filter((F.col(\"label_tactic\") == tactic) | (F.col(\"label_tactic\") == \"none\"))\n",
    "\n",
    "# Filter test_df to only include rows where label_tactic is either 'none' or the specified tactic\n",
    "test_df = test_df.filter((F.col(\"label_tactic\") == tactic) | (F.col(\"label_tactic\") == \"none\"))\n",
    "\n",
    "# Print the columns and their types for train_df\n",
    "print(\"Columns and types in train_df:\")\n",
    "train_df.printSchema()\n",
    "\n",
    "# Print the test_df\n",
    "print(\"\\nEntire test_df:\")\n",
    "test_df.show(truncate=False)\n",
    "\n",
    "#Show the distinct label counts\n",
    "print(\"Distinct label counts in train_df:\")\n",
    "train_df.groupBy(\"label_tactic\").count().show()\n",
    "print(\"Distinct label counts in test_df:\")\n",
    "test_df.groupBy(\"label_tactic\").count().show()\n",
    "\n",
    "# Call the train_and_evaluate function\n",
    "train_and_evaluate(train_df, test_df, tactic, train_year, test_year, split_ratio)"
   ]
  },
  {
   "cell_type": "code",
   "execution_count": null,
   "id": "4a3e0829-cd16-42ed-90d6-8e44dd4a5811",
   "metadata": {},
   "outputs": [],
   "source": []
  }
 ],
 "metadata": {
  "kernelspec": {
   "display_name": "Python 3 (ipykernel)",
   "language": "python",
   "name": "python3"
  },
  "language_info": {
   "codemirror_mode": {
    "name": "ipython",
    "version": 3
   },
   "file_extension": ".py",
   "mimetype": "text/x-python",
   "name": "python",
   "nbconvert_exporter": "python",
   "pygments_lexer": "ipython3",
   "version": "3.12.3"
  }
 },
 "nbformat": 4,
 "nbformat_minor": 5
}
