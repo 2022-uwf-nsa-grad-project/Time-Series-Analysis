{
 "cells": [
  {
   "cell_type": "markdown",
   "id": "dd3c2a95-cbcc-4d33-9ac4-2019d28003e7",
   "metadata": {},
   "source": [
    "<span style = \"color:blue; font-size:24px\">ARIMADecisionTreeTester</span>\n",
    "<span style = \"color:blue; font-size:24px\">MultiYear</span>\n",
    "<span style = \"color:blue; font-size:24px\"> Reconnaissance<span>\n",
    "\n",
    "ZeekData24 Attack Profiles\n",
    "\n",
    "Dataset 1: Multiple Attack Types (Credential Access|236706|, Reconnaissance|12762|, Initial Access|2172|, Privilege Escalation|1251|, Persistence|1251|, Defense Evasion|1251|, Exfiltration|50|)\n",
    "\n",
    "Dataset 2: Multiple Attack Types (Credential Access|45491|, Reconnaissance|3339|, Initial Access|576|, Privilege Escalation|336|, Persistence|336|, Defense Evasion|336|, Exfiltration|30|)\n",
    "\n",
    "Dataset 3: Multiple Attack Types (Credential Access|150887|, Reconnaissance|10834|, Initial Access|2090|, Privilege Escalation|1193|, Persistence|1193|, Defense Evasion|1193|, Exfiltration|188|)\n",
    "\n",
    "Dataset 4: Multiple Attack Types (Credential Access|341945|, Reconnaissance|24233|, Initial Access|4602|, Privilege Escalation|2591|, Persistence|2591|, Defense Evasion|2591|, Exfiltration|268|)\n",
    "\n",
    "Dataset 5: Multiple Attack Types (Credential Access|96159|, Reconnaissance|6927|, Initial Access|1222|, Privilege Escalation|677|, Persistence|677|, Defense Evasion|677|, Exfiltration|23|)\n",
    "\n",
    "Datest 6: Benign Data\n",
    "\n",
    "Dataset 7: Benign Data\n",
    "\n",
    "Zeekdata22 Attack Profiles\n",
    "\n",
    "Dataset 1: Benign\n",
    "\n",
    "Dataset 2: Attacks (Reconnaissance|9278720|, Discovery|2086|)\n",
    "\n",
    "Dataset 3: Attacks (Credential Access|31|, Privilege Escalation|13|, Exfiltration|7|, Lateral Movement|4|, Resource Development|3|, Reconnaissance|2|, Persistence|1|, Initial Access|1|, Defense Evasion|1|)\n",
    "\n",
    "This revision tests the Decision Tree Model on different combinations of 2022 and 2024 data but focuses on Credential Access.\n",
    "\n",
    "NOTE: This revision is adapted to implement an upgrade python 3.12 version which does not allow for the use of pdmarima, so the arima_functions script must use statsmodels to work properly. Previous versions may be considered obsolete when using this new version of python."
   ]
  },
  {
   "cell_type": "markdown",
   "id": "4d236bce-822b-44e2-a964-b2117c1036df",
   "metadata": {},
   "source": [
    "<span style = \"color:blue; font-size:24px\">Preprocessing for ARIMA Model</span>"
   ]
  },
  {
   "cell_type": "code",
   "execution_count": 1,
   "id": "22c5e9f8",
   "metadata": {
    "scrolled": true
   },
   "outputs": [
    {
     "name": "stderr",
     "output_type": "stream",
     "text": [
      "Warning: Ignoring non-Spark config property: SPARK_LOCAL_IP\n",
      "25/04/03 09:48:08 WARN Utils: Your hostname, car-ubuntu resolves to a loopback address: 127.0.1.1; using 192.168.1.123 instead (on interface ens33)\n",
      "25/04/03 09:48:08 WARN Utils: Set SPARK_LOCAL_IP if you need to bind to another address\n",
      "Setting default log level to \"WARN\".\n",
      "To adjust logging level use sc.setLogLevel(newLevel). For SparkR, use setLogLevel(newLevel).\n",
      "25/04/03 09:48:09 WARN NativeCodeLoader: Unable to load native-hadoop library for your platform... using builtin-java classes where applicable\n"
     ]
    },
    {
     "name": "stdout",
     "output_type": "stream",
     "text": [
      "Loading data from path 1/10: hdfs://192.168.1.250:9000/datasets-uwf-edu/UWF-ZeekData24/parquet/2024-02-25 - 2024-03-03/part-00000-8b838a85-76eb-4896-a0b6-2fc425e828c2-c000.snappy.parquet\n"
     ]
    },
    {
     "name": "stderr",
     "output_type": "stream",
     "text": [
      "                                                                                "
     ]
    },
    {
     "name": "stdout",
     "output_type": "stream",
     "text": [
      "Count of rows in dataset:  255443\n",
      "Loading data from path 2/10: hdfs://192.168.1.250:9000/datasets-uwf-edu/UWF-ZeekData24/parquet/2024-03-03 - 2024-03-10/part-00000-0955ed97-8460-41bd-872a-7375a7f0207e-c000.snappy.parquet\n",
      "Count of rows in dataset:  50444\n",
      "Loading data from path 3/10: hdfs://192.168.1.250:9000/datasets-uwf-edu/UWF-ZeekData24/parquet/2024-03-10 - 2024-03-17/part-00000-071774ae-97f3-4f31-9700-8bfcdf41305a-c000.snappy.parquet\n",
      "Count of rows in dataset:  167578\n",
      "Loading data from path 4/10: hdfs://192.168.1.250:9000/datasets-uwf-edu/UWF-ZeekData24/parquet/2024-03-17 - 2024-03-24/part-00000-5f556208-a1fc-40a1-9cc2-a4e24c76aeb3-c000.snappy.parquet\n",
      "Count of rows in dataset:  378821\n",
      "Loading data from path 5/10: hdfs://192.168.1.250:9000/datasets-uwf-edu/UWF-ZeekData24/parquet/2024-03-24 - 2024-03-31/part-00000-ea3a47a3-0973-4d6b-a3a2-8dd441ee7901-c000.snappy.parquet\n",
      "Count of rows in dataset:  106362\n",
      "Loading data from path 6/10: hdfs://192.168.1.250:9000/datasets-uwf-edu/UWF-ZeekData24/parquet/2024-10-27 - 2024-11-03/part-00000-69700ccb-c1c1-4763-beb7-cd0f1a61c268-c000.snappy.parquet\n",
      "Count of rows in dataset:  454846\n",
      "Loading data from path 7/10: hdfs://192.168.1.250:9000/datasets-uwf-edu/UWF-ZeekData24/parquet/2024-11-03 - 2024-11-10/part-00000-f078acc1-ab56-40a6-a6e1-99d780645c57-c000.snappy.parquet\n",
      "Count of rows in dataset:  503263\n",
      "Loading data from path 8/10: hdfs://192.168.1.250:9000/datasets-uwf-edu/UWF-ZeekData22/parquet/2022-01-16 - 2022-01-23/part-00000-cbf26680-106d-40e7-8278-60520afdbb0e-c000.snappy.parquet\n",
      "Count of rows in dataset:  354100\n",
      "Loading data from path 9/10: hdfs://192.168.1.250:9000/datasets-uwf-edu/UWF-ZeekData22/parquet/2022-02-06 - 2022-02-13/part-00000-df678a79-4a73-452b-8e72-d624b2732f17-c000.snappy.parquet\n",
      "Count of rows in dataset:  9280806\n",
      "Loading data from path 10/10: hdfs://192.168.1.250:9000/datasets-uwf-edu/UWF-ZeekData22/parquet/2022-02-13 - 2022-02-20/part-00000-1da06990-329c-4e38-913a-0f0aa39b388d-c000.snappy.parquet\n",
      "Count of rows in dataset:  63\n",
      "Data loading complete.\n",
      "Initial DataFrame row count: 255443\n",
      "Row count after shuffling: 11551726\n",
      "Data combined and shuffled successfully.\n"
     ]
    },
    {
     "name": "stderr",
     "output_type": "stream",
     "text": [
      "25/04/03 09:48:32 WARN WindowExec: No Partition Defined for Window operation! Moving all data to a single partition, this can cause serious performance degradation.\n",
      "25/04/03 09:48:32 WARN WindowExec: No Partition Defined for Window operation! Moving all data to a single partition, this can cause serious performance degradation.\n",
      "25/04/03 09:48:32 WARN WindowExec: No Partition Defined for Window operation! Moving all data to a single partition, this can cause serious performance degradation.\n",
      "25/04/03 09:48:43 WARN WindowExec: No Partition Defined for Window operation! Moving all data to a single partition, this can cause serious performance degradation.\n",
      "25/04/03 09:48:43 WARN WindowExec: No Partition Defined for Window operation! Moving all data to a single partition, this can cause serious performance degradation.\n",
      "25/04/03 09:48:43 WARN WindowExec: No Partition Defined for Window operation! Moving all data to a single partition, this can cause serious performance degradation.\n",
      "                                                                                "
     ]
    },
    {
     "name": "stdout",
     "output_type": "stream",
     "text": [
      "+----------+---------------------+----------+----------+-------------+-------------+--------------+\n",
      "|ts        |duration             |orig_bytes|resp_bytes|orig_ip_bytes|resp_ip_bytes|label_tactic  |\n",
      "+----------+---------------------+----------+----------+-------------+-------------+--------------+\n",
      "|1743691772|5.005191087722778    |78        |0         |134          |0            |Reconnaissance|\n",
      "|1743691832|8.151531219482422E-4 |0         |0         |180          |0            |Reconnaissance|\n",
      "|1743691892|4.031658172607422E-4 |0         |0         |180          |0            |Reconnaissance|\n",
      "|1743691952|2.6106834411621094E-4|0         |0         |176          |0            |Reconnaissance|\n",
      "|1743692012|3.8814544677734375E-4|0         |0         |180          |0            |Reconnaissance|\n",
      "|1743692072|5.939006805419922E-4 |0         |0         |240          |0            |Reconnaissance|\n",
      "|1743692132|0.0011019706726074219|43        |43        |71           |71           |none          |\n",
      "|1743692192|2.4390220642089844E-4|0         |0         |240          |160          |Reconnaissance|\n",
      "|1743692252|1.888275146484375E-4 |0         |0         |176          |0            |Reconnaissance|\n",
      "|1743692312|8.111000061035156E-4 |0         |0         |176          |160          |Reconnaissance|\n",
      "|1743692372|2.1386146545410156E-4|0         |0         |180          |0            |Reconnaissance|\n",
      "|1743692432|2.608299255371094E-4 |0         |0         |132          |0            |Reconnaissance|\n",
      "|1743692492|2.1314620971679688E-4|0         |0         |180          |0            |Reconnaissance|\n",
      "|1743692552|2.989768981933594E-4 |0         |0         |176          |0            |Reconnaissance|\n",
      "|1743692612|2.541542053222656E-4 |0         |0         |176          |0            |Reconnaissance|\n",
      "|1743692672|1.0895729064941406E-4|0         |0         |240          |0            |Reconnaissance|\n",
      "|1743692732|0.0010142326354980469|0         |0         |176          |160          |Reconnaissance|\n",
      "|1743692792|3.2019615173339844E-4|0         |0         |240          |0            |Reconnaissance|\n",
      "|1743692852|0.0010340213775634766|0         |0         |176          |160          |Reconnaissance|\n",
      "|1743692912|6.289482116699219E-4 |0         |0         |176          |160          |Reconnaissance|\n",
      "+----------+---------------------+----------+----------+-------------+-------------+--------------+\n",
      "only showing top 20 rows\n",
      "\n",
      "Total number of rows in the shuffled DataFrame: 11551726\n",
      "Shuffled DataFrame split into 116 chunks of 100000 rows each.\n",
      "Train and Test DataFrames added to train_test_list successfully.\n"
     ]
    },
    {
     "name": "stderr",
     "output_type": "stream",
     "text": [
      "25/04/03 09:48:50 WARN WindowExec: No Partition Defined for Window operation! Moving all data to a single partition, this can cause serious performance degradation.\n",
      "25/04/03 09:48:50 WARN WindowExec: No Partition Defined for Window operation! Moving all data to a single partition, this can cause serious performance degradation.\n",
      "25/04/03 09:48:59 WARN WindowExec: No Partition Defined for Window operation! Moving all data to a single partition, this can cause serious performance degradation.\n",
      "25/04/03 09:48:59 WARN WindowExec: No Partition Defined for Window operation! Moving all data to a single partition, this can cause serious performance degradation.\n",
      "25/04/03 09:49:02 WARN WindowExec: No Partition Defined for Window operation! Moving all data to a single partition, this can cause serious performance degradation.\n",
      "25/04/03 09:49:02 WARN WindowExec: No Partition Defined for Window operation! Moving all data to a single partition, this can cause serious performance degradation.\n",
      "25/04/03 09:49:16 WARN WindowExec: No Partition Defined for Window operation! Moving all data to a single partition, this can cause serious performance degradation.\n",
      "25/04/03 09:49:16 WARN WindowExec: No Partition Defined for Window operation! Moving all data to a single partition, this can cause serious performance degradation.\n"
     ]
    },
    {
     "name": "stdout",
     "output_type": "stream",
     "text": [
      "Training DataFrame size: 69941 rows\n"
     ]
    },
    {
     "name": "stderr",
     "output_type": "stream",
     "text": [
      "25/04/03 09:49:27 WARN WindowExec: No Partition Defined for Window operation! Moving all data to a single partition, this can cause serious performance degradation.\n",
      "25/04/03 09:49:27 WARN WindowExec: No Partition Defined for Window operation! Moving all data to a single partition, this can cause serious performance degradation.\n",
      "25/04/03 09:49:30 WARN WindowExec: No Partition Defined for Window operation! Moving all data to a single partition, this can cause serious performance degradation.\n",
      "25/04/03 09:49:30 WARN WindowExec: No Partition Defined for Window operation! Moving all data to a single partition, this can cause serious performance degradation.\n",
      "                                                                                "
     ]
    },
    {
     "name": "stdout",
     "output_type": "stream",
     "text": [
      "Testing DataFrame size: 30059 rows\n",
      "Processing DataFrame 1/2\n"
     ]
    },
    {
     "name": "stderr",
     "output_type": "stream",
     "text": [
      "25/04/03 09:49:41 WARN WindowExec: No Partition Defined for Window operation! Moving all data to a single partition, this can cause serious performance degradation.\n",
      "25/04/03 09:49:41 WARN WindowExec: No Partition Defined for Window operation! Moving all data to a single partition, this can cause serious performance degradation.\n",
      "25/04/03 09:49:51 WARN WindowExec: No Partition Defined for Window operation! Moving all data to a single partition, this can cause serious performance degradation.\n",
      "25/04/03 09:49:51 WARN WindowExec: No Partition Defined for Window operation! Moving all data to a single partition, this can cause serious performance degradation.\n",
      "25/04/03 09:49:53 WARN WindowExec: No Partition Defined for Window operation! Moving all data to a single partition, this can cause serious performance degradation.\n",
      "25/04/03 09:49:53 WARN WindowExec: No Partition Defined for Window operation! Moving all data to a single partition, this can cause serious performance degradation.\n",
      "                                                                                "
     ]
    },
    {
     "name": "stdout",
     "output_type": "stream",
     "text": [
      "DataFrame 1 processed successfully.\n",
      "Processing DataFrame 2/2\n"
     ]
    },
    {
     "name": "stderr",
     "output_type": "stream",
     "text": [
      "25/04/03 09:50:08 WARN WindowExec: No Partition Defined for Window operation! Moving all data to a single partition, this can cause serious performance degradation.\n",
      "25/04/03 09:50:08 WARN WindowExec: No Partition Defined for Window operation! Moving all data to a single partition, this can cause serious performance degradation.\n",
      "25/04/03 09:50:18 WARN WindowExec: No Partition Defined for Window operation! Moving all data to a single partition, this can cause serious performance degradation.\n",
      "25/04/03 09:50:18 WARN WindowExec: No Partition Defined for Window operation! Moving all data to a single partition, this can cause serious performance degradation.\n",
      "25/04/03 09:50:20 WARN WindowExec: No Partition Defined for Window operation! Moving all data to a single partition, this can cause serious performance degradation.\n",
      "25/04/03 09:50:20 WARN WindowExec: No Partition Defined for Window operation! Moving all data to a single partition, this can cause serious performance degradation.\n",
      "                                                                                "
     ]
    },
    {
     "name": "stdout",
     "output_type": "stream",
     "text": [
      "DataFrame 2 processed successfully.\n",
      "Data processing complete.\n"
     ]
    }
   ],
   "source": [
    "# Spark imports\n",
    "import pyspark\n",
    "import numpy as np\n",
    "from pyspark.sql import SparkSession\n",
    "from pyspark.sql import functions as F\n",
    "from pyspark.sql.window import Window\n",
    "\n",
    "# Python imports\n",
    "import pandas as pd\n",
    "import matplotlib.pyplot as plt\n",
    "from sklearn.preprocessing import MultiLabelBinarizer\n",
    "\n",
    "UID = \"raf46\"                   # Your Argonet ID.\n",
    "hadoop_master = \"192.168.1.250\"  # IP address to Spark Master, which, for our cluster, is the same as the Hadoop Name node address.  \n",
    "# Create spark session with variables below.  Please try to remember to add your argonet ID to the appName, so that we know who a running job belongs to.\n",
    "spark = SparkSession.builder.appName(\"Pyspark Example Script - \" + UID)                        \\\n",
    "                            .master(\"spark://\" + hadoop_master + \":7077\")                      \\\n",
    "                            .config(\"SPARK_LOCAL_IP\", hadoop_master)                           \\\n",
    "                            .config(\"spark.driver.cores\", \"2\")                                 \\\n",
    "                            .config(\"spark.driver.memory\", \"128g\")                              \\\n",
    "                            .config(\"spark.executor.memory\", \"128g\")                            \\\n",
    "                            .config(\"spark.executor.cores\", \"4\")                               \\\n",
    "                            .config(\"spark.dynamicAllocation.shuffleTracking.enabled\", \"true\") \\\n",
    "                            .config(\"spark.dynamicAllocation.enabled\", \"true\")                 \\\n",
    "                            .config(\"spark.dynamicAllocation.minExecutors\", \"2\")               \\\n",
    "                            .config(\"spark.dynamicAllocation.maxExecutors\", \"8\")               \\\n",
    "                            .config(\"spark.executor.instances\", \"4\")                           \\\n",
    "                            .getOrCreate()\n",
    "\n",
    "def load_data(data_paths):\n",
    "    df_list = []\n",
    "    for i, path in enumerate(data_paths):\n",
    "        print(f\"Loading data from path {i+1}/{len(data_paths)}: {path}\")\n",
    "        df = spark.read.parquet(path)\n",
    "        df_list.append(df)\n",
    "        print(f\"Count of rows in dataset:  {df.count()}\")\n",
    "    print(\"Data loading complete.\")\n",
    "    return df_list\n",
    "\n",
    "def process_data_ARIMA(df_list):\n",
    "    processed_df_list = []\n",
    "    mitre_labels = [\n",
    "        \"Privilege Escalation\", \"Execution\", \"Persistence\", \"Defense Evasion\",\n",
    "        \"Credential Access\", \"Discovery\", \"Lateral Movement\", \"Collection\",\n",
    "        \"Exfiltration\", \"Command and Control\", \"Impact\", \"Reconnaissance\", \"Resource Development\"\n",
    "    ]\n",
    "\n",
    "    for i, df in enumerate(df_list):\n",
    "        print(f\"Processing DataFrame {i+1}/{len(df_list)}\")\n",
    "        df = df.withColumn(\"label_tactic_binary\", F.when(F.col(\"label_tactic\") == \"none\", 0).otherwise(1))\n",
    "        df = df.withColumn(\"label_tactic_split\", F.split(\"label_tactic\", \",\"))\n",
    "        df = df.withColumn(\"label_tactic_binary_encoded\", F.expr(\n",
    "            \"array(\" + \",\".join([f\"IF(array_contains(label_tactic_split, '{label}'), 1, 0)\" for label in mitre_labels]) + \")\"\n",
    "        ))\n",
    "        df = df.withColumn(\"ts\", F.from_unixtime(\"ts\").cast(\"timestamp\"))\n",
    "        window_size = \"1 seconds\"\n",
    "        df_agg = df.groupBy(F.window(\"ts\", window_size)) \\\n",
    "            .agg(\n",
    "                F.sum(\"duration\").alias(\"sum_duration\"),\n",
    "                F.sum(\"orig_bytes\").alias(\"sum_orig_bytes\"),\n",
    "                F.sum(\"resp_bytes\").alias(\"sum_resp_bytes\"),\n",
    "                F.sum(\"orig_ip_bytes\").alias(\"sum_orig_ip_bytes\"),\n",
    "                F.sum(\"resp_ip_bytes\").alias(\"sum_resp_ip_bytes\"),\n",
    "                F.count(\"*\").alias(\"connection_count\"),\n",
    "                F.max(\"label_tactic_binary\").alias(\"label_tactic_binary_agg\"),\n",
    "                F.collect_set(\"label_tactic_split\").alias(\"label_tactic_split_agg\"),\n",
    "                F.max(\"label_tactic_binary_encoded\").alias(\"label_tactic_binary_encoded_agg\")\n",
    "            )\n",
    "        df_agg_flat = df_agg.select(\n",
    "            F.col(\"window.start\").alias(\"window_start\"),\n",
    "            F.col(\"window.end\").alias(\"window_end\"),\n",
    "            \"sum_duration\",\n",
    "            \"sum_orig_bytes\",\n",
    "            \"sum_resp_bytes\",\n",
    "            \"sum_orig_ip_bytes\",\n",
    "            \"sum_resp_ip_bytes\",\n",
    "            \"connection_count\",\n",
    "            \"label_tactic_binary_agg\",\n",
    "            \"label_tactic_split_agg\",\n",
    "            \"label_tactic_binary_encoded_agg\"\n",
    "        )\n",
    "        df_agg_sorted = df_agg_flat.orderBy(\"window_start\")\n",
    "        df_pandas_sorted = df_agg_sorted.toPandas()\n",
    "        df_pandas_sorted[\"sum_orig_bytes_log\"] = np.log1p(df_pandas_sorted[\"sum_orig_bytes\"])\n",
    "        processed_df_list.append(df_pandas_sorted)\n",
    "        print(f\"DataFrame {i+1} processed successfully.\")\n",
    "    print(\"Data processing complete.\")\n",
    "    return processed_df_list\n",
    "\n",
    "# Define paths\n",
    "data_paths = [\n",
    "   \"hdfs://192.168.1.250:9000/datasets-uwf-edu/UWF-ZeekData24/parquet/2024-02-25 - 2024-03-03/part-00000-8b838a85-76eb-4896-a0b6-2fc425e828c2-c000.snappy.parquet\",\n",
    "    \"hdfs://192.168.1.250:9000/datasets-uwf-edu/UWF-ZeekData24/parquet/2024-03-03 - 2024-03-10/part-00000-0955ed97-8460-41bd-872a-7375a7f0207e-c000.snappy.parquet\",\n",
    "    \"hdfs://192.168.1.250:9000/datasets-uwf-edu/UWF-ZeekData24/parquet/2024-03-10 - 2024-03-17/part-00000-071774ae-97f3-4f31-9700-8bfcdf41305a-c000.snappy.parquet\",\n",
    "    \"hdfs://192.168.1.250:9000/datasets-uwf-edu/UWF-ZeekData24/parquet/2024-03-17 - 2024-03-24/part-00000-5f556208-a1fc-40a1-9cc2-a4e24c76aeb3-c000.snappy.parquet\",\n",
    "    \"hdfs://192.168.1.250:9000/datasets-uwf-edu/UWF-ZeekData24/parquet/2024-03-24 - 2024-03-31/part-00000-ea3a47a3-0973-4d6b-a3a2-8dd441ee7901-c000.snappy.parquet\",\n",
    "    \"hdfs://192.168.1.250:9000/datasets-uwf-edu/UWF-ZeekData24/parquet/2024-10-27 - 2024-11-03/part-00000-69700ccb-c1c1-4763-beb7-cd0f1a61c268-c000.snappy.parquet\",\n",
    "    \"hdfs://192.168.1.250:9000/datasets-uwf-edu/UWF-ZeekData24/parquet/2024-11-03 - 2024-11-10/part-00000-f078acc1-ab56-40a6-a6e1-99d780645c57-c000.snappy.parquet\",\n",
    "    \"hdfs://192.168.1.250:9000/datasets-uwf-edu/UWF-ZeekData22/parquet/2022-01-16 - 2022-01-23/part-00000-cbf26680-106d-40e7-8278-60520afdbb0e-c000.snappy.parquet\",\n",
    "    \"hdfs://192.168.1.250:9000/datasets-uwf-edu/UWF-ZeekData22/parquet/2022-02-06 - 2022-02-13/part-00000-df678a79-4a73-452b-8e72-d624b2732f17-c000.snappy.parquet\",\n",
    "    \"hdfs://192.168.1.250:9000/datasets-uwf-edu/UWF-ZeekData22/parquet/2022-02-13 - 2022-02-20/part-00000-1da06990-329c-4e38-913a-0f0aa39b388d-c000.snappy.parquet\"\n",
    "    ]\n",
    "\n",
    "# Define target Attack type\n",
    "valid_tactics = [\"Reconnaissance\", \"none\"]\n",
    "\n",
    "# Load and combine data, then shuffle\n",
    "def combine_and_shuffle_data(data_paths, random_seed=42):\n",
    "    # Load and combine all data\n",
    "    df_list = load_data(data_paths)\n",
    "\n",
    "    # Select relevant columns and fill na before combining\n",
    "    for i in range(len(df_list)):\n",
    "        df_list[i] = df_list[i].select(\"ts\", \"duration\", \"orig_bytes\", \"resp_bytes\", \"orig_ip_bytes\", \"resp_ip_bytes\", \"label_tactic\")\n",
    "        df_list[i] = df_list[i].fillna({\n",
    "            \"duration\": 0,\n",
    "            \"orig_bytes\": 0,\n",
    "            \"resp_bytes\": 0,\n",
    "            \"orig_ip_bytes\": 0,\n",
    "            \"resp_ip_bytes\": 0,\n",
    "            \"label_tactic\": \"none\"\n",
    "        })\n",
    "    # Combine all processed DataFrames\n",
    "    combined_df = df_list[0]\n",
    "    print(f\"Initial DataFrame row count: {combined_df.count()}\")\n",
    "    for df in df_list[1:]:\n",
    "        combined_df = combined_df.union(df)\n",
    "        i=0\n",
    "\n",
    "    # Shuffle the combined DataFrame\n",
    "    shuffled_df = combined_df.orderBy(F.rand(seed=random_seed))\n",
    "    print(f\"Row count after shuffling: {shuffled_df.count()}\")\n",
    "    \n",
    "    print(\"Data combined and shuffled successfully.\")\n",
    "    return shuffled_df\n",
    "\n",
    "# Combine and shuffle the data\n",
    "shuffled_df = combine_and_shuffle_data(data_paths)\n",
    "\n",
    "# Create a pseudo timestamp column with one-minute increments\n",
    "shuffled_df = shuffled_df.withColumn(\n",
    "    \"ts\",\n",
    "    F.unix_timestamp(F.current_timestamp()) + (F.row_number().over(Window.orderBy(F.rand())) * 60)\n",
    ")\n",
    "\n",
    "# Show the first few rows of the updated DataFrame\n",
    "shuffled_df.show(truncate=False)\n",
    "\n",
    "# Show the total count of rows\n",
    "print(f\"Total number of rows in the shuffled DataFrame: {shuffled_df.count()}\")\n",
    "\n",
    "# Add an index column to the DataFrame\n",
    "shuffled_df_with_index = shuffled_df.withColumn(\"row_index\", F.monotonically_increasing_id())\n",
    "\n",
    "# Split the DataFrame into chunks of 100,000 rows\n",
    "chunk_size = 100000\n",
    "dataframe_chunks = []\n",
    "\n",
    "for i in range(0, shuffled_df_with_index.count(), chunk_size):\n",
    "    chunk = shuffled_df_with_index.filter(\n",
    "        (F.col(\"row_index\") >= i) & (F.col(\"row_index\") < i + chunk_size)\n",
    "    ).drop(\"row_index\")  # Drop the index column after filtering\n",
    "    dataframe_chunks.append(chunk)\n",
    "\n",
    "# Print confirmation\n",
    "print(f\"Shuffled DataFrame split into {len(dataframe_chunks)} chunks of {chunk_size} rows each.\")\n",
    "\n",
    "shuffled_df = dataframe_chunks[3]  # Use the fourth chunk for further processing\n",
    "\n",
    "# Split the shuffled DataFrame into a Train and Test set using a 70/30 split\n",
    "train_test_split = shuffled_df.randomSplit([0.7, 0.3], seed=42)\n",
    "train_df = train_test_split[0]\n",
    "test_df = train_test_split[1]\n",
    "\n",
    "# Add the train and test DataFrames to a list\n",
    "train_test_list = [train_df, test_df]\n",
    "\n",
    "# Print confirmation\n",
    "print(\"Train and Test DataFrames added to train_test_list successfully.\")\n",
    "\n",
    "# Optional: Show the sizes of the train and test DataFrames\n",
    "print(f\"Training DataFrame size: {train_df.count()} rows\")\n",
    "print(f\"Testing DataFrame size: {test_df.count()} rows\")\n",
    "\n",
    "# Preprocess data for ARIMA model\n",
    "processed_df_list = process_data_ARIMA(train_test_list)\n",
    "\n",
    "# Define training and testing datasets for ARIMA model\n",
    "df_train_sample = processed_df_list[0]\n",
    "df_test_sample = processed_df_list[1]\n",
    "# Create original DataFrames for test set\n",
    "df_test_original = df_test_sample.copy()"
   ]
  },
  {
   "cell_type": "markdown",
   "id": "4e107e00",
   "metadata": {},
   "source": [
    "<span style = \"color:blue; font-size:24px\">Preprocessing for Decision Tree</span>"
   ]
  },
  {
   "cell_type": "code",
   "execution_count": 2,
   "id": "fc80e77e",
   "metadata": {
    "scrolled": true
   },
   "outputs": [
    {
     "name": "stdout",
     "output_type": "stream",
     "text": [
      "Schema of decision_train_sample:\n",
      "root\n",
      " |-- ts: double (nullable = true)\n",
      " |-- duration: double (nullable = false)\n",
      " |-- orig_bytes: long (nullable = false)\n",
      " |-- resp_bytes: long (nullable = false)\n",
      " |-- orig_ip_bytes: long (nullable = false)\n",
      " |-- resp_ip_bytes: long (nullable = false)\n",
      " |-- label_tactic: string (nullable = false)\n",
      "\n",
      "Schema of decision_test_sample:\n",
      "root\n",
      " |-- ts: double (nullable = true)\n",
      " |-- duration: double (nullable = false)\n",
      " |-- orig_bytes: long (nullable = false)\n",
      " |-- resp_bytes: long (nullable = false)\n",
      " |-- orig_ip_bytes: long (nullable = false)\n",
      " |-- resp_ip_bytes: long (nullable = false)\n",
      " |-- label_tactic: string (nullable = false)\n",
      "\n",
      "\n",
      "First few rows of decision_train_sample:\n"
     ]
    },
    {
     "name": "stderr",
     "output_type": "stream",
     "text": [
      "25/04/03 09:50:32 WARN WindowExec: No Partition Defined for Window operation! Moving all data to a single partition, this can cause serious performance degradation.\n",
      "25/04/03 09:50:32 WARN WindowExec: No Partition Defined for Window operation! Moving all data to a single partition, this can cause serious performance degradation.\n",
      "25/04/03 09:50:32 WARN WindowExec: No Partition Defined for Window operation! Moving all data to a single partition, this can cause serious performance degradation.\n",
      "25/04/03 09:50:43 WARN WindowExec: No Partition Defined for Window operation! Moving all data to a single partition, this can cause serious performance degradation.\n",
      "25/04/03 09:50:43 WARN WindowExec: No Partition Defined for Window operation! Moving all data to a single partition, this can cause serious performance degradation.\n",
      "25/04/03 09:50:45 WARN WindowExec: No Partition Defined for Window operation! Moving all data to a single partition, this can cause serious performance degradation.\n",
      "25/04/03 09:50:45 WARN WindowExec: No Partition Defined for Window operation! Moving all data to a single partition, this can cause serious performance degradation.\n",
      "25/04/03 09:50:57 WARN WindowExec: No Partition Defined for Window operation! Moving all data to a single partition, this can cause serious performance degradation.\n",
      "25/04/03 09:50:57 WARN WindowExec: No Partition Defined for Window operation! Moving all data to a single partition, this can cause serious performance degradation.\n",
      "25/04/03 09:50:57 WARN WindowExec: No Partition Defined for Window operation! Moving all data to a single partition, this can cause serious performance degradation.\n"
     ]
    },
    {
     "name": "stdout",
     "output_type": "stream",
     "text": [
      "+-------------+---------------------+----------+----------+-------------+-------------+-----------------+\n",
      "|ts           |duration             |orig_bytes|resp_bytes|orig_ip_bytes|resp_ip_bytes|label_tactic     |\n",
      "+-------------+---------------------+----------+----------+-------------+-------------+-----------------+\n",
      "|1.761691892E9|5.309581756591797E-4 |0         |0         |176          |160          |Reconnaissance   |\n",
      "|1.761691952E9|2.980232238769531E-4 |0         |0         |176          |0            |Reconnaissance   |\n",
      "|1.761692072E9|1.6927719116210938E-5|102       |0         |158          |0            |none             |\n",
      "|1.761692132E9|1.6021728515625E-4   |0         |0         |240          |0            |Reconnaissance   |\n",
      "|1.761692192E9|8.640289306640625E-4 |0         |0         |180          |0            |Reconnaissance   |\n",
      "|1.761692312E9|5.003024101257324    |78        |0         |134          |0            |Reconnaissance   |\n",
      "|1.761692492E9|3.910064697265625E-4 |0         |0         |240          |0            |Reconnaissance   |\n",
      "|1.761692552E9|9.150505065917969E-4 |0         |0         |240          |160          |Reconnaissance   |\n",
      "|1.761692612E9|6.208419799804688E-4 |0         |0         |176          |160          |Reconnaissance   |\n",
      "|1.761692852E9|4.031658172607422E-4 |0         |0         |240          |0            |Reconnaissance   |\n",
      "|1.761692912E9|9.529590606689453E-4 |43        |43        |71           |71           |none             |\n",
      "|1.761692972E9|2.079010009765625E-4 |0         |0         |240          |0            |Reconnaissance   |\n",
      "|1.761693092E9|0.0011448860168457031|43        |43        |71           |71           |none             |\n",
      "|1.761693212E9|6.117820739746094E-4 |0         |0         |176          |160          |Reconnaissance   |\n",
      "|1.761693392E9|2.2482872009277344E-4|0         |0         |176          |0            |Reconnaissance   |\n",
      "|1.761693452E9|3.211498260498047E-4 |0         |0         |240          |0            |Reconnaissance   |\n",
      "|1.761693512E9|0.0013599395751953125|0         |0         |336          |176          |Reconnaissance   |\n",
      "|1.761693752E9|4.260540008544922E-4 |0         |0         |176          |0            |Reconnaissance   |\n",
      "|1.761693872E9|2.2411346435546875E-4|0         |0         |240          |0            |Reconnaissance   |\n",
      "|1.761694052E9|0.026533126831054688 |686       |11329     |5272         |47844        |Credential Access|\n",
      "+-------------+---------------------+----------+----------+-------------+-------------+-----------------+\n",
      "only showing top 20 rows\n",
      "\n",
      "\n",
      "First few rows of decision_test_sample:\n"
     ]
    },
    {
     "name": "stderr",
     "output_type": "stream",
     "text": [
      "25/04/03 09:51:05 WARN WindowExec: No Partition Defined for Window operation! Moving all data to a single partition, this can cause serious performance degradation.\n",
      "25/04/03 09:51:05 WARN WindowExec: No Partition Defined for Window operation! Moving all data to a single partition, this can cause serious performance degradation.\n",
      "25/04/03 09:51:08 WARN WindowExec: No Partition Defined for Window operation! Moving all data to a single partition, this can cause serious performance degradation.\n",
      "25/04/03 09:51:08 WARN WindowExec: No Partition Defined for Window operation! Moving all data to a single partition, this can cause serious performance degradation.\n",
      "[Stage 105:>                                                        (0 + 1) / 1]"
     ]
    },
    {
     "name": "stdout",
     "output_type": "stream",
     "text": [
      "+-------------+---------------------+----------+----------+-------------+-------------+-----------------+\n",
      "|ts           |duration             |orig_bytes|resp_bytes|orig_ip_bytes|resp_ip_bytes|label_tactic     |\n",
      "+-------------+---------------------+----------+----------+-------------+-------------+-----------------+\n",
      "|1.761692037E9|2.598762512207031E-4 |0         |0         |176          |0            |Reconnaissance   |\n",
      "|1.761692277E9|0.0010089874267578125|0         |0         |176          |160          |Reconnaissance   |\n",
      "|1.761692397E9|3.9696693420410156E-4|0         |0         |176          |0            |Reconnaissance   |\n",
      "|1.761692457E9|3.750324249267578E-4 |43        |43        |71           |71           |none             |\n",
      "|1.761692697E9|6.29425048828125E-5  |0         |0         |180          |0            |Reconnaissance   |\n",
      "|1.761692757E9|5.0045270919799805   |78        |0         |134          |0            |Reconnaissance   |\n",
      "|1.761692817E9|1.6498565673828125E-4|0         |0         |132          |0            |Reconnaissance   |\n",
      "|1.761693057E9|0.0040929317474365234|856       |2016      |4464         |7872         |Reconnaissance   |\n",
      "|1.761693177E9|19.949069023132324   |78        |39        |134          |67           |Reconnaissance   |\n",
      "|1.761693297E9|5.0051679611206055   |78        |0         |134          |0            |Reconnaissance   |\n",
      "|1.761693357E9|4.2700767517089844E-4|0         |0         |240          |0            |Reconnaissance   |\n",
      "|1.761693597E9|3.139972686767578E-4 |0         |0         |176          |0            |Reconnaissance   |\n",
      "|1.761693657E9|2.002716064453125E-5 |78        |0         |134          |0            |none             |\n",
      "|1.761693717E9|1.430511474609375E-4 |0         |0         |240          |0            |Reconnaissance   |\n",
      "|1.761693837E9|2.720355987548828E-4 |0         |0         |176          |0            |Reconnaissance   |\n",
      "|1.761693957E9|13.404392957687378   |1044      |11978     |6496         |50648        |Credential Access|\n",
      "|1.761694017E9|3.559589385986328E-4 |0         |0         |176          |0            |Reconnaissance   |\n",
      "|1.761694257E9|2.3603439331054688E-4|0         |0         |176          |0            |Reconnaissance   |\n",
      "|1.761694437E9|5.159378051757812E-4 |0         |0         |240          |0            |Reconnaissance   |\n",
      "|1.761694497E9|9.49859619140625E-4  |0         |0         |176          |160          |Reconnaissance   |\n",
      "+-------------+---------------------+----------+----------+-------------+-------------+-----------------+\n",
      "only showing top 20 rows\n",
      "\n"
     ]
    },
    {
     "name": "stderr",
     "output_type": "stream",
     "text": [
      "                                                                                "
     ]
    }
   ],
   "source": [
    "# Spark imports\n",
    "import pyspark\n",
    "import numpy as np\n",
    "from pyspark.sql import SparkSession\n",
    "from pyspark.sql import functions as F\n",
    "from pyspark.sql.types import DoubleType, LongType, StringType\n",
    "from pyspark.sql.window import Window\n",
    "\n",
    "# Python imports\n",
    "import pandas as pd\n",
    "import matplotlib.pyplot as plt\n",
    "from sklearn.preprocessing import MultiLabelBinarizer\n",
    "from sklearn.metrics import confusion_matrix\n",
    "import seaborn as sns\n",
    "import openpyxl\n",
    "from openpyxl import Workbook\n",
    "import os\n",
    "\n",
    "# Function to load and preprocess data\n",
    "def preprocess_data_decision_tree(df):\n",
    "   #Select and cast relevant columns\n",
    "    df = df.select(\n",
    "        F.col(\"ts\").cast(DoubleType()),\n",
    "        F.col(\"duration\").cast(DoubleType()),\n",
    "        F.col(\"orig_bytes\").cast(LongType()),\n",
    "        F.col(\"resp_bytes\").cast(LongType()),\n",
    "        F.col(\"orig_ip_bytes\").cast(LongType()),\n",
    "        F.col(\"resp_ip_bytes\").cast(LongType()),\n",
    "        F.col(\"label_tactic\").cast(StringType())\n",
    "    )\n",
    "    # Fill missing values\n",
    "    df = df.fillna({\n",
    "        \"duration\": 0,\n",
    "        \"orig_bytes\": 0,\n",
    "        \"resp_bytes\": 0,\n",
    "        \"orig_ip_bytes\": 0,\n",
    "        \"resp_ip_bytes\": 0\n",
    "    })\n",
    "    return df\n",
    "    \n",
    "# Preprocess the train and test sampels\n",
    "decision_train_sample = preprocess_data_decision_tree(train_test_list[0])\n",
    "decision_test_sample = preprocess_data_decision_tree(train_test_list[1])\n",
    "\n",
    "# Print the schema of the DataFrame\n",
    "print(\"Schema of decision_train_sample:\")\n",
    "decision_train_sample.printSchema()\n",
    "\n",
    "print(\"Schema of decision_test_sample:\")\n",
    "decision_test_sample.printSchema()\n",
    "\n",
    "# Show the first few rows of the DataFrame\n",
    "print(\"\\nFirst few rows of decision_train_sample:\")\n",
    "decision_train_sample.show(truncate=False)\n",
    "print(\"\\nFirst few rows of decision_test_sample:\")\n",
    "decision_test_sample.show(truncate=False)\n"
   ]
  },
  {
   "cell_type": "code",
   "execution_count": 3,
   "id": "c4253235-8604-46bf-873a-b7324a32355d",
   "metadata": {
    "scrolled": true
   },
   "outputs": [
    {
     "name": "stdout",
     "output_type": "stream",
     "text": [
      "Calling ARIMA Model Training function\n",
      "ADF Statistic: -92.262283\n",
      "p-value: 0.000000\n",
      "The time series is stationary (reject H0).\n",
      "Seasonality detected: True, Seasonal period: 7\n",
      "Finding the best ARIMA model...\n"
     ]
    },
    {
     "name": "stderr",
     "output_type": "stream",
     "text": [
      "/home/ubuntu/pyspark-venv/lib/python3.12/site-packages/statsmodels/tsa/statespace/sarimax.py:966: UserWarning: Non-stationary starting autoregressive parameters found. Using zeros as starting parameters.\n",
      "  warn('Non-stationary starting autoregressive parameters'\n",
      "/home/ubuntu/pyspark-venv/lib/python3.12/site-packages/statsmodels/tsa/statespace/sarimax.py:978: UserWarning: Non-invertible starting MA parameters found. Using zeros as starting parameters.\n",
      "  warn('Non-invertible starting MA parameters found.'\n",
      "/home/ubuntu/pyspark-venv/lib/python3.12/site-packages/statsmodels/tsa/statespace/sarimax.py:966: UserWarning: Non-stationary starting autoregressive parameters found. Using zeros as starting parameters.\n",
      "  warn('Non-stationary starting autoregressive parameters'\n",
      "/home/ubuntu/pyspark-venv/lib/python3.12/site-packages/statsmodels/tsa/statespace/sarimax.py:978: UserWarning: Non-invertible starting MA parameters found. Using zeros as starting parameters.\n",
      "  warn('Non-invertible starting MA parameters found.'\n",
      "/home/ubuntu/pyspark-venv/lib/python3.12/site-packages/statsmodels/base/model.py:607: ConvergenceWarning: Maximum Likelihood optimization failed to converge. Check mle_retvals\n",
      "  warnings.warn(\"Maximum Likelihood optimization failed to \"\n",
      "/home/ubuntu/pyspark-venv/lib/python3.12/site-packages/statsmodels/base/model.py:607: ConvergenceWarning: Maximum Likelihood optimization failed to converge. Check mle_retvals\n",
      "  warnings.warn(\"Maximum Likelihood optimization failed to \"\n",
      "/home/ubuntu/pyspark-venv/lib/python3.12/site-packages/statsmodels/tsa/statespace/sarimax.py:966: UserWarning: Non-stationary starting autoregressive parameters found. Using zeros as starting parameters.\n",
      "  warn('Non-stationary starting autoregressive parameters'\n",
      "/home/ubuntu/pyspark-venv/lib/python3.12/site-packages/statsmodels/tsa/statespace/sarimax.py:978: UserWarning: Non-invertible starting MA parameters found. Using zeros as starting parameters.\n",
      "  warn('Non-invertible starting MA parameters found.'\n",
      "/home/ubuntu/pyspark-venv/lib/python3.12/site-packages/statsmodels/base/model.py:607: ConvergenceWarning: Maximum Likelihood optimization failed to converge. Check mle_retvals\n",
      "  warnings.warn(\"Maximum Likelihood optimization failed to \"\n",
      "/home/ubuntu/pyspark-venv/lib/python3.12/site-packages/statsmodels/tsa/statespace/sarimax.py:966: UserWarning: Non-stationary starting autoregressive parameters found. Using zeros as starting parameters.\n",
      "  warn('Non-stationary starting autoregressive parameters'\n",
      "/home/ubuntu/pyspark-venv/lib/python3.12/site-packages/statsmodels/tsa/statespace/sarimax.py:978: UserWarning: Non-invertible starting MA parameters found. Using zeros as starting parameters.\n",
      "  warn('Non-invertible starting MA parameters found.'\n",
      "/home/ubuntu/pyspark-venv/lib/python3.12/site-packages/statsmodels/tsa/statespace/sarimax.py:966: UserWarning: Non-stationary starting autoregressive parameters found. Using zeros as starting parameters.\n",
      "  warn('Non-stationary starting autoregressive parameters'\n",
      "/home/ubuntu/pyspark-venv/lib/python3.12/site-packages/statsmodels/tsa/statespace/sarimax.py:978: UserWarning: Non-invertible starting MA parameters found. Using zeros as starting parameters.\n",
      "  warn('Non-invertible starting MA parameters found.'\n",
      "/home/ubuntu/pyspark-venv/lib/python3.12/site-packages/statsmodels/tsa/statespace/sarimax.py:966: UserWarning: Non-stationary starting autoregressive parameters found. Using zeros as starting parameters.\n",
      "  warn('Non-stationary starting autoregressive parameters'\n",
      "/home/ubuntu/pyspark-venv/lib/python3.12/site-packages/statsmodels/tsa/statespace/sarimax.py:978: UserWarning: Non-invertible starting MA parameters found. Using zeros as starting parameters.\n",
      "  warn('Non-invertible starting MA parameters found.'\n",
      "/home/ubuntu/pyspark-venv/lib/python3.12/site-packages/statsmodels/base/model.py:607: ConvergenceWarning: Maximum Likelihood optimization failed to converge. Check mle_retvals\n",
      "  warnings.warn(\"Maximum Likelihood optimization failed to \"\n"
     ]
    },
    {
     "name": "stdout",
     "output_type": "stream",
     "text": [
      "Best ARIMA order: (2, 0, 3) with AIC: 157674.10734258773\n",
      "Forecasted values: 69905    0.469292\n",
      "69906    0.454577\n",
      "69907    0.456624\n",
      "69908    0.472988\n",
      "69909    0.479459\n",
      "           ...   \n",
      "99956    0.467432\n",
      "99957    0.467432\n",
      "99958    0.467432\n",
      "99959    0.467432\n",
      "99960    0.467432\n",
      "Name: predicted_mean, Length: 30056, dtype: float64\n",
      "Actual values: [0.         0.         6.53233429 ... 0.         0.         0.        ]\n",
      "Mean Absolute Error (MAE): 1.370821170980694\n"
     ]
    },
    {
     "data": {
      "image/png": "[encoded data removed]",
      "text/plain": [
       "<Figure size 1200x600 with 1 Axes>"
      ]
     },
     "metadata": {},
     "output_type": "display_data"
    },
    {
     "name": "stdout",
     "output_type": "stream",
     "text": [
      "Calling Forecasted Data Processing Function\n",
      "Columns in forecast_df:\n",
      "Index(['Time', 'Actual', 'Forecast'], dtype='object')\n",
      "Columns in df_test_original:\n",
      "Index(['window_start', 'window_end', 'sum_duration', 'sum_orig_bytes',\n",
      "       'sum_resp_bytes', 'sum_orig_ip_bytes', 'sum_resp_ip_bytes',\n",
      "       'connection_count', 'label_tactic_binary_agg', 'label_tactic_split_agg',\n",
      "       'label_tactic_binary_encoded_agg', 'sum_orig_bytes_log'],\n",
      "      dtype='object')\n",
      "69905   2025-10-28 17:53:08\n",
      "69906   2025-10-28 17:57:08\n",
      "69907   2025-10-28 17:59:08\n",
      "69908   2025-10-28 18:00:08\n",
      "69909   2025-10-28 18:04:08\n",
      "Name: Time, dtype: datetime64[ns]\n",
      "\n",
      "Type of decision_test_sample: <class 'pyspark.sql.dataframe.DataFrame'>\n",
      "Type of filtered_result_df before conversion: <class 'pandas.core.frame.DataFrame'>\n",
      "\n",
      "Type of filtered_result_df after conversion: <class 'pyspark.sql.dataframe.DataFrame'>\n"
     ]
    }
   ],
   "source": [
    "# Import the functions from the Python script\n",
    "from arima_functions import train_arima_model, process_forecast\n",
    "# Import the functions from decision_tree_functions.py\n",
    "from decision_tree_functions import (\n",
    "    train_and_evaluate, \n",
    "    split_data, \n",
    "    train_test_2022_2022, \n",
    "    train_test_2024_2024, \n",
    "    train_2022_test_2024, \n",
    "    train_2024_test_2022, \n",
    "    train_test_2022_2022_oversampled, \n",
    "    train_test_2024_2024_oversampled, \n",
    "    train_2022_test_2024_oversampled, \n",
    "    train_2024_test_2022_oversampled\n",
    ")\n",
    "\n",
    "import pandas as pd\n",
    "\n",
    "# Assuming df_train_sample and df_test_sample are already defined\n",
    "# Call ARIMA Model Training Function\n",
    "print(\"Calling ARIMA Model Training function\")\n",
    "forecast_df = train_arima_model(df_train_sample, df_test_sample)\n",
    "\n",
    "# Call Forecasted Data Processing Function\n",
    "print(\"Calling Forecasted Data Processing Function\")\n",
    "filtered_result_df = process_forecast(df_test_original, forecast_df)\n",
    "\n",
    "# Print the datatypes of the inputs\n",
    "print(\"\\nType of decision_test_sample:\", type(decision_test_sample))\n",
    "print(\"Type of filtered_result_df before conversion:\", type(filtered_result_df))\n",
    "\n",
    "# Convert the DataFrames to Spark DataFrames\n",
    "filtered_result_df = spark.createDataFrame(filtered_result_df)\n",
    "print(\"\\nType of filtered_result_df after conversion:\", type(filtered_result_df))"
   ]
  },
  {
   "cell_type": "markdown",
   "id": "d18b3969",
   "metadata": {},
   "source": [
    "Decision Tree Training and Testing"
   ]
  },
  {
   "cell_type": "code",
   "execution_count": 4,
   "id": "82d457a5",
   "metadata": {
    "scrolled": true
   },
   "outputs": [
    {
     "name": "stdout",
     "output_type": "stream",
     "text": [
      "Columns and types in train_df:\n",
      "root\n",
      " |-- ts: double (nullable = true)\n",
      " |-- duration: double (nullable = false)\n",
      " |-- orig_bytes: long (nullable = false)\n",
      " |-- resp_bytes: long (nullable = false)\n",
      " |-- orig_ip_bytes: long (nullable = false)\n",
      " |-- resp_ip_bytes: long (nullable = false)\n",
      " |-- label_tactic: string (nullable = false)\n",
      "\n",
      "\n",
      "Entire test_df:\n"
     ]
    },
    {
     "name": "stderr",
     "output_type": "stream",
     "text": [
      "25/04/03 10:02:47 WARN WindowExec: No Partition Defined for Window operation! Moving all data to a single partition, this can cause serious performance degradation.\n",
      "25/04/03 10:02:47 WARN WindowExec: No Partition Defined for Window operation! Moving all data to a single partition, this can cause serious performance degradation.\n",
      "25/04/03 10:02:47 WARN WindowExec: No Partition Defined for Window operation! Moving all data to a single partition, this can cause serious performance degradation.\n",
      "25/04/03 10:02:57 WARN WindowExec: No Partition Defined for Window operation! Moving all data to a single partition, this can cause serious performance degradation.\n",
      "25/04/03 10:02:57 WARN WindowExec: No Partition Defined for Window operation! Moving all data to a single partition, this can cause serious performance degradation.\n",
      "25/04/03 10:02:59 WARN WindowExec: No Partition Defined for Window operation! Moving all data to a single partition, this can cause serious performance degradation.\n",
      "25/04/03 10:02:59 WARN WindowExec: No Partition Defined for Window operation! Moving all data to a single partition, this can cause serious performance degradation.\n",
      "25/04/03 10:03:09 WARN WindowExec: No Partition Defined for Window operation! Moving all data to a single partition, this can cause serious performance degradation.\n",
      "25/04/03 10:03:09 WARN WindowExec: No Partition Defined for Window operation! Moving all data to a single partition, this can cause serious performance degradation.\n"
     ]
    },
    {
     "name": "stdout",
     "output_type": "stream",
     "text": [
      "+-------------+---------------------+----------+----------+-------------+-------------+-----------------+\n",
      "|ts           |duration             |orig_bytes|resp_bytes|orig_ip_bytes|resp_ip_bytes|label_tactic     |\n",
      "+-------------+---------------------+----------+----------+-------------+-------------+-----------------+\n",
      "|1.761692747E9|2.2602081298828125E-4|0         |0         |132          |0            |Reconnaissance   |\n",
      "|1.761692987E9|5.810260772705078E-4 |0         |0         |176          |160          |Reconnaissance   |\n",
      "|1.761693107E9|0.004266023635864258 |118       |118       |202          |202          |none             |\n",
      "|1.761693167E9|2.0194053649902344E-4|0         |0         |132          |0            |Reconnaissance   |\n",
      "|1.761693407E9|6.7901611328125E-4   |0         |0         |132          |0            |Reconnaissance   |\n",
      "|1.761693467E9|0.025529146194458008 |686       |11329     |4856         |47844        |Credential Access|\n",
      "|1.761693527E9|2.999305725097656E-4 |0         |0         |176          |0            |Reconnaissance   |\n",
      "|1.761693767E9|0.028839111328125    |686       |11329     |4856         |47844        |Credential Access|\n",
      "|1.761693887E9|0.0015060901641845703|0         |0         |400          |240          |Reconnaissance   |\n",
      "|1.761694007E9|2.7183358669281006   |863       |16630     |6188         |70088        |Credential Access|\n",
      "|1.761694067E9|5.061626434326172E-4 |0         |0         |176          |160          |Reconnaissance   |\n",
      "|1.761694307E9|0.02445387840270996  |686       |11329     |4856         |47844        |Credential Access|\n",
      "|1.761694367E9|6.039142608642578E-4 |0         |0         |176          |160          |Reconnaissance   |\n",
      "|1.761694427E9|1.0017900466918945   |0         |0         |480          |160          |Reconnaissance   |\n",
      "|1.761694547E9|3.4499168395996094E-4|0         |0         |240          |0            |Reconnaissance   |\n",
      "|1.761694667E9|4.100799560546875E-4 |0         |0         |180          |0            |Reconnaissance   |\n",
      "|1.761694727E9|2.25067138671875E-4  |0         |0         |240          |0            |Reconnaissance   |\n",
      "|1.761694967E9|5.970001220703125E-4 |0         |0         |176          |160          |Reconnaissance   |\n",
      "|1.761695147E9|6.020069122314453E-4 |0         |0         |240          |0            |Reconnaissance   |\n",
      "|1.761695207E9|3.4999847412109375E-4|0         |0         |132          |0            |Reconnaissance   |\n",
      "+-------------+---------------------+----------+----------+-------------+-------------+-----------------+\n",
      "only showing top 20 rows\n",
      "\n",
      "Distinct label counts in train_df:\n"
     ]
    },
    {
     "name": "stderr",
     "output_type": "stream",
     "text": [
      "25/04/03 10:03:18 WARN WindowExec: No Partition Defined for Window operation! Moving all data to a single partition, this can cause serious performance degradation.\n",
      "25/04/03 10:03:18 WARN WindowExec: No Partition Defined for Window operation! Moving all data to a single partition, this can cause serious performance degradation.\n",
      "25/04/03 10:03:21 WARN WindowExec: No Partition Defined for Window operation! Moving all data to a single partition, this can cause serious performance degradation.\n",
      "25/04/03 10:03:21 WARN WindowExec: No Partition Defined for Window operation! Moving all data to a single partition, this can cause serious performance degradation.\n",
      "25/04/03 10:03:30 WARN WindowExec: No Partition Defined for Window operation! Moving all data to a single partition, this can cause serious performance degradation.\n",
      "25/04/03 10:03:30 WARN WindowExec: No Partition Defined for Window operation! Moving all data to a single partition, this can cause serious performance degradation.\n"
     ]
    },
    {
     "name": "stdout",
     "output_type": "stream",
     "text": [
      "+--------------------+-----+\n",
      "|        label_tactic|count|\n",
      "+--------------------+-----+\n",
      "|      Reconnaissance|56523|\n",
      "|                none| 8011|\n",
      "|   Credential Access| 5216|\n",
      "|         Persistence|   31|\n",
      "|        Exfiltration|    2|\n",
      "|Privilege Escalation|   33|\n",
      "|     Defense Evasion|   39|\n",
      "|      Initial Access|   74|\n",
      "|           Discovery|   12|\n",
      "+--------------------+-----+\n",
      "\n",
      "Distinct label counts in test_df:\n"
     ]
    },
    {
     "name": "stderr",
     "output_type": "stream",
     "text": [
      "25/04/03 10:03:38 WARN WindowExec: No Partition Defined for Window operation! Moving all data to a single partition, this can cause serious performance degradation.\n",
      "25/04/03 10:03:38 WARN WindowExec: No Partition Defined for Window operation! Moving all data to a single partition, this can cause serious performance degradation.\n",
      "25/04/03 10:03:41 WARN WindowExec: No Partition Defined for Window operation! Moving all data to a single partition, this can cause serious performance degradation.\n",
      "25/04/03 10:03:41 WARN WindowExec: No Partition Defined for Window operation! Moving all data to a single partition, this can cause serious performance degradation.\n",
      "                                                                                "
     ]
    },
    {
     "name": "stdout",
     "output_type": "stream",
     "text": [
      "+--------------------+-----+\n",
      "|        label_tactic|count|\n",
      "+--------------------+-----+\n",
      "|      Reconnaissance|24312|\n",
      "|                none| 3344|\n",
      "|   Credential Access| 2320|\n",
      "|     Defense Evasion|   21|\n",
      "|Privilege Escalation|   13|\n",
      "|      Initial Access|   25|\n",
      "|         Persistence|   19|\n",
      "|        Exfiltration|    1|\n",
      "|           Discovery|    4|\n",
      "+--------------------+-----+\n",
      "\n"
     ]
    },
    {
     "name": "stderr",
     "output_type": "stream",
     "text": [
      "25/04/03 10:03:54 WARN WindowExec: No Partition Defined for Window operation! Moving all data to a single partition, this can cause serious performance degradation.\n",
      "25/04/03 10:03:54 WARN WindowExec: No Partition Defined for Window operation! Moving all data to a single partition, this can cause serious performance degradation.\n",
      "25/04/03 10:03:54 WARN WindowExec: No Partition Defined for Window operation! Moving all data to a single partition, this can cause serious performance degradation.\n",
      "25/04/03 10:04:04 WARN WindowExec: No Partition Defined for Window operation! Moving all data to a single partition, this can cause serious performance degradation.\n",
      "25/04/03 10:04:04 WARN WindowExec: No Partition Defined for Window operation! Moving all data to a single partition, this can cause serious performance degradation.\n",
      "25/04/03 10:04:06 WARN WindowExec: No Partition Defined for Window operation! Moving all data to a single partition, this can cause serious performance degradation.\n",
      "25/04/03 10:04:06 WARN WindowExec: No Partition Defined for Window operation! Moving all data to a single partition, this can cause serious performance degradation.\n",
      "25/04/03 10:04:07 WARN WindowExec: No Partition Defined for Window operation! Moving all data to a single partition, this can cause serious performance degradation.\n",
      "25/04/03 10:04:07 WARN WindowExec: No Partition Defined for Window operation! Moving all data to a single partition, this can cause serious performance degradation.\n",
      "25/04/03 10:04:15 WARN WindowExec: No Partition Defined for Window operation! Moving all data to a single partition, this can cause serious performance degradation.\n",
      "25/04/03 10:04:15 WARN WindowExec: No Partition Defined for Window operation! Moving all data to a single partition, this can cause serious performance degradation.\n",
      "25/04/03 10:04:17 WARN WindowExec: No Partition Defined for Window operation! Moving all data to a single partition, this can cause serious performance degradation.\n",
      "25/04/03 10:04:17 WARN WindowExec: No Partition Defined for Window operation! Moving all data to a single partition, this can cause serious performance degradation.\n",
      "25/04/03 10:04:26 WARN WindowExec: No Partition Defined for Window operation! Moving all data to a single partition, this can cause serious performance degradation.\n",
      "25/04/03 10:04:26 WARN WindowExec: No Partition Defined for Window operation! Moving all data to a single partition, this can cause serious performance degradation.\n",
      "25/04/03 10:04:26 WARN WindowExec: No Partition Defined for Window operation! Moving all data to a single partition, this can cause serious performance degradation.\n",
      "25/04/03 10:04:35 WARN WindowExec: No Partition Defined for Window operation! Moving all data to a single partition, this can cause serious performance degradation.\n",
      "25/04/03 10:04:35 WARN WindowExec: No Partition Defined for Window operation! Moving all data to a single partition, this can cause serious performance degradation.\n",
      "25/04/03 10:04:37 WARN WindowExec: No Partition Defined for Window operation! Moving all data to a single partition, this can cause serious performance degradation.\n",
      "25/04/03 10:04:37 WARN WindowExec: No Partition Defined for Window operation! Moving all data to a single partition, this can cause serious performance degradation.\n",
      "25/04/03 10:05:16 WARN WindowExec: No Partition Defined for Window operation! Moving all data to a single partition, this can cause serious performance degradation.\n",
      "25/04/03 10:05:16 WARN WindowExec: No Partition Defined for Window operation! Moving all data to a single partition, this can cause serious performance degradation.\n",
      "25/04/03 10:05:16 WARN WindowExec: No Partition Defined for Window operation! Moving all data to a single partition, this can cause serious performance degradation.\n",
      "25/04/03 10:05:26 WARN WindowExec: No Partition Defined for Window operation! Moving all data to a single partition, this can cause serious performance degradation.\n",
      "25/04/03 10:05:26 WARN WindowExec: No Partition Defined for Window operation! Moving all data to a single partition, this can cause serious performance degradation.\n",
      "25/04/03 10:05:28 WARN WindowExec: No Partition Defined for Window operation! Moving all data to a single partition, this can cause serious performance degradation.\n",
      "25/04/03 10:05:28 WARN WindowExec: No Partition Defined for Window operation! Moving all data to a single partition, this can cause serious performance degradation.\n",
      "25/04/03 10:05:37 WARN WindowExec: No Partition Defined for Window operation! Moving all data to a single partition, this can cause serious performance degradation.\n",
      "25/04/03 10:05:37 WARN WindowExec: No Partition Defined for Window operation! Moving all data to a single partition, this can cause serious performance degradation.\n",
      "25/04/03 10:05:37 WARN WindowExec: No Partition Defined for Window operation! Moving all data to a single partition, this can cause serious performance degradation.\n",
      "25/04/03 10:05:47 WARN WindowExec: No Partition Defined for Window operation! Moving all data to a single partition, this can cause serious performance degradation.\n",
      "25/04/03 10:05:47 WARN WindowExec: No Partition Defined for Window operation! Moving all data to a single partition, this can cause serious performance degradation.\n",
      "25/04/03 10:05:48 WARN WindowExec: No Partition Defined for Window operation! Moving all data to a single partition, this can cause serious performance degradation.\n",
      "25/04/03 10:05:48 WARN WindowExec: No Partition Defined for Window operation! Moving all data to a single partition, this can cause serious performance degradation.\n",
      "25/04/03 10:06:00 WARN WindowExec: No Partition Defined for Window operation! Moving all data to a single partition, this can cause serious performance degradation.\n",
      "25/04/03 10:06:00 WARN WindowExec: No Partition Defined for Window operation! Moving all data to a single partition, this can cause serious performance degradation.\n",
      "25/04/03 10:06:00 WARN WindowExec: No Partition Defined for Window operation! Moving all data to a single partition, this can cause serious performance degradation.\n",
      "25/04/03 10:06:10 WARN WindowExec: No Partition Defined for Window operation! Moving all data to a single partition, this can cause serious performance degradation.\n",
      "25/04/03 10:06:10 WARN WindowExec: No Partition Defined for Window operation! Moving all data to a single partition, this can cause serious performance degradation.\n",
      "25/04/03 10:06:11 WARN WindowExec: No Partition Defined for Window operation! Moving all data to a single partition, this can cause serious performance degradation.\n",
      "25/04/03 10:06:11 WARN WindowExec: No Partition Defined for Window operation! Moving all data to a single partition, this can cause serious performance degradation.\n",
      "25/04/03 10:06:21 WARN WindowExec: No Partition Defined for Window operation! Moving all data to a single partition, this can cause serious performance degradation.\n",
      "25/04/03 10:06:21 WARN WindowExec: No Partition Defined for Window operation! Moving all data to a single partition, this can cause serious performance degradation.\n",
      "25/04/03 10:06:21 WARN WindowExec: No Partition Defined for Window operation! Moving all data to a single partition, this can cause serious performance degradation.\n",
      "25/04/03 10:06:29 WARN WindowExec: No Partition Defined for Window operation! Moving all data to a single partition, this can cause serious performance degradation.\n",
      "25/04/03 10:06:29 WARN WindowExec: No Partition Defined for Window operation! Moving all data to a single partition, this can cause serious performance degradation.\n",
      "25/04/03 10:06:30 WARN WindowExec: No Partition Defined for Window operation! Moving all data to a single partition, this can cause serious performance degradation.\n",
      "25/04/03 10:06:30 WARN WindowExec: No Partition Defined for Window operation! Moving all data to a single partition, this can cause serious performance degradation.\n",
      "25/04/03 10:06:41 WARN WindowExec: No Partition Defined for Window operation! Moving all data to a single partition, this can cause serious performance degradation.\n",
      "25/04/03 10:06:41 WARN WindowExec: No Partition Defined for Window operation! Moving all data to a single partition, this can cause serious performance degradation.\n",
      "25/04/03 10:06:41 WARN WindowExec: No Partition Defined for Window operation! Moving all data to a single partition, this can cause serious performance degradation.\n"
     ]
    },
    {
     "name": "stdout",
     "output_type": "stream",
     "text": [
      "\n",
      "Model for label_tactic: Reconnaissance\n",
      "Accuracy: 0.9899863601583553\n",
      "Precision: 0.9894477341657438\n",
      "Recall: 0.9902192355035098\n",
      "F1 Score: 0.9900242077807372\n",
      "\n",
      "Predictions for each row in the test dataframe:\n"
     ]
    },
    {
     "name": "stderr",
     "output_type": "stream",
     "text": [
      "25/04/03 10:06:49 WARN WindowExec: No Partition Defined for Window operation! Moving all data to a single partition, this can cause serious performance degradation.\n",
      "25/04/03 10:06:49 WARN WindowExec: No Partition Defined for Window operation! Moving all data to a single partition, this can cause serious performance degradation.\n",
      "25/04/03 10:06:51 WARN WindowExec: No Partition Defined for Window operation! Moving all data to a single partition, this can cause serious performance degradation.\n",
      "25/04/03 10:06:51 WARN WindowExec: No Partition Defined for Window operation! Moving all data to a single partition, this can cause serious performance degradation.\n",
      "                                                                                "
     ]
    },
    {
     "name": "stdout",
     "output_type": "stream",
     "text": [
      "+-----------------------------------------------+-----+----------+\n",
      "|features                                       |label|prediction|\n",
      "+-----------------------------------------------+-----+----------+\n",
      "|(5,[0,3],[2.410411834716797E-4,176.0])         |1    |1.0       |\n",
      "|(5,[0,3],[2.720355987548828E-4,176.0])         |1    |1.0       |\n",
      "|(5,[0,3],[2.689361572265625E-4,176.0])         |1    |1.0       |\n",
      "|[5.881786346435547E-4,0.0,0.0,240.0,160.0]     |1    |1.0       |\n",
      "|(5,[0,3],[4.208087921142578E-4,240.0])         |1    |1.0       |\n",
      "|[0.009454965591430664,0.0,0.0,864.0,656.0]     |0    |1.0       |\n",
      "|(5,[0,3],[5.719661712646484E-4,176.0])         |1    |1.0       |\n",
      "|(5,[0,3],[1.6117095947265625E-4,180.0])        |1    |1.0       |\n",
      "|(5,[0,3],[6.170272827148438E-4,240.0])         |1    |1.0       |\n",
      "|(5,[0,3],[3.6215782165527344E-4,240.0])        |1    |1.0       |\n",
      "|[0.0010089874267578125,0.0,0.0,176.0,160.0]    |1    |1.0       |\n",
      "|[0.0010991096496582031,0.0,0.0,176.0,160.0]    |1    |1.0       |\n",
      "|[0.0018701553344726562,130.0,130.0,186.0,186.0]|1    |1.0       |\n",
      "|[5.750656127929688E-4,0.0,0.0,176.0,160.0]     |1    |1.0       |\n",
      "|(5,[0,3],[2.741813659667969E-4,240.0])         |1    |1.0       |\n",
      "|[6.499290466308594E-4,0.0,0.0,240.0,160.0]     |1    |1.0       |\n",
      "|(5,[0,3],[3.809928894042969E-4,180.0])         |1    |1.0       |\n",
      "|(5,[0,3],[3.669261932373047E-4,240.0])         |1    |1.0       |\n",
      "|[9.551048278808594E-4,0.0,0.0,176.0,160.0]     |1    |1.0       |\n",
      "|[6.361007690429688E-4,0.0,0.0,176.0,160.0]     |1    |1.0       |\n",
      "+-----------------------------------------------+-----+----------+\n",
      "only showing top 20 rows\n",
      "\n"
     ]
    },
    {
     "name": "stderr",
     "output_type": "stream",
     "text": [
      "25/04/03 10:07:02 WARN WindowExec: No Partition Defined for Window operation! Moving all data to a single partition, this can cause serious performance degradation.\n",
      "25/04/03 10:07:02 WARN WindowExec: No Partition Defined for Window operation! Moving all data to a single partition, this can cause serious performance degradation.\n",
      "25/04/03 10:07:02 WARN WindowExec: No Partition Defined for Window operation! Moving all data to a single partition, this can cause serious performance degradation.\n",
      "25/04/03 10:07:11 WARN WindowExec: No Partition Defined for Window operation! Moving all data to a single partition, this can cause serious performance degradation.\n",
      "25/04/03 10:07:11 WARN WindowExec: No Partition Defined for Window operation! Moving all data to a single partition, this can cause serious performance degradation.\n",
      "25/04/03 10:07:12 WARN WindowExec: No Partition Defined for Window operation! Moving all data to a single partition, this can cause serious performance degradation.\n",
      "25/04/03 10:07:12 WARN WindowExec: No Partition Defined for Window operation! Moving all data to a single partition, this can cause serious performance degradation.\n",
      "25/04/03 10:07:23 WARN WindowExec: No Partition Defined for Window operation! Moving all data to a single partition, this can cause serious performance degradation.\n",
      "25/04/03 10:07:23 WARN WindowExec: No Partition Defined for Window operation! Moving all data to a single partition, this can cause serious performance degradation.\n",
      "25/04/03 10:07:23 WARN WindowExec: No Partition Defined for Window operation! Moving all data to a single partition, this can cause serious performance degradation.\n",
      "25/04/03 10:07:31 WARN WindowExec: No Partition Defined for Window operation! Moving all data to a single partition, this can cause serious performance degradation.\n",
      "25/04/03 10:07:31 WARN WindowExec: No Partition Defined for Window operation! Moving all data to a single partition, this can cause serious performance degradation.\n",
      "25/04/03 10:07:32 WARN WindowExec: No Partition Defined for Window operation! Moving all data to a single partition, this can cause serious performance degradation.\n",
      "25/04/03 10:07:32 WARN WindowExec: No Partition Defined for Window operation! Moving all data to a single partition, this can cause serious performance degradation.\n",
      "                                                                                "
     ]
    },
    {
     "name": "stdout",
     "output_type": "stream",
     "text": [
      "Length of y_true: 30059\n",
      "Length of y_pred: 30059\n",
      "Number of missing values in y_true: 0\n",
      "Number of missing values in y_pred: 0\n"
     ]
    },
    {
     "data": {
      "image/png": "[encoded data removed]",
      "text/plain": [
       "<Figure size 1000x700 with 2 Axes>"
      ]
     },
     "metadata": {},
     "output_type": "display_data"
    },
    {
     "name": "stdout",
     "output_type": "stream",
     "text": [
      "Confusion Matrix plotted.\n"
     ]
    }
   ],
   "source": [
    "#train_df, test_df, tactic, train_year, test_year, split_ratio\n",
    "\n",
    "train_df = decision_train_sample\n",
    "test_df = decision_test_sample\n",
    "\n",
    "# Define the parameters\n",
    "#tactic = \"Credential Access\"\n",
    "tactic = \"Reconnaissance\"\n",
    "\n",
    "train_year = \"2024_2022\"\n",
    "\n",
    "test_year = \"2024_2022\"\n",
    "\n",
    "split_ratio = \"1\"\n",
    "\n",
    "# Print the columns and their types for train_df\n",
    "print(\"Columns and types in train_df:\")\n",
    "train_df.printSchema()\n",
    "\n",
    "# Print the test_df\n",
    "print(\"\\nEntire test_df:\")\n",
    "test_df.show(truncate=False)\n",
    "\n",
    "#Show the distinct label counts\n",
    "print(\"Distinct label counts in train_df:\")\n",
    "train_df.groupBy(\"label_tactic\").count().show()\n",
    "print(\"Distinct label counts in test_df:\")\n",
    "test_df.groupBy(\"label_tactic\").count().show()\n",
    "\n",
    "# Call the train_and_evaluate function\n",
    "train_and_evaluate(train_df, test_df, tactic, train_year, test_year, split_ratio)"
   ]
  },
  {
   "cell_type": "markdown",
   "id": "30f52133",
   "metadata": {},
   "source": [
    "<span style = \"color:blue; font-size:24px\">Training with 2024 and 2022 Combined Data & Testing with ARIMA Result Dataframe</span>"
   ]
  },
  {
   "cell_type": "code",
   "execution_count": 5,
   "id": "4591e63a-72ef-4536-b7ac-59631b65f5bc",
   "metadata": {
    "scrolled": true
   },
   "outputs": [
    {
     "name": "stdout",
     "output_type": "stream",
     "text": [
      "Columns and types in train_df:\n",
      "root\n",
      " |-- ts: double (nullable = true)\n",
      " |-- duration: double (nullable = false)\n",
      " |-- orig_bytes: long (nullable = false)\n",
      " |-- resp_bytes: long (nullable = false)\n",
      " |-- orig_ip_bytes: long (nullable = false)\n",
      " |-- resp_ip_bytes: long (nullable = false)\n",
      " |-- label_tactic: string (nullable = false)\n",
      "\n",
      "\n",
      "Entire test_df:\n"
     ]
    },
    {
     "name": "stderr",
     "output_type": "stream",
     "text": [
      "                                                                                "
     ]
    },
    {
     "name": "stdout",
     "output_type": "stream",
     "text": [
      "+-------------------+-------------------+---------------------+-------------------+------+----------+----------+-------------+-------------+--------------+\n",
      "|window_start       |window_start       |duration             |Forecast           |Actual|orig_bytes|resp_bytes|orig_ip_bytes|resp_ip_bytes|label_tactic  |\n",
      "+-------------------+-------------------+---------------------+-------------------+------+----------+----------+-------------+-------------+--------------+\n",
      "|2025-10-28 17:53:08|2025-10-28 17:53:08|3.7598609924316406E-4|0.46929221875360705|0.0   |0         |0         |176          |0            |Reconnaissance|\n",
      "|2025-10-28 17:57:08|2025-10-28 17:57:08|1.9598007202148438E-4|0.4545769012690556 |0.0   |0         |0         |180          |0            |Reconnaissance|\n",
      "|2025-10-28 18:00:08|2025-10-28 18:00:08|2.529621124267578E-4 |0.47298786206064003|0.0   |0         |0         |176          |0            |Reconnaissance|\n",
      "|2025-10-28 18:05:08|2025-10-28 18:05:08|2.880096435546875E-4 |0.4687055776821929 |0.0   |0         |0         |176          |0            |Reconnaissance|\n",
      "|2025-10-28 18:06:08|2025-10-28 18:06:08|5.609989166259766E-4 |0.45793116112118515|0.0   |0         |0         |240          |0            |Reconnaissance|\n",
      "|2025-10-28 18:12:08|2025-10-28 18:12:08|2.2220611572265625E-4|0.4726180468721488 |0.0   |0         |0         |132          |0            |Reconnaissance|\n",
      "|2025-10-28 18:14:08|2025-10-28 18:14:08|3.070831298828125E-4 |0.4749930518890904 |0.0   |0         |0         |180          |0            |Reconnaissance|\n",
      "|2025-10-28 18:15:08|2025-10-28 18:15:08|0.0012469291687011719|0.4668032080849346 |0.0   |0         |0         |240          |160          |Reconnaissance|\n",
      "|2025-10-28 18:20:08|2025-10-28 18:20:08|1.1587142944335938E-4|0.46461643396044805|0.0   |0         |0         |180          |0            |Reconnaissance|\n",
      "|2025-10-28 18:21:08|2025-10-28 18:21:08|8.311271667480469E-4 |0.4717325198755541 |0.0   |0         |0         |176          |160          |Reconnaissance|\n",
      "|2025-10-28 18:23:08|2025-10-28 18:23:08|2.9587745666503906E-4|0.4719758582064378 |0.0   |0         |0         |176          |0            |Reconnaissance|\n",
      "|2025-10-28 18:25:08|2025-10-28 18:25:08|2.8896331787109375E-4|0.46605286976343285|0.0   |0         |0         |176          |0            |Reconnaissance|\n",
      "|2025-10-28 18:26:08|2025-10-28 18:26:08|1.5401840209960938E-4|0.4628994202129763 |0.0   |0         |0         |180          |0            |Reconnaissance|\n",
      "|2025-10-28 18:30:08|2025-10-28 18:30:08|7.410049438476562E-4 |0.466337839368474  |0.0   |0         |0         |176          |160          |Reconnaissance|\n",
      "|2025-10-28 18:33:08|2025-10-28 18:33:08|2.741813659667969E-4 |0.4707434285911906 |0.0   |0         |0         |176          |0            |Reconnaissance|\n",
      "|2025-10-28 18:34:08|2025-10-28 18:34:08|1.690387725830078E-4 |0.47001534801397565|0.0   |0         |0         |132          |0            |Reconnaissance|\n",
      "|2025-10-28 18:37:08|2025-10-28 18:37:08|0.0012028217315673828|0.4644862213562246 |0.0   |0         |0         |176          |160          |Reconnaissance|\n",
      "|2025-10-28 18:40:08|2025-10-28 18:40:08|5.369186401367188E-4 |0.46984663080900635|0.0   |0         |0         |176          |160          |Reconnaissance|\n",
      "|2025-10-28 18:42:08|2025-10-28 18:42:08|2.090930938720703E-4 |0.4687925023774603 |0.0   |0         |0         |240          |0            |Reconnaissance|\n",
      "|2025-10-28 18:46:08|2025-10-28 18:46:08|4.4989585876464844E-4|0.46606402021563037|0.0   |0         |0         |180          |0            |Reconnaissance|\n",
      "+-------------------+-------------------+---------------------+-------------------+------+----------+----------+-------------+-------------+--------------+\n",
      "only showing top 20 rows\n",
      "\n",
      "Distinct label counts in train_df:\n"
     ]
    },
    {
     "name": "stderr",
     "output_type": "stream",
     "text": [
      "25/04/03 10:07:43 WARN WindowExec: No Partition Defined for Window operation! Moving all data to a single partition, this can cause serious performance degradation.\n",
      "25/04/03 10:07:43 WARN WindowExec: No Partition Defined for Window operation! Moving all data to a single partition, this can cause serious performance degradation.\n",
      "25/04/03 10:07:52 WARN WindowExec: No Partition Defined for Window operation! Moving all data to a single partition, this can cause serious performance degradation.\n",
      "25/04/03 10:07:52 WARN WindowExec: No Partition Defined for Window operation! Moving all data to a single partition, this can cause serious performance degradation.\n",
      "25/04/03 10:07:54 WARN WindowExec: No Partition Defined for Window operation! Moving all data to a single partition, this can cause serious performance degradation.\n",
      "25/04/03 10:07:54 WARN WindowExec: No Partition Defined for Window operation! Moving all data to a single partition, this can cause serious performance degradation.\n",
      "                                                                                "
     ]
    },
    {
     "name": "stdout",
     "output_type": "stream",
     "text": [
      "+--------------+-----+\n",
      "|  label_tactic|count|\n",
      "+--------------+-----+\n",
      "|Reconnaissance|24375|\n",
      "|          none| 3394|\n",
      "+--------------+-----+\n",
      "\n",
      "Distinct label counts in test_df:\n"
     ]
    },
    {
     "name": "stderr",
     "output_type": "stream",
     "text": [
      "                                                                                "
     ]
    },
    {
     "name": "stdout",
     "output_type": "stream",
     "text": [
      "+--------------+-----+\n",
      "|  label_tactic|count|\n",
      "+--------------+-----+\n",
      "|          none|  403|\n",
      "|Reconnaissance|23353|\n",
      "+--------------+-----+\n",
      "\n"
     ]
    },
    {
     "name": "stderr",
     "output_type": "stream",
     "text": [
      "25/04/03 10:08:05 WARN WindowExec: No Partition Defined for Window operation! Moving all data to a single partition, this can cause serious performance degradation.\n",
      "25/04/03 10:08:05 WARN WindowExec: No Partition Defined for Window operation! Moving all data to a single partition, this can cause serious performance degradation.\n",
      "25/04/03 10:08:05 WARN WindowExec: No Partition Defined for Window operation! Moving all data to a single partition, this can cause serious performance degradation.\n",
      "25/04/03 10:08:15 WARN WindowExec: No Partition Defined for Window operation! Moving all data to a single partition, this can cause serious performance degradation.\n",
      "25/04/03 10:08:15 WARN WindowExec: No Partition Defined for Window operation! Moving all data to a single partition, this can cause serious performance degradation.\n",
      "25/04/03 10:08:18 WARN WindowExec: No Partition Defined for Window operation! Moving all data to a single partition, this can cause serious performance degradation.\n",
      "25/04/03 10:08:18 WARN WindowExec: No Partition Defined for Window operation! Moving all data to a single partition, this can cause serious performance degradation.\n",
      "25/04/03 10:08:18 WARN WindowExec: No Partition Defined for Window operation! Moving all data to a single partition, this can cause serious performance degradation.\n",
      "25/04/03 10:08:18 WARN WindowExec: No Partition Defined for Window operation! Moving all data to a single partition, this can cause serious performance degradation.\n",
      "25/04/03 10:08:26 WARN WindowExec: No Partition Defined for Window operation! Moving all data to a single partition, this can cause serious performance degradation.\n",
      "25/04/03 10:08:26 WARN WindowExec: No Partition Defined for Window operation! Moving all data to a single partition, this can cause serious performance degradation.\n",
      "25/04/03 10:08:28 WARN WindowExec: No Partition Defined for Window operation! Moving all data to a single partition, this can cause serious performance degradation.\n",
      "25/04/03 10:08:28 WARN WindowExec: No Partition Defined for Window operation! Moving all data to a single partition, this can cause serious performance degradation.\n",
      "25/04/03 10:08:36 WARN WindowExec: No Partition Defined for Window operation! Moving all data to a single partition, this can cause serious performance degradation.\n",
      "25/04/03 10:08:36 WARN WindowExec: No Partition Defined for Window operation! Moving all data to a single partition, this can cause serious performance degradation.\n",
      "25/04/03 10:08:36 WARN WindowExec: No Partition Defined for Window operation! Moving all data to a single partition, this can cause serious performance degradation.\n",
      "25/04/03 10:08:45 WARN WindowExec: No Partition Defined for Window operation! Moving all data to a single partition, this can cause serious performance degradation.\n",
      "25/04/03 10:08:45 WARN WindowExec: No Partition Defined for Window operation! Moving all data to a single partition, this can cause serious performance degradation.\n",
      "25/04/03 10:08:47 WARN WindowExec: No Partition Defined for Window operation! Moving all data to a single partition, this can cause serious performance degradation.\n",
      "25/04/03 10:08:47 WARN WindowExec: No Partition Defined for Window operation! Moving all data to a single partition, this can cause serious performance degradation.\n",
      "                                                                                "
     ]
    },
    {
     "name": "stdout",
     "output_type": "stream",
     "text": [
      "\n",
      "Model for label_tactic: Reconnaissance\n",
      "Accuracy: 0.9956221586125611\n",
      "Precision: 0.9954756053559025\n",
      "Recall: 0.995622158612561\n",
      "F1 Score: 0.9954300193381211\n",
      "\n",
      "Predictions for each row in the test dataframe:\n",
      "+-------------------------------------------+-----+----------+\n",
      "|features                                   |label|prediction|\n",
      "+-------------------------------------------+-----+----------+\n",
      "|(5,[0,3],[3.7598609924316406E-4,176.0])    |1    |1.0       |\n",
      "|(5,[0,3],[1.9598007202148438E-4,180.0])    |1    |1.0       |\n",
      "|(5,[0,3],[2.529621124267578E-4,176.0])     |1    |1.0       |\n",
      "|(5,[0,3],[2.880096435546875E-4,176.0])     |1    |1.0       |\n",
      "|(5,[0,3],[5.609989166259766E-4,240.0])     |1    |1.0       |\n",
      "|(5,[0,3],[2.2220611572265625E-4,132.0])    |1    |1.0       |\n",
      "|(5,[0,3],[3.070831298828125E-4,180.0])     |1    |1.0       |\n",
      "|[0.0012469291687011719,0.0,0.0,240.0,160.0]|1    |1.0       |\n",
      "|(5,[0,3],[1.1587142944335938E-4,180.0])    |1    |1.0       |\n",
      "|[8.311271667480469E-4,0.0,0.0,176.0,160.0] |1    |1.0       |\n",
      "|(5,[0,3],[2.9587745666503906E-4,176.0])    |1    |1.0       |\n",
      "|(5,[0,3],[2.8896331787109375E-4,176.0])    |1    |1.0       |\n",
      "|(5,[0,3],[1.5401840209960938E-4,180.0])    |1    |1.0       |\n",
      "|[7.410049438476562E-4,0.0,0.0,176.0,160.0] |1    |1.0       |\n",
      "|(5,[0,3],[2.741813659667969E-4,176.0])     |1    |1.0       |\n",
      "|(5,[0,3],[1.690387725830078E-4,132.0])     |1    |1.0       |\n",
      "|[0.0012028217315673828,0.0,0.0,176.0,160.0]|1    |1.0       |\n",
      "|[5.369186401367188E-4,0.0,0.0,176.0,160.0] |1    |1.0       |\n",
      "|(5,[0,3],[2.090930938720703E-4,240.0])     |1    |1.0       |\n",
      "|(5,[0,3],[4.4989585876464844E-4,180.0])    |1    |1.0       |\n",
      "+-------------------------------------------+-----+----------+\n",
      "only showing top 20 rows\n",
      "\n",
      "Length of y_true: 23756\n",
      "Length of y_pred: 23756\n",
      "Number of missing values in y_true: 0\n",
      "Number of missing values in y_pred: 0\n"
     ]
    },
    {
     "data": {
      "image/png": "[encoded data removed]",
      "text/plain": [
       "<Figure size 1000x700 with 2 Axes>"
      ]
     },
     "metadata": {},
     "output_type": "display_data"
    },
    {
     "name": "stdout",
     "output_type": "stream",
     "text": [
      "Confusion Matrix plotted.\n"
     ]
    }
   ],
   "source": [
    "#Define Test Variables for Decision Tree\n",
    "#train_df, test_df, tactic, train_year, test_year, split_ratio\n",
    "\n",
    "train_df = decision_test_sample\n",
    "\n",
    "# Reduce train_df size to include only the first 70% of data\n",
    "#train_df = train_df.limit(int(0.7 * train_df.count()))\n",
    "\n",
    "test_df = filtered_result_df\n",
    "\n",
    "#tactic = \"Credential Access\"\n",
    "tactic = \"Reconnaissance\"\n",
    "\n",
    "train_year = \"2024\"\n",
    "\n",
    "test_year = \"2022\"\n",
    "\n",
    "split_ratio = \"1\"\n",
    "\n",
    "# Filter train_df to only include rows where label_tactic is either 'none' or the specified tactic\n",
    "train_df = train_df.filter((F.col(\"label_tactic\") == tactic) | (F.col(\"label_tactic\") == \"none\"))\n",
    "\n",
    "# Filter test_df to only include rows where label_tactic is either 'none' or the specified tactic\n",
    "test_df = test_df.filter((F.col(\"label_tactic\") == tactic) | (F.col(\"label_tactic\") == \"none\"))\n",
    "\n",
    "# Print the columns and their types for train_df\n",
    "print(\"Columns and types in train_df:\")\n",
    "train_df.printSchema()\n",
    "\n",
    "# Print the test_df\n",
    "print(\"\\nEntire test_df:\")\n",
    "test_df.show(truncate=False)\n",
    "\n",
    "#Show the distinct label counts\n",
    "print(\"Distinct label counts in train_df:\")\n",
    "train_df.groupBy(\"label_tactic\").count().show()\n",
    "print(\"Distinct label counts in test_df:\")\n",
    "test_df.groupBy(\"label_tactic\").count().show()\n",
    "\n",
    "# Call the train_and_evaluate function\n",
    "train_and_evaluate(train_df, test_df, tactic, train_year, test_year, split_ratio)"
   ]
  },
  {
   "cell_type": "code",
   "execution_count": null,
   "id": "4a3e0829-cd16-42ed-90d6-8e44dd4a5811",
   "metadata": {},
   "outputs": [],
   "source": []
  }
 ],
 "metadata": {
  "kernelspec": {
   "display_name": "Python 3 (ipykernel)",
   "language": "python",
   "name": "python3"
  },
  "language_info": {
   "codemirror_mode": {
    "name": "ipython",
    "version": 3
   },
   "file_extension": ".py",
   "mimetype": "text/x-python",
   "name": "python",
   "nbconvert_exporter": "python",
   "pygments_lexer": "ipython3",
   "version": "3.12.3"
  }
 },
 "nbformat": 4,
 "nbformat_minor": 5
}
