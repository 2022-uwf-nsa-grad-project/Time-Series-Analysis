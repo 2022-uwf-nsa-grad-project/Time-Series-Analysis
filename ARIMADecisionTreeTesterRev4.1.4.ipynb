{
 "cells": [
  {
   "cell_type": "markdown",
   "id": "dd3c2a95-cbcc-4d33-9ac4-2019d28003e7",
   "metadata": {},
   "source": [
    "<span style = \"color:blue; font-size:24px\">ARIMADecisionTreeTester</span>\n",
    "<span style = \"color:blue; font-size:24px\">MultiYear</span>\n",
    "<span style = \"color:blue; font-size:24px\"> Reconnaissance<span>\n",
    "\n",
    "ZeekData24 Attack Profiles\n",
    "\n",
    "Dataset 1: Multiple Attack Types (Credential Access|236706|, Reconnaissance|12762|, Initial Access|2172|, Privilege Escalation|1251|, Persistence|1251|, Defense Evasion|1251|, Exfiltration|50|)\n",
    "\n",
    "Dataset 2: Multiple Attack Types (Credential Access|45491|, Reconnaissance|3339|, Initial Access|576|, Privilege Escalation|336|, Persistence|336|, Defense Evasion|336|, Exfiltration|30|)\n",
    "\n",
    "Dataset 3: Multiple Attack Types (Credential Access|150887|, Reconnaissance|10834|, Initial Access|2090|, Privilege Escalation|1193|, Persistence|1193|, Defense Evasion|1193|, Exfiltration|188|)\n",
    "\n",
    "Dataset 4: Multiple Attack Types (Credential Access|341945|, Reconnaissance|24233|, Initial Access|4602|, Privilege Escalation|2591|, Persistence|2591|, Defense Evasion|2591|, Exfiltration|268|)\n",
    "\n",
    "Dataset 5: Multiple Attack Types (Credential Access|96159|, Reconnaissance|6927|, Initial Access|1222|, Privilege Escalation|677|, Persistence|677|, Defense Evasion|677|, Exfiltration|23|)\n",
    "\n",
    "Datest 6: Benign Data\n",
    "\n",
    "Dataset 7: Benign Data\n",
    "\n",
    "Zeekdata22 Attack Profiles\n",
    "\n",
    "Dataset 1: Benign\n",
    "\n",
    "Dataset 2: Attacks (Reconnaissance|9278720|, Discovery|2086|)\n",
    "\n",
    "Dataset 3: Attacks (Credential Access|31|, Privilege Escalation|13|, Exfiltration|7|, Lateral Movement|4|, Resource Development|3|, Reconnaissance|2|, Persistence|1|, Initial Access|1|, Defense Evasion|1|)\n",
    "\n",
    "This revision tests the Decision Tree Model on different combinations of 2022 and 2024 data but focuses on Credential Access.\n",
    "\n",
    "NOTE: This revision is adapted to implement an upgrade python 3.12 version which does not allow for the use of pdmarima, so the arima_functions script must use statsmodels to work properly. Previous versions may be considered obsolete when using this new version of python."
   ]
  },
  {
   "cell_type": "markdown",
   "id": "4d236bce-822b-44e2-a964-b2117c1036df",
   "metadata": {},
   "source": [
    "<span style = \"color:blue; font-size:24px\">Preprocessing for ARIMA Model</span>"
   ]
  },
  {
   "cell_type": "code",
   "execution_count": 1,
   "id": "22c5e9f8",
   "metadata": {
    "scrolled": true
   },
   "outputs": [
    {
     "name": "stderr",
     "output_type": "stream",
     "text": [
      "Warning: Ignoring non-Spark config property: SPARK_LOCAL_IP\n",
      "25/04/03 10:18:29 WARN Utils: Your hostname, car-ubuntu resolves to a loopback address: 127.0.1.1; using 192.168.1.123 instead (on interface ens33)\n",
      "25/04/03 10:18:29 WARN Utils: Set SPARK_LOCAL_IP if you need to bind to another address\n",
      "Setting default log level to \"WARN\".\n",
      "To adjust logging level use sc.setLogLevel(newLevel). For SparkR, use setLogLevel(newLevel).\n",
      "25/04/03 10:18:30 WARN NativeCodeLoader: Unable to load native-hadoop library for your platform... using builtin-java classes where applicable\n",
      "25/04/03 10:18:31 WARN Utils: Service 'SparkUI' could not bind on port 4040. Attempting port 4041.\n"
     ]
    },
    {
     "name": "stdout",
     "output_type": "stream",
     "text": [
      "Loading data from path 1/10: hdfs://192.168.1.250:9000/datasets-uwf-edu/UWF-ZeekData24/parquet/2024-02-25 - 2024-03-03/part-00000-8b838a85-76eb-4896-a0b6-2fc425e828c2-c000.snappy.parquet\n"
     ]
    },
    {
     "name": "stderr",
     "output_type": "stream",
     "text": [
      "                                                                                "
     ]
    },
    {
     "name": "stdout",
     "output_type": "stream",
     "text": [
      "Count of rows in dataset:  255443\n",
      "Loading data from path 2/10: hdfs://192.168.1.250:9000/datasets-uwf-edu/UWF-ZeekData24/parquet/2024-03-03 - 2024-03-10/part-00000-0955ed97-8460-41bd-872a-7375a7f0207e-c000.snappy.parquet\n",
      "Count of rows in dataset:  50444\n",
      "Loading data from path 3/10: hdfs://192.168.1.250:9000/datasets-uwf-edu/UWF-ZeekData24/parquet/2024-03-10 - 2024-03-17/part-00000-071774ae-97f3-4f31-9700-8bfcdf41305a-c000.snappy.parquet\n",
      "Count of rows in dataset:  167578\n",
      "Loading data from path 4/10: hdfs://192.168.1.250:9000/datasets-uwf-edu/UWF-ZeekData24/parquet/2024-03-17 - 2024-03-24/part-00000-5f556208-a1fc-40a1-9cc2-a4e24c76aeb3-c000.snappy.parquet\n",
      "Count of rows in dataset:  378821\n",
      "Loading data from path 5/10: hdfs://192.168.1.250:9000/datasets-uwf-edu/UWF-ZeekData24/parquet/2024-03-24 - 2024-03-31/part-00000-ea3a47a3-0973-4d6b-a3a2-8dd441ee7901-c000.snappy.parquet\n",
      "Count of rows in dataset:  106362\n",
      "Loading data from path 6/10: hdfs://192.168.1.250:9000/datasets-uwf-edu/UWF-ZeekData24/parquet/2024-10-27 - 2024-11-03/part-00000-69700ccb-c1c1-4763-beb7-cd0f1a61c268-c000.snappy.parquet\n",
      "Count of rows in dataset:  454846\n",
      "Loading data from path 7/10: hdfs://192.168.1.250:9000/datasets-uwf-edu/UWF-ZeekData24/parquet/2024-11-03 - 2024-11-10/part-00000-f078acc1-ab56-40a6-a6e1-99d780645c57-c000.snappy.parquet\n",
      "Count of rows in dataset:  503263\n",
      "Loading data from path 8/10: hdfs://192.168.1.250:9000/datasets-uwf-edu/UWF-ZeekData22/parquet/2022-01-16 - 2022-01-23/part-00000-cbf26680-106d-40e7-8278-60520afdbb0e-c000.snappy.parquet\n",
      "Count of rows in dataset:  354100\n",
      "Loading data from path 9/10: hdfs://192.168.1.250:9000/datasets-uwf-edu/UWF-ZeekData22/parquet/2022-02-06 - 2022-02-13/part-00000-df678a79-4a73-452b-8e72-d624b2732f17-c000.snappy.parquet\n",
      "Count of rows in dataset:  9280806\n",
      "Loading data from path 10/10: hdfs://192.168.1.250:9000/datasets-uwf-edu/UWF-ZeekData22/parquet/2022-02-13 - 2022-02-20/part-00000-1da06990-329c-4e38-913a-0f0aa39b388d-c000.snappy.parquet\n",
      "Count of rows in dataset:  63\n",
      "Data loading complete.\n",
      "Initial DataFrame row count: 255443\n",
      "Row count after shuffling: 11551726\n",
      "Data combined and shuffled successfully.\n"
     ]
    },
    {
     "name": "stderr",
     "output_type": "stream",
     "text": [
      "25/04/03 10:18:52 WARN WindowExec: No Partition Defined for Window operation! Moving all data to a single partition, this can cause serious performance degradation.\n",
      "25/04/03 10:18:52 WARN WindowExec: No Partition Defined for Window operation! Moving all data to a single partition, this can cause serious performance degradation.\n",
      "25/04/03 10:18:52 WARN WindowExec: No Partition Defined for Window operation! Moving all data to a single partition, this can cause serious performance degradation.\n",
      "25/04/03 10:19:03 WARN WindowExec: No Partition Defined for Window operation! Moving all data to a single partition, this can cause serious performance degradation.\n",
      "25/04/03 10:19:03 WARN WindowExec: No Partition Defined for Window operation! Moving all data to a single partition, this can cause serious performance degradation.\n",
      "25/04/03 10:19:03 WARN WindowExec: No Partition Defined for Window operation! Moving all data to a single partition, this can cause serious performance degradation.\n",
      "                                                                                "
     ]
    },
    {
     "name": "stdout",
     "output_type": "stream",
     "text": [
      "+----------+---------------------+----------+----------+-------------+-------------+-----------------+\n",
      "|ts        |duration             |orig_bytes|resp_bytes|orig_ip_bytes|resp_ip_bytes|label_tactic     |\n",
      "+----------+---------------------+----------+----------+-------------+-------------+-----------------+\n",
      "|1743693592|2.999305725097656E-4 |0         |0         |240          |0            |Reconnaissance   |\n",
      "|1743693652|4.658699035644531E-4 |0         |0         |176          |160          |Reconnaissance   |\n",
      "|1743693712|4.489421844482422E-4 |0         |0         |176          |160          |Reconnaissance   |\n",
      "|1743693772|2.4509429931640625E-4|0         |0         |240          |0            |Reconnaissance   |\n",
      "|1743693832|0.0018668174743652344|130       |130       |186          |186          |Reconnaissance   |\n",
      "|1743693892|3.3211708068847656E-4|0         |0         |240          |0            |Reconnaissance   |\n",
      "|1743693952|5.390644073486328E-4 |0         |0         |176          |160          |Reconnaissance   |\n",
      "|1743694012|8.916854858398438E-5 |0         |0         |180          |0            |Reconnaissance   |\n",
      "|1743694072|3.5881996154785156E-4|0         |0         |176          |0            |Reconnaissance   |\n",
      "|1743694132|5.388259887695312E-4 |0         |0         |176          |0            |Reconnaissance   |\n",
      "|1743694192|3.559589385986328E-4 |0         |0         |176          |0            |Reconnaissance   |\n",
      "|1743694252|3.3298051357269287   |1041      |16681     |6692         |70292        |Credential Access|\n",
      "|1743694312|2.5010108947753906E-4|0         |0         |176          |0            |Reconnaissance   |\n",
      "|1743694372|0.0018532276153564453|130       |130       |186          |186          |Reconnaissance   |\n",
      "|1743694432|3.020763397216797E-4 |0         |0         |176          |0            |Reconnaissance   |\n",
      "|1743694492|5.000150918960571    |78        |0         |134          |0            |Reconnaissance   |\n",
      "|1743694552|7.569789886474609E-4 |0         |0         |176          |160          |Reconnaissance   |\n",
      "|1743694612|2.4199485778808594E-4|0         |0         |240          |0            |Reconnaissance   |\n",
      "|1743694672|3.058910369873047E-4 |0         |0         |176          |0            |Reconnaissance   |\n",
      "|1743694732|6.690025329589844E-4 |0         |0         |176          |160          |Reconnaissance   |\n",
      "+----------+---------------------+----------+----------+-------------+-------------+-----------------+\n",
      "only showing top 20 rows\n",
      "\n"
     ]
    },
    {
     "name": "stderr",
     "output_type": "stream",
     "text": [
      "                                                                                "
     ]
    },
    {
     "name": "stdout",
     "output_type": "stream",
     "text": [
      "Total number of rows in the shuffled DataFrame: 11551726\n",
      "Shuffled DataFrame split into 116 chunks of 100000 rows each.\n",
      "Train and Test DataFrames added to train_test_list successfully.\n"
     ]
    },
    {
     "name": "stderr",
     "output_type": "stream",
     "text": [
      "25/04/03 10:19:12 WARN WindowExec: No Partition Defined for Window operation! Moving all data to a single partition, this can cause serious performance degradation.\n",
      "25/04/03 10:19:12 WARN WindowExec: No Partition Defined for Window operation! Moving all data to a single partition, this can cause serious performance degradation.\n",
      "25/04/03 10:19:20 WARN WindowExec: No Partition Defined for Window operation! Moving all data to a single partition, this can cause serious performance degradation.\n",
      "25/04/03 10:19:20 WARN WindowExec: No Partition Defined for Window operation! Moving all data to a single partition, this can cause serious performance degradation.\n",
      "25/04/03 10:19:22 WARN WindowExec: No Partition Defined for Window operation! Moving all data to a single partition, this can cause serious performance degradation.\n",
      "25/04/03 10:19:22 WARN WindowExec: No Partition Defined for Window operation! Moving all data to a single partition, this can cause serious performance degradation.\n",
      "25/04/03 10:19:31 WARN WindowExec: No Partition Defined for Window operation! Moving all data to a single partition, this can cause serious performance degradation.\n",
      "25/04/03 10:19:31 WARN WindowExec: No Partition Defined for Window operation! Moving all data to a single partition, this can cause serious performance degradation.\n"
     ]
    },
    {
     "name": "stdout",
     "output_type": "stream",
     "text": [
      "Training DataFrame size: 69941 rows\n"
     ]
    },
    {
     "name": "stderr",
     "output_type": "stream",
     "text": [
      "25/04/03 10:19:40 WARN WindowExec: No Partition Defined for Window operation! Moving all data to a single partition, this can cause serious performance degradation.\n",
      "25/04/03 10:19:40 WARN WindowExec: No Partition Defined for Window operation! Moving all data to a single partition, this can cause serious performance degradation.\n",
      "25/04/03 10:19:43 WARN WindowExec: No Partition Defined for Window operation! Moving all data to a single partition, this can cause serious performance degradation.\n",
      "25/04/03 10:19:43 WARN WindowExec: No Partition Defined for Window operation! Moving all data to a single partition, this can cause serious performance degradation.\n",
      "                                                                                "
     ]
    },
    {
     "name": "stdout",
     "output_type": "stream",
     "text": [
      "Testing DataFrame size: 30059 rows\n",
      "Processing DataFrame 1/2\n"
     ]
    },
    {
     "name": "stderr",
     "output_type": "stream",
     "text": [
      "25/04/03 10:19:55 WARN WindowExec: No Partition Defined for Window operation! Moving all data to a single partition, this can cause serious performance degradation.\n",
      "25/04/03 10:19:55 WARN WindowExec: No Partition Defined for Window operation! Moving all data to a single partition, this can cause serious performance degradation.\n",
      "25/04/03 10:20:04 WARN WindowExec: No Partition Defined for Window operation! Moving all data to a single partition, this can cause serious performance degradation.\n",
      "25/04/03 10:20:04 WARN WindowExec: No Partition Defined for Window operation! Moving all data to a single partition, this can cause serious performance degradation.\n",
      "25/04/03 10:20:06 WARN WindowExec: No Partition Defined for Window operation! Moving all data to a single partition, this can cause serious performance degradation.\n",
      "25/04/03 10:20:06 WARN WindowExec: No Partition Defined for Window operation! Moving all data to a single partition, this can cause serious performance degradation.\n",
      "                                                                                "
     ]
    },
    {
     "name": "stdout",
     "output_type": "stream",
     "text": [
      "DataFrame 1 processed successfully.\n",
      "Processing DataFrame 2/2\n"
     ]
    },
    {
     "name": "stderr",
     "output_type": "stream",
     "text": [
      "25/04/03 10:20:24 WARN WindowExec: No Partition Defined for Window operation! Moving all data to a single partition, this can cause serious performance degradation.\n",
      "25/04/03 10:20:24 WARN WindowExec: No Partition Defined for Window operation! Moving all data to a single partition, this can cause serious performance degradation.\n",
      "25/04/03 10:20:33 WARN WindowExec: No Partition Defined for Window operation! Moving all data to a single partition, this can cause serious performance degradation.\n",
      "25/04/03 10:20:33 WARN WindowExec: No Partition Defined for Window operation! Moving all data to a single partition, this can cause serious performance degradation.\n",
      "25/04/03 10:20:34 WARN WindowExec: No Partition Defined for Window operation! Moving all data to a single partition, this can cause serious performance degradation.\n",
      "25/04/03 10:20:34 WARN WindowExec: No Partition Defined for Window operation! Moving all data to a single partition, this can cause serious performance degradation.\n",
      "                                                                                "
     ]
    },
    {
     "name": "stdout",
     "output_type": "stream",
     "text": [
      "DataFrame 2 processed successfully.\n",
      "Data processing complete.\n"
     ]
    }
   ],
   "source": [
    "# Spark imports\n",
    "import pyspark\n",
    "import numpy as np\n",
    "from pyspark.sql import SparkSession\n",
    "from pyspark.sql import functions as F\n",
    "from pyspark.sql.window import Window\n",
    "\n",
    "# Python imports\n",
    "import pandas as pd\n",
    "import matplotlib.pyplot as plt\n",
    "from sklearn.preprocessing import MultiLabelBinarizer\n",
    "\n",
    "UID = \"raf46\"                   # Your Argonet ID.\n",
    "hadoop_master = \"192.168.1.250\"  # IP address to Spark Master, which, for our cluster, is the same as the Hadoop Name node address.  \n",
    "# Create spark session with variables below.  Please try to remember to add your argonet ID to the appName, so that we know who a running job belongs to.\n",
    "spark = SparkSession.builder.appName(\"Pyspark Example Script - \" + UID)                        \\\n",
    "                            .master(\"spark://\" + hadoop_master + \":7077\")                      \\\n",
    "                            .config(\"SPARK_LOCAL_IP\", hadoop_master)                           \\\n",
    "                            .config(\"spark.driver.cores\", \"2\")                                 \\\n",
    "                            .config(\"spark.driver.memory\", \"128g\")                              \\\n",
    "                            .config(\"spark.executor.memory\", \"128g\")                            \\\n",
    "                            .config(\"spark.executor.cores\", \"4\")                               \\\n",
    "                            .config(\"spark.dynamicAllocation.shuffleTracking.enabled\", \"true\") \\\n",
    "                            .config(\"spark.dynamicAllocation.enabled\", \"true\")                 \\\n",
    "                            .config(\"spark.dynamicAllocation.minExecutors\", \"2\")               \\\n",
    "                            .config(\"spark.dynamicAllocation.maxExecutors\", \"8\")               \\\n",
    "                            .config(\"spark.executor.instances\", \"4\")                           \\\n",
    "                            .getOrCreate()\n",
    "\n",
    "def load_data(data_paths):\n",
    "    df_list = []\n",
    "    for i, path in enumerate(data_paths):\n",
    "        print(f\"Loading data from path {i+1}/{len(data_paths)}: {path}\")\n",
    "        df = spark.read.parquet(path)\n",
    "        df_list.append(df)\n",
    "        print(f\"Count of rows in dataset:  {df.count()}\")\n",
    "    print(\"Data loading complete.\")\n",
    "    return df_list\n",
    "\n",
    "def process_data_ARIMA(df_list):\n",
    "    processed_df_list = []\n",
    "    mitre_labels = [\n",
    "        \"Privilege Escalation\", \"Execution\", \"Persistence\", \"Defense Evasion\",\n",
    "        \"Credential Access\", \"Discovery\", \"Lateral Movement\", \"Collection\",\n",
    "        \"Exfiltration\", \"Command and Control\", \"Impact\", \"Reconnaissance\", \"Resource Development\"\n",
    "    ]\n",
    "\n",
    "    for i, df in enumerate(df_list):\n",
    "        print(f\"Processing DataFrame {i+1}/{len(df_list)}\")\n",
    "        df = df.withColumn(\"label_tactic_binary\", F.when(F.col(\"label_tactic\") == \"none\", 0).otherwise(1))\n",
    "        df = df.withColumn(\"label_tactic_split\", F.split(\"label_tactic\", \",\"))\n",
    "        df = df.withColumn(\"label_tactic_binary_encoded\", F.expr(\n",
    "            \"array(\" + \",\".join([f\"IF(array_contains(label_tactic_split, '{label}'), 1, 0)\" for label in mitre_labels]) + \")\"\n",
    "        ))\n",
    "        df = df.withColumn(\"ts\", F.from_unixtime(\"ts\").cast(\"timestamp\"))\n",
    "        window_size = \"1 seconds\"\n",
    "        df_agg = df.groupBy(F.window(\"ts\", window_size)) \\\n",
    "            .agg(\n",
    "                F.sum(\"duration\").alias(\"sum_duration\"),\n",
    "                F.sum(\"orig_bytes\").alias(\"sum_orig_bytes\"),\n",
    "                F.sum(\"resp_bytes\").alias(\"sum_resp_bytes\"),\n",
    "                F.sum(\"orig_ip_bytes\").alias(\"sum_orig_ip_bytes\"),\n",
    "                F.sum(\"resp_ip_bytes\").alias(\"sum_resp_ip_bytes\"),\n",
    "                F.count(\"*\").alias(\"connection_count\"),\n",
    "                F.max(\"label_tactic_binary\").alias(\"label_tactic_binary_agg\"),\n",
    "                F.collect_set(\"label_tactic_split\").alias(\"label_tactic_split_agg\"),\n",
    "                F.max(\"label_tactic_binary_encoded\").alias(\"label_tactic_binary_encoded_agg\")\n",
    "            )\n",
    "        df_agg_flat = df_agg.select(\n",
    "            F.col(\"window.start\").alias(\"window_start\"),\n",
    "            F.col(\"window.end\").alias(\"window_end\"),\n",
    "            \"sum_duration\",\n",
    "            \"sum_orig_bytes\",\n",
    "            \"sum_resp_bytes\",\n",
    "            \"sum_orig_ip_bytes\",\n",
    "            \"sum_resp_ip_bytes\",\n",
    "            \"connection_count\",\n",
    "            \"label_tactic_binary_agg\",\n",
    "            \"label_tactic_split_agg\",\n",
    "            \"label_tactic_binary_encoded_agg\"\n",
    "        )\n",
    "        df_agg_sorted = df_agg_flat.orderBy(\"window_start\")\n",
    "        df_pandas_sorted = df_agg_sorted.toPandas()\n",
    "        df_pandas_sorted[\"sum_orig_bytes_log\"] = np.log1p(df_pandas_sorted[\"sum_orig_bytes\"])\n",
    "        processed_df_list.append(df_pandas_sorted)\n",
    "        print(f\"DataFrame {i+1} processed successfully.\")\n",
    "    print(\"Data processing complete.\")\n",
    "    return processed_df_list\n",
    "\n",
    "# Define paths\n",
    "data_paths = [\n",
    "   \"hdfs://192.168.1.250:9000/datasets-uwf-edu/UWF-ZeekData24/parquet/2024-02-25 - 2024-03-03/part-00000-8b838a85-76eb-4896-a0b6-2fc425e828c2-c000.snappy.parquet\",\n",
    "    \"hdfs://192.168.1.250:9000/datasets-uwf-edu/UWF-ZeekData24/parquet/2024-03-03 - 2024-03-10/part-00000-0955ed97-8460-41bd-872a-7375a7f0207e-c000.snappy.parquet\",\n",
    "    \"hdfs://192.168.1.250:9000/datasets-uwf-edu/UWF-ZeekData24/parquet/2024-03-10 - 2024-03-17/part-00000-071774ae-97f3-4f31-9700-8bfcdf41305a-c000.snappy.parquet\",\n",
    "    \"hdfs://192.168.1.250:9000/datasets-uwf-edu/UWF-ZeekData24/parquet/2024-03-17 - 2024-03-24/part-00000-5f556208-a1fc-40a1-9cc2-a4e24c76aeb3-c000.snappy.parquet\",\n",
    "    \"hdfs://192.168.1.250:9000/datasets-uwf-edu/UWF-ZeekData24/parquet/2024-03-24 - 2024-03-31/part-00000-ea3a47a3-0973-4d6b-a3a2-8dd441ee7901-c000.snappy.parquet\",\n",
    "    \"hdfs://192.168.1.250:9000/datasets-uwf-edu/UWF-ZeekData24/parquet/2024-10-27 - 2024-11-03/part-00000-69700ccb-c1c1-4763-beb7-cd0f1a61c268-c000.snappy.parquet\",\n",
    "    \"hdfs://192.168.1.250:9000/datasets-uwf-edu/UWF-ZeekData24/parquet/2024-11-03 - 2024-11-10/part-00000-f078acc1-ab56-40a6-a6e1-99d780645c57-c000.snappy.parquet\",\n",
    "    \"hdfs://192.168.1.250:9000/datasets-uwf-edu/UWF-ZeekData22/parquet/2022-01-16 - 2022-01-23/part-00000-cbf26680-106d-40e7-8278-60520afdbb0e-c000.snappy.parquet\",\n",
    "    \"hdfs://192.168.1.250:9000/datasets-uwf-edu/UWF-ZeekData22/parquet/2022-02-06 - 2022-02-13/part-00000-df678a79-4a73-452b-8e72-d624b2732f17-c000.snappy.parquet\",\n",
    "    \"hdfs://192.168.1.250:9000/datasets-uwf-edu/UWF-ZeekData22/parquet/2022-02-13 - 2022-02-20/part-00000-1da06990-329c-4e38-913a-0f0aa39b388d-c000.snappy.parquet\"\n",
    "    ]\n",
    "\n",
    "# Define target Attack type\n",
    "valid_tactics = [\"Reconnaissance\", \"none\"]\n",
    "\n",
    "# Load and combine data, then shuffle\n",
    "def combine_and_shuffle_data(data_paths, random_seed=42):\n",
    "    # Load and combine all data\n",
    "    df_list = load_data(data_paths)\n",
    "\n",
    "    # Select relevant columns and fill na before combining\n",
    "    for i in range(len(df_list)):\n",
    "        df_list[i] = df_list[i].select(\"ts\", \"duration\", \"orig_bytes\", \"resp_bytes\", \"orig_ip_bytes\", \"resp_ip_bytes\", \"label_tactic\")\n",
    "        df_list[i] = df_list[i].fillna({\n",
    "            \"duration\": 0,\n",
    "            \"orig_bytes\": 0,\n",
    "            \"resp_bytes\": 0,\n",
    "            \"orig_ip_bytes\": 0,\n",
    "            \"resp_ip_bytes\": 0,\n",
    "            \"label_tactic\": \"none\"\n",
    "        })\n",
    "    # Combine all processed DataFrames\n",
    "    combined_df = df_list[0]\n",
    "    print(f\"Initial DataFrame row count: {combined_df.count()}\")\n",
    "    for df in df_list[1:]:\n",
    "        combined_df = combined_df.union(df)\n",
    "        i=0\n",
    "\n",
    "    # Shuffle the combined DataFrame\n",
    "    shuffled_df = combined_df.orderBy(F.rand(seed=random_seed))\n",
    "    print(f\"Row count after shuffling: {shuffled_df.count()}\")\n",
    "    \n",
    "    print(\"Data combined and shuffled successfully.\")\n",
    "    return shuffled_df\n",
    "\n",
    "# Combine and shuffle the data\n",
    "shuffled_df = combine_and_shuffle_data(data_paths)\n",
    "\n",
    "# Create a pseudo timestamp column with one-minute increments\n",
    "shuffled_df = shuffled_df.withColumn(\n",
    "    \"ts\",\n",
    "    F.unix_timestamp(F.current_timestamp()) + (F.row_number().over(Window.orderBy(F.rand())) * 60)\n",
    ")\n",
    "\n",
    "# Show the first few rows of the updated DataFrame\n",
    "shuffled_df.show(truncate=False)\n",
    "\n",
    "# Show the total count of rows\n",
    "print(f\"Total number of rows in the shuffled DataFrame: {shuffled_df.count()}\")\n",
    "\n",
    "# Add an index column to the DataFrame\n",
    "shuffled_df_with_index = shuffled_df.withColumn(\"row_index\", F.monotonically_increasing_id())\n",
    "\n",
    "# Split the DataFrame into chunks of 100,000 rows\n",
    "chunk_size = 100000\n",
    "dataframe_chunks = []\n",
    "\n",
    "for i in range(0, shuffled_df_with_index.count(), chunk_size):\n",
    "    chunk = shuffled_df_with_index.filter(\n",
    "        (F.col(\"row_index\") >= i) & (F.col(\"row_index\") < i + chunk_size)\n",
    "    ).drop(\"row_index\")  # Drop the index column after filtering\n",
    "    dataframe_chunks.append(chunk)\n",
    "\n",
    "# Print confirmation\n",
    "print(f\"Shuffled DataFrame split into {len(dataframe_chunks)} chunks of {chunk_size} rows each.\")\n",
    "\n",
    "shuffled_df = dataframe_chunks[4]  # Use the fifth chunk for further processing\n",
    "\n",
    "# Split the shuffled DataFrame into a Train and Test set using a 70/30 split\n",
    "train_test_split = shuffled_df.randomSplit([0.7, 0.3], seed=42)\n",
    "train_df = train_test_split[0]\n",
    "test_df = train_test_split[1]\n",
    "\n",
    "# Add the train and test DataFrames to a list\n",
    "train_test_list = [train_df, test_df]\n",
    "\n",
    "# Print confirmation\n",
    "print(\"Train and Test DataFrames added to train_test_list successfully.\")\n",
    "\n",
    "# Optional: Show the sizes of the train and test DataFrames\n",
    "print(f\"Training DataFrame size: {train_df.count()} rows\")\n",
    "print(f\"Testing DataFrame size: {test_df.count()} rows\")\n",
    "\n",
    "# Preprocess data for ARIMA model\n",
    "processed_df_list = process_data_ARIMA(train_test_list)\n",
    "\n",
    "# Define training and testing datasets for ARIMA model\n",
    "df_train_sample = processed_df_list[0]\n",
    "df_test_sample = processed_df_list[1]\n",
    "# Create original DataFrames for test set\n",
    "df_test_original = df_test_sample.copy()"
   ]
  },
  {
   "cell_type": "markdown",
   "id": "4e107e00",
   "metadata": {},
   "source": [
    "<span style = \"color:blue; font-size:24px\">Preprocessing for Decision Tree</span>"
   ]
  },
  {
   "cell_type": "code",
   "execution_count": 2,
   "id": "fc80e77e",
   "metadata": {
    "scrolled": true
   },
   "outputs": [
    {
     "name": "stdout",
     "output_type": "stream",
     "text": [
      "Schema of decision_train_sample:\n",
      "root\n",
      " |-- ts: double (nullable = true)\n",
      " |-- duration: double (nullable = false)\n",
      " |-- orig_bytes: long (nullable = false)\n",
      " |-- resp_bytes: long (nullable = false)\n",
      " |-- orig_ip_bytes: long (nullable = false)\n",
      " |-- resp_ip_bytes: long (nullable = false)\n",
      " |-- label_tactic: string (nullable = false)\n",
      "\n",
      "Schema of decision_test_sample:\n",
      "root\n",
      " |-- ts: double (nullable = true)\n",
      " |-- duration: double (nullable = false)\n",
      " |-- orig_bytes: long (nullable = false)\n",
      " |-- resp_bytes: long (nullable = false)\n",
      " |-- orig_ip_bytes: long (nullable = false)\n",
      " |-- resp_ip_bytes: long (nullable = false)\n",
      " |-- label_tactic: string (nullable = false)\n",
      "\n",
      "\n",
      "First few rows of decision_train_sample:\n"
     ]
    },
    {
     "name": "stderr",
     "output_type": "stream",
     "text": [
      "25/04/03 10:20:46 WARN WindowExec: No Partition Defined for Window operation! Moving all data to a single partition, this can cause serious performance degradation.\n",
      "25/04/03 10:20:46 WARN WindowExec: No Partition Defined for Window operation! Moving all data to a single partition, this can cause serious performance degradation.\n",
      "25/04/03 10:20:46 WARN WindowExec: No Partition Defined for Window operation! Moving all data to a single partition, this can cause serious performance degradation.\n",
      "25/04/03 10:20:55 WARN WindowExec: No Partition Defined for Window operation! Moving all data to a single partition, this can cause serious performance degradation.\n",
      "25/04/03 10:20:55 WARN WindowExec: No Partition Defined for Window operation! Moving all data to a single partition, this can cause serious performance degradation.\n",
      "25/04/03 10:20:56 WARN WindowExec: No Partition Defined for Window operation! Moving all data to a single partition, this can cause serious performance degradation.\n",
      "25/04/03 10:20:56 WARN WindowExec: No Partition Defined for Window operation! Moving all data to a single partition, this can cause serious performance degradation.\n",
      "25/04/03 10:21:07 WARN WindowExec: No Partition Defined for Window operation! Moving all data to a single partition, this can cause serious performance degradation.\n",
      "25/04/03 10:21:07 WARN WindowExec: No Partition Defined for Window operation! Moving all data to a single partition, this can cause serious performance degradation.\n",
      "25/04/03 10:21:07 WARN WindowExec: No Partition Defined for Window operation! Moving all data to a single partition, this can cause serious performance degradation.\n"
     ]
    },
    {
     "name": "stdout",
     "output_type": "stream",
     "text": [
      "+-------------+---------------------+----------+----------+-------------+-------------+-----------------+\n",
      "|ts           |duration             |orig_bytes|resp_bytes|orig_ip_bytes|resp_ip_bytes|label_tactic     |\n",
      "+-------------+---------------------+----------+----------+-------------+-------------+-----------------+\n",
      "|1.767693706E9|4.010200500488281E-4 |0         |0         |180          |0            |Reconnaissance   |\n",
      "|1.767693766E9|4.410743713378906E-4 |0         |0         |240          |160          |Reconnaissance   |\n",
      "|1.767693886E9|1.0895729064941406E-4|0         |0         |180          |0            |Reconnaissance   |\n",
      "|1.767693946E9|0.0                  |0         |0         |60           |0            |Reconnaissance   |\n",
      "|1.767694006E9|5.400180816650391E-4 |0         |0         |176          |160          |Reconnaissance   |\n",
      "|1.767694126E9|4.53948974609375E-4  |0         |0         |240          |0            |Reconnaissance   |\n",
      "|1.767694306E9|4.92095947265625E-4  |0         |0         |240          |0            |Reconnaissance   |\n",
      "|1.767694366E9|2.5839850902557373   |1061      |16681     |6980         |70292        |Credential Access|\n",
      "|1.767694426E9|4.889965057373047E-4 |0         |0         |176          |160          |Reconnaissance   |\n",
      "|1.767694666E9|0.0010190010070800781|0         |0         |176          |160          |Reconnaissance   |\n",
      "|1.767694726E9|1.0418891906738281E-4|0         |0         |180          |0            |Reconnaissance   |\n",
      "|1.767694786E9|1.4519691467285156E-4|0         |0         |180          |0            |Reconnaissance   |\n",
      "|1.767694906E9|9.639263153076172E-4 |0         |0         |176          |160          |Reconnaissance   |\n",
      "|1.767695026E9|9.49859619140625E-4  |43        |43        |71           |71           |none             |\n",
      "|1.767695206E9|3.2210350036621094E-4|0         |0         |132          |0            |Reconnaissance   |\n",
      "|1.767695266E9|7.970333099365234E-4 |0         |0         |240          |160          |Reconnaissance   |\n",
      "|1.767695326E9|0.0010950565338134766|0         |0         |176          |160          |Reconnaissance   |\n",
      "|1.767695566E9|2.970695495605469E-4 |0         |0         |240          |0            |Reconnaissance   |\n",
      "|1.767695686E9|2.0599365234375E-4   |0         |0         |176          |0            |Reconnaissance   |\n",
      "|1.767695866E9|1.71661376953125E-5  |78        |0         |134          |0            |none             |\n",
      "+-------------+---------------------+----------+----------+-------------+-------------+-----------------+\n",
      "only showing top 20 rows\n",
      "\n",
      "\n",
      "First few rows of decision_test_sample:\n"
     ]
    },
    {
     "name": "stderr",
     "output_type": "stream",
     "text": [
      "25/04/03 10:21:16 WARN WindowExec: No Partition Defined for Window operation! Moving all data to a single partition, this can cause serious performance degradation.\n",
      "25/04/03 10:21:16 WARN WindowExec: No Partition Defined for Window operation! Moving all data to a single partition, this can cause serious performance degradation.\n",
      "25/04/03 10:21:18 WARN WindowExec: No Partition Defined for Window operation! Moving all data to a single partition, this can cause serious performance degradation.\n",
      "25/04/03 10:21:18 WARN WindowExec: No Partition Defined for Window operation! Moving all data to a single partition, this can cause serious performance degradation.\n",
      "[Stage 105:>                                                        (0 + 1) / 1]"
     ]
    },
    {
     "name": "stdout",
     "output_type": "stream",
     "text": [
      "+-------------+---------------------+----------+----------+-------------+-------------+-----------------+\n",
      "|ts           |duration             |orig_bytes|resp_bytes|orig_ip_bytes|resp_ip_bytes|label_tactic     |\n",
      "+-------------+---------------------+----------+----------+-------------+-------------+-----------------+\n",
      "|1.767693847E9|1.7595291137695312E-4|0         |0         |240          |0            |Reconnaissance   |\n",
      "|1.767694087E9|1.9788742065429688E-4|0         |0         |132          |0            |Reconnaissance   |\n",
      "|1.767694207E9|2.3412704467773438E-4|0         |0         |176          |0            |Reconnaissance   |\n",
      "|1.767694267E9|0.018429994583129883 |686       |11329     |5272         |47844        |Credential Access|\n",
      "|1.767694507E9|1.6826961040496826   |1047      |16681     |6508         |70292        |Credential Access|\n",
      "|1.767694567E9|3.70025634765625E-4  |0         |0         |132          |0            |Reconnaissance   |\n",
      "|1.767694627E9|1.6999244689941406E-4|0         |0         |132          |0            |Reconnaissance   |\n",
      "|1.767694867E9|2.2292137145996094E-4|0         |0         |180          |0            |Reconnaissance   |\n",
      "|1.767694987E9|2.598762512207031E-4 |0         |0         |240          |160          |Reconnaissance   |\n",
      "|1.767695107E9|2.5200843811035156E-4|0         |0         |180          |0            |Reconnaissance   |\n",
      "|1.767695167E9|2.720355987548828E-4 |0         |0         |176          |0            |Reconnaissance   |\n",
      "|1.767695407E9|3.6787986755371094E-4|0         |0         |132          |40           |Reconnaissance   |\n",
      "|1.767695467E9|2.510547637939453E-4 |0         |0         |176          |0            |Reconnaissance   |\n",
      "|1.767695527E9|3.020763397216797E-4 |0         |0         |240          |0            |Reconnaissance   |\n",
      "|1.767695647E9|1.5974044799804688E-5|78        |0         |134          |0            |none             |\n",
      "|1.767695767E9|0.027471065521240234 |686       |11329     |5688         |47844        |Credential Access|\n",
      "|1.767695827E9|1.5807151794433594E-4|0         |0         |180          |0            |Reconnaissance   |\n",
      "|1.767696067E9|5.340576171875E-4    |0         |0         |240          |0            |Reconnaissance   |\n",
      "|1.767696247E9|6.380081176757812E-4 |0         |0         |240          |160          |Reconnaissance   |\n",
      "|1.767696307E9|0.007143974304199219 |118       |118       |202          |202          |none             |\n",
      "+-------------+---------------------+----------+----------+-------------+-------------+-----------------+\n",
      "only showing top 20 rows\n",
      "\n"
     ]
    },
    {
     "name": "stderr",
     "output_type": "stream",
     "text": [
      "                                                                                "
     ]
    }
   ],
   "source": [
    "# Spark imports\n",
    "import pyspark\n",
    "import numpy as np\n",
    "from pyspark.sql import SparkSession\n",
    "from pyspark.sql import functions as F\n",
    "from pyspark.sql.types import DoubleType, LongType, StringType\n",
    "from pyspark.sql.window import Window\n",
    "\n",
    "# Python imports\n",
    "import pandas as pd\n",
    "import matplotlib.pyplot as plt\n",
    "from sklearn.preprocessing import MultiLabelBinarizer\n",
    "from sklearn.metrics import confusion_matrix\n",
    "import seaborn as sns\n",
    "import openpyxl\n",
    "from openpyxl import Workbook\n",
    "import os\n",
    "\n",
    "# Function to load and preprocess data\n",
    "def preprocess_data_decision_tree(df):\n",
    "   #Select and cast relevant columns\n",
    "    df = df.select(\n",
    "        F.col(\"ts\").cast(DoubleType()),\n",
    "        F.col(\"duration\").cast(DoubleType()),\n",
    "        F.col(\"orig_bytes\").cast(LongType()),\n",
    "        F.col(\"resp_bytes\").cast(LongType()),\n",
    "        F.col(\"orig_ip_bytes\").cast(LongType()),\n",
    "        F.col(\"resp_ip_bytes\").cast(LongType()),\n",
    "        F.col(\"label_tactic\").cast(StringType())\n",
    "    )\n",
    "    # Fill missing values\n",
    "    df = df.fillna({\n",
    "        \"duration\": 0,\n",
    "        \"orig_bytes\": 0,\n",
    "        \"resp_bytes\": 0,\n",
    "        \"orig_ip_bytes\": 0,\n",
    "        \"resp_ip_bytes\": 0\n",
    "    })\n",
    "    return df\n",
    "    \n",
    "# Preprocess the train and test sampels\n",
    "decision_train_sample = preprocess_data_decision_tree(train_test_list[0])\n",
    "decision_test_sample = preprocess_data_decision_tree(train_test_list[1])\n",
    "\n",
    "# Print the schema of the DataFrame\n",
    "print(\"Schema of decision_train_sample:\")\n",
    "decision_train_sample.printSchema()\n",
    "\n",
    "print(\"Schema of decision_test_sample:\")\n",
    "decision_test_sample.printSchema()\n",
    "\n",
    "# Show the first few rows of the DataFrame\n",
    "print(\"\\nFirst few rows of decision_train_sample:\")\n",
    "decision_train_sample.show(truncate=False)\n",
    "print(\"\\nFirst few rows of decision_test_sample:\")\n",
    "decision_test_sample.show(truncate=False)\n"
   ]
  },
  {
   "cell_type": "code",
   "execution_count": 3,
   "id": "c4253235-8604-46bf-873a-b7324a32355d",
   "metadata": {
    "scrolled": true
   },
   "outputs": [
    {
     "name": "stdout",
     "output_type": "stream",
     "text": [
      "Calling ARIMA Model Training function\n",
      "ADF Statistic: -262.496537\n",
      "p-value: 0.000000\n",
      "The time series is stationary (reject H0).\n",
      "Seasonality detected: True, Seasonal period: 13\n",
      "Finding the best ARIMA model...\n"
     ]
    },
    {
     "name": "stderr",
     "output_type": "stream",
     "text": [
      "/home/ubuntu/pyspark-venv/lib/python3.12/site-packages/statsmodels/tsa/statespace/sarimax.py:966: UserWarning: Non-stationary starting autoregressive parameters found. Using zeros as starting parameters.\n",
      "  warn('Non-stationary starting autoregressive parameters'\n",
      "/home/ubuntu/pyspark-venv/lib/python3.12/site-packages/statsmodels/tsa/statespace/sarimax.py:978: UserWarning: Non-invertible starting MA parameters found. Using zeros as starting parameters.\n",
      "  warn('Non-invertible starting MA parameters found.'\n",
      "/home/ubuntu/pyspark-venv/lib/python3.12/site-packages/statsmodels/base/model.py:607: ConvergenceWarning: Maximum Likelihood optimization failed to converge. Check mle_retvals\n",
      "  warnings.warn(\"Maximum Likelihood optimization failed to \"\n",
      "/home/ubuntu/pyspark-venv/lib/python3.12/site-packages/statsmodels/tsa/statespace/sarimax.py:966: UserWarning: Non-stationary starting autoregressive parameters found. Using zeros as starting parameters.\n",
      "  warn('Non-stationary starting autoregressive parameters'\n",
      "/home/ubuntu/pyspark-venv/lib/python3.12/site-packages/statsmodels/tsa/statespace/sarimax.py:978: UserWarning: Non-invertible starting MA parameters found. Using zeros as starting parameters.\n",
      "  warn('Non-invertible starting MA parameters found.'\n",
      "/home/ubuntu/pyspark-venv/lib/python3.12/site-packages/statsmodels/tsa/statespace/sarimax.py:966: UserWarning: Non-stationary starting autoregressive parameters found. Using zeros as starting parameters.\n",
      "  warn('Non-stationary starting autoregressive parameters'\n",
      "/home/ubuntu/pyspark-venv/lib/python3.12/site-packages/statsmodels/tsa/statespace/sarimax.py:978: UserWarning: Non-invertible starting MA parameters found. Using zeros as starting parameters.\n",
      "  warn('Non-invertible starting MA parameters found.'\n",
      "/home/ubuntu/pyspark-venv/lib/python3.12/site-packages/statsmodels/tsa/statespace/sarimax.py:966: UserWarning: Non-stationary starting autoregressive parameters found. Using zeros as starting parameters.\n",
      "  warn('Non-stationary starting autoregressive parameters'\n",
      "/home/ubuntu/pyspark-venv/lib/python3.12/site-packages/statsmodels/tsa/statespace/sarimax.py:978: UserWarning: Non-invertible starting MA parameters found. Using zeros as starting parameters.\n",
      "  warn('Non-invertible starting MA parameters found.'\n",
      "/home/ubuntu/pyspark-venv/lib/python3.12/site-packages/statsmodels/base/model.py:607: ConvergenceWarning: Maximum Likelihood optimization failed to converge. Check mle_retvals\n",
      "  warnings.warn(\"Maximum Likelihood optimization failed to \"\n"
     ]
    },
    {
     "name": "stdout",
     "output_type": "stream",
     "text": [
      "Best ARIMA order: (0, 0, 1) with AIC: 157309.47098479597\n",
      "Forecasted values: 69941    0.459510\n",
      "69942    0.462985\n",
      "69943    0.462985\n",
      "69944    0.462985\n",
      "69945    0.462985\n",
      "           ...   \n",
      "99995    0.462985\n",
      "99996    0.462985\n",
      "99997    0.462985\n",
      "99998    0.462985\n",
      "99999    0.462985\n",
      "Name: predicted_mean, Length: 30059, dtype: float64\n",
      "Actual values: [0.         6.96318999 0.         ... 0.         0.         0.        ]\n",
      "Mean Absolute Error (MAE): 1.3874062751397669\n"
     ]
    },
    {
     "data": {
      "image/png": "[encoded data removed]",
      "text/plain": [
       "<Figure size 1200x600 with 1 Axes>"
      ]
     },
     "metadata": {},
     "output_type": "display_data"
    },
    {
     "name": "stdout",
     "output_type": "stream",
     "text": [
      "Calling Forecasted Data Processing Function\n",
      "Columns in forecast_df:\n",
      "Index(['Time', 'Actual', 'Forecast'], dtype='object')\n",
      "Columns in df_test_original:\n",
      "Index(['window_start', 'window_end', 'sum_duration', 'sum_orig_bytes',\n",
      "       'sum_resp_bytes', 'sum_orig_ip_bytes', 'sum_resp_ip_bytes',\n",
      "       'connection_count', 'label_tactic_binary_agg', 'label_tactic_split_agg',\n",
      "       'label_tactic_binary_encoded_agg', 'sum_orig_bytes_log'],\n",
      "      dtype='object')\n",
      "69941   2026-01-06 04:03:23\n",
      "69942   2026-01-06 04:07:23\n",
      "69943   2026-01-06 04:09:23\n",
      "69944   2026-01-06 04:10:23\n",
      "69945   2026-01-06 04:14:23\n",
      "Name: Time, dtype: datetime64[ns]\n",
      "\n",
      "Type of decision_test_sample: <class 'pyspark.sql.dataframe.DataFrame'>\n",
      "Type of filtered_result_df before conversion: <class 'pandas.core.frame.DataFrame'>\n",
      "\n",
      "Type of filtered_result_df after conversion: <class 'pyspark.sql.dataframe.DataFrame'>\n"
     ]
    }
   ],
   "source": [
    "# Import the functions from the Python script\n",
    "from arima_functions import train_arima_model, process_forecast\n",
    "# Import the functions from decision_tree_functions.py\n",
    "from decision_tree_functions import (\n",
    "    train_and_evaluate, \n",
    "    split_data, \n",
    "    train_test_2022_2022, \n",
    "    train_test_2024_2024, \n",
    "    train_2022_test_2024, \n",
    "    train_2024_test_2022, \n",
    "    train_test_2022_2022_oversampled, \n",
    "    train_test_2024_2024_oversampled, \n",
    "    train_2022_test_2024_oversampled, \n",
    "    train_2024_test_2022_oversampled\n",
    ")\n",
    "\n",
    "import pandas as pd\n",
    "\n",
    "# Assuming df_train_sample and df_test_sample are already defined\n",
    "# Call ARIMA Model Training Function\n",
    "print(\"Calling ARIMA Model Training function\")\n",
    "forecast_df = train_arima_model(df_train_sample, df_test_sample)\n",
    "\n",
    "# Call Forecasted Data Processing Function\n",
    "print(\"Calling Forecasted Data Processing Function\")\n",
    "filtered_result_df = process_forecast(df_test_original, forecast_df)\n",
    "\n",
    "# Print the datatypes of the inputs\n",
    "print(\"\\nType of decision_test_sample:\", type(decision_test_sample))\n",
    "print(\"Type of filtered_result_df before conversion:\", type(filtered_result_df))\n",
    "\n",
    "# Convert the DataFrames to Spark DataFrames\n",
    "filtered_result_df = spark.createDataFrame(filtered_result_df)\n",
    "print(\"\\nType of filtered_result_df after conversion:\", type(filtered_result_df))"
   ]
  },
  {
   "cell_type": "markdown",
   "id": "d18b3969",
   "metadata": {},
   "source": [
    "Decision Tree Training and Testing"
   ]
  },
  {
   "cell_type": "code",
   "execution_count": 4,
   "id": "82d457a5",
   "metadata": {
    "scrolled": true
   },
   "outputs": [
    {
     "name": "stdout",
     "output_type": "stream",
     "text": [
      "Columns and types in train_df:\n",
      "root\n",
      " |-- ts: double (nullable = true)\n",
      " |-- duration: double (nullable = false)\n",
      " |-- orig_bytes: long (nullable = false)\n",
      " |-- resp_bytes: long (nullable = false)\n",
      " |-- orig_ip_bytes: long (nullable = false)\n",
      " |-- resp_ip_bytes: long (nullable = false)\n",
      " |-- label_tactic: string (nullable = false)\n",
      "\n",
      "\n",
      "Entire test_df:\n"
     ]
    },
    {
     "name": "stderr",
     "output_type": "stream",
     "text": [
      "25/04/03 10:30:07 WARN WindowExec: No Partition Defined for Window operation! Moving all data to a single partition, this can cause serious performance degradation.\n",
      "25/04/03 10:30:07 WARN WindowExec: No Partition Defined for Window operation! Moving all data to a single partition, this can cause serious performance degradation.\n",
      "25/04/03 10:30:07 WARN WindowExec: No Partition Defined for Window operation! Moving all data to a single partition, this can cause serious performance degradation.\n",
      "25/04/03 10:30:16 WARN WindowExec: No Partition Defined for Window operation! Moving all data to a single partition, this can cause serious performance degradation.\n",
      "25/04/03 10:30:16 WARN WindowExec: No Partition Defined for Window operation! Moving all data to a single partition, this can cause serious performance degradation.\n",
      "25/04/03 10:30:17 WARN WindowExec: No Partition Defined for Window operation! Moving all data to a single partition, this can cause serious performance degradation.\n",
      "25/04/03 10:30:17 WARN WindowExec: No Partition Defined for Window operation! Moving all data to a single partition, this can cause serious performance degradation.\n",
      "                                                                                "
     ]
    },
    {
     "name": "stdout",
     "output_type": "stream",
     "text": [
      "+-------------+---------------------+----------+----------+-------------+-------------+-----------------+\n",
      "|ts           |duration             |orig_bytes|resp_bytes|orig_ip_bytes|resp_ip_bytes|label_tactic     |\n",
      "+-------------+---------------------+----------+----------+-------------+-------------+-----------------+\n",
      "|1.767694386E9|3.4999847412109375E-4|0         |0         |180          |0            |Reconnaissance   |\n",
      "|1.767694626E9|4.911422729492188E-4 |0         |0         |176          |0            |Reconnaissance   |\n",
      "|1.767694746E9|4.839897155761719E-4 |0         |0         |240          |0            |Reconnaissance   |\n",
      "|1.767694806E9|3.039836883544922E-4 |0         |0         |180          |0            |Reconnaissance   |\n",
      "|1.767695046E9|0.025469064712524414 |686       |11329     |5272         |47844        |Credential Access|\n",
      "|1.767695106E9|3.8886070251464844E-4|0         |0         |132          |0            |Reconnaissance   |\n",
      "|1.767695166E9|8.988380432128906E-5 |0         |0         |240          |0            |Reconnaissance   |\n",
      "|1.767695406E9|2.5987625122070312E-5|0         |78        |0            |134          |none             |\n",
      "|1.767695526E9|0.0015239715576171875|43        |43        |71           |71           |none             |\n",
      "|1.767695646E9|0.02676677703857422  |686       |11329     |4856         |47844        |Credential Access|\n",
      "|1.767695706E9|2.219676971435547E-4 |0         |0         |176          |0            |Reconnaissance   |\n",
      "|1.767695946E9|0.0011560916900634766|0         |0         |176          |160          |Reconnaissance   |\n",
      "|1.767696006E9|3.750324249267578E-4 |0         |0         |180          |0            |Reconnaissance   |\n",
      "|1.767696066E9|1.6999244689941406E-4|0         |0         |132          |0            |Reconnaissance   |\n",
      "|1.767696186E9|2.770423889160156E-4 |0         |0         |176          |0            |Reconnaissance   |\n",
      "|1.767696306E9|5.078315734863281E-4 |0         |0         |240          |0            |Reconnaissance   |\n",
      "|1.767696366E9|0.15667104721069336  |275       |2580      |1941         |8700         |Reconnaissance   |\n",
      "|1.767696606E9|1.609325408935547E-4 |0         |0         |180          |0            |Reconnaissance   |\n",
      "|1.767696786E9|8.668899536132812E-4 |0         |0         |176          |160          |Reconnaissance   |\n",
      "|1.767696846E9|1.800060272216797E-4 |0         |0         |240          |0            |Reconnaissance   |\n",
      "+-------------+---------------------+----------+----------+-------------+-------------+-----------------+\n",
      "only showing top 20 rows\n",
      "\n",
      "Distinct label counts in train_df:\n"
     ]
    },
    {
     "name": "stderr",
     "output_type": "stream",
     "text": [
      "25/04/03 10:30:27 WARN WindowExec: No Partition Defined for Window operation! Moving all data to a single partition, this can cause serious performance degradation.\n",
      "25/04/03 10:30:27 WARN WindowExec: No Partition Defined for Window operation! Moving all data to a single partition, this can cause serious performance degradation.\n",
      "25/04/03 10:30:35 WARN WindowExec: No Partition Defined for Window operation! Moving all data to a single partition, this can cause serious performance degradation.\n",
      "25/04/03 10:30:35 WARN WindowExec: No Partition Defined for Window operation! Moving all data to a single partition, this can cause serious performance degradation.\n",
      "25/04/03 10:30:36 WARN WindowExec: No Partition Defined for Window operation! Moving all data to a single partition, this can cause serious performance degradation.\n",
      "25/04/03 10:30:36 WARN WindowExec: No Partition Defined for Window operation! Moving all data to a single partition, this can cause serious performance degradation.\n",
      "25/04/03 10:30:46 WARN WindowExec: No Partition Defined for Window operation! Moving all data to a single partition, this can cause serious performance degradation.\n",
      "25/04/03 10:30:46 WARN WindowExec: No Partition Defined for Window operation! Moving all data to a single partition, this can cause serious performance degradation.\n"
     ]
    },
    {
     "name": "stdout",
     "output_type": "stream",
     "text": [
      "+--------------------+-----+\n",
      "|        label_tactic|count|\n",
      "+--------------------+-----+\n",
      "|      Reconnaissance|56262|\n",
      "|   Credential Access| 5417|\n",
      "|                none| 8058|\n",
      "|         Persistence|   30|\n",
      "|      Initial Access|   70|\n",
      "|Privilege Escalation|   51|\n",
      "|     Defense Evasion|   35|\n",
      "|           Discovery|   16|\n",
      "|        Exfiltration|    2|\n",
      "+--------------------+-----+\n",
      "\n",
      "Distinct label counts in test_df:\n"
     ]
    },
    {
     "name": "stderr",
     "output_type": "stream",
     "text": [
      "25/04/03 10:30:57 WARN WindowExec: No Partition Defined for Window operation! Moving all data to a single partition, this can cause serious performance degradation.\n",
      "25/04/03 10:30:57 WARN WindowExec: No Partition Defined for Window operation! Moving all data to a single partition, this can cause serious performance degradation.\n",
      "25/04/03 10:30:58 WARN WindowExec: No Partition Defined for Window operation! Moving all data to a single partition, this can cause serious performance degradation.\n",
      "25/04/03 10:30:58 WARN WindowExec: No Partition Defined for Window operation! Moving all data to a single partition, this can cause serious performance degradation.\n",
      "                                                                                "
     ]
    },
    {
     "name": "stdout",
     "output_type": "stream",
     "text": [
      "+--------------------+-----+\n",
      "|        label_tactic|count|\n",
      "+--------------------+-----+\n",
      "|   Credential Access| 2260|\n",
      "|      Reconnaissance|24346|\n",
      "|           Discovery|   11|\n",
      "|                none| 3371|\n",
      "|      Initial Access|   28|\n",
      "|Privilege Escalation|   16|\n",
      "|     Defense Evasion|   13|\n",
      "|        Exfiltration|    3|\n",
      "|         Persistence|   11|\n",
      "+--------------------+-----+\n",
      "\n"
     ]
    },
    {
     "name": "stderr",
     "output_type": "stream",
     "text": [
      "25/04/03 10:31:08 WARN WindowExec: No Partition Defined for Window operation! Moving all data to a single partition, this can cause serious performance degradation.\n",
      "25/04/03 10:31:08 WARN WindowExec: No Partition Defined for Window operation! Moving all data to a single partition, this can cause serious performance degradation.\n",
      "25/04/03 10:31:08 WARN WindowExec: No Partition Defined for Window operation! Moving all data to a single partition, this can cause serious performance degradation.\n",
      "25/04/03 10:31:17 WARN WindowExec: No Partition Defined for Window operation! Moving all data to a single partition, this can cause serious performance degradation.\n",
      "25/04/03 10:31:17 WARN WindowExec: No Partition Defined for Window operation! Moving all data to a single partition, this can cause serious performance degradation.\n",
      "25/04/03 10:31:20 WARN WindowExec: No Partition Defined for Window operation! Moving all data to a single partition, this can cause serious performance degradation.\n",
      "25/04/03 10:31:20 WARN WindowExec: No Partition Defined for Window operation! Moving all data to a single partition, this can cause serious performance degradation.\n",
      "25/04/03 10:31:20 WARN WindowExec: No Partition Defined for Window operation! Moving all data to a single partition, this can cause serious performance degradation.\n",
      "25/04/03 10:31:20 WARN WindowExec: No Partition Defined for Window operation! Moving all data to a single partition, this can cause serious performance degradation.\n",
      "25/04/03 10:31:30 WARN WindowExec: No Partition Defined for Window operation! Moving all data to a single partition, this can cause serious performance degradation.\n",
      "25/04/03 10:31:30 WARN WindowExec: No Partition Defined for Window operation! Moving all data to a single partition, this can cause serious performance degradation.\n",
      "25/04/03 10:31:31 WARN WindowExec: No Partition Defined for Window operation! Moving all data to a single partition, this can cause serious performance degradation.\n",
      "25/04/03 10:31:31 WARN WindowExec: No Partition Defined for Window operation! Moving all data to a single partition, this can cause serious performance degradation.\n",
      "25/04/03 10:31:42 WARN WindowExec: No Partition Defined for Window operation! Moving all data to a single partition, this can cause serious performance degradation.\n",
      "25/04/03 10:31:42 WARN WindowExec: No Partition Defined for Window operation! Moving all data to a single partition, this can cause serious performance degradation.\n",
      "25/04/03 10:31:42 WARN WindowExec: No Partition Defined for Window operation! Moving all data to a single partition, this can cause serious performance degradation.\n",
      "25/04/03 10:31:51 WARN WindowExec: No Partition Defined for Window operation! Moving all data to a single partition, this can cause serious performance degradation.\n",
      "25/04/03 10:31:51 WARN WindowExec: No Partition Defined for Window operation! Moving all data to a single partition, this can cause serious performance degradation.\n",
      "25/04/03 10:31:52 WARN WindowExec: No Partition Defined for Window operation! Moving all data to a single partition, this can cause serious performance degradation.\n",
      "25/04/03 10:31:52 WARN WindowExec: No Partition Defined for Window operation! Moving all data to a single partition, this can cause serious performance degradation.\n",
      "25/04/03 10:32:31 WARN WindowExec: No Partition Defined for Window operation! Moving all data to a single partition, this can cause serious performance degradation.\n",
      "25/04/03 10:32:31 WARN WindowExec: No Partition Defined for Window operation! Moving all data to a single partition, this can cause serious performance degradation.\n",
      "25/04/03 10:32:31 WARN WindowExec: No Partition Defined for Window operation! Moving all data to a single partition, this can cause serious performance degradation.\n",
      "25/04/03 10:32:40 WARN WindowExec: No Partition Defined for Window operation! Moving all data to a single partition, this can cause serious performance degradation.\n",
      "25/04/03 10:32:41 WARN WindowExec: No Partition Defined for Window operation! Moving all data to a single partition, this can cause serious performance degradation.\n",
      "25/04/03 10:32:42 WARN WindowExec: No Partition Defined for Window operation! Moving all data to a single partition, this can cause serious performance degradation.\n",
      "25/04/03 10:32:42 WARN WindowExec: No Partition Defined for Window operation! Moving all data to a single partition, this can cause serious performance degradation.\n",
      "25/04/03 10:32:50 WARN WindowExec: No Partition Defined for Window operation! Moving all data to a single partition, this can cause serious performance degradation.\n",
      "25/04/03 10:32:50 WARN WindowExec: No Partition Defined for Window operation! Moving all data to a single partition, this can cause serious performance degradation.\n",
      "25/04/03 10:32:50 WARN WindowExec: No Partition Defined for Window operation! Moving all data to a single partition, this can cause serious performance degradation.\n",
      "25/04/03 10:32:59 WARN WindowExec: No Partition Defined for Window operation! Moving all data to a single partition, this can cause serious performance degradation.\n",
      "25/04/03 10:32:59 WARN WindowExec: No Partition Defined for Window operation! Moving all data to a single partition, this can cause serious performance degradation.\n",
      "25/04/03 10:33:01 WARN WindowExec: No Partition Defined for Window operation! Moving all data to a single partition, this can cause serious performance degradation.\n",
      "25/04/03 10:33:01 WARN WindowExec: No Partition Defined for Window operation! Moving all data to a single partition, this can cause serious performance degradation.\n",
      "25/04/03 10:33:15 WARN WindowExec: No Partition Defined for Window operation! Moving all data to a single partition, this can cause serious performance degradation.\n",
      "25/04/03 10:33:15 WARN WindowExec: No Partition Defined for Window operation! Moving all data to a single partition, this can cause serious performance degradation.\n",
      "25/04/03 10:33:15 WARN WindowExec: No Partition Defined for Window operation! Moving all data to a single partition, this can cause serious performance degradation.\n",
      "25/04/03 10:33:23 WARN WindowExec: No Partition Defined for Window operation! Moving all data to a single partition, this can cause serious performance degradation.\n",
      "25/04/03 10:33:23 WARN WindowExec: No Partition Defined for Window operation! Moving all data to a single partition, this can cause serious performance degradation.\n",
      "25/04/03 10:33:25 WARN WindowExec: No Partition Defined for Window operation! Moving all data to a single partition, this can cause serious performance degradation.\n",
      "25/04/03 10:33:25 WARN WindowExec: No Partition Defined for Window operation! Moving all data to a single partition, this can cause serious performance degradation.\n",
      "25/04/03 10:33:38 WARN WindowExec: No Partition Defined for Window operation! Moving all data to a single partition, this can cause serious performance degradation.\n",
      "25/04/03 10:33:38 WARN WindowExec: No Partition Defined for Window operation! Moving all data to a single partition, this can cause serious performance degradation.\n",
      "25/04/03 10:33:38 WARN WindowExec: No Partition Defined for Window operation! Moving all data to a single partition, this can cause serious performance degradation.\n",
      "25/04/03 10:33:47 WARN WindowExec: No Partition Defined for Window operation! Moving all data to a single partition, this can cause serious performance degradation.\n",
      "25/04/03 10:33:47 WARN WindowExec: No Partition Defined for Window operation! Moving all data to a single partition, this can cause serious performance degradation.\n",
      "25/04/03 10:33:48 WARN WindowExec: No Partition Defined for Window operation! Moving all data to a single partition, this can cause serious performance degradation.\n",
      "25/04/03 10:33:48 WARN WindowExec: No Partition Defined for Window operation! Moving all data to a single partition, this can cause serious performance degradation.\n",
      "25/04/03 10:33:59 WARN WindowExec: No Partition Defined for Window operation! Moving all data to a single partition, this can cause serious performance degradation.\n",
      "25/04/03 10:33:59 WARN WindowExec: No Partition Defined for Window operation! Moving all data to a single partition, this can cause serious performance degradation.\n",
      "25/04/03 10:33:59 WARN WindowExec: No Partition Defined for Window operation! Moving all data to a single partition, this can cause serious performance degradation.\n"
     ]
    },
    {
     "name": "stdout",
     "output_type": "stream",
     "text": [
      "\n",
      "Model for label_tactic: Reconnaissance\n",
      "Accuracy: 0.989820020626102\n",
      "Precision: 0.9885140656647315\n",
      "Recall: 0.9902525034099605\n",
      "F1 Score: 0.9897114007481056\n",
      "\n",
      "Predictions for each row in the test dataframe:\n"
     ]
    },
    {
     "name": "stderr",
     "output_type": "stream",
     "text": [
      "25/04/03 10:34:08 WARN WindowExec: No Partition Defined for Window operation! Moving all data to a single partition, this can cause serious performance degradation.\n",
      "25/04/03 10:34:08 WARN WindowExec: No Partition Defined for Window operation! Moving all data to a single partition, this can cause serious performance degradation.\n",
      "25/04/03 10:34:09 WARN WindowExec: No Partition Defined for Window operation! Moving all data to a single partition, this can cause serious performance degradation.\n",
      "25/04/03 10:34:09 WARN WindowExec: No Partition Defined for Window operation! Moving all data to a single partition, this can cause serious performance degradation.\n",
      "25/04/03 10:34:19 WARN WindowExec: No Partition Defined for Window operation! Moving all data to a single partition, this can cause serious performance degradation.\n",
      "25/04/03 10:34:19 WARN WindowExec: No Partition Defined for Window operation! Moving all data to a single partition, this can cause serious performance degradation.\n",
      "25/04/03 10:34:19 WARN WindowExec: No Partition Defined for Window operation! Moving all data to a single partition, this can cause serious performance degradation.\n"
     ]
    },
    {
     "name": "stdout",
     "output_type": "stream",
     "text": [
      "+-------------------------------------------------+-----+----------+\n",
      "|features                                         |label|prediction|\n",
      "+-------------------------------------------------+-----+----------+\n",
      "|[3.0428121089935303,0.0,0.0,400.0,720.0]         |1    |1.0       |\n",
      "|[2.1457672119140625E-6,0.0,78.0,0.0,134.0]       |1    |1.0       |\n",
      "|(5,[0,3],[6.29425048828125E-5,180.0])            |1    |1.0       |\n",
      "|[0.0010271072387695312,58.0,58.0,86.0,86.0]      |0    |0.0       |\n",
      "|[9.541511535644531E-4,0.0,0.0,176.0,160.0]       |1    |1.0       |\n",
      "|(5,[0,3],[3.2401084899902344E-4,176.0])          |1    |1.0       |\n",
      "|[0.0021300315856933594,130.0,130.0,186.0,186.0]  |1    |1.0       |\n",
      "|(5,[0,3],[1.518726348876953E-4,180.0])           |1    |1.0       |\n",
      "|[5.402924060821533,1010.0,16583.0,8196.0,70156.0]|0    |0.0       |\n",
      "|(5,[0,3],[1.3399124145507812E-4,132.0])          |1    |1.0       |\n",
      "|(5,[0,3],[3.631114959716797E-4,180.0])           |1    |1.0       |\n",
      "|[8.389949798583984E-4,0.0,0.0,240.0,160.0]       |1    |1.0       |\n",
      "|(5,[0,3],[1.5616416931152344E-4,240.0])          |1    |1.0       |\n",
      "|(5,[0,3],[2.110004425048828E-4,180.0])           |1    |1.0       |\n",
      "|[2.6488304138183594E-4,0.0,0.0,240.0,160.0]      |1    |1.0       |\n",
      "|(5,[0,3],[4.3487548828125E-4,240.0])             |1    |1.0       |\n",
      "|(5,[0,3],[4.1294097900390625E-4,240.0])          |1    |1.0       |\n",
      "|[0.0012021064758300781,43.0,43.0,71.0,71.0]      |0    |0.0       |\n",
      "|[6.220340728759766E-4,0.0,0.0,176.0,160.0]       |1    |1.0       |\n",
      "|(5,[0,3],[4.7588348388671875E-4,240.0])          |1    |1.0       |\n",
      "+-------------------------------------------------+-----+----------+\n",
      "only showing top 20 rows\n",
      "\n"
     ]
    },
    {
     "name": "stderr",
     "output_type": "stream",
     "text": [
      "25/04/03 10:34:28 WARN WindowExec: No Partition Defined for Window operation! Moving all data to a single partition, this can cause serious performance degradation.\n",
      "25/04/03 10:34:28 WARN WindowExec: No Partition Defined for Window operation! Moving all data to a single partition, this can cause serious performance degradation.\n",
      "25/04/03 10:34:29 WARN WindowExec: No Partition Defined for Window operation! Moving all data to a single partition, this can cause serious performance degradation.\n",
      "25/04/03 10:34:29 WARN WindowExec: No Partition Defined for Window operation! Moving all data to a single partition, this can cause serious performance degradation.\n",
      "25/04/03 10:34:40 WARN WindowExec: No Partition Defined for Window operation! Moving all data to a single partition, this can cause serious performance degradation.\n",
      "25/04/03 10:34:40 WARN WindowExec: No Partition Defined for Window operation! Moving all data to a single partition, this can cause serious performance degradation.\n",
      "25/04/03 10:34:40 WARN WindowExec: No Partition Defined for Window operation! Moving all data to a single partition, this can cause serious performance degradation.\n",
      "25/04/03 10:34:49 WARN WindowExec: No Partition Defined for Window operation! Moving all data to a single partition, this can cause serious performance degradation.\n",
      "25/04/03 10:34:49 WARN WindowExec: No Partition Defined for Window operation! Moving all data to a single partition, this can cause serious performance degradation.\n",
      "25/04/03 10:34:50 WARN WindowExec: No Partition Defined for Window operation! Moving all data to a single partition, this can cause serious performance degradation.\n",
      "25/04/03 10:34:50 WARN WindowExec: No Partition Defined for Window operation! Moving all data to a single partition, this can cause serious performance degradation.\n",
      "                                                                                "
     ]
    },
    {
     "name": "stdout",
     "output_type": "stream",
     "text": [
      "Length of y_true: 30059\n",
      "Length of y_pred: 30059\n",
      "Number of missing values in y_true: 0\n",
      "Number of missing values in y_pred: 0\n"
     ]
    },
    {
     "data": {
      "image/png": "[encoded data removed]",
      "text/plain": [
       "<Figure size 1000x700 with 2 Axes>"
      ]
     },
     "metadata": {},
     "output_type": "display_data"
    },
    {
     "name": "stdout",
     "output_type": "stream",
     "text": [
      "Confusion Matrix plotted.\n"
     ]
    }
   ],
   "source": [
    "#train_df, test_df, tactic, train_year, test_year, split_ratio\n",
    "\n",
    "train_df = decision_train_sample\n",
    "test_df = decision_test_sample\n",
    "\n",
    "# Define the parameters\n",
    "#tactic = \"Credential Access\"\n",
    "tactic = \"Reconnaissance\"\n",
    "\n",
    "train_year = \"2024_2022\"\n",
    "\n",
    "test_year = \"2024_2022\"\n",
    "\n",
    "split_ratio = \"1\"\n",
    "\n",
    "# Print the columns and their types for train_df\n",
    "print(\"Columns and types in train_df:\")\n",
    "train_df.printSchema()\n",
    "\n",
    "# Print the test_df\n",
    "print(\"\\nEntire test_df:\")\n",
    "test_df.show(truncate=False)\n",
    "\n",
    "#Show the distinct label counts\n",
    "print(\"Distinct label counts in train_df:\")\n",
    "train_df.groupBy(\"label_tactic\").count().show()\n",
    "print(\"Distinct label counts in test_df:\")\n",
    "test_df.groupBy(\"label_tactic\").count().show()\n",
    "\n",
    "# Call the train_and_evaluate function\n",
    "train_and_evaluate(train_df, test_df, tactic, train_year, test_year, split_ratio)"
   ]
  },
  {
   "cell_type": "markdown",
   "id": "30f52133",
   "metadata": {},
   "source": [
    "<span style = \"color:blue; font-size:24px\">Training with 2024 and 2022 Combined Data & Testing with ARIMA Result Dataframe</span>"
   ]
  },
  {
   "cell_type": "code",
   "execution_count": 5,
   "id": "4591e63a-72ef-4536-b7ac-59631b65f5bc",
   "metadata": {
    "scrolled": true
   },
   "outputs": [
    {
     "name": "stdout",
     "output_type": "stream",
     "text": [
      "Columns and types in train_df:\n",
      "root\n",
      " |-- ts: double (nullable = true)\n",
      " |-- duration: double (nullable = false)\n",
      " |-- orig_bytes: long (nullable = false)\n",
      " |-- resp_bytes: long (nullable = false)\n",
      " |-- orig_ip_bytes: long (nullable = false)\n",
      " |-- resp_ip_bytes: long (nullable = false)\n",
      " |-- label_tactic: string (nullable = false)\n",
      "\n",
      "\n",
      "Entire test_df:\n"
     ]
    },
    {
     "name": "stderr",
     "output_type": "stream",
     "text": [
      "25/04/03 10:35:00 WARN WindowExec: No Partition Defined for Window operation! Moving all data to a single partition, this can cause serious performance degradation.\n",
      "25/04/03 10:35:00 WARN WindowExec: No Partition Defined for Window operation! Moving all data to a single partition, this can cause serious performance degradation.\n"
     ]
    },
    {
     "name": "stdout",
     "output_type": "stream",
     "text": [
      "+-------------------+-------------------+---------------------+------------------+------+----------+----------+-------------+-------------+--------------+\n",
      "|window_start       |window_start       |duration             |Forecast          |Actual|orig_bytes|resp_bytes|orig_ip_bytes|resp_ip_bytes|label_tactic  |\n",
      "+-------------------+-------------------+---------------------+------------------+------+----------+----------+-------------+-------------+--------------+\n",
      "|2026-01-06 04:03:23|2026-01-06 04:03:23|2.4199485778808594E-4|0.459509997848321 |0.0   |0         |0         |176          |0            |Reconnaissance|\n",
      "|2026-01-06 04:09:23|2026-01-06 04:09:23|1.8715858459472656E-4|0.4629853280216887|0.0   |0         |0         |132          |0            |Reconnaissance|\n",
      "|2026-01-06 04:10:23|2026-01-06 04:10:23|3.1113624572753906E-4|0.4629853280216887|0.0   |0         |0         |176          |0            |Reconnaissance|\n",
      "|2026-01-06 04:14:23|2026-01-06 04:14:23|0.0011219978332519531|0.4629853280216887|0.0   |0         |0         |176          |160          |Reconnaissance|\n",
      "|2026-01-06 04:15:23|2026-01-06 04:15:23|3.311634063720703E-4 |0.4629853280216887|0.0   |0         |0         |176          |0            |Reconnaissance|\n",
      "|2026-01-06 04:16:23|2026-01-06 04:16:23|6.840229034423828E-4 |0.4629853280216887|0.0   |0         |0         |240          |0            |Reconnaissance|\n",
      "|2026-01-06 04:22:23|2026-01-06 04:22:23|4.649162292480469E-4 |0.4629853280216887|0.0   |0         |0         |88           |40           |Reconnaissance|\n",
      "|2026-01-06 04:24:23|2026-01-06 04:24:23|8.580684661865234E-4 |0.4629853280216887|0.0   |0         |0         |240          |160          |Reconnaissance|\n",
      "|2026-01-06 04:25:23|2026-01-06 04:25:23|0.0                  |0.4629853280216887|0.0   |0         |0         |81           |0            |none          |\n",
      "|2026-01-06 04:29:23|2026-01-06 04:29:23|1.938343048095703E-4 |0.4629853280216887|0.0   |0         |0         |132          |0            |Reconnaissance|\n",
      "|2026-01-06 04:30:23|2026-01-06 04:30:23|2.0503997802734375E-4|0.4629853280216887|0.0   |0         |0         |132          |0            |Reconnaissance|\n",
      "|2026-01-06 04:31:23|2026-01-06 04:31:23|1.850128173828125E-4 |0.4629853280216887|0.0   |0         |0         |132          |0            |Reconnaissance|\n",
      "|2026-01-06 04:33:23|2026-01-06 04:33:23|3.4999847412109375E-4|0.4629853280216887|0.0   |0         |0         |176          |0            |Reconnaissance|\n",
      "|2026-01-06 04:35:23|2026-01-06 04:35:23|4.6896934509277344E-4|0.4629853280216887|0.0   |0         |0         |240          |160          |Reconnaissance|\n",
      "|2026-01-06 04:40:23|2026-01-06 04:40:23|1.8978118896484375E-4|0.4629853280216887|0.0   |0         |0         |240          |0            |Reconnaissance|\n",
      "|2026-01-06 04:44:23|2026-01-06 04:44:23|0.0                  |0.4629853280216887|0.0   |0         |0         |0            |67           |none          |\n",
      "|2026-01-06 04:46:23|2026-01-06 04:46:23|6.959438323974609E-4 |0.4629853280216887|0.0   |0         |0         |176          |160          |Reconnaissance|\n",
      "|2026-01-06 04:48:23|2026-01-06 04:48:23|5.209445953369141E-4 |0.4629853280216887|0.0   |0         |0         |240          |160          |Reconnaissance|\n",
      "|2026-01-06 04:50:23|2026-01-06 04:50:23|3.669261932373047E-4 |0.4629853280216887|0.0   |0         |0         |240          |0            |Reconnaissance|\n",
      "|2026-01-06 04:52:23|2026-01-06 04:52:23|5.14984130859375E-4  |0.4629853280216887|0.0   |0         |0         |176          |160          |Reconnaissance|\n",
      "+-------------------+-------------------+---------------------+------------------+------+----------+----------+-------------+-------------+--------------+\n",
      "only showing top 20 rows\n",
      "\n",
      "Distinct label counts in train_df:\n"
     ]
    },
    {
     "name": "stderr",
     "output_type": "stream",
     "text": [
      "25/04/03 10:35:10 WARN WindowExec: No Partition Defined for Window operation! Moving all data to a single partition, this can cause serious performance degradation.\n",
      "25/04/03 10:35:10 WARN WindowExec: No Partition Defined for Window operation! Moving all data to a single partition, this can cause serious performance degradation.\n",
      "25/04/03 10:35:11 WARN WindowExec: No Partition Defined for Window operation! Moving all data to a single partition, this can cause serious performance degradation.\n",
      "25/04/03 10:35:11 WARN WindowExec: No Partition Defined for Window operation! Moving all data to a single partition, this can cause serious performance degradation.\n",
      "                                                                                "
     ]
    },
    {
     "name": "stdout",
     "output_type": "stream",
     "text": [
      "+--------------+-----+\n",
      "|  label_tactic|count|\n",
      "+--------------+-----+\n",
      "|Reconnaissance|24346|\n",
      "|          none| 3391|\n",
      "+--------------+-----+\n",
      "\n",
      "Distinct label counts in test_df:\n"
     ]
    },
    {
     "name": "stderr",
     "output_type": "stream",
     "text": [
      "25/04/03 10:35:24 WARN WindowExec: No Partition Defined for Window operation! Moving all data to a single partition, this can cause serious performance degradation.\n",
      "25/04/03 10:35:24 WARN WindowExec: No Partition Defined for Window operation! Moving all data to a single partition, this can cause serious performance degradation.\n",
      "25/04/03 10:35:24 WARN WindowExec: No Partition Defined for Window operation! Moving all data to a single partition, this can cause serious performance degradation.\n"
     ]
    },
    {
     "name": "stdout",
     "output_type": "stream",
     "text": [
      "+--------------+-----+\n",
      "|  label_tactic|count|\n",
      "+--------------+-----+\n",
      "|          none|  368|\n",
      "|Reconnaissance|23252|\n",
      "+--------------+-----+\n",
      "\n"
     ]
    },
    {
     "name": "stderr",
     "output_type": "stream",
     "text": [
      "25/04/03 10:35:34 WARN WindowExec: No Partition Defined for Window operation! Moving all data to a single partition, this can cause serious performance degradation.\n",
      "25/04/03 10:35:34 WARN WindowExec: No Partition Defined for Window operation! Moving all data to a single partition, this can cause serious performance degradation.\n",
      "25/04/03 10:35:35 WARN WindowExec: No Partition Defined for Window operation! Moving all data to a single partition, this can cause serious performance degradation.\n",
      "25/04/03 10:35:35 WARN WindowExec: No Partition Defined for Window operation! Moving all data to a single partition, this can cause serious performance degradation.\n",
      "25/04/03 10:35:35 WARN WindowExec: No Partition Defined for Window operation! Moving all data to a single partition, this can cause serious performance degradation.\n",
      "25/04/03 10:35:35 WARN WindowExec: No Partition Defined for Window operation! Moving all data to a single partition, this can cause serious performance degradation.\n",
      "25/04/03 10:35:44 WARN WindowExec: No Partition Defined for Window operation! Moving all data to a single partition, this can cause serious performance degradation.\n",
      "25/04/03 10:35:44 WARN WindowExec: No Partition Defined for Window operation! Moving all data to a single partition, this can cause serious performance degradation.\n",
      "25/04/03 10:35:45 WARN WindowExec: No Partition Defined for Window operation! Moving all data to a single partition, this can cause serious performance degradation.\n",
      "25/04/03 10:35:45 WARN WindowExec: No Partition Defined for Window operation! Moving all data to a single partition, this can cause serious performance degradation.\n",
      "25/04/03 10:35:53 WARN WindowExec: No Partition Defined for Window operation! Moving all data to a single partition, this can cause serious performance degradation.\n",
      "25/04/03 10:35:53 WARN WindowExec: No Partition Defined for Window operation! Moving all data to a single partition, this can cause serious performance degradation.\n",
      "25/04/03 10:35:53 WARN WindowExec: No Partition Defined for Window operation! Moving all data to a single partition, this can cause serious performance degradation.\n",
      "25/04/03 10:36:01 WARN WindowExec: No Partition Defined for Window operation! Moving all data to a single partition, this can cause serious performance degradation.\n",
      "25/04/03 10:36:01 WARN WindowExec: No Partition Defined for Window operation! Moving all data to a single partition, this can cause serious performance degradation.\n",
      "25/04/03 10:36:03 WARN WindowExec: No Partition Defined for Window operation! Moving all data to a single partition, this can cause serious performance degradation.\n",
      "25/04/03 10:36:03 WARN WindowExec: No Partition Defined for Window operation! Moving all data to a single partition, this can cause serious performance degradation.\n",
      "                                                                                "
     ]
    },
    {
     "name": "stdout",
     "output_type": "stream",
     "text": [
      "\n",
      "Model for label_tactic: Reconnaissance\n",
      "Accuracy: 0.9955546147332769\n",
      "Precision: 0.9955117635642131\n",
      "Recall: 0.9955546147332769\n",
      "F1 Score: 0.9952218372228098\n",
      "\n",
      "Predictions for each row in the test dataframe:\n",
      "+-------------------------------------------+-----+----------+\n",
      "|features                                   |label|prediction|\n",
      "+-------------------------------------------+-----+----------+\n",
      "|(5,[0,3],[2.4199485778808594E-4,176.0])    |1    |1.0       |\n",
      "|(5,[0,3],[1.8715858459472656E-4,132.0])    |1    |1.0       |\n",
      "|(5,[0,3],[3.1113624572753906E-4,176.0])    |1    |1.0       |\n",
      "|[0.0011219978332519531,0.0,0.0,176.0,160.0]|1    |1.0       |\n",
      "|(5,[0,3],[3.311634063720703E-4,176.0])     |1    |1.0       |\n",
      "|(5,[0,3],[6.840229034423828E-4,240.0])     |1    |1.0       |\n",
      "|[4.649162292480469E-4,0.0,0.0,88.0,40.0]   |1    |1.0       |\n",
      "|[8.580684661865234E-4,0.0,0.0,240.0,160.0] |1    |1.0       |\n",
      "|(5,[3],[81.0])                             |0    |0.0       |\n",
      "|(5,[0,3],[1.938343048095703E-4,132.0])     |1    |1.0       |\n",
      "|(5,[0,3],[2.0503997802734375E-4,132.0])    |1    |1.0       |\n",
      "|(5,[0,3],[1.850128173828125E-4,132.0])     |1    |1.0       |\n",
      "|(5,[0,3],[3.4999847412109375E-4,176.0])    |1    |1.0       |\n",
      "|[4.6896934509277344E-4,0.0,0.0,240.0,160.0]|1    |1.0       |\n",
      "|(5,[0,3],[1.8978118896484375E-4,240.0])    |1    |1.0       |\n",
      "|(5,[4],[67.0])                             |0    |1.0       |\n",
      "|[6.959438323974609E-4,0.0,0.0,176.0,160.0] |1    |1.0       |\n",
      "|[5.209445953369141E-4,0.0,0.0,240.0,160.0] |1    |1.0       |\n",
      "|(5,[0,3],[3.669261932373047E-4,240.0])     |1    |1.0       |\n",
      "|[5.14984130859375E-4,0.0,0.0,176.0,160.0]  |1    |1.0       |\n",
      "+-------------------------------------------+-----+----------+\n",
      "only showing top 20 rows\n",
      "\n",
      "Length of y_true: 23620\n",
      "Length of y_pred: 23620\n",
      "Number of missing values in y_true: 0\n",
      "Number of missing values in y_pred: 0\n"
     ]
    },
    {
     "data": {
      "image/png": "[encoded data removed]",
      "text/plain": [
       "<Figure size 1000x700 with 2 Axes>"
      ]
     },
     "metadata": {},
     "output_type": "display_data"
    },
    {
     "name": "stdout",
     "output_type": "stream",
     "text": [
      "Confusion Matrix plotted.\n"
     ]
    }
   ],
   "source": [
    "#Define Test Variables for Decision Tree\n",
    "#train_df, test_df, tactic, train_year, test_year, split_ratio\n",
    "\n",
    "train_df = decision_test_sample\n",
    "\n",
    "# Reduce train_df size to include only the first 70% of data\n",
    "#train_df = train_df.limit(int(0.7 * train_df.count()))\n",
    "\n",
    "test_df = filtered_result_df\n",
    "\n",
    "#tactic = \"Credential Access\"\n",
    "tactic = \"Reconnaissance\"\n",
    "\n",
    "train_year = \"2024\"\n",
    "\n",
    "test_year = \"2022\"\n",
    "\n",
    "split_ratio = \"1\"\n",
    "\n",
    "# Filter train_df to only include rows where label_tactic is either 'none' or the specified tactic\n",
    "train_df = train_df.filter((F.col(\"label_tactic\") == tactic) | (F.col(\"label_tactic\") == \"none\"))\n",
    "\n",
    "# Filter test_df to only include rows where label_tactic is either 'none' or the specified tactic\n",
    "test_df = test_df.filter((F.col(\"label_tactic\") == tactic) | (F.col(\"label_tactic\") == \"none\"))\n",
    "\n",
    "# Print the columns and their types for train_df\n",
    "print(\"Columns and types in train_df:\")\n",
    "train_df.printSchema()\n",
    "\n",
    "# Print the test_df\n",
    "print(\"\\nEntire test_df:\")\n",
    "test_df.show(truncate=False)\n",
    "\n",
    "#Show the distinct label counts\n",
    "print(\"Distinct label counts in train_df:\")\n",
    "train_df.groupBy(\"label_tactic\").count().show()\n",
    "print(\"Distinct label counts in test_df:\")\n",
    "test_df.groupBy(\"label_tactic\").count().show()\n",
    "\n",
    "# Call the train_and_evaluate function\n",
    "train_and_evaluate(train_df, test_df, tactic, train_year, test_year, split_ratio)"
   ]
  },
  {
   "cell_type": "code",
   "execution_count": null,
   "id": "4a3e0829-cd16-42ed-90d6-8e44dd4a5811",
   "metadata": {},
   "outputs": [],
   "source": []
  }
 ],
 "metadata": {
  "kernelspec": {
   "display_name": "Python 3 (ipykernel)",
   "language": "python",
   "name": "python3"
  },
  "language_info": {
   "codemirror_mode": {
    "name": "ipython",
    "version": 3
   },
   "file_extension": ".py",
   "mimetype": "text/x-python",
   "name": "python",
   "nbconvert_exporter": "python",
   "pygments_lexer": "ipython3",
   "version": "3.12.3"
  }
 },
 "nbformat": 4,
 "nbformat_minor": 5
}
