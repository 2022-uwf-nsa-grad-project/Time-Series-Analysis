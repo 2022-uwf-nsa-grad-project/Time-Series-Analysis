{
 "cells": [
  {
   "cell_type": "markdown",
   "id": "dd3c2a95-cbcc-4d33-9ac4-2019d28003e7",
   "metadata": {},
   "source": [
    "<span style = \"color:blue; font-size:24px\">ARIMADecisionTreeTester</span>\n",
    "<span style = \"color:blue; font-size:24px\">MultiYear</span>\n",
    "<span style = \"color:blue; font-size:24px\"> Reconnaissance<span>\n",
    "\n",
    "ZeekData24 Attack Profiles\n",
    "\n",
    "Dataset 1: Multiple Attack Types (Credential Access|236706|, Reconnaissance|12762|, Initial Access|2172|, Privilege Escalation|1251|, Persistence|1251|, Defense Evasion|1251|, Exfiltration|50|)\n",
    "\n",
    "Dataset 2: Multiple Attack Types (Credential Access|45491|, Reconnaissance|3339|, Initial Access|576|, Privilege Escalation|336|, Persistence|336|, Defense Evasion|336|, Exfiltration|30|)\n",
    "\n",
    "Dataset 3: Multiple Attack Types (Credential Access|150887|, Reconnaissance|10834|, Initial Access|2090|, Privilege Escalation|1193|, Persistence|1193|, Defense Evasion|1193|, Exfiltration|188|)\n",
    "\n",
    "Dataset 4: Multiple Attack Types (Credential Access|341945|, Reconnaissance|24233|, Initial Access|4602|, Privilege Escalation|2591|, Persistence|2591|, Defense Evasion|2591|, Exfiltration|268|)\n",
    "\n",
    "Dataset 5: Multiple Attack Types (Credential Access|96159|, Reconnaissance|6927|, Initial Access|1222|, Privilege Escalation|677|, Persistence|677|, Defense Evasion|677|, Exfiltration|23|)\n",
    "\n",
    "Datest 6: Benign Data\n",
    "\n",
    "Dataset 7: Benign Data\n",
    "\n",
    "Zeekdata22 Attack Profiles\n",
    "\n",
    "Dataset 1: Benign\n",
    "\n",
    "Dataset 2: Attacks (Reconnaissance|9278720|, Discovery|2086|)\n",
    "\n",
    "Dataset 3: Attacks (Credential Access|31|, Privilege Escalation|13|, Exfiltration|7|, Lateral Movement|4|, Resource Development|3|, Reconnaissance|2|, Persistence|1|, Initial Access|1|, Defense Evasion|1|)\n",
    "\n",
    "This revision tests the Decision Tree Model on different combinations of 2022 and 2024 data but focuses on Credential Access.\n",
    "\n",
    "NOTE: This revision is adapted to implement an upgrade python 3.12 version which does not allow for the use of pdmarima, so the arima_functions script must use statsmodels to work properly. Previous versions may be considered obsolete when using this new version of python."
   ]
  },
  {
   "cell_type": "markdown",
   "id": "4d236bce-822b-44e2-a964-b2117c1036df",
   "metadata": {},
   "source": [
    "<span style = \"color:blue; font-size:24px\">Preprocessing for ARIMA Model</span>"
   ]
  },
  {
   "cell_type": "code",
   "execution_count": null,
   "id": "22c5e9f8",
   "metadata": {
    "scrolled": true
   },
   "outputs": [
    {
     "name": "stderr",
     "output_type": "stream",
     "text": [
      "Warning: Ignoring non-Spark config property: SPARK_LOCAL_IP\n",
      "25/04/05 09:17:20 WARN Utils: Your hostname, car-ubuntu resolves to a loopback address: 127.0.1.1; using 192.168.1.123 instead (on interface ens33)\n",
      "25/04/05 09:17:20 WARN Utils: Set SPARK_LOCAL_IP if you need to bind to another address\n",
      "Setting default log level to \"WARN\".\n",
      "To adjust logging level use sc.setLogLevel(newLevel). For SparkR, use setLogLevel(newLevel).\n",
      "25/04/05 09:17:21 WARN NativeCodeLoader: Unable to load native-hadoop library for your platform... using builtin-java classes where applicable\n",
      "25/04/05 09:17:22 WARN Utils: Service 'SparkUI' could not bind on port 4040. Attempting port 4041.\n",
      "25/04/05 09:17:22 WARN Utils: Service 'SparkUI' could not bind on port 4041. Attempting port 4042.\n"
     ]
    },
    {
     "name": "stdout",
     "output_type": "stream",
     "text": [
      "Loading data from path 1/10: hdfs://192.168.1.250:9000/datasets-uwf-edu/UWF-ZeekData24/parquet/2024-02-25 - 2024-03-03/part-00000-8b838a85-76eb-4896-a0b6-2fc425e828c2-c000.snappy.parquet\n"
     ]
    },
    {
     "name": "stderr",
     "output_type": "stream",
     "text": [
      "                                                                                "
     ]
    },
    {
     "name": "stdout",
     "output_type": "stream",
     "text": [
      "Count of rows in dataset:  255443\n",
      "Loading data from path 2/10: hdfs://192.168.1.250:9000/datasets-uwf-edu/UWF-ZeekData24/parquet/2024-03-03 - 2024-03-10/part-00000-0955ed97-8460-41bd-872a-7375a7f0207e-c000.snappy.parquet\n",
      "Count of rows in dataset:  50444\n",
      "Loading data from path 3/10: hdfs://192.168.1.250:9000/datasets-uwf-edu/UWF-ZeekData24/parquet/2024-03-10 - 2024-03-17/part-00000-071774ae-97f3-4f31-9700-8bfcdf41305a-c000.snappy.parquet\n",
      "Count of rows in dataset:  167578\n",
      "Loading data from path 4/10: hdfs://192.168.1.250:9000/datasets-uwf-edu/UWF-ZeekData24/parquet/2024-03-17 - 2024-03-24/part-00000-5f556208-a1fc-40a1-9cc2-a4e24c76aeb3-c000.snappy.parquet\n",
      "Count of rows in dataset:  378821\n",
      "Loading data from path 5/10: hdfs://192.168.1.250:9000/datasets-uwf-edu/UWF-ZeekData24/parquet/2024-03-24 - 2024-03-31/part-00000-ea3a47a3-0973-4d6b-a3a2-8dd441ee7901-c000.snappy.parquet\n",
      "Count of rows in dataset:  106362\n",
      "Loading data from path 6/10: hdfs://192.168.1.250:9000/datasets-uwf-edu/UWF-ZeekData24/parquet/2024-10-27 - 2024-11-03/part-00000-69700ccb-c1c1-4763-beb7-cd0f1a61c268-c000.snappy.parquet\n",
      "Count of rows in dataset:  454846\n",
      "Loading data from path 7/10: hdfs://192.168.1.250:9000/datasets-uwf-edu/UWF-ZeekData24/parquet/2024-11-03 - 2024-11-10/part-00000-f078acc1-ab56-40a6-a6e1-99d780645c57-c000.snappy.parquet\n",
      "Count of rows in dataset:  503263\n",
      "Loading data from path 8/10: hdfs://192.168.1.250:9000/datasets-uwf-edu/UWF-ZeekData22/parquet/2022-01-16 - 2022-01-23/part-00000-cbf26680-106d-40e7-8278-60520afdbb0e-c000.snappy.parquet\n",
      "Count of rows in dataset:  354100\n",
      "Loading data from path 9/10: hdfs://192.168.1.250:9000/datasets-uwf-edu/UWF-ZeekData22/parquet/2022-02-06 - 2022-02-13/part-00000-df678a79-4a73-452b-8e72-d624b2732f17-c000.snappy.parquet\n",
      "Count of rows in dataset:  9280806\n",
      "Loading data from path 10/10: hdfs://192.168.1.250:9000/datasets-uwf-edu/UWF-ZeekData22/parquet/2022-02-13 - 2022-02-20/part-00000-1da06990-329c-4e38-913a-0f0aa39b388d-c000.snappy.parquet\n",
      "Count of rows in dataset:  63\n",
      "Data loading complete.\n",
      "Initial DataFrame row count: 255443\n",
      "Row count after shuffling: 11551726\n",
      "Data combined and shuffled successfully.\n"
     ]
    },
    {
     "name": "stderr",
     "output_type": "stream",
     "text": [
      "25/04/05 09:17:42 WARN WindowExec: No Partition Defined for Window operation! Moving all data to a single partition, this can cause serious performance degradation.\n",
      "25/04/05 09:17:42 WARN WindowExec: No Partition Defined for Window operation! Moving all data to a single partition, this can cause serious performance degradation.\n",
      "25/04/05 09:17:42 WARN WindowExec: No Partition Defined for Window operation! Moving all data to a single partition, this can cause serious performance degradation.\n",
      "25/04/05 09:17:53 WARN WindowExec: No Partition Defined for Window operation! Moving all data to a single partition, this can cause serious performance degradation.\n",
      "25/04/05 09:17:53 WARN WindowExec: No Partition Defined for Window operation! Moving all data to a single partition, this can cause serious performance degradation.\n",
      "25/04/05 09:17:53 WARN WindowExec: No Partition Defined for Window operation! Moving all data to a single partition, this can cause serious performance degradation.\n",
      "                                                                                "
     ]
    },
    {
     "name": "stdout",
     "output_type": "stream",
     "text": [
      "+----------+---------------------+----------+----------+-------------+-------------+-----------------+\n",
      "|ts        |duration             |orig_bytes|resp_bytes|orig_ip_bytes|resp_ip_bytes|label_tactic     |\n",
      "+----------+---------------------+----------+----------+-------------+-------------+-----------------+\n",
      "|1743862722|2.100827932357788    |1044      |16681     |6496         |70292        |Credential Access|\n",
      "|1743862782|3.8504600524902344E-4|0         |0         |240          |0            |Reconnaissance   |\n",
      "|1743862842|3.979206085205078E-4 |0         |0         |176          |0            |Reconnaissance   |\n",
      "|1743862902|9.219646453857422E-4 |0         |0         |176          |160          |Reconnaissance   |\n",
      "|1743862962|6.210803985595703E-4 |0         |0         |240          |0            |Reconnaissance   |\n",
      "|1743863022|2.269744873046875E-4 |0         |0         |240          |0            |Reconnaissance   |\n",
      "|1743863082|3.7789344787597656E-4|0         |0         |180          |0            |Reconnaissance   |\n",
      "|1743863142|3.5881996154785156E-4|0         |0         |240          |0            |Reconnaissance   |\n",
      "|1743863202|9.160041809082031E-4 |0         |0         |176          |160          |Reconnaissance   |\n",
      "|1743863262|2.2101402282714844E-4|0         |0         |132          |0            |Reconnaissance   |\n",
      "|1743863322|2.598762512207031E-4 |0         |0         |176          |0            |Reconnaissance   |\n",
      "|1743863382|3.0994415283203125E-6|0         |78        |0            |134          |Reconnaissance   |\n",
      "|1743863442|1.64031982421875E-4  |0         |0         |240          |0            |Reconnaissance   |\n",
      "|1743863502|0.0014088153839111328|0         |0         |176          |160          |Reconnaissance   |\n",
      "|1743863562|0.0038230419158935547|118       |118       |202          |202          |none             |\n",
      "|1743863622|0.022869110107421875 |686       |11329     |5688         |47844        |Credential Access|\n",
      "|1743863682|1.9073486328125E-5   |0         |0         |240          |0            |Reconnaissance   |\n",
      "|1743863742|3.814697265625E-6    |0         |78        |0            |134          |Reconnaissance   |\n",
      "|1743863802|0.03052806854248047  |686       |11329     |5064         |47844        |Credential Access|\n",
      "|1743863862|4.730224609375E-4    |0         |0         |132          |0            |Reconnaissance   |\n",
      "+----------+---------------------+----------+----------+-------------+-------------+-----------------+\n",
      "only showing top 20 rows\n",
      "\n",
      "Total number of rows in the shuffled DataFrame: 11551726\n",
      "Shuffled DataFrame split into 1156 chunks of 10000 rows each.\n",
      "Train and Test DataFrames added to train_test_list successfully.\n"
     ]
    },
    {
     "name": "stderr",
     "output_type": "stream",
     "text": [
      "25/04/05 09:18:10 WARN WindowExec: No Partition Defined for Window operation! Moving all data to a single partition, this can cause serious performance degradation.\n",
      "25/04/05 09:18:10 WARN WindowExec: No Partition Defined for Window operation! Moving all data to a single partition, this can cause serious performance degradation.\n",
      "25/04/05 09:18:19 WARN WindowExec: No Partition Defined for Window operation! Moving all data to a single partition, this can cause serious performance degradation.\n",
      "25/04/05 09:18:19 WARN WindowExec: No Partition Defined for Window operation! Moving all data to a single partition, this can cause serious performance degradation.\n",
      "25/04/05 09:18:23 WARN WindowExec: No Partition Defined for Window operation! Moving all data to a single partition, this can cause serious performance degradation.\n",
      "25/04/05 09:18:23 WARN WindowExec: No Partition Defined for Window operation! Moving all data to a single partition, this can cause serious performance degradation.\n",
      "[Stage 65:>                                                         (0 + 1) / 1]"
     ]
    },
    {
     "name": "stdout",
     "output_type": "stream",
     "text": [
      "Training DataFrame size: 7104 rows\n"
     ]
    },
    {
     "name": "stderr",
     "output_type": "stream",
     "text": [
      "25/04/05 09:18:33 WARN WindowExec: No Partition Defined for Window operation! Moving all data to a single partition, this can cause serious performance degradation.\n",
      "25/04/05 09:18:33 WARN WindowExec: No Partition Defined for Window operation! Moving all data to a single partition, this can cause serious performance degradation.\n",
      "25/04/05 09:18:44 WARN WindowExec: No Partition Defined for Window operation! Moving all data to a single partition, this can cause serious performance degradation.\n",
      "25/04/05 09:18:44 WARN WindowExec: No Partition Defined for Window operation! Moving all data to a single partition, this can cause serious performance degradation.\n",
      "25/04/05 09:18:47 WARN WindowExec: No Partition Defined for Window operation! Moving all data to a single partition, this can cause serious performance degradation.\n",
      "25/04/05 09:18:47 WARN WindowExec: No Partition Defined for Window operation! Moving all data to a single partition, this can cause serious performance degradation.\n",
      "                                                                                "
     ]
    },
    {
     "name": "stdout",
     "output_type": "stream",
     "text": [
      "Testing DataFrame size: 2896 rows\n",
      "Processing DataFrame 1/2\n"
     ]
    },
    {
     "name": "stderr",
     "output_type": "stream",
     "text": [
      "25/04/05 09:19:01 WARN WindowExec: No Partition Defined for Window operation! Moving all data to a single partition, this can cause serious performance degradation.\n",
      "25/04/05 09:19:01 WARN WindowExec: No Partition Defined for Window operation! Moving all data to a single partition, this can cause serious performance degradation.\n",
      "25/04/05 09:19:12 WARN WindowExec: No Partition Defined for Window operation! Moving all data to a single partition, this can cause serious performance degradation.\n",
      "25/04/05 09:19:12 WARN WindowExec: No Partition Defined for Window operation! Moving all data to a single partition, this can cause serious performance degradation.\n",
      "25/04/05 09:19:14 WARN WindowExec: No Partition Defined for Window operation! Moving all data to a single partition, this can cause serious performance degradation.\n",
      "25/04/05 09:19:14 WARN WindowExec: No Partition Defined for Window operation! Moving all data to a single partition, this can cause serious performance degradation.\n",
      "                                                                                "
     ]
    },
    {
     "name": "stdout",
     "output_type": "stream",
     "text": [
      "DataFrame 1 processed successfully.\n",
      "Processing DataFrame 2/2\n"
     ]
    },
    {
     "name": "stderr",
     "output_type": "stream",
     "text": [
      "25/04/05 09:19:26 WARN WindowExec: No Partition Defined for Window operation! Moving all data to a single partition, this can cause serious performance degradation.\n",
      "25/04/05 09:19:26 WARN WindowExec: No Partition Defined for Window operation! Moving all data to a single partition, this can cause serious performance degradation.\n",
      "25/04/05 09:19:36 WARN WindowExec: No Partition Defined for Window operation! Moving all data to a single partition, this can cause serious performance degradation.\n",
      "25/04/05 09:19:36 WARN WindowExec: No Partition Defined for Window operation! Moving all data to a single partition, this can cause serious performance degradation.\n",
      "25/04/05 09:19:38 WARN WindowExec: No Partition Defined for Window operation! Moving all data to a single partition, this can cause serious performance degradation.\n",
      "25/04/05 09:19:38 WARN WindowExec: No Partition Defined for Window operation! Moving all data to a single partition, this can cause serious performance degradation.\n",
      "[Stage 89:>                                                         (0 + 1) / 1]"
     ]
    },
    {
     "name": "stdout",
     "output_type": "stream",
     "text": [
      "DataFrame 2 processed successfully.\n",
      "Data processing complete.\n"
     ]
    },
    {
     "name": "stderr",
     "output_type": "stream",
     "text": [
      "                                                                                "
     ]
    }
   ],
   "source": [
    "# Spark imports\n",
    "import pyspark\n",
    "import numpy as np\n",
    "from pyspark.sql import SparkSession\n",
    "from pyspark.sql import functions as F\n",
    "from pyspark.sql.window import Window\n",
    "\n",
    "# Python imports\n",
    "import pandas as pd\n",
    "import matplotlib.pyplot as plt\n",
    "from sklearn.preprocessing import MultiLabelBinarizer\n",
    "\n",
    "UID = \"raf46\"                   # Your Argonet ID.\n",
    "hadoop_master = \"192.168.1.250\"  # IP address to Spark Master, which, for our cluster, is the same as the Hadoop Name node address.  \n",
    "# Create spark session with variables below.  Please try to remember to add your argonet ID to the appName, so that we know who a running job belongs to.\n",
    "spark = SparkSession.builder.appName(\"Pyspark Example Script - \" + UID)                        \\\n",
    "                            .master(\"spark://\" + hadoop_master + \":7077\")                      \\\n",
    "                            .config(\"SPARK_LOCAL_IP\", hadoop_master)                           \\\n",
    "                            .config(\"spark.driver.cores\", \"2\")                                 \\\n",
    "                            .config(\"spark.driver.memory\", \"128g\")                              \\\n",
    "                            .config(\"spark.executor.memory\", \"128g\")                            \\\n",
    "                            .config(\"spark.executor.cores\", \"4\")                               \\\n",
    "                            .config(\"spark.dynamicAllocation.shuffleTracking.enabled\", \"true\") \\\n",
    "                            .config(\"spark.dynamicAllocation.enabled\", \"true\")                 \\\n",
    "                            .config(\"spark.dynamicAllocation.minExecutors\", \"2\")               \\\n",
    "                            .config(\"spark.dynamicAllocation.maxExecutors\", \"8\")               \\\n",
    "                            .config(\"spark.executor.instances\", \"4\")                           \\\n",
    "                            .getOrCreate()\n",
    "\n",
    "def load_data(data_paths):\n",
    "    df_list = []\n",
    "    for i, path in enumerate(data_paths):\n",
    "        print(f\"Loading data from path {i+1}/{len(data_paths)}: {path}\")\n",
    "        df = spark.read.parquet(path)\n",
    "        df_list.append(df)\n",
    "        print(f\"Count of rows in dataset:  {df.count()}\")\n",
    "    print(\"Data loading complete.\")\n",
    "    return df_list\n",
    "\n",
    "def process_data_ARIMA(df_list):\n",
    "    processed_df_list = []\n",
    "    mitre_labels = [\n",
    "        \"Privilege Escalation\", \"Execution\", \"Persistence\", \"Defense Evasion\",\n",
    "        \"Credential Access\", \"Discovery\", \"Lateral Movement\", \"Collection\",\n",
    "        \"Exfiltration\", \"Command and Control\", \"Impact\", \"Reconnaissance\", \"Resource Development\"\n",
    "    ]\n",
    "\n",
    "    for i, df in enumerate(df_list):\n",
    "        print(f\"Processing DataFrame {i+1}/{len(df_list)}\")\n",
    "        df = df.withColumn(\"label_tactic_binary\", F.when(F.col(\"label_tactic\") == \"none\", 0).otherwise(1))\n",
    "        df = df.withColumn(\"label_tactic_split\", F.split(\"label_tactic\", \",\"))\n",
    "        df = df.withColumn(\"label_tactic_binary_encoded\", F.expr(\n",
    "            \"array(\" + \",\".join([f\"IF(array_contains(label_tactic_split, '{label}'), 1, 0)\" for label in mitre_labels]) + \")\"\n",
    "        ))\n",
    "        df = df.withColumn(\"ts\", F.from_unixtime(\"ts\").cast(\"timestamp\"))\n",
    "        window_size = \"1 seconds\"\n",
    "        df_agg = df.groupBy(F.window(\"ts\", window_size)) \\\n",
    "            .agg(\n",
    "                F.sum(\"duration\").alias(\"sum_duration\"),\n",
    "                F.sum(\"orig_bytes\").alias(\"sum_orig_bytes\"),\n",
    "                F.sum(\"resp_bytes\").alias(\"sum_resp_bytes\"),\n",
    "                F.sum(\"orig_ip_bytes\").alias(\"sum_orig_ip_bytes\"),\n",
    "                F.sum(\"resp_ip_bytes\").alias(\"sum_resp_ip_bytes\"),\n",
    "                F.count(\"*\").alias(\"connection_count\"),\n",
    "                F.max(\"label_tactic_binary\").alias(\"label_tactic_binary_agg\"),\n",
    "                F.collect_set(\"label_tactic_split\").alias(\"label_tactic_split_agg\"),\n",
    "                F.max(\"label_tactic_binary_encoded\").alias(\"label_tactic_binary_encoded_agg\")\n",
    "            )\n",
    "        df_agg_flat = df_agg.select(\n",
    "            F.col(\"window.start\").alias(\"window_start\"),\n",
    "            F.col(\"window.end\").alias(\"window_end\"),\n",
    "            \"sum_duration\",\n",
    "            \"sum_orig_bytes\",\n",
    "            \"sum_resp_bytes\",\n",
    "            \"sum_orig_ip_bytes\",\n",
    "            \"sum_resp_ip_bytes\",\n",
    "            \"connection_count\",\n",
    "            \"label_tactic_binary_agg\",\n",
    "            \"label_tactic_split_agg\",\n",
    "            \"label_tactic_binary_encoded_agg\"\n",
    "        )\n",
    "        df_agg_sorted = df_agg_flat.orderBy(\"window_start\")\n",
    "        df_pandas_sorted = df_agg_sorted.toPandas()\n",
    "        df_pandas_sorted[\"sum_orig_bytes_log\"] = np.log1p(df_pandas_sorted[\"sum_orig_bytes\"])\n",
    "        processed_df_list.append(df_pandas_sorted)\n",
    "        print(f\"DataFrame {i+1} processed successfully.\")\n",
    "    print(\"Data processing complete.\")\n",
    "    return processed_df_list\n",
    "\n",
    "# Define paths\n",
    "data_paths = [\n",
    "   \"hdfs://192.168.1.250:9000/datasets-uwf-edu/UWF-ZeekData24/parquet/2024-02-25 - 2024-03-03/part-00000-8b838a85-76eb-4896-a0b6-2fc425e828c2-c000.snappy.parquet\",\n",
    "    \"hdfs://192.168.1.250:9000/datasets-uwf-edu/UWF-ZeekData24/parquet/2024-03-03 - 2024-03-10/part-00000-0955ed97-8460-41bd-872a-7375a7f0207e-c000.snappy.parquet\",\n",
    "    \"hdfs://192.168.1.250:9000/datasets-uwf-edu/UWF-ZeekData24/parquet/2024-03-10 - 2024-03-17/part-00000-071774ae-97f3-4f31-9700-8bfcdf41305a-c000.snappy.parquet\",\n",
    "    \"hdfs://192.168.1.250:9000/datasets-uwf-edu/UWF-ZeekData24/parquet/2024-03-17 - 2024-03-24/part-00000-5f556208-a1fc-40a1-9cc2-a4e24c76aeb3-c000.snappy.parquet\",\n",
    "    \"hdfs://192.168.1.250:9000/datasets-uwf-edu/UWF-ZeekData24/parquet/2024-03-24 - 2024-03-31/part-00000-ea3a47a3-0973-4d6b-a3a2-8dd441ee7901-c000.snappy.parquet\",\n",
    "    \"hdfs://192.168.1.250:9000/datasets-uwf-edu/UWF-ZeekData24/parquet/2024-10-27 - 2024-11-03/part-00000-69700ccb-c1c1-4763-beb7-cd0f1a61c268-c000.snappy.parquet\",\n",
    "    \"hdfs://192.168.1.250:9000/datasets-uwf-edu/UWF-ZeekData24/parquet/2024-11-03 - 2024-11-10/part-00000-f078acc1-ab56-40a6-a6e1-99d780645c57-c000.snappy.parquet\",\n",
    "    \"hdfs://192.168.1.250:9000/datasets-uwf-edu/UWF-ZeekData22/parquet/2022-01-16 - 2022-01-23/part-00000-cbf26680-106d-40e7-8278-60520afdbb0e-c000.snappy.parquet\",\n",
    "    \"hdfs://192.168.1.250:9000/datasets-uwf-edu/UWF-ZeekData22/parquet/2022-02-06 - 2022-02-13/part-00000-df678a79-4a73-452b-8e72-d624b2732f17-c000.snappy.parquet\",\n",
    "    \"hdfs://192.168.1.250:9000/datasets-uwf-edu/UWF-ZeekData22/parquet/2022-02-13 - 2022-02-20/part-00000-1da06990-329c-4e38-913a-0f0aa39b388d-c000.snappy.parquet\"\n",
    "    ]\n",
    "\n",
    "# Define target Attack type\n",
    "valid_tactics = [\"Reconnaissance\", \"none\"]\n",
    "\n",
    "# Load and combine data, then shuffle\n",
    "def combine_and_shuffle_data(data_paths, random_seed=42):\n",
    "    # Load and combine all data\n",
    "    df_list = load_data(data_paths)\n",
    "\n",
    "    # Select relevant columns and fill na before combining\n",
    "    for i in range(len(df_list)):\n",
    "        df_list[i] = df_list[i].select(\"ts\", \"duration\", \"orig_bytes\", \"resp_bytes\", \"orig_ip_bytes\", \"resp_ip_bytes\", \"label_tactic\")\n",
    "        df_list[i] = df_list[i].fillna({\n",
    "            \"duration\": 0,\n",
    "            \"orig_bytes\": 0,\n",
    "            \"resp_bytes\": 0,\n",
    "            \"orig_ip_bytes\": 0,\n",
    "            \"resp_ip_bytes\": 0,\n",
    "            \"label_tactic\": \"none\"\n",
    "        })\n",
    "    # Combine all processed DataFrames\n",
    "    combined_df = df_list[0]\n",
    "    print(f\"Initial DataFrame row count: {combined_df.count()}\")\n",
    "    for df in df_list[1:]:\n",
    "        combined_df = combined_df.union(df)\n",
    "        i=0\n",
    "\n",
    "    # Shuffle the combined DataFrame\n",
    "    shuffled_df = combined_df.orderBy(F.rand(seed=random_seed))\n",
    "    print(f\"Row count after shuffling: {shuffled_df.count()}\")\n",
    "    \n",
    "    print(\"Data combined and shuffled successfully.\")\n",
    "    return shuffled_df\n",
    "\n",
    "# Combine and shuffle the data\n",
    "shuffled_df = combine_and_shuffle_data(data_paths)\n",
    "\n",
    "# Create a pseudo timestamp column with one-minute increments\n",
    "shuffled_df = shuffled_df.withColumn(\n",
    "    \"ts\",\n",
    "    F.unix_timestamp(F.current_timestamp()) + (F.row_number().over(Window.orderBy(F.rand())) * 60)\n",
    ")\n",
    "\n",
    "# Show the first few rows of the updated DataFrame\n",
    "shuffled_df.show(truncate=False)\n",
    "\n",
    "# Show the total count of rows\n",
    "print(f\"Total number of rows in the shuffled DataFrame: {shuffled_df.count()}\")\n",
    "\n",
    "# Add an index column to the DataFrame\n",
    "shuffled_df_with_index = shuffled_df.withColumn(\"row_index\", F.monotonically_increasing_id())\n",
    "\n",
    "# Split the DataFrame into chunks of 10,000 rows\n",
    "chunk_size = 10000\n",
    "dataframe_chunks = []\n",
    "\n",
    "for i in range(0, shuffled_df_with_index.count(), chunk_size):\n",
    "    chunk = shuffled_df_with_index.filter(\n",
    "        (F.col(\"row_index\") >= i) & (F.col(\"row_index\") < i + chunk_size)\n",
    "    ).drop(\"row_index\")  # Drop the index column after filtering\n",
    "    dataframe_chunks.append(chunk)\n",
    "\n",
    "# Print confirmation\n",
    "print(f\"Shuffled DataFrame split into {len(dataframe_chunks)} chunks of {chunk_size} rows each.\")\n",
    "\n",
    "shuffled_df = dataframe_chunks[0]  # Use the first chunk with 10,000 rows for further processing\n",
    "\n",
    "# Split the shuffled DataFrame into a Train and Test set using a 70/30 split\n",
    "train_test_split = shuffled_df.randomSplit([0.7, 0.3], seed=42)\n",
    "train_df = train_test_split[0]\n",
    "test_df = train_test_split[1]\n",
    "\n",
    "# Add the train and test DataFrames to a list\n",
    "train_test_list = [train_df, test_df]\n",
    "\n",
    "# Print confirmation\n",
    "print(\"Train and Test DataFrames added to train_test_list successfully.\")\n",
    "\n",
    "# Optional: Show the sizes of the train and test DataFrames\n",
    "print(f\"Training DataFrame size: {train_df.count()} rows\")\n",
    "print(f\"Testing DataFrame size: {test_df.count()} rows\")\n",
    "\n",
    "# Preprocess data for ARIMA model\n",
    "processed_df_list = process_data_ARIMA(train_test_list)\n",
    "\n",
    "# Define training and testing datasets for ARIMA model\n",
    "df_train_sample = processed_df_list[0]\n",
    "df_test_sample = processed_df_list[1]\n",
    "# Create original DataFrames for test set\n",
    "df_test_original = df_test_sample.copy()"
   ]
  },
  {
   "cell_type": "markdown",
   "id": "4e107e00",
   "metadata": {},
   "source": [
    "<span style = \"color:blue; font-size:24px\">Preprocessing for Decision Tree</span>"
   ]
  },
  {
   "cell_type": "code",
   "execution_count": 2,
   "id": "fc80e77e",
   "metadata": {
    "scrolled": true
   },
   "outputs": [
    {
     "name": "stdout",
     "output_type": "stream",
     "text": [
      "Schema of decision_train_sample:\n",
      "root\n",
      " |-- ts: double (nullable = true)\n",
      " |-- duration: double (nullable = false)\n",
      " |-- orig_bytes: long (nullable = false)\n",
      " |-- resp_bytes: long (nullable = false)\n",
      " |-- orig_ip_bytes: long (nullable = false)\n",
      " |-- resp_ip_bytes: long (nullable = false)\n",
      " |-- label_tactic: string (nullable = false)\n",
      "\n",
      "Schema of decision_test_sample:\n",
      "root\n",
      " |-- ts: double (nullable = true)\n",
      " |-- duration: double (nullable = false)\n",
      " |-- orig_bytes: long (nullable = false)\n",
      " |-- resp_bytes: long (nullable = false)\n",
      " |-- orig_ip_bytes: long (nullable = false)\n",
      " |-- resp_ip_bytes: long (nullable = false)\n",
      " |-- label_tactic: string (nullable = false)\n",
      "\n",
      "\n",
      "First few rows of decision_train_sample:\n"
     ]
    },
    {
     "name": "stderr",
     "output_type": "stream",
     "text": [
      "25/04/05 09:19:48 WARN WindowExec: No Partition Defined for Window operation! Moving all data to a single partition, this can cause serious performance degradation.\n",
      "25/04/05 09:19:48 WARN WindowExec: No Partition Defined for Window operation! Moving all data to a single partition, this can cause serious performance degradation.\n",
      "25/04/05 09:19:48 WARN WindowExec: No Partition Defined for Window operation! Moving all data to a single partition, this can cause serious performance degradation.\n",
      "25/04/05 09:19:58 WARN WindowExec: No Partition Defined for Window operation! Moving all data to a single partition, this can cause serious performance degradation.\n",
      "25/04/05 09:19:58 WARN WindowExec: No Partition Defined for Window operation! Moving all data to a single partition, this can cause serious performance degradation.\n",
      "25/04/05 09:20:00 WARN WindowExec: No Partition Defined for Window operation! Moving all data to a single partition, this can cause serious performance degradation.\n",
      "25/04/05 09:20:00 WARN WindowExec: No Partition Defined for Window operation! Moving all data to a single partition, this can cause serious performance degradation.\n",
      "25/04/05 09:20:08 WARN WindowExec: No Partition Defined for Window operation! Moving all data to a single partition, this can cause serious performance degradation.\n",
      "25/04/05 09:20:08 WARN WindowExec: No Partition Defined for Window operation! Moving all data to a single partition, this can cause serious performance degradation.\n",
      "25/04/05 09:20:08 WARN WindowExec: No Partition Defined for Window operation! Moving all data to a single partition, this can cause serious performance degradation.\n"
     ]
    },
    {
     "name": "stdout",
     "output_type": "stream",
     "text": [
      "+-------------+---------------------+----------+----------+-------------+-------------+-----------------+\n",
      "|ts           |duration             |orig_bytes|resp_bytes|orig_ip_bytes|resp_ip_bytes|label_tactic     |\n",
      "+-------------+---------------------+----------+----------+-------------+-------------+-----------------+\n",
      "|1.743862848E9|0.002193927764892578 |130       |130       |186          |186          |Reconnaissance   |\n",
      "|1.743862908E9|0.001172780990600586 |43        |43        |71           |71           |none             |\n",
      "|1.743863028E9|4.0602684020996094E-4|0         |0         |132          |0            |Reconnaissance   |\n",
      "|1.743863088E9|6.210803985595703E-4 |0         |0         |240          |0            |Reconnaissance   |\n",
      "|1.743863148E9|3.6597251892089844E-4|0         |0         |176          |0            |Reconnaissance   |\n",
      "|1.743863268E9|3.08990478515625E-4  |0         |0         |240          |0            |Reconnaissance   |\n",
      "|1.743863448E9|0.0                  |0         |0         |69           |0            |none             |\n",
      "|1.743863508E9|3.600120544433594E-4 |0         |0         |176          |0            |Reconnaissance   |\n",
      "|1.743863568E9|1.6927719116210938E-5|78        |0         |134          |0            |none             |\n",
      "|1.743863808E9|4.7397613525390625E-4|0         |0         |240          |0            |Reconnaissance   |\n",
      "|1.743863868E9|4.3702125549316406E-4|0         |0         |240          |160          |Reconnaissance   |\n",
      "|1.743863928E9|1.9097328186035156E-4|0         |0         |180          |0            |Reconnaissance   |\n",
      "|1.743864048E9|4.889965057373047E-4 |0         |0         |176          |160          |Reconnaissance   |\n",
      "|1.743864168E9|1.5401840209960938E-4|0         |0         |180          |0            |Reconnaissance   |\n",
      "|1.743864348E9|9.748935699462891E-4 |58        |58        |86           |86           |none             |\n",
      "|1.743864408E9|0.018424034118652344 |686       |11329     |4856         |47844        |Credential Access|\n",
      "|1.743864468E9|7.278919219970703E-4 |0         |0         |240          |0            |Reconnaissance   |\n",
      "|1.743864708E9|3.314018249511719E-5 |0         |0         |180          |0            |Reconnaissance   |\n",
      "|1.743864828E9|3.027915954589844E-4 |0         |0         |240          |0            |Reconnaissance   |\n",
      "|1.743865008E9|3.979206085205078E-4 |0         |0         |180          |0            |Reconnaissance   |\n",
      "+-------------+---------------------+----------+----------+-------------+-------------+-----------------+\n",
      "only showing top 20 rows\n",
      "\n",
      "\n",
      "First few rows of decision_test_sample:\n"
     ]
    },
    {
     "name": "stderr",
     "output_type": "stream",
     "text": [
      "25/04/05 09:20:17 WARN WindowExec: No Partition Defined for Window operation! Moving all data to a single partition, this can cause serious performance degradation.\n",
      "25/04/05 09:20:17 WARN WindowExec: No Partition Defined for Window operation! Moving all data to a single partition, this can cause serious performance degradation.\n",
      "25/04/05 09:20:19 WARN WindowExec: No Partition Defined for Window operation! Moving all data to a single partition, this can cause serious performance degradation.\n",
      "25/04/05 09:20:19 WARN WindowExec: No Partition Defined for Window operation! Moving all data to a single partition, this can cause serious performance degradation.\n",
      "[Stage 105:>                                                        (0 + 1) / 1]"
     ]
    },
    {
     "name": "stdout",
     "output_type": "stream",
     "text": [
      "+-------------+---------------------+----------+----------+-------------+-------------+--------------+\n",
      "|ts           |duration             |orig_bytes|resp_bytes|orig_ip_bytes|resp_ip_bytes|label_tactic  |\n",
      "+-------------+---------------------+----------+----------+-------------+-------------+--------------+\n",
      "|1.743862988E9|0.0013039112091064453|58        |58        |86           |86           |none          |\n",
      "|1.743863228E9|5.159378051757812E-4 |96        |0         |152          |0            |none          |\n",
      "|1.743863348E9|9.2315673828125E-4   |47        |47        |75           |75           |none          |\n",
      "|1.743863408E9|2.2101402282714844E-4|0         |0         |132          |0            |Reconnaissance|\n",
      "|1.743863648E9|1.3709068298339844E-4|0         |0         |180          |0            |Reconnaissance|\n",
      "|1.743863708E9|5.729198455810547E-4 |0         |0         |240          |0            |Reconnaissance|\n",
      "|1.743863768E9|2.601146697998047E-4 |0         |0         |180          |0            |Reconnaissance|\n",
      "|1.743864008E9|0.0013020038604736328|0         |0         |384          |224          |Reconnaissance|\n",
      "|1.743864128E9|0.003958940505981445 |118       |118       |202          |202          |none          |\n",
      "|1.743864248E9|4.239082336425781E-4 |0         |0         |176          |0            |Reconnaissance|\n",
      "|1.743864308E9|6.258487701416016E-4 |0         |0         |240          |160          |Reconnaissance|\n",
      "|1.743864548E9|4.169940948486328E-4 |0         |0         |240          |0            |Reconnaissance|\n",
      "|1.743864608E9|3.4999847412109375E-4|0         |0         |180          |0            |Reconnaissance|\n",
      "|1.743864668E9|2.028942108154297E-4 |0         |0         |240          |0            |Reconnaissance|\n",
      "|1.743864788E9|5.960464477539062E-4 |0         |0         |176          |0            |Reconnaissance|\n",
      "|1.743864908E9|2.529621124267578E-4 |0         |0         |176          |0            |Reconnaissance|\n",
      "|1.743864968E9|5.211830139160156E-4 |0         |0         |176          |160          |Reconnaissance|\n",
      "|1.743865208E9|7.605552673339844E-5 |0         |0         |240          |0            |Reconnaissance|\n",
      "|1.743865388E9|6.449222564697266E-4 |58        |58        |86           |86           |none          |\n",
      "|1.743865448E9|9.703636169433594E-5 |0         |0         |180          |0            |Reconnaissance|\n",
      "+-------------+---------------------+----------+----------+-------------+-------------+--------------+\n",
      "only showing top 20 rows\n",
      "\n"
     ]
    },
    {
     "name": "stderr",
     "output_type": "stream",
     "text": [
      "                                                                                "
     ]
    }
   ],
   "source": [
    "# Spark imports\n",
    "import pyspark\n",
    "import numpy as np\n",
    "from pyspark.sql import SparkSession\n",
    "from pyspark.sql import functions as F\n",
    "from pyspark.sql.types import DoubleType, LongType, StringType\n",
    "from pyspark.sql.window import Window\n",
    "\n",
    "# Python imports\n",
    "import pandas as pd\n",
    "import matplotlib.pyplot as plt\n",
    "from sklearn.preprocessing import MultiLabelBinarizer\n",
    "from sklearn.metrics import confusion_matrix\n",
    "import seaborn as sns\n",
    "import openpyxl\n",
    "from openpyxl import Workbook\n",
    "import os\n",
    "\n",
    "# Function to load and preprocess data\n",
    "def preprocess_data_decision_tree(df):\n",
    "   #Select and cast relevant columns\n",
    "    df = df.select(\n",
    "        F.col(\"ts\").cast(DoubleType()),\n",
    "        F.col(\"duration\").cast(DoubleType()),\n",
    "        F.col(\"orig_bytes\").cast(LongType()),\n",
    "        F.col(\"resp_bytes\").cast(LongType()),\n",
    "        F.col(\"orig_ip_bytes\").cast(LongType()),\n",
    "        F.col(\"resp_ip_bytes\").cast(LongType()),\n",
    "        F.col(\"label_tactic\").cast(StringType())\n",
    "    )\n",
    "    # Fill missing values\n",
    "    df = df.fillna({\n",
    "        \"duration\": 0,\n",
    "        \"orig_bytes\": 0,\n",
    "        \"resp_bytes\": 0,\n",
    "        \"orig_ip_bytes\": 0,\n",
    "        \"resp_ip_bytes\": 0\n",
    "    })\n",
    "    return df\n",
    "    \n",
    "# Preprocess the train and test sampels\n",
    "decision_train_sample = preprocess_data_decision_tree(train_test_list[0])\n",
    "decision_test_sample = preprocess_data_decision_tree(train_test_list[1])\n",
    "\n",
    "# Print the schema of the DataFrame\n",
    "print(\"Schema of decision_train_sample:\")\n",
    "decision_train_sample.printSchema()\n",
    "\n",
    "print(\"Schema of decision_test_sample:\")\n",
    "decision_test_sample.printSchema()\n",
    "\n",
    "# Show the first few rows of the DataFrame\n",
    "print(\"\\nFirst few rows of decision_train_sample:\")\n",
    "decision_train_sample.show(truncate=False)\n",
    "print(\"\\nFirst few rows of decision_test_sample:\")\n",
    "decision_test_sample.show(truncate=False)\n"
   ]
  },
  {
   "cell_type": "code",
   "execution_count": 3,
   "id": "c4253235-8604-46bf-873a-b7324a32355d",
   "metadata": {
    "scrolled": true
   },
   "outputs": [
    {
     "name": "stdout",
     "output_type": "stream",
     "text": [
      "Calling ARIMA Model Training function\n",
      "ADF Statistic: -24.118689\n",
      "p-value: 0.000000\n",
      "The time series is stationary (reject H0).\n",
      "Seasonality detected: True, Seasonal period: 8\n",
      "Finding the best ARIMA model...\n"
     ]
    },
    {
     "name": "stderr",
     "output_type": "stream",
     "text": [
      "/home/ubuntu/pyspark-venv/lib/python3.12/site-packages/statsmodels/tsa/statespace/sarimax.py:966: UserWarning: Non-stationary starting autoregressive parameters found. Using zeros as starting parameters.\n",
      "  warn('Non-stationary starting autoregressive parameters'\n",
      "/home/ubuntu/pyspark-venv/lib/python3.12/site-packages/statsmodels/tsa/statespace/sarimax.py:978: UserWarning: Non-invertible starting MA parameters found. Using zeros as starting parameters.\n",
      "  warn('Non-invertible starting MA parameters found.'\n",
      "/home/ubuntu/pyspark-venv/lib/python3.12/site-packages/statsmodels/tsa/statespace/sarimax.py:966: UserWarning: Non-stationary starting autoregressive parameters found. Using zeros as starting parameters.\n",
      "  warn('Non-stationary starting autoregressive parameters'\n",
      "/home/ubuntu/pyspark-venv/lib/python3.12/site-packages/statsmodels/tsa/statespace/sarimax.py:978: UserWarning: Non-invertible starting MA parameters found. Using zeros as starting parameters.\n",
      "  warn('Non-invertible starting MA parameters found.'\n",
      "/home/ubuntu/pyspark-venv/lib/python3.12/site-packages/statsmodels/tsa/statespace/sarimax.py:966: UserWarning: Non-stationary starting autoregressive parameters found. Using zeros as starting parameters.\n",
      "  warn('Non-stationary starting autoregressive parameters'\n",
      "/home/ubuntu/pyspark-venv/lib/python3.12/site-packages/statsmodels/tsa/statespace/sarimax.py:978: UserWarning: Non-invertible starting MA parameters found. Using zeros as starting parameters.\n",
      "  warn('Non-invertible starting MA parameters found.'\n",
      "/home/ubuntu/pyspark-venv/lib/python3.12/site-packages/statsmodels/base/model.py:607: ConvergenceWarning: Maximum Likelihood optimization failed to converge. Check mle_retvals\n",
      "  warnings.warn(\"Maximum Likelihood optimization failed to \"\n",
      "/home/ubuntu/pyspark-venv/lib/python3.12/site-packages/statsmodels/base/model.py:607: ConvergenceWarning: Maximum Likelihood optimization failed to converge. Check mle_retvals\n",
      "  warnings.warn(\"Maximum Likelihood optimization failed to \"\n",
      "/home/ubuntu/pyspark-venv/lib/python3.12/site-packages/statsmodels/tsa/statespace/sarimax.py:966: UserWarning: Non-stationary starting autoregressive parameters found. Using zeros as starting parameters.\n",
      "  warn('Non-stationary starting autoregressive parameters'\n",
      "/home/ubuntu/pyspark-venv/lib/python3.12/site-packages/statsmodels/tsa/statespace/sarimax.py:978: UserWarning: Non-invertible starting MA parameters found. Using zeros as starting parameters.\n",
      "  warn('Non-invertible starting MA parameters found.'\n",
      "/home/ubuntu/pyspark-venv/lib/python3.12/site-packages/statsmodels/tsa/statespace/sarimax.py:966: UserWarning: Non-stationary starting autoregressive parameters found. Using zeros as starting parameters.\n",
      "  warn('Non-stationary starting autoregressive parameters'\n",
      "/home/ubuntu/pyspark-venv/lib/python3.12/site-packages/statsmodels/tsa/statespace/sarimax.py:978: UserWarning: Non-invertible starting MA parameters found. Using zeros as starting parameters.\n",
      "  warn('Non-invertible starting MA parameters found.'\n",
      "/home/ubuntu/pyspark-venv/lib/python3.12/site-packages/statsmodels/base/model.py:607: ConvergenceWarning: Maximum Likelihood optimization failed to converge. Check mle_retvals\n",
      "  warnings.warn(\"Maximum Likelihood optimization failed to \"\n",
      "/home/ubuntu/pyspark-venv/lib/python3.12/site-packages/statsmodels/base/model.py:607: ConvergenceWarning: Maximum Likelihood optimization failed to converge. Check mle_retvals\n",
      "  warnings.warn(\"Maximum Likelihood optimization failed to \"\n",
      "/home/ubuntu/pyspark-venv/lib/python3.12/site-packages/statsmodels/tsa/statespace/sarimax.py:966: UserWarning: Non-stationary starting autoregressive parameters found. Using zeros as starting parameters.\n",
      "  warn('Non-stationary starting autoregressive parameters'\n",
      "/home/ubuntu/pyspark-venv/lib/python3.12/site-packages/statsmodels/tsa/statespace/sarimax.py:978: UserWarning: Non-invertible starting MA parameters found. Using zeros as starting parameters.\n",
      "  warn('Non-invertible starting MA parameters found.'\n",
      "/home/ubuntu/pyspark-venv/lib/python3.12/site-packages/statsmodels/tsa/statespace/sarimax.py:966: UserWarning: Non-stationary starting autoregressive parameters found. Using zeros as starting parameters.\n",
      "  warn('Non-stationary starting autoregressive parameters'\n",
      "/home/ubuntu/pyspark-venv/lib/python3.12/site-packages/statsmodels/tsa/statespace/sarimax.py:978: UserWarning: Non-invertible starting MA parameters found. Using zeros as starting parameters.\n",
      "  warn('Non-invertible starting MA parameters found.'\n",
      "/home/ubuntu/pyspark-venv/lib/python3.12/site-packages/statsmodels/tsa/statespace/sarimax.py:966: UserWarning: Non-stationary starting autoregressive parameters found. Using zeros as starting parameters.\n",
      "  warn('Non-stationary starting autoregressive parameters'\n",
      "/home/ubuntu/pyspark-venv/lib/python3.12/site-packages/statsmodels/tsa/statespace/sarimax.py:978: UserWarning: Non-invertible starting MA parameters found. Using zeros as starting parameters.\n",
      "  warn('Non-invertible starting MA parameters found.'\n",
      "/home/ubuntu/pyspark-venv/lib/python3.12/site-packages/statsmodels/base/model.py:607: ConvergenceWarning: Maximum Likelihood optimization failed to converge. Check mle_retvals\n",
      "  warnings.warn(\"Maximum Likelihood optimization failed to \"\n",
      "/home/ubuntu/pyspark-venv/lib/python3.12/site-packages/statsmodels/base/model.py:607: ConvergenceWarning: Maximum Likelihood optimization failed to converge. Check mle_retvals\n",
      "  warnings.warn(\"Maximum Likelihood optimization failed to \"\n"
     ]
    },
    {
     "name": "stdout",
     "output_type": "stream",
     "text": [
      "Best ARIMA order: (1, 0, 3) with AIC: 16020.402418051499\n",
      "Forecasted values: 7104    0.516577\n",
      "7105    0.450142\n",
      "7106    0.507209\n",
      "7107    0.498373\n",
      "7108    0.491669\n",
      "          ...   \n",
      "9995    0.470333\n",
      "9996    0.470333\n",
      "9997    0.470333\n",
      "9998    0.470333\n",
      "9999    0.470333\n",
      "Name: predicted_mean, Length: 2896, dtype: float64\n",
      "Actual values: [3.78418963 3.78418963 4.36944785 ... 0.         0.         0.        ]\n",
      "Mean Absolute Error (MAE): 1.4073081411680244\n"
     ]
    },
    {
     "data": {
      "image/png": "[encoded data removed]",
      "text/plain": [
       "<Figure size 1200x600 with 1 Axes>"
      ]
     },
     "metadata": {},
     "output_type": "display_data"
    },
    {
     "name": "stdout",
     "output_type": "stream",
     "text": [
      "Calling Forecasted Data Processing Function\n",
      "Columns in forecast_df:\n",
      "Index(['Time', 'Actual', 'Forecast'], dtype='object')\n",
      "Columns in df_test_original:\n",
      "Index(['window_start', 'window_end', 'sum_duration', 'sum_orig_bytes',\n",
      "       'sum_resp_bytes', 'sum_orig_ip_bytes', 'sum_resp_ip_bytes',\n",
      "       'connection_count', 'label_tactic_binary_agg', 'label_tactic_split_agg',\n",
      "       'label_tactic_binary_encoded_agg', 'sum_orig_bytes_log'],\n",
      "      dtype='object')\n",
      "7104   2025-04-05 09:22:26\n",
      "7105   2025-04-05 09:26:26\n",
      "7106   2025-04-05 09:28:26\n",
      "7107   2025-04-05 09:29:26\n",
      "7108   2025-04-05 09:33:26\n",
      "Name: Time, dtype: datetime64[ns]\n",
      "\n",
      "Type of decision_test_sample: <class 'pyspark.sql.dataframe.DataFrame'>\n",
      "Type of filtered_result_df before conversion: <class 'pandas.core.frame.DataFrame'>\n",
      "\n",
      "Type of filtered_result_df after conversion: <class 'pyspark.sql.dataframe.DataFrame'>\n"
     ]
    }
   ],
   "source": [
    "# Import the functions from the Python script\n",
    "from arima_functions import train_arima_model, process_forecast\n",
    "# Import the functions from decision_tree_functions.py\n",
    "from decision_tree_functions import (\n",
    "    train_and_evaluate, \n",
    "    split_data, \n",
    "    train_test_2022_2022, \n",
    "    train_test_2024_2024, \n",
    "    train_2022_test_2024, \n",
    "    train_2024_test_2022, \n",
    "    train_test_2022_2022_oversampled, \n",
    "    train_test_2024_2024_oversampled, \n",
    "    train_2022_test_2024_oversampled, \n",
    "    train_2024_test_2022_oversampled\n",
    ")\n",
    "\n",
    "import pandas as pd\n",
    "\n",
    "# Assuming df_train_sample and df_test_sample are already defined\n",
    "# Call ARIMA Model Training Function\n",
    "print(\"Calling ARIMA Model Training function\")\n",
    "forecast_df = train_arima_model(df_train_sample, df_test_sample)\n",
    "\n",
    "# Call Forecasted Data Processing Function\n",
    "print(\"Calling Forecasted Data Processing Function\")\n",
    "filtered_result_df = process_forecast(df_test_original, forecast_df)\n",
    "\n",
    "# Print the datatypes of the inputs\n",
    "print(\"\\nType of decision_test_sample:\", type(decision_test_sample))\n",
    "print(\"Type of filtered_result_df before conversion:\", type(filtered_result_df))\n",
    "\n",
    "# Convert the DataFrames to Spark DataFrames\n",
    "filtered_result_df = spark.createDataFrame(filtered_result_df)\n",
    "print(\"\\nType of filtered_result_df after conversion:\", type(filtered_result_df))"
   ]
  },
  {
   "cell_type": "markdown",
   "id": "d18b3969",
   "metadata": {},
   "source": [
    "Decision Tree Training and Testing"
   ]
  },
  {
   "cell_type": "code",
   "execution_count": 4,
   "id": "82d457a5",
   "metadata": {
    "scrolled": true
   },
   "outputs": [
    {
     "name": "stdout",
     "output_type": "stream",
     "text": [
      "Columns and types in train_df:\n",
      "root\n",
      " |-- ts: double (nullable = true)\n",
      " |-- duration: double (nullable = false)\n",
      " |-- orig_bytes: long (nullable = false)\n",
      " |-- resp_bytes: long (nullable = false)\n",
      " |-- orig_ip_bytes: long (nullable = false)\n",
      " |-- resp_ip_bytes: long (nullable = false)\n",
      " |-- label_tactic: string (nullable = false)\n",
      "\n",
      "\n",
      "Entire test_df:\n"
     ]
    },
    {
     "name": "stderr",
     "output_type": "stream",
     "text": [
      "25/04/05 09:21:57 WARN WindowExec: No Partition Defined for Window operation! Moving all data to a single partition, this can cause serious performance degradation.\n",
      "25/04/05 09:21:57 WARN WindowExec: No Partition Defined for Window operation! Moving all data to a single partition, this can cause serious performance degradation.\n",
      "25/04/05 09:21:57 WARN WindowExec: No Partition Defined for Window operation! Moving all data to a single partition, this can cause serious performance degradation.\n",
      "25/04/05 09:22:06 WARN WindowExec: No Partition Defined for Window operation! Moving all data to a single partition, this can cause serious performance degradation.\n",
      "25/04/05 09:22:06 WARN WindowExec: No Partition Defined for Window operation! Moving all data to a single partition, this can cause serious performance degradation.\n",
      "25/04/05 09:22:08 WARN WindowExec: No Partition Defined for Window operation! Moving all data to a single partition, this can cause serious performance degradation.\n",
      "25/04/05 09:22:08 WARN WindowExec: No Partition Defined for Window operation! Moving all data to a single partition, this can cause serious performance degradation.\n",
      "25/04/05 09:22:17 WARN WindowExec: No Partition Defined for Window operation! Moving all data to a single partition, this can cause serious performance degradation.\n",
      "25/04/05 09:22:17 WARN WindowExec: No Partition Defined for Window operation! Moving all data to a single partition, this can cause serious performance degradation.\n"
     ]
    },
    {
     "name": "stdout",
     "output_type": "stream",
     "text": [
      "+-------------+---------------------+----------+----------+-------------+-------------+-----------------+\n",
      "|ts           |duration             |orig_bytes|resp_bytes|orig_ip_bytes|resp_ip_bytes|label_tactic     |\n",
      "+-------------+---------------------+----------+----------+-------------+-------------+-----------------+\n",
      "|1.743863097E9|1.0991096496582031E-4|0         |0         |180          |0            |Reconnaissance   |\n",
      "|1.743863337E9|2.3484230041503906E-4|0         |0         |176          |0            |Reconnaissance   |\n",
      "|1.743863457E9|6.289482116699219E-4 |47        |47        |75           |75           |none             |\n",
      "|1.743863517E9|2.2101402282714844E-4|0         |0         |132          |0            |Reconnaissance   |\n",
      "|1.743863757E9|0.0011560916900634766|0         |0         |176          |160          |Reconnaissance   |\n",
      "|1.743863817E9|5.090236663818359E-4 |0         |0         |176          |0            |Reconnaissance   |\n",
      "|1.743863877E9|6.811618804931641E-4 |0         |0         |240          |0            |Reconnaissance   |\n",
      "|1.743864117E9|0.021526098251342773 |686       |11329     |5272         |47844        |Credential Access|\n",
      "|1.743864237E9|11.01261305809021    |32        |0         |3008         |3232         |Reconnaissance   |\n",
      "|1.743864357E9|8.258819580078125E-4 |0         |0         |176          |160          |Reconnaissance   |\n",
      "|1.743864417E9|1.8095970153808594E-4|0         |78        |0            |134          |none             |\n",
      "|1.743864657E9|2.319812774658203E-4 |0         |0         |240          |0            |Reconnaissance   |\n",
      "|1.743864717E9|4.1484832763671875E-4|0         |0         |176          |0            |Reconnaissance   |\n",
      "|1.743864777E9|0.09995794296264648  |616       |201       |3744         |1668         |Initial Access   |\n",
      "|1.743864897E9|4.3702125549316406E-4|0         |0         |120          |0            |none             |\n",
      "|1.743865017E9|0.0                  |0         |0         |69           |0            |none             |\n",
      "|1.743865077E9|2.6488304138183594E-4|0         |0         |180          |0            |Reconnaissance   |\n",
      "|1.743865317E9|0.02630782127380371  |686       |11329     |4856         |47844        |Credential Access|\n",
      "|1.743865497E9|21.01423716545105    |0         |0         |240          |832          |Reconnaissance   |\n",
      "|1.743865557E9|5.469322204589844E-4 |0         |0         |240          |160          |Reconnaissance   |\n",
      "+-------------+---------------------+----------+----------+-------------+-------------+-----------------+\n",
      "only showing top 20 rows\n",
      "\n",
      "Distinct label counts in train_df:\n"
     ]
    },
    {
     "name": "stderr",
     "output_type": "stream",
     "text": [
      "25/04/05 09:22:27 WARN WindowExec: No Partition Defined for Window operation! Moving all data to a single partition, this can cause serious performance degradation.\n",
      "25/04/05 09:22:27 WARN WindowExec: No Partition Defined for Window operation! Moving all data to a single partition, this can cause serious performance degradation.\n",
      "25/04/05 09:22:30 WARN WindowExec: No Partition Defined for Window operation! Moving all data to a single partition, this can cause serious performance degradation.\n",
      "25/04/05 09:22:30 WARN WindowExec: No Partition Defined for Window operation! Moving all data to a single partition, this can cause serious performance degradation.\n",
      "25/04/05 09:22:41 WARN WindowExec: No Partition Defined for Window operation! Moving all data to a single partition, this can cause serious performance degradation.\n",
      "25/04/05 09:22:41 WARN WindowExec: No Partition Defined for Window operation! Moving all data to a single partition, this can cause serious performance degradation.\n"
     ]
    },
    {
     "name": "stdout",
     "output_type": "stream",
     "text": [
      "+--------------------+-----+\n",
      "|        label_tactic|count|\n",
      "+--------------------+-----+\n",
      "|      Reconnaissance| 5658|\n",
      "|                none|  835|\n",
      "|   Credential Access|  590|\n",
      "|      Initial Access|    7|\n",
      "|         Persistence|    3|\n",
      "|     Defense Evasion|    7|\n",
      "|Privilege Escalation|    3|\n",
      "|        Exfiltration|    1|\n",
      "+--------------------+-----+\n",
      "\n",
      "Distinct label counts in test_df:\n"
     ]
    },
    {
     "name": "stderr",
     "output_type": "stream",
     "text": [
      "25/04/05 09:22:51 WARN WindowExec: No Partition Defined for Window operation! Moving all data to a single partition, this can cause serious performance degradation.\n",
      "25/04/05 09:22:51 WARN WindowExec: No Partition Defined for Window operation! Moving all data to a single partition, this can cause serious performance degradation.\n",
      "25/04/05 09:22:53 WARN WindowExec: No Partition Defined for Window operation! Moving all data to a single partition, this can cause serious performance degradation.\n",
      "25/04/05 09:22:53 WARN WindowExec: No Partition Defined for Window operation! Moving all data to a single partition, this can cause serious performance degradation.\n",
      "                                                                                "
     ]
    },
    {
     "name": "stdout",
     "output_type": "stream",
     "text": [
      "+-----------------+-----+\n",
      "|     label_tactic|count|\n",
      "+-----------------+-----+\n",
      "|   Reconnaissance| 2383|\n",
      "|             none|  305|\n",
      "|   Initial Access|    1|\n",
      "|Credential Access|  202|\n",
      "|  Defense Evasion|    2|\n",
      "|      Persistence|    2|\n",
      "|        Discovery|    1|\n",
      "+-----------------+-----+\n",
      "\n"
     ]
    },
    {
     "name": "stderr",
     "output_type": "stream",
     "text": [
      "25/04/05 09:23:02 WARN WindowExec: No Partition Defined for Window operation! Moving all data to a single partition, this can cause serious performance degradation.\n",
      "25/04/05 09:23:02 WARN WindowExec: No Partition Defined for Window operation! Moving all data to a single partition, this can cause serious performance degradation.\n",
      "25/04/05 09:23:02 WARN WindowExec: No Partition Defined for Window operation! Moving all data to a single partition, this can cause serious performance degradation.\n",
      "25/04/05 09:23:11 WARN WindowExec: No Partition Defined for Window operation! Moving all data to a single partition, this can cause serious performance degradation.\n",
      "25/04/05 09:23:11 WARN WindowExec: No Partition Defined for Window operation! Moving all data to a single partition, this can cause serious performance degradation.\n",
      "25/04/05 09:23:13 WARN WindowExec: No Partition Defined for Window operation! Moving all data to a single partition, this can cause serious performance degradation.\n",
      "25/04/05 09:23:13 WARN WindowExec: No Partition Defined for Window operation! Moving all data to a single partition, this can cause serious performance degradation.\n",
      "25/04/05 09:23:13 WARN WindowExec: No Partition Defined for Window operation! Moving all data to a single partition, this can cause serious performance degradation.\n",
      "25/04/05 09:23:13 WARN WindowExec: No Partition Defined for Window operation! Moving all data to a single partition, this can cause serious performance degradation.\n",
      "25/04/05 09:23:23 WARN WindowExec: No Partition Defined for Window operation! Moving all data to a single partition, this can cause serious performance degradation.\n",
      "25/04/05 09:23:23 WARN WindowExec: No Partition Defined for Window operation! Moving all data to a single partition, this can cause serious performance degradation.\n",
      "25/04/05 09:23:25 WARN WindowExec: No Partition Defined for Window operation! Moving all data to a single partition, this can cause serious performance degradation.\n",
      "25/04/05 09:23:25 WARN WindowExec: No Partition Defined for Window operation! Moving all data to a single partition, this can cause serious performance degradation.\n",
      "25/04/05 09:23:39 WARN WindowExec: No Partition Defined for Window operation! Moving all data to a single partition, this can cause serious performance degradation.\n",
      "25/04/05 09:23:39 WARN WindowExec: No Partition Defined for Window operation! Moving all data to a single partition, this can cause serious performance degradation.\n",
      "25/04/05 09:23:39 WARN WindowExec: No Partition Defined for Window operation! Moving all data to a single partition, this can cause serious performance degradation.\n",
      "25/04/05 09:23:49 WARN WindowExec: No Partition Defined for Window operation! Moving all data to a single partition, this can cause serious performance degradation.\n",
      "25/04/05 09:23:49 WARN WindowExec: No Partition Defined for Window operation! Moving all data to a single partition, this can cause serious performance degradation.\n",
      "25/04/05 09:23:51 WARN WindowExec: No Partition Defined for Window operation! Moving all data to a single partition, this can cause serious performance degradation.\n",
      "25/04/05 09:23:51 WARN WindowExec: No Partition Defined for Window operation! Moving all data to a single partition, this can cause serious performance degradation.\n",
      "25/04/05 09:24:27 WARN WindowExec: No Partition Defined for Window operation! Moving all data to a single partition, this can cause serious performance degradation.\n",
      "25/04/05 09:24:27 WARN WindowExec: No Partition Defined for Window operation! Moving all data to a single partition, this can cause serious performance degradation.\n",
      "25/04/05 09:24:27 WARN WindowExec: No Partition Defined for Window operation! Moving all data to a single partition, this can cause serious performance degradation.\n",
      "25/04/05 09:24:38 WARN WindowExec: No Partition Defined for Window operation! Moving all data to a single partition, this can cause serious performance degradation.\n",
      "25/04/05 09:24:38 WARN WindowExec: No Partition Defined for Window operation! Moving all data to a single partition, this can cause serious performance degradation.\n",
      "25/04/05 09:24:40 WARN WindowExec: No Partition Defined for Window operation! Moving all data to a single partition, this can cause serious performance degradation.\n",
      "25/04/05 09:24:40 WARN WindowExec: No Partition Defined for Window operation! Moving all data to a single partition, this can cause serious performance degradation.\n",
      "25/04/05 09:24:49 WARN WindowExec: No Partition Defined for Window operation! Moving all data to a single partition, this can cause serious performance degradation.\n",
      "25/04/05 09:24:49 WARN WindowExec: No Partition Defined for Window operation! Moving all data to a single partition, this can cause serious performance degradation.\n",
      "25/04/05 09:24:49 WARN WindowExec: No Partition Defined for Window operation! Moving all data to a single partition, this can cause serious performance degradation.\n",
      "25/04/05 09:24:59 WARN WindowExec: No Partition Defined for Window operation! Moving all data to a single partition, this can cause serious performance degradation.\n",
      "25/04/05 09:24:59 WARN WindowExec: No Partition Defined for Window operation! Moving all data to a single partition, this can cause serious performance degradation.\n",
      "25/04/05 09:25:01 WARN WindowExec: No Partition Defined for Window operation! Moving all data to a single partition, this can cause serious performance degradation.\n",
      "25/04/05 09:25:01 WARN WindowExec: No Partition Defined for Window operation! Moving all data to a single partition, this can cause serious performance degradation.\n",
      "25/04/05 09:25:09 WARN WindowExec: No Partition Defined for Window operation! Moving all data to a single partition, this can cause serious performance degradation.\n",
      "25/04/05 09:25:09 WARN WindowExec: No Partition Defined for Window operation! Moving all data to a single partition, this can cause serious performance degradation.\n",
      "25/04/05 09:25:09 WARN WindowExec: No Partition Defined for Window operation! Moving all data to a single partition, this can cause serious performance degradation.\n",
      "25/04/05 09:25:18 WARN WindowExec: No Partition Defined for Window operation! Moving all data to a single partition, this can cause serious performance degradation.\n",
      "25/04/05 09:25:18 WARN WindowExec: No Partition Defined for Window operation! Moving all data to a single partition, this can cause serious performance degradation.\n",
      "25/04/05 09:25:20 WARN WindowExec: No Partition Defined for Window operation! Moving all data to a single partition, this can cause serious performance degradation.\n",
      "25/04/05 09:25:20 WARN WindowExec: No Partition Defined for Window operation! Moving all data to a single partition, this can cause serious performance degradation.\n",
      "25/04/05 09:25:28 WARN WindowExec: No Partition Defined for Window operation! Moving all data to a single partition, this can cause serious performance degradation.\n",
      "25/04/05 09:25:28 WARN WindowExec: No Partition Defined for Window operation! Moving all data to a single partition, this can cause serious performance degradation.\n",
      "25/04/05 09:25:28 WARN WindowExec: No Partition Defined for Window operation! Moving all data to a single partition, this can cause serious performance degradation.\n",
      "25/04/05 09:25:38 WARN WindowExec: No Partition Defined for Window operation! Moving all data to a single partition, this can cause serious performance degradation.\n",
      "25/04/05 09:25:38 WARN WindowExec: No Partition Defined for Window operation! Moving all data to a single partition, this can cause serious performance degradation.\n",
      "25/04/05 09:25:41 WARN WindowExec: No Partition Defined for Window operation! Moving all data to a single partition, this can cause serious performance degradation.\n",
      "25/04/05 09:25:41 WARN WindowExec: No Partition Defined for Window operation! Moving all data to a single partition, this can cause serious performance degradation.\n",
      "25/04/05 09:25:49 WARN WindowExec: No Partition Defined for Window operation! Moving all data to a single partition, this can cause serious performance degradation.\n",
      "25/04/05 09:25:49 WARN WindowExec: No Partition Defined for Window operation! Moving all data to a single partition, this can cause serious performance degradation.\n",
      "25/04/05 09:25:49 WARN WindowExec: No Partition Defined for Window operation! Moving all data to a single partition, this can cause serious performance degradation.\n"
     ]
    },
    {
     "name": "stdout",
     "output_type": "stream",
     "text": [
      "\n",
      "Model for label_tactic: Reconnaissance\n",
      "Accuracy: 0.9906767955801105\n",
      "Precision: 0.991696880633844\n",
      "Recall: 0.9927486187845304\n",
      "F1 Score: 0.9934228586965388\n",
      "\n",
      "Predictions for each row in the test dataframe:\n"
     ]
    },
    {
     "name": "stderr",
     "output_type": "stream",
     "text": [
      "25/04/05 09:25:58 WARN WindowExec: No Partition Defined for Window operation! Moving all data to a single partition, this can cause serious performance degradation.\n",
      "25/04/05 09:25:58 WARN WindowExec: No Partition Defined for Window operation! Moving all data to a single partition, this can cause serious performance degradation.\n",
      "25/04/05 09:26:00 WARN WindowExec: No Partition Defined for Window operation! Moving all data to a single partition, this can cause serious performance degradation.\n",
      "25/04/05 09:26:00 WARN WindowExec: No Partition Defined for Window operation! Moving all data to a single partition, this can cause serious performance degradation.\n",
      "25/04/05 09:26:11 WARN WindowExec: No Partition Defined for Window operation! Moving all data to a single partition, this can cause serious performance degradation.\n",
      "25/04/05 09:26:11 WARN WindowExec: No Partition Defined for Window operation! Moving all data to a single partition, this can cause serious performance degradation.\n",
      "25/04/05 09:26:11 WARN WindowExec: No Partition Defined for Window operation! Moving all data to a single partition, this can cause serious performance degradation.\n"
     ]
    },
    {
     "name": "stdout",
     "output_type": "stream",
     "text": [
      "+---------------------------------------------------+-----+----------+\n",
      "|features                                           |label|prediction|\n",
      "+---------------------------------------------------+-----+----------+\n",
      "|[5.118846893310547E-4,0.0,0.0,176.0,160.0]         |1    |1.0       |\n",
      "|[0.00414586067199707,118.0,118.0,202.0,202.0]      |0    |0.0       |\n",
      "|[0.0044400691986083984,118.0,118.0,202.0,202.0]    |0    |0.0       |\n",
      "|(5,[0,3],[2.2101402282714844E-4,132.0])            |1    |1.0       |\n",
      "|(5,[0,3],[1.9693374633789062E-4,180.0])            |1    |1.0       |\n",
      "|(5,[0,3],[5.14984130859375E-4,176.0])              |1    |1.0       |\n",
      "|(5,[0,3],[2.391338348388672E-4,176.0])             |1    |1.0       |\n",
      "|[0.029970884323120117,686.0,11329.0,5064.0,47844.0]|0    |0.0       |\n",
      "|[0.003958940505981445,118.0,118.0,202.0,202.0]     |0    |0.0       |\n",
      "|[4.4798851013183594E-4,0.0,0.0,240.0,160.0]        |1    |1.0       |\n",
      "|[8.990764617919922E-4,0.0,0.0,240.0,160.0]         |1    |1.0       |\n",
      "|(5,[0,3],[1.5807151794433594E-4,132.0])            |1    |1.0       |\n",
      "|(5,[0,3],[2.9015541076660156E-4,176.0])            |1    |1.0       |\n",
      "|[0.09995794296264648,616.0,201.0,3744.0,1668.0]    |0    |0.0       |\n",
      "|[4.0912628173828125E-4,0.0,0.0,240.0,160.0]        |1    |1.0       |\n",
      "|[3.018379211425781E-4,0.0,0.0,240.0,160.0]         |1    |1.0       |\n",
      "|[4.6706199645996094E-4,0.0,0.0,240.0,160.0]        |1    |1.0       |\n",
      "|(5,[0,3],[3.750324249267578E-4,180.0])             |1    |1.0       |\n",
      "|(5,[0,3],[4.2700767517089844E-4,240.0])            |1    |1.0       |\n",
      "|(5,[0,3],[2.391338348388672E-4,132.0])             |1    |1.0       |\n",
      "+---------------------------------------------------+-----+----------+\n",
      "only showing top 20 rows\n",
      "\n"
     ]
    },
    {
     "name": "stderr",
     "output_type": "stream",
     "text": [
      "25/04/05 09:26:21 WARN WindowExec: No Partition Defined for Window operation! Moving all data to a single partition, this can cause serious performance degradation.\n",
      "25/04/05 09:26:21 WARN WindowExec: No Partition Defined for Window operation! Moving all data to a single partition, this can cause serious performance degradation.\n",
      "25/04/05 09:26:23 WARN WindowExec: No Partition Defined for Window operation! Moving all data to a single partition, this can cause serious performance degradation.\n",
      "25/04/05 09:26:23 WARN WindowExec: No Partition Defined for Window operation! Moving all data to a single partition, this can cause serious performance degradation.\n",
      "25/04/05 09:26:33 WARN WindowExec: No Partition Defined for Window operation! Moving all data to a single partition, this can cause serious performance degradation.\n",
      "25/04/05 09:26:33 WARN WindowExec: No Partition Defined for Window operation! Moving all data to a single partition, this can cause serious performance degradation.\n",
      "25/04/05 09:26:33 WARN WindowExec: No Partition Defined for Window operation! Moving all data to a single partition, this can cause serious performance degradation.\n",
      "25/04/05 09:26:42 WARN WindowExec: No Partition Defined for Window operation! Moving all data to a single partition, this can cause serious performance degradation.\n",
      "25/04/05 09:26:42 WARN WindowExec: No Partition Defined for Window operation! Moving all data to a single partition, this can cause serious performance degradation.\n",
      "25/04/05 09:26:44 WARN WindowExec: No Partition Defined for Window operation! Moving all data to a single partition, this can cause serious performance degradation.\n",
      "25/04/05 09:26:44 WARN WindowExec: No Partition Defined for Window operation! Moving all data to a single partition, this can cause serious performance degradation.\n",
      "[Stage 237:>                                                        (0 + 1) / 1]"
     ]
    },
    {
     "name": "stdout",
     "output_type": "stream",
     "text": [
      "Length of y_true: 2896\n",
      "Length of y_pred: 2896\n",
      "Number of missing values in y_true: 0\n",
      "Number of missing values in y_pred: 0\n"
     ]
    },
    {
     "name": "stderr",
     "output_type": "stream",
     "text": [
      "                                                                                "
     ]
    },
    {
     "data": {
      "image/png": "[encoded data removed]",
      "text/plain": [
       "<Figure size 1000x700 with 2 Axes>"
      ]
     },
     "metadata": {},
     "output_type": "display_data"
    },
    {
     "name": "stdout",
     "output_type": "stream",
     "text": [
      "Confusion Matrix plotted.\n"
     ]
    }
   ],
   "source": [
    "#train_df, test_df, tactic, train_year, test_year, split_ratio\n",
    "\n",
    "train_df = decision_train_sample\n",
    "test_df = decision_test_sample\n",
    "\n",
    "# Define the parameters\n",
    "#tactic = \"Credential Access\"\n",
    "tactic = \"Reconnaissance\"\n",
    "\n",
    "train_year = \"2024_2022\"\n",
    "\n",
    "test_year = \"2024_2022\"\n",
    "\n",
    "split_ratio = \"1\"\n",
    "\n",
    "# Print the columns and their types for train_df\n",
    "print(\"Columns and types in train_df:\")\n",
    "train_df.printSchema()\n",
    "\n",
    "# Print the test_df\n",
    "print(\"\\nEntire test_df:\")\n",
    "test_df.show(truncate=False)\n",
    "\n",
    "#Show the distinct label counts\n",
    "print(\"Distinct label counts in train_df:\")\n",
    "train_df.groupBy(\"label_tactic\").count().show()\n",
    "print(\"Distinct label counts in test_df:\")\n",
    "test_df.groupBy(\"label_tactic\").count().show()\n",
    "\n",
    "# Call the train_and_evaluate function\n",
    "train_and_evaluate(train_df, test_df, tactic, train_year, test_year, split_ratio)"
   ]
  },
  {
   "cell_type": "markdown",
   "id": "30f52133",
   "metadata": {},
   "source": [
    "<span style = \"color:blue; font-size:24px\">Training with 2024 and 2022 Combined Data & Testing with ARIMA Result Dataframe</span>"
   ]
  },
  {
   "cell_type": "code",
   "execution_count": 5,
   "id": "4591e63a-72ef-4536-b7ac-59631b65f5bc",
   "metadata": {
    "scrolled": true
   },
   "outputs": [
    {
     "name": "stdout",
     "output_type": "stream",
     "text": [
      "Columns and types in train_df:\n",
      "root\n",
      " |-- ts: double (nullable = true)\n",
      " |-- duration: double (nullable = false)\n",
      " |-- orig_bytes: long (nullable = false)\n",
      " |-- resp_bytes: long (nullable = false)\n",
      " |-- orig_ip_bytes: long (nullable = false)\n",
      " |-- resp_ip_bytes: long (nullable = false)\n",
      " |-- label_tactic: string (nullable = false)\n",
      "\n",
      "\n",
      "Entire test_df:\n"
     ]
    },
    {
     "name": "stderr",
     "output_type": "stream",
     "text": [
      "25/04/05 09:26:53 WARN WindowExec: No Partition Defined for Window operation! Moving all data to a single partition, this can cause serious performance degradation.\n",
      "25/04/05 09:26:53 WARN WindowExec: No Partition Defined for Window operation! Moving all data to a single partition, this can cause serious performance degradation.\n"
     ]
    },
    {
     "name": "stdout",
     "output_type": "stream",
     "text": [
      "+-------------------+-------------------+---------------------+-------------------+------+----------+----------+-------------+-------------+--------------+\n",
      "|window_start       |window_start       |duration             |Forecast           |Actual|orig_bytes|resp_bytes|orig_ip_bytes|resp_ip_bytes|label_tactic  |\n",
      "+-------------------+-------------------+---------------------+-------------------+------+----------+----------+-------------+-------------+--------------+\n",
      "|2025-04-05 09:29:26|2025-04-05 09:29:26|2.2101402282714844E-4|0.4983728702591781 |0.0   |0         |0         |132          |0            |Reconnaissance|\n",
      "|2025-04-05 09:35:26|2025-04-05 09:35:26|0.0017240047454833984|0.4827052239986683 |0.0   |0         |0         |176          |160          |Reconnaissance|\n",
      "|2025-04-05 09:39:26|2025-04-05 09:39:26|3.609657287597656E-4 |0.4797592128463129 |0.0   |0         |0         |132          |0            |Reconnaissance|\n",
      "|2025-04-05 09:41:26|2025-04-05 09:41:26|1.1205673217773438E-5|0.47751641608768014|0.0   |0         |0         |240          |0            |Reconnaissance|\n",
      "|2025-04-05 09:43:26|2025-04-05 09:43:26|1.7881393432617188E-5|0.47580826547982913|0.0   |0         |0         |180          |0            |Reconnaissance|\n",
      "|2025-04-05 09:48:26|2025-04-05 09:48:26|3.829002380371094E-4 |0.4735151993927293 |0.0   |0         |0         |180          |0            |Reconnaissance|\n",
      "|2025-04-05 09:50:26|2025-04-05 09:50:26|2.3794174194335938E-4|0.4721831628916792 |0.0   |0         |78        |0            |134          |none          |\n",
      "|2025-04-05 09:52:26|2025-04-05 09:52:26|9.100437164306641E-4 |0.4717438983690046 |0.0   |0         |0         |176          |160          |Reconnaissance|\n",
      "|2025-04-05 09:54:26|2025-04-05 09:54:26|6.985664367675781E-5 |0.47140898790131686|0.0   |0         |0         |180          |0            |Reconnaissance|\n",
      "|2025-04-05 09:55:26|2025-04-05 09:55:26|3.1185150146484375E-4|0.4711536246336685 |0.0   |0         |0         |176          |0            |Reconnaissance|\n",
      "|2025-04-05 09:59:26|2025-04-05 09:59:26|3.6787986755371094E-4|0.47095890541914137|0.0   |0         |0         |176          |0            |Reconnaissance|\n",
      "|2025-04-05 10:02:26|2025-04-05 10:02:26|0.0                  |0.4708104230255832 |0.0   |0         |0         |0            |67           |Reconnaissance|\n",
      "|2025-04-05 10:03:26|2025-04-05 10:03:26|2.0194053649902344E-4|0.4706971952080244 |0.0   |0         |0         |132          |0            |Reconnaissance|\n",
      "|2025-04-05 10:05:26|2025-04-05 10:05:26|6.289482116699219E-4 |0.47061084955380167|0.0   |0         |0         |240          |0            |Reconnaissance|\n",
      "|2025-04-05 10:06:26|2025-04-05 10:06:26|3.669261932373047E-4 |0.4705450027306665 |0.0   |0         |0         |176          |0            |Reconnaissance|\n",
      "|2025-04-05 10:07:26|2025-04-05 10:07:26|6.401538848876953E-4 |0.4704947876108668 |0.0   |0         |0         |176          |0            |Reconnaissance|\n",
      "|2025-04-05 10:09:26|2025-04-05 10:09:26|9.894371032714844E-5 |0.4704564929482582 |0.0   |0         |0         |180          |0            |Reconnaissance|\n",
      "|2025-04-05 10:11:26|2025-04-05 10:11:26|8.969306945800781E-4 |0.4704272887630238 |0.0   |0         |0         |176          |160          |Reconnaissance|\n",
      "|2025-04-05 10:15:26|2025-04-05 10:15:26|1.9121170043945312E-4|0.47040501701485954|0.0   |0         |0         |240          |0            |Reconnaissance|\n",
      "|2025-04-05 10:16:26|2025-04-05 10:16:26|3.349781036376953E-4 |0.47038803202372875|0.0   |0         |0         |180          |0            |Reconnaissance|\n",
      "+-------------------+-------------------+---------------------+-------------------+------+----------+----------+-------------+-------------+--------------+\n",
      "only showing top 20 rows\n",
      "\n",
      "Distinct label counts in train_df:\n"
     ]
    },
    {
     "name": "stderr",
     "output_type": "stream",
     "text": [
      "25/04/05 09:27:01 WARN WindowExec: No Partition Defined for Window operation! Moving all data to a single partition, this can cause serious performance degradation.\n",
      "25/04/05 09:27:01 WARN WindowExec: No Partition Defined for Window operation! Moving all data to a single partition, this can cause serious performance degradation.\n",
      "25/04/05 09:27:03 WARN WindowExec: No Partition Defined for Window operation! Moving all data to a single partition, this can cause serious performance degradation.\n",
      "25/04/05 09:27:03 WARN WindowExec: No Partition Defined for Window operation! Moving all data to a single partition, this can cause serious performance degradation.\n",
      "                                                                                "
     ]
    },
    {
     "name": "stdout",
     "output_type": "stream",
     "text": [
      "+--------------+-----+\n",
      "|  label_tactic|count|\n",
      "+--------------+-----+\n",
      "|          none|  331|\n",
      "|Reconnaissance| 2338|\n",
      "+--------------+-----+\n",
      "\n",
      "Distinct label counts in test_df:\n"
     ]
    },
    {
     "name": "stderr",
     "output_type": "stream",
     "text": [
      "25/04/05 09:27:13 WARN WindowExec: No Partition Defined for Window operation! Moving all data to a single partition, this can cause serious performance degradation.\n",
      "25/04/05 09:27:13 WARN WindowExec: No Partition Defined for Window operation! Moving all data to a single partition, this can cause serious performance degradation.\n",
      "25/04/05 09:27:13 WARN WindowExec: No Partition Defined for Window operation! Moving all data to a single partition, this can cause serious performance degradation.\n"
     ]
    },
    {
     "name": "stdout",
     "output_type": "stream",
     "text": [
      "+--------------+-----+\n",
      "|  label_tactic|count|\n",
      "+--------------+-----+\n",
      "|          none|   44|\n",
      "|Reconnaissance| 2237|\n",
      "+--------------+-----+\n",
      "\n"
     ]
    },
    {
     "name": "stderr",
     "output_type": "stream",
     "text": [
      "25/04/05 09:27:21 WARN WindowExec: No Partition Defined for Window operation! Moving all data to a single partition, this can cause serious performance degradation.\n",
      "25/04/05 09:27:21 WARN WindowExec: No Partition Defined for Window operation! Moving all data to a single partition, this can cause serious performance degradation.\n",
      "25/04/05 09:27:24 WARN WindowExec: No Partition Defined for Window operation! Moving all data to a single partition, this can cause serious performance degradation.\n",
      "25/04/05 09:27:24 WARN WindowExec: No Partition Defined for Window operation! Moving all data to a single partition, this can cause serious performance degradation.\n",
      "25/04/05 09:27:24 WARN WindowExec: No Partition Defined for Window operation! Moving all data to a single partition, this can cause serious performance degradation.\n",
      "25/04/05 09:27:24 WARN WindowExec: No Partition Defined for Window operation! Moving all data to a single partition, this can cause serious performance degradation.\n",
      "25/04/05 09:27:32 WARN WindowExec: No Partition Defined for Window operation! Moving all data to a single partition, this can cause serious performance degradation.\n",
      "25/04/05 09:27:32 WARN WindowExec: No Partition Defined for Window operation! Moving all data to a single partition, this can cause serious performance degradation.\n",
      "25/04/05 09:27:35 WARN WindowExec: No Partition Defined for Window operation! Moving all data to a single partition, this can cause serious performance degradation.\n",
      "25/04/05 09:27:35 WARN WindowExec: No Partition Defined for Window operation! Moving all data to a single partition, this can cause serious performance degradation.\n",
      "25/04/05 09:27:44 WARN WindowExec: No Partition Defined for Window operation! Moving all data to a single partition, this can cause serious performance degradation.\n",
      "25/04/05 09:27:44 WARN WindowExec: No Partition Defined for Window operation! Moving all data to a single partition, this can cause serious performance degradation.\n",
      "25/04/05 09:27:44 WARN WindowExec: No Partition Defined for Window operation! Moving all data to a single partition, this can cause serious performance degradation.\n",
      "25/04/05 09:27:53 WARN WindowExec: No Partition Defined for Window operation! Moving all data to a single partition, this can cause serious performance degradation.\n",
      "25/04/05 09:27:53 WARN WindowExec: No Partition Defined for Window operation! Moving all data to a single partition, this can cause serious performance degradation.\n",
      "25/04/05 09:27:55 WARN WindowExec: No Partition Defined for Window operation! Moving all data to a single partition, this can cause serious performance degradation.\n",
      "25/04/05 09:27:55 WARN WindowExec: No Partition Defined for Window operation! Moving all data to a single partition, this can cause serious performance degradation.\n",
      "                                                                                "
     ]
    },
    {
     "name": "stdout",
     "output_type": "stream",
     "text": [
      "\n",
      "Model for label_tactic: Reconnaissance\n",
      "Accuracy: 0.9938623410784744\n",
      "Precision: 0.9937283490407056\n",
      "Recall: 0.9938623410784744\n",
      "F1 Score: 0.9933859981429568\n",
      "\n",
      "Predictions for each row in the test dataframe:\n",
      "+-------------------------------------------+-----+----------+\n",
      "|features                                   |label|prediction|\n",
      "+-------------------------------------------+-----+----------+\n",
      "|(5,[0,3],[2.2101402282714844E-4,132.0])    |1    |1.0       |\n",
      "|[0.0017240047454833984,0.0,0.0,176.0,160.0]|1    |1.0       |\n",
      "|(5,[0,3],[3.609657287597656E-4,132.0])     |1    |1.0       |\n",
      "|(5,[0,3],[1.1205673217773438E-5,240.0])    |1    |1.0       |\n",
      "|(5,[0,3],[1.7881393432617188E-5,180.0])    |1    |1.0       |\n",
      "|(5,[0,3],[3.829002380371094E-4,180.0])     |1    |1.0       |\n",
      "|[2.3794174194335938E-4,0.0,78.0,0.0,134.0] |0    |1.0       |\n",
      "|[9.100437164306641E-4,0.0,0.0,176.0,160.0] |1    |1.0       |\n",
      "|(5,[0,3],[6.985664367675781E-5,180.0])     |1    |1.0       |\n",
      "|(5,[0,3],[3.1185150146484375E-4,176.0])    |1    |1.0       |\n",
      "|(5,[0,3],[3.6787986755371094E-4,176.0])    |1    |1.0       |\n",
      "|(5,[4],[67.0])                             |1    |1.0       |\n",
      "|(5,[0,3],[2.0194053649902344E-4,132.0])    |1    |1.0       |\n",
      "|(5,[0,3],[6.289482116699219E-4,240.0])     |1    |1.0       |\n",
      "|(5,[0,3],[3.669261932373047E-4,176.0])     |1    |1.0       |\n",
      "|(5,[0,3],[6.401538848876953E-4,176.0])     |1    |1.0       |\n",
      "|(5,[0,3],[9.894371032714844E-5,180.0])     |1    |1.0       |\n",
      "|[8.969306945800781E-4,0.0,0.0,176.0,160.0] |1    |1.0       |\n",
      "|(5,[0,3],[1.9121170043945312E-4,240.0])    |1    |1.0       |\n",
      "|(5,[0,3],[3.349781036376953E-4,180.0])     |1    |1.0       |\n",
      "+-------------------------------------------+-----+----------+\n",
      "only showing top 20 rows\n",
      "\n",
      "Length of y_true: 2281\n",
      "Length of y_pred: 2281\n",
      "Number of missing values in y_true: 0\n",
      "Number of missing values in y_pred: 0\n"
     ]
    },
    {
     "data": {
      "image/png": "[encoded data removed]",
      "text/plain": [
       "<Figure size 1000x700 with 2 Axes>"
      ]
     },
     "metadata": {},
     "output_type": "display_data"
    },
    {
     "name": "stdout",
     "output_type": "stream",
     "text": [
      "Confusion Matrix plotted.\n"
     ]
    }
   ],
   "source": [
    "#Define Test Variables for Decision Tree\n",
    "#train_df, test_df, tactic, train_year, test_year, split_ratio\n",
    "\n",
    "train_df = decision_test_sample\n",
    "\n",
    "# Reduce train_df size to include only the first 70% of data\n",
    "#train_df = train_df.limit(int(0.7 * train_df.count()))\n",
    "\n",
    "test_df = filtered_result_df\n",
    "\n",
    "#tactic = \"Credential Access\"\n",
    "tactic = \"Reconnaissance\"\n",
    "\n",
    "train_year = \"2024\"\n",
    "\n",
    "test_year = \"2022\"\n",
    "\n",
    "split_ratio = \"1\"\n",
    "\n",
    "# Filter train_df to only include rows where label_tactic is either 'none' or the specified tactic\n",
    "train_df = train_df.filter((F.col(\"label_tactic\") == tactic) | (F.col(\"label_tactic\") == \"none\"))\n",
    "\n",
    "# Filter test_df to only include rows where label_tactic is either 'none' or the specified tactic\n",
    "test_df = test_df.filter((F.col(\"label_tactic\") == tactic) | (F.col(\"label_tactic\") == \"none\"))\n",
    "\n",
    "# Print the columns and their types for train_df\n",
    "print(\"Columns and types in train_df:\")\n",
    "train_df.printSchema()\n",
    "\n",
    "# Print the test_df\n",
    "print(\"\\nEntire test_df:\")\n",
    "test_df.show(truncate=False)\n",
    "\n",
    "#Show the distinct label counts\n",
    "print(\"Distinct label counts in train_df:\")\n",
    "train_df.groupBy(\"label_tactic\").count().show()\n",
    "print(\"Distinct label counts in test_df:\")\n",
    "test_df.groupBy(\"label_tactic\").count().show()\n",
    "\n",
    "# Call the train_and_evaluate function\n",
    "train_and_evaluate(train_df, test_df, tactic, train_year, test_year, split_ratio)"
   ]
  },
  {
   "cell_type": "code",
   "execution_count": null,
   "id": "4a3e0829-cd16-42ed-90d6-8e44dd4a5811",
   "metadata": {},
   "outputs": [],
   "source": []
  }
 ],
 "metadata": {
  "kernelspec": {
   "display_name": "Python 3 (ipykernel)",
   "language": "python",
   "name": "python3"
  },
  "language_info": {
   "codemirror_mode": {
    "name": "ipython",
    "version": 3
   },
   "file_extension": ".py",
   "mimetype": "text/x-python",
   "name": "python",
   "nbconvert_exporter": "python",
   "pygments_lexer": "ipython3",
   "version": "3.12.3"
  }
 },
 "nbformat": 4,
 "nbformat_minor": 5
}
