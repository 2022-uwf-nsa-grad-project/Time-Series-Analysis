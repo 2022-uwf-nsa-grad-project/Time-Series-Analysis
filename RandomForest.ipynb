{
 "cells": [
  {
   "cell_type": "markdown",
   "metadata": {},
   "source": [
    "<span style = \"color:blue; font-size:24px\">RandomForest</span>\n",
    "\n",
    "This notebook only focuses on Random Forest model training."
   ]
  },
  {
   "cell_type": "code",
   "execution_count": 1,
   "metadata": {},
   "outputs": [
    {
     "name": "stderr",
     "output_type": "stream",
     "text": [
      "Warning: Ignoring non-Spark config property: SPARK_LOCAL_IP\n",
      "25/01/27 20:05:04 WARN Utils: Your hostname, ubuntu-virtual-machine resolves to a loopback address: 127.0.1.1; using 192.168.1.112 instead (on interface ens33)\n",
      "25/01/27 20:05:04 WARN Utils: Set SPARK_LOCAL_IP if you need to bind to another address\n",
      "Setting default log level to \"WARN\".\n",
      "To adjust logging level use sc.setLogLevel(newLevel). For SparkR, use setLogLevel(newLevel).\n",
      "25/01/27 20:05:05 WARN NativeCodeLoader: Unable to load native-hadoop library for your platform... using builtin-java classes where applicable\n",
      "25/01/27 20:05:06 WARN Utils: Service 'SparkUI' could not bind on port 4040. Attempting port 4041.\n",
      "25/01/27 20:05:06 WARN Utils: Service 'SparkUI' could not bind on port 4041. Attempting port 4042.\n",
      "                                                                                \r"
     ]
    },
    {
     "name": "stdout",
     "output_type": "stream",
     "text": [
      "Dataset 1: All rows of 'label_tactic' before preprocessing:\n"
     ]
    },
    {
     "name": "stderr",
     "output_type": "stream",
     "text": [
      "                                                                                \r"
     ]
    },
    {
     "name": "stdout",
     "output_type": "stream",
     "text": [
      "none\n",
      "Dataset 1: Unique count for each 'label_tactic' value before conversion\n",
      "+------------+------+\n",
      "|label_tactic|count |\n",
      "+------------+------+\n",
      "|none        |428724|\n",
      "+------------+------+\n",
      "\n",
      "First few rows after binary encoding:\n",
      "+------------+-------------------+\n",
      "|label_tactic|label_tactic_binary|\n",
      "+------------+-------------------+\n",
      "|none        |0                  |\n",
      "|none        |0                  |\n",
      "|none        |0                  |\n",
      "|none        |0                  |\n",
      "|none        |0                  |\n",
      "+------------+-------------------+\n",
      "only showing top 5 rows\n",
      "\n",
      "First few rows of 'label_tactic_binary_encoded' (encoded attack types):\n",
      "+------------+------------------+---------------------------------------+\n",
      "|label_tactic|label_tactic_split|label_tactic_binary_encoded            |\n",
      "+------------+------------------+---------------------------------------+\n",
      "|none        |[none]            |[0, 0, 0, 0, 0, 0, 0, 0, 0, 0, 0, 0, 0]|\n",
      "|none        |[none]            |[0, 0, 0, 0, 0, 0, 0, 0, 0, 0, 0, 0, 0]|\n",
      "|none        |[none]            |[0, 0, 0, 0, 0, 0, 0, 0, 0, 0, 0, 0, 0]|\n",
      "|none        |[none]            |[0, 0, 0, 0, 0, 0, 0, 0, 0, 0, 0, 0, 0]|\n",
      "|none        |[none]            |[0, 0, 0, 0, 0, 0, 0, 0, 0, 0, 0, 0, 0]|\n",
      "+------------+------------------+---------------------------------------+\n",
      "only showing top 5 rows\n",
      "\n"
     ]
    },
    {
     "name": "stderr",
     "output_type": "stream",
     "text": [
      "                                                                                \r"
     ]
    },
    {
     "name": "stdout",
     "output_type": "stream",
     "text": [
      "DataFrame for: hdfs://192.168.1.2:9000/datasets-uwf-edu/UWF-ZeekData22/parquet/2021-12-12 - 2021-12-19/part-00000-7c2e9adb-5430-4792-a42b-10ff5bbd46e8-c000.snappy.parquet has total rows: 27473\n",
      "Dataset 1: Unique 'label_tactic_split_agg' values\n"
     ]
    },
    {
     "name": "stderr",
     "output_type": "stream",
     "text": [
      "                                                                                \r"
     ]
    },
    {
     "name": "stdout",
     "output_type": "stream",
     "text": [
      "[['none']]\n",
      "Dataset 1 loaded successfully\n",
      "Dataset 2: All rows of 'label_tactic' before preprocessing:\n",
      "none\n",
      "Dataset 2: Unique count for each 'label_tactic' value before conversion\n",
      "+------------+-------+\n",
      "|label_tactic|count  |\n",
      "+------------+-------+\n",
      "|none        |1757069|\n",
      "+------------+-------+\n",
      "\n",
      "First few rows after binary encoding:\n",
      "+------------+-------------------+\n",
      "|label_tactic|label_tactic_binary|\n",
      "+------------+-------------------+\n",
      "|none        |0                  |\n",
      "|none        |0                  |\n",
      "|none        |0                  |\n",
      "|none        |0                  |\n",
      "|none        |0                  |\n",
      "+------------+-------------------+\n",
      "only showing top 5 rows\n",
      "\n",
      "First few rows of 'label_tactic_binary_encoded' (encoded attack types):\n",
      "+------------+------------------+---------------------------------------+\n",
      "|label_tactic|label_tactic_split|label_tactic_binary_encoded            |\n",
      "+------------+------------------+---------------------------------------+\n",
      "|none        |[none]            |[0, 0, 0, 0, 0, 0, 0, 0, 0, 0, 0, 0, 0]|\n",
      "|none        |[none]            |[0, 0, 0, 0, 0, 0, 0, 0, 0, 0, 0, 0, 0]|\n",
      "|none        |[none]            |[0, 0, 0, 0, 0, 0, 0, 0, 0, 0, 0, 0, 0]|\n",
      "|none        |[none]            |[0, 0, 0, 0, 0, 0, 0, 0, 0, 0, 0, 0, 0]|\n",
      "|none        |[none]            |[0, 0, 0, 0, 0, 0, 0, 0, 0, 0, 0, 0, 0]|\n",
      "+------------+------------------+---------------------------------------+\n",
      "only showing top 5 rows\n",
      "\n"
     ]
    },
    {
     "name": "stderr",
     "output_type": "stream",
     "text": [
      "                                                                                \r"
     ]
    },
    {
     "name": "stdout",
     "output_type": "stream",
     "text": [
      "DataFrame for: hdfs://192.168.1.2:9000/datasets-uwf-edu/UWF-ZeekData22/parquet/2021-12-19 - 2021-12-26/part-00000-3f86626a-1225-47f9-a5a2-0170b737e404-c000.snappy.parquet has total rows: 112819\n",
      "Dataset 2: Unique 'label_tactic_split_agg' values\n"
     ]
    },
    {
     "name": "stderr",
     "output_type": "stream",
     "text": [
      "                                                                                \r"
     ]
    },
    {
     "name": "stdout",
     "output_type": "stream",
     "text": [
      "[['none']]\n",
      "Dataset 2 loaded successfully\n",
      "Dataset 3: All rows of 'label_tactic' before preprocessing:\n",
      "none\n",
      "Dataset 3: Unique count for each 'label_tactic' value before conversion\n",
      "+------------+-------+\n",
      "|label_tactic|count  |\n",
      "+------------+-------+\n",
      "|none        |1757998|\n",
      "+------------+-------+\n",
      "\n",
      "First few rows after binary encoding:\n",
      "+------------+-------------------+\n",
      "|label_tactic|label_tactic_binary|\n",
      "+------------+-------------------+\n",
      "|none        |0                  |\n",
      "|none        |0                  |\n",
      "|none        |0                  |\n",
      "|none        |0                  |\n",
      "|none        |0                  |\n",
      "+------------+-------------------+\n",
      "only showing top 5 rows\n",
      "\n",
      "First few rows of 'label_tactic_binary_encoded' (encoded attack types):\n",
      "+------------+------------------+---------------------------------------+\n",
      "|label_tactic|label_tactic_split|label_tactic_binary_encoded            |\n",
      "+------------+------------------+---------------------------------------+\n",
      "|none        |[none]            |[0, 0, 0, 0, 0, 0, 0, 0, 0, 0, 0, 0, 0]|\n",
      "|none        |[none]            |[0, 0, 0, 0, 0, 0, 0, 0, 0, 0, 0, 0, 0]|\n",
      "|none        |[none]            |[0, 0, 0, 0, 0, 0, 0, 0, 0, 0, 0, 0, 0]|\n",
      "|none        |[none]            |[0, 0, 0, 0, 0, 0, 0, 0, 0, 0, 0, 0, 0]|\n",
      "|none        |[none]            |[0, 0, 0, 0, 0, 0, 0, 0, 0, 0, 0, 0, 0]|\n",
      "+------------+------------------+---------------------------------------+\n",
      "only showing top 5 rows\n",
      "\n"
     ]
    },
    {
     "name": "stderr",
     "output_type": "stream",
     "text": [
      "                                                                                \r"
     ]
    },
    {
     "name": "stdout",
     "output_type": "stream",
     "text": [
      "DataFrame for: hdfs://192.168.1.2:9000/datasets-uwf-edu/UWF-ZeekData22/parquet/2021-12-26 - 2022-01-02/part-00000-b1a9fc13-8068-4a5d-91b2-871438709e81-c000.snappy.parquet has total rows: 113015\n",
      "Dataset 3: Unique 'label_tactic_split_agg' values\n"
     ]
    },
    {
     "name": "stderr",
     "output_type": "stream",
     "text": [
      "                                                                                \r"
     ]
    },
    {
     "name": "stdout",
     "output_type": "stream",
     "text": [
      "[['none']]\n",
      "Dataset 3 loaded successfully\n",
      "Dataset 4: All rows of 'label_tactic' before preprocessing:\n",
      "none\n",
      "Dataset 4: Unique count for each 'label_tactic' value before conversion\n",
      "+------------+-------+\n",
      "|label_tactic|count  |\n",
      "+------------+-------+\n",
      "|none        |2403853|\n",
      "+------------+-------+\n",
      "\n",
      "First few rows after binary encoding:\n",
      "+------------+-------------------+\n",
      "|label_tactic|label_tactic_binary|\n",
      "+------------+-------------------+\n",
      "|none        |0                  |\n",
      "|none        |0                  |\n",
      "|none        |0                  |\n",
      "|none        |0                  |\n",
      "|none        |0                  |\n",
      "+------------+-------------------+\n",
      "only showing top 5 rows\n",
      "\n",
      "First few rows of 'label_tactic_binary_encoded' (encoded attack types):\n",
      "+------------+------------------+---------------------------------------+\n",
      "|label_tactic|label_tactic_split|label_tactic_binary_encoded            |\n",
      "+------------+------------------+---------------------------------------+\n",
      "|none        |[none]            |[0, 0, 0, 0, 0, 0, 0, 0, 0, 0, 0, 0, 0]|\n",
      "|none        |[none]            |[0, 0, 0, 0, 0, 0, 0, 0, 0, 0, 0, 0, 0]|\n",
      "|none        |[none]            |[0, 0, 0, 0, 0, 0, 0, 0, 0, 0, 0, 0, 0]|\n",
      "|none        |[none]            |[0, 0, 0, 0, 0, 0, 0, 0, 0, 0, 0, 0, 0]|\n",
      "|none        |[none]            |[0, 0, 0, 0, 0, 0, 0, 0, 0, 0, 0, 0, 0]|\n",
      "+------------+------------------+---------------------------------------+\n",
      "only showing top 5 rows\n",
      "\n"
     ]
    },
    {
     "name": "stderr",
     "output_type": "stream",
     "text": [
      "                                                                                \r"
     ]
    },
    {
     "name": "stdout",
     "output_type": "stream",
     "text": [
      "DataFrame for: hdfs://192.168.1.2:9000/datasets-uwf-edu/UWF-ZeekData22/parquet/2022-01-02 - 2022-01-09/part-00000-26e9208e-7819-451b-b23f-2e47f6d1e834-c000.snappy.parquet has total rows: 172831\n",
      "Dataset 4: Unique 'label_tactic_split_agg' values\n"
     ]
    },
    {
     "name": "stderr",
     "output_type": "stream",
     "text": [
      "                                                                                \r"
     ]
    },
    {
     "name": "stdout",
     "output_type": "stream",
     "text": [
      "[['none']]\n",
      "Dataset 4 loaded successfully\n",
      "Dataset 5: All rows of 'label_tactic' before preprocessing:\n",
      "none\n",
      "Dataset 5: Unique count for each 'label_tactic' value before conversion\n",
      "+------------+-------+\n",
      "|label_tactic|count  |\n",
      "+------------+-------+\n",
      "|none        |2579855|\n",
      "+------------+-------+\n",
      "\n",
      "First few rows after binary encoding:\n",
      "+------------+-------------------+\n",
      "|label_tactic|label_tactic_binary|\n",
      "+------------+-------------------+\n",
      "|none        |0                  |\n",
      "|none        |0                  |\n",
      "|none        |0                  |\n",
      "|none        |0                  |\n",
      "|none        |0                  |\n",
      "+------------+-------------------+\n",
      "only showing top 5 rows\n",
      "\n",
      "First few rows of 'label_tactic_binary_encoded' (encoded attack types):\n",
      "+------------+------------------+---------------------------------------+\n",
      "|label_tactic|label_tactic_split|label_tactic_binary_encoded            |\n",
      "+------------+------------------+---------------------------------------+\n",
      "|none        |[none]            |[0, 0, 0, 0, 0, 0, 0, 0, 0, 0, 0, 0, 0]|\n",
      "|none        |[none]            |[0, 0, 0, 0, 0, 0, 0, 0, 0, 0, 0, 0, 0]|\n",
      "|none        |[none]            |[0, 0, 0, 0, 0, 0, 0, 0, 0, 0, 0, 0, 0]|\n",
      "|none        |[none]            |[0, 0, 0, 0, 0, 0, 0, 0, 0, 0, 0, 0, 0]|\n",
      "|none        |[none]            |[0, 0, 0, 0, 0, 0, 0, 0, 0, 0, 0, 0, 0]|\n",
      "+------------+------------------+---------------------------------------+\n",
      "only showing top 5 rows\n",
      "\n"
     ]
    },
    {
     "name": "stderr",
     "output_type": "stream",
     "text": [
      "                                                                                \r"
     ]
    },
    {
     "name": "stdout",
     "output_type": "stream",
     "text": [
      "DataFrame for: hdfs://192.168.1.2:9000/datasets-uwf-edu/UWF-ZeekData22/parquet/2022-01-09 - 2022-01-16/part-00000-36240b61-b84f-4164-a873-d7973e652780-c000.snappy.parquet has total rows: 224162\n",
      "Dataset 5: Unique 'label_tactic_split_agg' values\n"
     ]
    },
    {
     "name": "stderr",
     "output_type": "stream",
     "text": [
      "                                                                                \r"
     ]
    },
    {
     "name": "stdout",
     "output_type": "stream",
     "text": [
      "[['none']]\n",
      "Dataset 5 loaded successfully\n",
      "Dataset 6: All rows of 'label_tactic' before preprocessing:\n",
      "none\n",
      "Dataset 6: Unique count for each 'label_tactic' value before conversion\n",
      "+------------+------+\n",
      "|label_tactic|count |\n",
      "+------------+------+\n",
      "|none        |354100|\n",
      "+------------+------+\n",
      "\n",
      "First few rows after binary encoding:\n",
      "+------------+-------------------+\n",
      "|label_tactic|label_tactic_binary|\n",
      "+------------+-------------------+\n",
      "|none        |0                  |\n",
      "|none        |0                  |\n",
      "|none        |0                  |\n",
      "|none        |0                  |\n",
      "|none        |0                  |\n",
      "+------------+-------------------+\n",
      "only showing top 5 rows\n",
      "\n",
      "First few rows of 'label_tactic_binary_encoded' (encoded attack types):\n",
      "+------------+------------------+---------------------------------------+\n",
      "|label_tactic|label_tactic_split|label_tactic_binary_encoded            |\n",
      "+------------+------------------+---------------------------------------+\n",
      "|none        |[none]            |[0, 0, 0, 0, 0, 0, 0, 0, 0, 0, 0, 0, 0]|\n",
      "|none        |[none]            |[0, 0, 0, 0, 0, 0, 0, 0, 0, 0, 0, 0, 0]|\n",
      "|none        |[none]            |[0, 0, 0, 0, 0, 0, 0, 0, 0, 0, 0, 0, 0]|\n",
      "|none        |[none]            |[0, 0, 0, 0, 0, 0, 0, 0, 0, 0, 0, 0, 0]|\n",
      "|none        |[none]            |[0, 0, 0, 0, 0, 0, 0, 0, 0, 0, 0, 0, 0]|\n",
      "+------------+------------------+---------------------------------------+\n",
      "only showing top 5 rows\n",
      "\n"
     ]
    },
    {
     "name": "stderr",
     "output_type": "stream",
     "text": [
      "                                                                                \r"
     ]
    },
    {
     "name": "stdout",
     "output_type": "stream",
     "text": [
      "DataFrame for: hdfs://192.168.1.2:9000/datasets-uwf-edu/UWF-ZeekData22/parquet/2022-01-16 - 2022-01-23/part-00000-cbf26680-106d-40e7-8278-60520afdbb0e-c000.snappy.parquet has total rows: 31935\n",
      "Dataset 6: Unique 'label_tactic_split_agg' values\n"
     ]
    },
    {
     "name": "stderr",
     "output_type": "stream",
     "text": [
      "                                                                                \r"
     ]
    },
    {
     "name": "stdout",
     "output_type": "stream",
     "text": [
      "[['none']]\n",
      "Dataset 6 loaded successfully\n",
      "Dataset 7: All rows of 'label_tactic' before preprocessing:\n"
     ]
    },
    {
     "name": "stderr",
     "output_type": "stream",
     "text": [
      "                                                                                \r"
     ]
    },
    {
     "name": "stdout",
     "output_type": "stream",
     "text": [
      "Discovery\n",
      "Reconnaissance\n",
      "Dataset 7: Unique count for each 'label_tactic' value before conversion\n"
     ]
    },
    {
     "name": "stderr",
     "output_type": "stream",
     "text": [
      "                                                                                \r"
     ]
    },
    {
     "name": "stdout",
     "output_type": "stream",
     "text": [
      "+--------------+-------+\n",
      "|label_tactic  |count  |\n",
      "+--------------+-------+\n",
      "|Reconnaissance|9278720|\n",
      "|Discovery     |2086   |\n",
      "+--------------+-------+\n",
      "\n",
      "First few rows after binary encoding:\n",
      "+------------+-------------------+\n",
      "|label_tactic|label_tactic_binary|\n",
      "+------------+-------------------+\n",
      "|Discovery   |1                  |\n",
      "|Discovery   |1                  |\n",
      "|Discovery   |1                  |\n",
      "|Discovery   |1                  |\n",
      "|Discovery   |1                  |\n",
      "+------------+-------------------+\n",
      "only showing top 5 rows\n",
      "\n",
      "First few rows of 'label_tactic_binary_encoded' (encoded attack types):\n",
      "+------------+------------------+---------------------------------------+\n",
      "|label_tactic|label_tactic_split|label_tactic_binary_encoded            |\n",
      "+------------+------------------+---------------------------------------+\n",
      "|Discovery   |[Discovery]       |[0, 0, 0, 0, 0, 1, 0, 0, 0, 0, 0, 0, 0]|\n",
      "|Discovery   |[Discovery]       |[0, 0, 0, 0, 0, 1, 0, 0, 0, 0, 0, 0, 0]|\n",
      "|Discovery   |[Discovery]       |[0, 0, 0, 0, 0, 1, 0, 0, 0, 0, 0, 0, 0]|\n",
      "|Discovery   |[Discovery]       |[0, 0, 0, 0, 0, 1, 0, 0, 0, 0, 0, 0, 0]|\n",
      "|Discovery   |[Discovery]       |[0, 0, 0, 0, 0, 1, 0, 0, 0, 0, 0, 0, 0]|\n",
      "+------------+------------------+---------------------------------------+\n",
      "only showing top 5 rows\n",
      "\n"
     ]
    },
    {
     "name": "stderr",
     "output_type": "stream",
     "text": [
      "                                                                                \r"
     ]
    },
    {
     "name": "stdout",
     "output_type": "stream",
     "text": [
      "DataFrame for: hdfs://192.168.1.2:9000/datasets-uwf-edu/UWF-ZeekData22/parquet/2022-02-06 - 2022-02-13/part-00000-df678a79-4a73-452b-8e72-d624b2732f17-c000.snappy.parquet has total rows: 1192\n",
      "Dataset 7: Unique 'label_tactic_split_agg' values\n"
     ]
    },
    {
     "name": "stderr",
     "output_type": "stream",
     "text": [
      "                                                                                \r"
     ]
    },
    {
     "name": "stdout",
     "output_type": "stream",
     "text": [
      "[['Discovery']]\n",
      "[['Reconnaissance']]\n",
      "Dataset 7 loaded successfully\n",
      "Dataset 8: All rows of 'label_tactic' before preprocessing:\n",
      "Lateral Movement\n",
      "Resource Development\n",
      "Privilege Escalation\n",
      "Reconnaissance\n",
      "Credential Access\n",
      "Persistence\n",
      "Initial Access\n",
      "Exfiltration\n",
      "Defense Evasion\n",
      "Dataset 8: Unique count for each 'label_tactic' value before conversion\n",
      "+--------------------+-----+\n",
      "|label_tactic        |count|\n",
      "+--------------------+-----+\n",
      "|Credential Access   |31   |\n",
      "|Privilege Escalation|13   |\n",
      "|Exfiltration        |7    |\n",
      "|Lateral Movement    |4    |\n",
      "|Resource Development|3    |\n",
      "|Reconnaissance      |2    |\n",
      "|Persistence         |1    |\n",
      "|Initial Access      |1    |\n",
      "|Defense Evasion     |1    |\n",
      "+--------------------+-----+\n",
      "\n",
      "First few rows after binary encoding:\n",
      "+--------------------+-------------------+\n",
      "|label_tactic        |label_tactic_binary|\n",
      "+--------------------+-------------------+\n",
      "|Defense Evasion     |1                  |\n",
      "|Initial Access      |1                  |\n",
      "|Persistence         |1                  |\n",
      "|Privilege Escalation|1                  |\n",
      "|Exfiltration        |1                  |\n",
      "+--------------------+-------------------+\n",
      "only showing top 5 rows\n",
      "\n",
      "First few rows of 'label_tactic_binary_encoded' (encoded attack types):\n",
      "+--------------------+----------------------+---------------------------------------+\n",
      "|label_tactic        |label_tactic_split    |label_tactic_binary_encoded            |\n",
      "+--------------------+----------------------+---------------------------------------+\n",
      "|Defense Evasion     |[Defense Evasion]     |[0, 0, 0, 1, 0, 0, 0, 0, 0, 0, 0, 0, 0]|\n",
      "|Initial Access      |[Initial Access]      |[0, 0, 0, 0, 0, 0, 0, 0, 0, 0, 0, 0, 0]|\n",
      "|Persistence         |[Persistence]         |[0, 0, 1, 0, 0, 0, 0, 0, 0, 0, 0, 0, 0]|\n",
      "|Privilege Escalation|[Privilege Escalation]|[1, 0, 0, 0, 0, 0, 0, 0, 0, 0, 0, 0, 0]|\n",
      "|Exfiltration        |[Exfiltration]        |[0, 0, 0, 0, 0, 0, 0, 0, 1, 0, 0, 0, 0]|\n",
      "+--------------------+----------------------+---------------------------------------+\n",
      "only showing top 5 rows\n",
      "\n"
     ]
    },
    {
     "name": "stderr",
     "output_type": "stream",
     "text": [
      "                                                                                \r"
     ]
    },
    {
     "name": "stdout",
     "output_type": "stream",
     "text": [
      "DataFrame for: hdfs://192.168.1.2:9000/datasets-uwf-edu/UWF-ZeekData22/parquet/2022-02-13 - 2022-02-20/part-00000-1da06990-329c-4e38-913a-0f0aa39b388d-c000.snappy.parquet has total rows: 40\n",
      "Dataset 8: Unique 'label_tactic_split_agg' values\n",
      "[['Lateral Movement']]\n",
      "[['Exfiltration'], ['Privilege Escalation']]\n",
      "[['Resource Development']]\n",
      "[['Privilege Escalation']]\n",
      "[['Reconnaissance']]\n",
      "[['Credential Access']]\n",
      "[['Persistence'], ['Defense Evasion'], ['Initial Access'], ['Privilege Escalation']]\n",
      "Dataset 8 loaded successfully\n"
     ]
    }
   ],
   "source": [
    "# Spark imports\n",
    "import pyspark\n",
    "import numpy as np\n",
    "from pyspark.sql import SparkSession\n",
    "from pyspark.sql import functions as F\n",
    "from pyspark.sql.window import Window\n",
    "\n",
    "# Python imports\n",
    "import pandas as pd\n",
    "import matplotlib.pyplot as plt\n",
    "from sklearn.preprocessing import MultiLabelBinarizer\n",
    "\n",
    "# Initialize Spark session\n",
    "spark = SparkSession.builder.config(\"SPARK_LOCAL_IP\", \"192.168.1.2\") \\\n",
    "                            .appName(\"Pre-Preprocess Mission Log\") \\\n",
    "                            .master(\"spark://192.168.1.2:7077\") \\\n",
    "                            .config(\"spark.driver.cores\", \"2\") \\\n",
    "                            .config(\"spark.driver.memory\", \"10g\") \\\n",
    "                            .config(\"spark.executor.memory\", \"12g\") \\\n",
    "                            .config(\"spark.executor.cores\", \"3\") \\\n",
    "                            .config(\"spark.dynamicAllocation.shuffleTracking.enabled\", \"true\") \\\n",
    "                            .config(\"spark.dynamicAllocation.enabled\", \"true\") \\\n",
    "                            .config(\"spark.dynamicAllocation.minExecutors\", \"5\") \\\n",
    "                            .config(\"spark.dynamicAllocation.maxExecutors\", \"8\") \\\n",
    "                            .config(\"spark.executor.instances\", \"5\") \\\n",
    "                            .getOrCreate()\n",
    "\n",
    "#Paths containing network data\n",
    "data_paths = [\"hdfs://192.168.1.2:9000/datasets-uwf-edu/UWF-ZeekData22/parquet/2021-12-12 - 2021-12-19/part-00000-7c2e9adb-5430-4792-a42b-10ff5bbd46e8-c000.snappy.parquet\",\n",
    "    \"hdfs://192.168.1.2:9000/datasets-uwf-edu/UWF-ZeekData22/parquet/2021-12-19 - 2021-12-26/part-00000-3f86626a-1225-47f9-a5a2-0170b737e404-c000.snappy.parquet\",\n",
    "    \"hdfs://192.168.1.2:9000/datasets-uwf-edu/UWF-ZeekData22/parquet/2021-12-26 - 2022-01-02/part-00000-b1a9fc13-8068-4a5d-91b2-871438709e81-c000.snappy.parquet\",\n",
    "    \"hdfs://192.168.1.2:9000/datasets-uwf-edu/UWF-ZeekData22/parquet/2022-01-02 - 2022-01-09/part-00000-26e9208e-7819-451b-b23f-2e47f6d1e834-c000.snappy.parquet\",\n",
    "    \"hdfs://192.168.1.2:9000/datasets-uwf-edu/UWF-ZeekData22/parquet/2022-01-09 - 2022-01-16/part-00000-36240b61-b84f-4164-a873-d7973e652780-c000.snappy.parquet\",\n",
    "    \"hdfs://192.168.1.2:9000/datasets-uwf-edu/UWF-ZeekData22/parquet/2022-01-16 - 2022-01-23/part-00000-cbf26680-106d-40e7-8278-60520afdbb0e-c000.snappy.parquet\",\n",
    "    \"hdfs://192.168.1.2:9000/datasets-uwf-edu/UWF-ZeekData22/parquet/2022-02-06 - 2022-02-13/part-00000-df678a79-4a73-452b-8e72-d624b2732f17-c000.snappy.parquet\",\n",
    "    \"hdfs://192.168.1.2:9000/datasets-uwf-edu/UWF-ZeekData22/parquet/2022-02-13 - 2022-02-20/part-00000-1da06990-329c-4e38-913a-0f0aa39b388d-c000.snappy.parquet\"\n",
    "            ]\n",
    "# Predefined list of MITRE ATT&CK labels\n",
    "mitre_labels = [\n",
    "    \"Privilege Escalation\", \"Execution\", \"Persistence\", \"Defense Evasion\",\n",
    "    \"Credential Access\", \"Discovery\", \"Lateral Movement\", \"Collection\",\n",
    "    \"Exfiltration\", \"Command and Control\", \"Impact\", \"Reconnaissance\", \"Resource Development\"\n",
    "]\n",
    "\n",
    "# Container to hold the processed DataFrames\n",
    "df_list = []\n",
    "\n",
    "# Counter variable\n",
    "j = 0\n",
    "\n",
    "# Loop through each path, load and process the data\n",
    "for path in data_paths:\n",
    "    # Load each dataset\n",
    "    df = spark.read.parquet(path)\n",
    "   \n",
    "    # Select relevant columns\n",
    "    df = df.select(\"ts\", \"duration\", \"orig_bytes\", \"resp_bytes\", \"orig_ip_bytes\", \"resp_ip_bytes\", \"label_tactic\")\n",
    "   \n",
    "    #Show all rows of attack labels before any preprocessing\n",
    "    print(f\"Dataset {j+1}: All rows of 'label_tactic' before preprocessing:\")\n",
    "    all_label_tactics = df.select(\"label_tactic\").distinct().collect()\n",
    "    for row in all_label_tactics:\n",
    "        print(row['label_tactic'])\n",
    "              \n",
    "    # Handle missing values\n",
    "    df = df.fillna({\n",
    "        \"duration\": 0,\n",
    "        \"orig_bytes\": 0,\n",
    "        \"resp_bytes\": 0,\n",
    "        \"orig_ip_bytes\": 0,\n",
    "        \"resp_ip_bytes\": 0,\n",
    "        \"label_tactic\": \"none\"  # Default to 'none'\n",
    "    })\n",
    "\n",
    "    # Print unique count for each tactic type\n",
    "    print(f\"Dataset {j+1}: Unique count for each 'label_tactic' value before conversion\")\n",
    "    unique_tactic_counts = df.groupBy(\"label_tactic\").count().orderBy(F.desc(\"count\"))\n",
    "    unique_tactic_counts.show(truncate=False)\n",
    "   \n",
    "    # Convert 'label_tactic' to binary: 'none' -> 0, anything else -> 1\n",
    "    df = df.withColumn(\"label_tactic_binary\", F.when(F.col(\"label_tactic\") == \"none\", 0).otherwise(1))\n",
    "\n",
    "    # Show the first few rows after binary conversion to verify\n",
    "    print(f\"First few rows after binary encoding:\")\n",
    "    df.select(\"label_tactic\", \"label_tactic_binary\").show(5, truncate=False)\n",
    "\n",
    "    # Convert 'label_tactic' to list of attack types for encoding\n",
    "    df = df.withColumn(\"label_tactic_split\", F.split(\"label_tactic\", \",\"))\n",
    "   \n",
    "    # Perform MultiLabel encoding (before aggregation)\n",
    "    df = df.withColumn(\"label_tactic_binary_encoded\", F.expr(\n",
    "        \"array(\" + \",\".join([f\"IF(array_contains(label_tactic_split, '{label}'), 1, 0)\" for label in mitre_labels]) + \")\"\n",
    "    ))\n",
    "\n",
    "    # Show the first few rows of 'label_tactic_binary_encoded' to check encoding\n",
    "    print(f\"First few rows of 'label_tactic_binary_encoded' (encoded attack types):\")\n",
    "    df.select(\"label_tactic\", \"label_tactic_split\", \"label_tactic_binary_encoded\").show(5, truncate=False)\n",
    "\n",
    "    #Time window \n",
    "    # Convert 'ts' to a timestamp\n",
    "    df = df.withColumn(\"ts\", F.from_unixtime(\"ts\").cast(\"timestamp\"))\n",
    "   \n",
    "    # Aggregate data within time windows\n",
    "    window_size = \"1 seconds\"\n",
    "    stride = \"0 minutes\"  # Remove overlap\n",
    "    \n",
    "    df_agg = df.groupBy(F.window(\"ts\", window_size)) \\\n",
    "        .agg(\n",
    "            F.sum(\"orig_bytes\").alias(\"sum_orig_bytes\"),\n",
    "            F.sum(\"resp_bytes\").alias(\"sum_resp_bytes\"),\n",
    "            F.sum(\"orig_ip_bytes\").alias(\"sum_orig_ip_bytes\"),\n",
    "            F.sum(\"resp_ip_bytes\").alias(\"sum_resp_ip_bytes\"),\n",
    "            F.count(\"*\").alias(\"connection_count\"),\n",
    "            F.max(\"label_tactic_binary\").alias(\"label_tactic_binary_agg\"),\n",
    "            F.collect_set(\"label_tactic_split\").alias(\"label_tactic_split_agg\"),\n",
    "            F.max(\"label_tactic_binary_encoded\").alias(\"label_tactic_binary_encoded_agg\")\n",
    "        )\n",
    "\n",
    "    # Flatten the window structure\n",
    "    df_agg_flat = df_agg.select(\n",
    "        F.col(\"window.start\").alias(\"window_start\"),\n",
    "        F.col(\"window.end\").alias(\"window_end\"),\n",
    "        \"sum_orig_bytes\",\n",
    "        \"sum_resp_bytes\",\n",
    "        \"sum_orig_ip_bytes\",\n",
    "        \"sum_resp_ip_bytes\",\n",
    "        \"connection_count\",\n",
    "        \"label_tactic_binary_agg\",\n",
    "        \"label_tactic_split_agg\",\n",
    "        \"label_tactic_binary_encoded_agg\"\n",
    "    )\n",
    "\n",
    "    # Sort by window start time\n",
    "    df_agg_sorted = df_agg_flat.orderBy(\"window_start\")\n",
    "   \n",
    "    # Convert Spark DataFrame to Pandas for further analysis\n",
    "    df_pandas_sorted = df_agg_sorted.toPandas()\n",
    "\n",
    "    # Log-transform only (no normalization)\n",
    "    df_pandas_sorted[\"sum_orig_bytes_log\"] = np.log1p(df_pandas_sorted[\"sum_orig_bytes\"])\n",
    "\n",
    "    # Print the number of rows\n",
    "    print(f\"DataFrame for: {path} has total rows: {len(df_pandas_sorted)}\")\n",
    "\n",
    "    # Print unique 'label_tactic_split_agg' values\n",
    "    print(f\"Dataset {j+1}: Unique 'label_tactic_split_agg' values\")\n",
    "    unique_label_tactic_agg = df_agg_sorted.select(\"label_tactic_split_agg\").distinct().collect()\n",
    "    for row in unique_label_tactic_agg:\n",
    "        print(row['label_tactic_split_agg'])\n",
    "\n",
    "    # Add to DataFrame List\n",
    "    df_list.append(df_pandas_sorted)\n",
    "\n",
    "    #Indicate data finished loading\n",
    "    print(f\"Dataset {j+1} loaded successfully\")\n",
    "\n",
    "    j += 1"
   ]
  },
  {
   "cell_type": "code",
   "execution_count": 2,
   "metadata": {},
   "outputs": [
    {
     "name": "stdout",
     "output_type": "stream",
     "text": [
      "Classification Report:\n",
      "              precision    recall  f1-score   support\n",
      "\n",
      "   No Attack       0.00      0.00      0.00     31935\n",
      "      Attack       0.04      1.00      0.07      1192\n",
      "\n",
      "    accuracy                           0.04     33127\n",
      "   macro avg       0.02      0.50      0.03     33127\n",
      "weighted avg       0.00      0.04      0.00     33127\n",
      "\n",
      "Accuracy Score: 0.035982733118000425\n",
      "Confusion Matrix:\n",
      "[[    0 31935]\n",
      " [    0  1192]]\n"
     ]
    },
    {
     "name": "stderr",
     "output_type": "stream",
     "text": [
      "/home/ubuntu/.local/lib/python3.10/site-packages/sklearn/metrics/_classification.py:1509: UndefinedMetricWarning: Precision is ill-defined and being set to 0.0 in labels with no predicted samples. Use `zero_division` parameter to control this behavior.\n",
      "  _warn_prf(average, modifier, f\"{metric.capitalize()} is\", len(result))\n",
      "/home/ubuntu/.local/lib/python3.10/site-packages/sklearn/metrics/_classification.py:1509: UndefinedMetricWarning: Precision is ill-defined and being set to 0.0 in labels with no predicted samples. Use `zero_division` parameter to control this behavior.\n",
      "  _warn_prf(average, modifier, f\"{metric.capitalize()} is\", len(result))\n",
      "/home/ubuntu/.local/lib/python3.10/site-packages/sklearn/metrics/_classification.py:1509: UndefinedMetricWarning: Precision is ill-defined and being set to 0.0 in labels with no predicted samples. Use `zero_division` parameter to control this behavior.\n",
      "  _warn_prf(average, modifier, f\"{metric.capitalize()} is\", len(result))\n"
     ]
    }
   ],
   "source": [
    "# Import necessary libraries\n",
    "from sklearn.ensemble import RandomForestClassifier\n",
    "from sklearn.model_selection import train_test_split\n",
    "from sklearn.metrics import classification_report, accuracy_score, confusion_matrix\n",
    "import pandas as pd\n",
    "\n",
    "# Combine the selected datasets for training and testing\n",
    "df_train = df_list[7]\n",
    "df_test = pd.concat([df_list[5], df_list[6]], ignore_index=True)\n",
    "\n",
    "# Define the features (X) and the target (y)\n",
    "feature_columns = [\n",
    "    \"sum_orig_bytes_log\", \"sum_resp_bytes\", \"sum_orig_ip_bytes\", \n",
    "    \"sum_resp_ip_bytes\", \"connection_count\"\n",
    "]\n",
    "target_column = \"label_tactic_binary_agg\"\n",
    "\n",
    "# Prepare the training data\n",
    "X_train = df_train[feature_columns]\n",
    "y_train = df_train[target_column]\n",
    "\n",
    "# Prepare the test data\n",
    "X_test = df_test[feature_columns]\n",
    "y_test = df_test[target_column]\n",
    "\n",
    "# Initialize the Random Forest model\n",
    "rf_model = RandomForestClassifier(n_estimators=100, random_state=42)\n",
    "\n",
    "# Train the model\n",
    "rf_model.fit(X_train, y_train)\n",
    "\n",
    "# Make predictions on the test data\n",
    "y_pred = rf_model.predict(X_test)\n",
    "\n",
    "# Evaluate the model\n",
    "print(\"Classification Report:\")\n",
    "print(classification_report(y_test, y_pred, target_names=[\"No Attack\", \"Attack\"]))\n",
    "\n",
    "print(\"Accuracy Score:\", accuracy_score(y_test, y_pred))\n",
    "\n",
    "print(\"Confusion Matrix:\")\n",
    "print(confusion_matrix(y_test, y_pred))\n"
   ]
  }
 ],
 "metadata": {
  "kernelspec": {
   "display_name": "Python 3 (ipykernel)",
   "language": "python",
   "name": "python3"
  },
  "language_info": {
   "codemirror_mode": {
    "name": "ipython",
    "version": 3
   },
   "file_extension": ".py",
   "mimetype": "text/x-python",
   "name": "python",
   "nbconvert_exporter": "python",
   "pygments_lexer": "ipython3",
   "version": "3.10.12"
  }
 },
 "nbformat": 4,
 "nbformat_minor": 4
}
